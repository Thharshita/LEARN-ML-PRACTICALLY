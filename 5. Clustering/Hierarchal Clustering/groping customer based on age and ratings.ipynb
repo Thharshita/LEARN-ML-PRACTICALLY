{
 "cells": [
  {
   "cell_type": "markdown",
   "metadata": {
    "id": "Z-jZGC0q0aiY"
   },
   "source": [
    "# Hierarchical Clustering"
   ]
  },
  {
   "cell_type": "markdown",
   "metadata": {
    "id": "jE4Rc_OO0eJM"
   },
   "source": [
    "## Importing libraries"
   ]
  },
  {
   "cell_type": "code",
   "execution_count": 1,
   "metadata": {
    "executionInfo": {
     "elapsed": 986,
     "status": "ok",
     "timestamp": 1612438205914,
     "user": {
      "displayName": "Atulya Kaushik",
      "photoUrl": "https://lh3.googleusercontent.com/a-/AOh14GgsE-dAtmyAVxaBtQs_3-uP-OyyYxqZSGG-ju4A6JZGPNLuIxePsZsK83-HBcSYy-zx5PK4lHbTh9AvUrd46iDCqeZE5YHKs6KTPIg2zSU13CP-MqQkyQTGvaGFHyg-eeNhpr2GI2n81Qmwpe3nO38Uw9ohjteTA_SzXwgaJbb8nfN3NWEjBR7bWcLyyJ5RBTv_X_k7NHCMt6axH0kv1IQQ87IjKtQrRnEUUX3aAU0UGmFWuLq_hOKQV_zz6Xf8Bq0Rm0-SzjnZLaWT7BGNaMRJJVopfs-BZ7RR3uDP42AAlLqxr7b2x-VGuZnjW8WP9-3-BiSCmfX459tsZbgK-w2gL-bdnYuDnoyNOr0m5DSRQfYqwAlFlc6ahDfQf7MRcbV-1iPcY8k0mkp3j3_YqzuuM4sg_9XduoO14WQhCM1lKa1DiQavCAYu1XwihTdKxCt7vSfDSnZsX9ed2XOQDTJATQVnYM-IE-aewk1RsX_mSCsFpyjn-mldCDa1XWdlCgT1su0w8-P8MW0_Ix9X_lZoBO08QQd9hc0zcIuCaeN75aLNXKS7Nh8khJml2PF_k_Z8lHEhK5mUcBTHmF0nZp5N_B76ywv8o0ZE5jCU0yUtggFJFtSpNBkAp9T5614M_9JG0TFkr5khJpdUgrzzkPVurq7qMV-3hCMvi3o1p07IQt4X9X4KAP-v-JYTqq0HOeTGypLiXchXJUkxlIqlaoxG5MTGKMcdoFjSh52eKhSmrJtn7P5DEvJLxQxnQ5PNupSKiA=s64",
      "userId": "16390917540151948122"
     },
     "user_tz": -330
    },
    "id": "PTBjYh8iyvVK"
   },
   "outputs": [],
   "source": [
    "import numpy as np\n",
    "import matplotlib.pyplot as plt\n",
    "import pandas as pd"
   ]
  },
  {
   "cell_type": "markdown",
   "metadata": {
    "id": "A9-xGHd20gY1"
   },
   "source": [
    "## Importing dataset"
   ]
  },
  {
   "cell_type": "code",
   "execution_count": 3,
   "metadata": {
    "executionInfo": {
     "elapsed": 1079,
     "status": "ok",
     "timestamp": 1612438548776,
     "user": {
      "displayName": "Atulya Kaushik",
      "photoUrl": "https://lh3.googleusercontent.com/a-/AOh14GgsE-dAtmyAVxaBtQs_3-uP-OyyYxqZSGG-ju4A6JZGPNLuIxePsZsK83-HBcSYy-zx5PK4lHbTh9AvUrd46iDCqeZE5YHKs6KTPIg2zSU13CP-MqQkyQTGvaGFHyg-eeNhpr2GI2n81Qmwpe3nO38Uw9ohjteTA_SzXwgaJbb8nfN3NWEjBR7bWcLyyJ5RBTv_X_k7NHCMt6axH0kv1IQQ87IjKtQrRnEUUX3aAU0UGmFWuLq_hOKQV_zz6Xf8Bq0Rm0-SzjnZLaWT7BGNaMRJJVopfs-BZ7RR3uDP42AAlLqxr7b2x-VGuZnjW8WP9-3-BiSCmfX459tsZbgK-w2gL-bdnYuDnoyNOr0m5DSRQfYqwAlFlc6ahDfQf7MRcbV-1iPcY8k0mkp3j3_YqzuuM4sg_9XduoO14WQhCM1lKa1DiQavCAYu1XwihTdKxCt7vSfDSnZsX9ed2XOQDTJATQVnYM-IE-aewk1RsX_mSCsFpyjn-mldCDa1XWdlCgT1su0w8-P8MW0_Ix9X_lZoBO08QQd9hc0zcIuCaeN75aLNXKS7Nh8khJml2PF_k_Z8lHEhK5mUcBTHmF0nZp5N_B76ywv8o0ZE5jCU0yUtggFJFtSpNBkAp9T5614M_9JG0TFkr5khJpdUgrzzkPVurq7qMV-3hCMvi3o1p07IQt4X9X4KAP-v-JYTqq0HOeTGypLiXchXJUkxlIqlaoxG5MTGKMcdoFjSh52eKhSmrJtn7P5DEvJLxQxnQ5PNupSKiA=s64",
      "userId": "16390917540151948122"
     },
     "user_tz": -330
    },
    "id": "IeX0-BBoyxsw"
   },
   "outputs": [],
   "source": [
    "dataset = pd.read_csv('../Amazon.com Clusturing Model.csv')\n",
    "X = dataset.iloc[:, [2,4]].values"
   ]
  },
  {
   "cell_type": "code",
   "execution_count": 3,
   "metadata": {
    "colab": {
     "base_uri": "https://localhost:8080/"
    },
    "executionInfo": {
     "elapsed": 655,
     "status": "ok",
     "timestamp": 1612438556541,
     "user": {
      "displayName": "Atulya Kaushik",
      "photoUrl": "https://lh3.googleusercontent.com/a-/AOh14GgsE-dAtmyAVxaBtQs_3-uP-OyyYxqZSGG-ju4A6JZGPNLuIxePsZsK83-HBcSYy-zx5PK4lHbTh9AvUrd46iDCqeZE5YHKs6KTPIg2zSU13CP-MqQkyQTGvaGFHyg-eeNhpr2GI2n81Qmwpe3nO38Uw9ohjteTA_SzXwgaJbb8nfN3NWEjBR7bWcLyyJ5RBTv_X_k7NHCMt6axH0kv1IQQ87IjKtQrRnEUUX3aAU0UGmFWuLq_hOKQV_zz6Xf8Bq0Rm0-SzjnZLaWT7BGNaMRJJVopfs-BZ7RR3uDP42AAlLqxr7b2x-VGuZnjW8WP9-3-BiSCmfX459tsZbgK-w2gL-bdnYuDnoyNOr0m5DSRQfYqwAlFlc6ahDfQf7MRcbV-1iPcY8k0mkp3j3_YqzuuM4sg_9XduoO14WQhCM1lKa1DiQavCAYu1XwihTdKxCt7vSfDSnZsX9ed2XOQDTJATQVnYM-IE-aewk1RsX_mSCsFpyjn-mldCDa1XWdlCgT1su0w8-P8MW0_Ix9X_lZoBO08QQd9hc0zcIuCaeN75aLNXKS7Nh8khJml2PF_k_Z8lHEhK5mUcBTHmF0nZp5N_B76ywv8o0ZE5jCU0yUtggFJFtSpNBkAp9T5614M_9JG0TFkr5khJpdUgrzzkPVurq7qMV-3hCMvi3o1p07IQt4X9X4KAP-v-JYTqq0HOeTGypLiXchXJUkxlIqlaoxG5MTGKMcdoFjSh52eKhSmrJtn7P5DEvJLxQxnQ5PNupSKiA=s64",
      "userId": "16390917540151948122"
     },
     "user_tz": -330
    },
    "id": "WAFCffJ-06iL",
    "outputId": "d9a31f2e-346b-4d7a-8238-5957b72d51ab"
   },
   "outputs": [
    {
     "name": "stdout",
     "output_type": "stream",
     "text": [
      "[[ 23  44]\n",
      " [ 26  91]\n",
      " [ 24   7]\n",
      " [ 28  87]\n",
      " [ 38  45]\n",
      " [ 27  86]\n",
      " [ 42   7]\n",
      " [ 28 106]\n",
      " [ 77   4]\n",
      " [ 36  81]\n",
      " [ 81  16]\n",
      " [ 42 111]\n",
      " [ 70  17]\n",
      " [ 29  87]\n",
      " [ 45  15]\n",
      " [ 27  89]\n",
      " [ 42  40]\n",
      " [ 24  74]\n",
      " [ 63  33]\n",
      " [ 42 110]\n",
      " [ 42  40]\n",
      " [ 30  82]\n",
      " [ 56   6]\n",
      " [ 38  82]\n",
      " [ 65  16]\n",
      " [ 35  92]\n",
      " [ 54  36]\n",
      " [ 42  69]\n",
      " [ 48  35]\n",
      " [ 28  98]\n",
      " [ 72   5]\n",
      " [ 26  82]\n",
      " [ 64   5]\n",
      " [ 22 104]\n",
      " [ 59  16]\n",
      " [ 26  91]\n",
      " [ 51  20]\n",
      " [ 36  82]\n",
      " [ 44  30]\n",
      " [ 24  84]\n",
      " [ 78  40]\n",
      " [ 29 104]\n",
      " [ 58  41]\n",
      " [ 38  69]\n",
      " [ 59  32]\n",
      " [ 29  73]\n",
      " [ 60  62]\n",
      " [ 33  53]\n",
      " [ 35  48]\n",
      " [ 38  48]\n",
      " [ 59  59]\n",
      " [ 40  68]\n",
      " [ 38  61]\n",
      " [ 71  68]\n",
      " [ 60  51]\n",
      " [ 57  46]\n",
      " [ 62  56]\n",
      " [ 83  52]\n",
      " [ 33  58]\n",
      " [ 64  52]\n",
      " [ 84  63]\n",
      " [ 23  62]\n",
      " [ 81  59]\n",
      " [ 65  67]\n",
      " [ 76  58]\n",
      " [ 22  67]\n",
      " [ 52  56]\n",
      " [ 82  54]\n",
      " [ 23  67]\n",
      " [ 39  53]\n",
      " [ 84  62]\n",
      " [ 57  48]\n",
      " [ 72  55]\n",
      " [ 72  63]\n",
      " [ 71  53]\n",
      " [ 32  61]\n",
      " [ 54  60]\n",
      " [ 48  54]\n",
      " [ 28  59]\n",
      " [ 59  48]\n",
      " [ 69  58]\n",
      " [ 46  62]\n",
      " [ 81  46]\n",
      " [ 56  50]\n",
      " [ 26  64]\n",
      " [ 58  52]\n",
      " [ 66  65]\n",
      " [ 27  62]\n",
      " [ 41  68]\n",
      " [ 60  52]\n",
      " [ 82  62]\n",
      " [ 22  46]\n",
      " [ 58  55]\n",
      " [ 48  45]\n",
      " [ 39  48]\n",
      " [ 29  59]\n",
      " [ 57  53]\n",
      " [ 33  56]\n",
      " [ 58  48]\n",
      " [ 24  55]\n",
      " [ 28  46]\n",
      " [ 59  54]\n",
      " [ 81  67]\n",
      " [ 32  62]\n",
      " [ 59  63]\n",
      " [ 26  48]\n",
      " [ 80  56]\n",
      " [ 65  52]\n",
      " [ 82  49]\n",
      " [ 80  54]\n",
      " [ 78  59]\n",
      " [ 23  61]\n",
      " [ 46  48]\n",
      " [ 23  52]\n",
      " [ 22  54]\n",
      " [ 23  56]\n",
      " [ 76  49]\n",
      " [ 59  67]\n",
      " [ 62  49]\n",
      " [ 60  64]\n",
      " [ 33  63]\n",
      " [ 46  45]\n",
      " [ 48  65]\n",
      " [ 47 102]\n",
      " [ 28  33]\n",
      " [ 38  87]\n",
      " [ 52  40]\n",
      " [ 48 107]\n",
      " [ 71  13]\n",
      " [ 46  84]\n",
      " [ 57  11]\n",
      " [ 47  84]\n",
      " [ 30  39]\n",
      " [ 38  80]\n",
      " [ 24   6]\n",
      " [ 35  99]\n",
      " [ 53   8]\n",
      " [ 39  82]\n",
      " [ 23  12]\n",
      " [ 42  81]\n",
      " [ 69   6]\n",
      " [ 39 105]\n",
      " [ 34  45]\n",
      " [ 39  98]\n",
      " [ 30  14]\n",
      " [ 34 109]\n",
      " [ 58  41]\n",
      " [ 39  83]\n",
      " [ 41  25]\n",
      " [ 41 101]\n",
      " [ 52  20]\n",
      " [ 47  99]\n",
      " [ 53  23]\n",
      " [ 46  86]\n",
      " [ 57  18]\n",
      " [ 33 100]\n",
      " [ 45   2]\n",
      " [ 36  88]\n",
      " [ 41   2]\n",
      " [ 36  82]\n",
      " [ 68  40]\n",
      " [ 35  93]\n",
      " [ 23   6]\n",
      " [ 38 105]\n",
      " [ 60  30]\n",
      " [ 44  84]\n",
      " [ 51  23]\n",
      " [ 40 107]\n",
      " [ 44  31]\n",
      " [ 39  71]\n",
      " [ 48  15]\n",
      " [ 34  84]\n",
      " [ 44  12]\n",
      " [ 44 104]\n",
      " [ 63  15]\n",
      " [ 36  97]\n",
      " [ 70  17]\n",
      " [ 33  78]\n",
      " [ 71  16]\n",
      " [ 42 101]\n",
      " [ 45  36]\n",
      " [ 39  97]\n",
      " [ 56  17]\n",
      " [ 35  99]\n",
      " [ 50  44]\n",
      " [ 36 109]\n",
      " [ 65  27]\n",
      " [ 34  77]\n",
      " [ 50  20]\n",
      " [ 44  96]\n",
      " [ 41  26]\n",
      " [ 39  78]\n",
      " [ 40   9]\n",
      " [ 46 102]\n",
      " [ 57  18]\n",
      " [ 42  89]\n",
      " [ 54  32]\n",
      " [ 39  83]\n",
      " [ 39  21]\n",
      " [ 36  93]]\n"
     ]
    }
   ],
   "source": [
    "print(X)"
   ]
  },
  {
   "cell_type": "markdown",
   "metadata": {
    "id": "8REFJFGC0lRN"
   },
   "source": [
    "## Optimal number of clusters via DendoGrams"
   ]
  },
  {
   "cell_type": "code",
   "execution_count": 4,
   "metadata": {
    "colab": {
     "base_uri": "https://localhost:8080/",
     "height": 313
    },
    "executionInfo": {
     "elapsed": 5887,
     "status": "ok",
     "timestamp": 1612438706459,
     "user": {
      "displayName": "Atulya Kaushik",
      "photoUrl": "https://lh3.googleusercontent.com/a-/AOh14GgsE-dAtmyAVxaBtQs_3-uP-OyyYxqZSGG-ju4A6JZGPNLuIxePsZsK83-HBcSYy-zx5PK4lHbTh9AvUrd46iDCqeZE5YHKs6KTPIg2zSU13CP-MqQkyQTGvaGFHyg-eeNhpr2GI2n81Qmwpe3nO38Uw9ohjteTA_SzXwgaJbb8nfN3NWEjBR7bWcLyyJ5RBTv_X_k7NHCMt6axH0kv1IQQ87IjKtQrRnEUUX3aAU0UGmFWuLq_hOKQV_zz6Xf8Bq0Rm0-SzjnZLaWT7BGNaMRJJVopfs-BZ7RR3uDP42AAlLqxr7b2x-VGuZnjW8WP9-3-BiSCmfX459tsZbgK-w2gL-bdnYuDnoyNOr0m5DSRQfYqwAlFlc6ahDfQf7MRcbV-1iPcY8k0mkp3j3_YqzuuM4sg_9XduoO14WQhCM1lKa1DiQavCAYu1XwihTdKxCt7vSfDSnZsX9ed2XOQDTJATQVnYM-IE-aewk1RsX_mSCsFpyjn-mldCDa1XWdlCgT1su0w8-P8MW0_Ix9X_lZoBO08QQd9hc0zcIuCaeN75aLNXKS7Nh8khJml2PF_k_Z8lHEhK5mUcBTHmF0nZp5N_B76ywv8o0ZE5jCU0yUtggFJFtSpNBkAp9T5614M_9JG0TFkr5khJpdUgrzzkPVurq7qMV-3hCMvi3o1p07IQt4X9X4KAP-v-JYTqq0HOeTGypLiXchXJUkxlIqlaoxG5MTGKMcdoFjSh52eKhSmrJtn7P5DEvJLxQxnQ5PNupSKiA=s64",
      "userId": "16390917540151948122"
     },
     "user_tz": -330
    },
    "id": "Cs6amFsNy4Ri",
    "outputId": "4304f9e9-691a-47f2-b9c5-2521b091831a"
   },
   "outputs": [
    {
     "data": {
      "text/plain": [
       "Text(0, 0.5, 'Euclidean distance')"
      ]
     },
     "execution_count": 4,
     "metadata": {},
     "output_type": "execute_result"
    },
    {
     "data": {
      "image/png": "[encoded data removed]",
      "text/plain": [
       "<Figure size 640x480 with 1 Axes>"
      ]
     },
     "metadata": {},
     "output_type": "display_data"
    }
   ],
   "source": [
    "import scipy.cluster.hierarchy as sch \n",
    "dendrogram = sch.dendrogram(sch.linkage(X, method = 'ward'))   #creates the dendogram\n",
    "plt.title('Dendrogram')\n",
    "plt.xlabel('Age')\n",
    "plt.ylabel('Euclidean distance')"
   ]
  },
  {
   "cell_type": "markdown",
   "metadata": {
    "id": "2QUFYaoH00H6"
   },
   "source": [
    "## Hierarchical Clustering Model Training on Training set"
   ]
  },
  {
   "cell_type": "code",
   "execution_count": 9,
   "metadata": {
    "executionInfo": {
     "elapsed": 1044,
     "status": "ok",
     "timestamp": 1612438995414,
     "user": {
      "displayName": "Atulya Kaushik",
      "photoUrl": "https://lh3.googleusercontent.com/a-/AOh14GgsE-dAtmyAVxaBtQs_3-uP-OyyYxqZSGG-ju4A6JZGPNLuIxePsZsK83-HBcSYy-zx5PK4lHbTh9AvUrd46iDCqeZE5YHKs6KTPIg2zSU13CP-MqQkyQTGvaGFHyg-eeNhpr2GI2n81Qmwpe3nO38Uw9ohjteTA_SzXwgaJbb8nfN3NWEjBR7bWcLyyJ5RBTv_X_k7NHCMt6axH0kv1IQQ87IjKtQrRnEUUX3aAU0UGmFWuLq_hOKQV_zz6Xf8Bq0Rm0-SzjnZLaWT7BGNaMRJJVopfs-BZ7RR3uDP42AAlLqxr7b2x-VGuZnjW8WP9-3-BiSCmfX459tsZbgK-w2gL-bdnYuDnoyNOr0m5DSRQfYqwAlFlc6ahDfQf7MRcbV-1iPcY8k0mkp3j3_YqzuuM4sg_9XduoO14WQhCM1lKa1DiQavCAYu1XwihTdKxCt7vSfDSnZsX9ed2XOQDTJATQVnYM-IE-aewk1RsX_mSCsFpyjn-mldCDa1XWdlCgT1su0w8-P8MW0_Ix9X_lZoBO08QQd9hc0zcIuCaeN75aLNXKS7Nh8khJml2PF_k_Z8lHEhK5mUcBTHmF0nZp5N_B76ywv8o0ZE5jCU0yUtggFJFtSpNBkAp9T5614M_9JG0TFkr5khJpdUgrzzkPVurq7qMV-3hCMvi3o1p07IQt4X9X4KAP-v-JYTqq0HOeTGypLiXchXJUkxlIqlaoxG5MTGKMcdoFjSh52eKhSmrJtn7P5DEvJLxQxnQ5PNupSKiA=s64",
      "userId": "16390917540151948122"
     },
     "user_tz": -330
    },
    "id": "iYLjGlayy4sF"
   },
   "outputs": [],
   "source": [
    "from sklearn.cluster import AgglomerativeClustering\n",
    "hc = AgglomerativeClustering(n_clusters = 6, affinity = 'euclidean', linkage = 'ward')\n",
    "yhc = hc.fit_predict(X)"
   ]
  },
  {
   "cell_type": "markdown",
   "metadata": {
    "id": "-Dw4Khi70u9g"
   },
   "source": [
    "## Visualizing Clusters"
   ]
  },
  {
   "cell_type": "code",
   "execution_count": 11,
   "metadata": {
    "colab": {
     "base_uri": "https://localhost:8080/",
     "height": 295
    },
    "executionInfo": {
     "elapsed": 1109,
     "status": "ok",
     "timestamp": 1612439008337,
     "user": {
      "displayName": "Atulya Kaushik",
      "photoUrl": "https://lh3.googleusercontent.com/a-/AOh14GgsE-dAtmyAVxaBtQs_3-uP-OyyYxqZSGG-ju4A6JZGPNLuIxePsZsK83-HBcSYy-zx5PK4lHbTh9AvUrd46iDCqeZE5YHKs6KTPIg2zSU13CP-MqQkyQTGvaGFHyg-eeNhpr2GI2n81Qmwpe3nO38Uw9ohjteTA_SzXwgaJbb8nfN3NWEjBR7bWcLyyJ5RBTv_X_k7NHCMt6axH0kv1IQQ87IjKtQrRnEUUX3aAU0UGmFWuLq_hOKQV_zz6Xf8Bq0Rm0-SzjnZLaWT7BGNaMRJJVopfs-BZ7RR3uDP42AAlLqxr7b2x-VGuZnjW8WP9-3-BiSCmfX459tsZbgK-w2gL-bdnYuDnoyNOr0m5DSRQfYqwAlFlc6ahDfQf7MRcbV-1iPcY8k0mkp3j3_YqzuuM4sg_9XduoO14WQhCM1lKa1DiQavCAYu1XwihTdKxCt7vSfDSnZsX9ed2XOQDTJATQVnYM-IE-aewk1RsX_mSCsFpyjn-mldCDa1XWdlCgT1su0w8-P8MW0_Ix9X_lZoBO08QQd9hc0zcIuCaeN75aLNXKS7Nh8khJml2PF_k_Z8lHEhK5mUcBTHmF0nZp5N_B76ywv8o0ZE5jCU0yUtggFJFtSpNBkAp9T5614M_9JG0TFkr5khJpdUgrzzkPVurq7qMV-3hCMvi3o1p07IQt4X9X4KAP-v-JYTqq0HOeTGypLiXchXJUkxlIqlaoxG5MTGKMcdoFjSh52eKhSmrJtn7P5DEvJLxQxnQ5PNupSKiA=s64",
      "userId": "16390917540151948122"
     },
     "user_tz": -330
    },
    "id": "UYvqw6qvy5J4",
    "outputId": "b780da4e-5b02-43ac-8ead-2322e2073a82"
   },
   "outputs": [
    {
     "data": {
      "image/png": "[encoded data removed]",
      "text/plain": [
       "<Figure size 432x288 with 1 Axes>"
      ]
     },
     "metadata": {
      "needs_background": "light",
      "tags": []
     },
     "output_type": "display_data"
    }
   ],
   "source": [
    "plt.scatter(X[yhc == 0, 0], X[yhc == 0, 1], s = 100, c = 'red', label = 'Cluster 1')\n",
    "plt.scatter(X[yhc == 1, 0], X[yhc == 1, 1], s = 100, c = 'cyan', label = 'Cluster 2')\n",
    "plt.scatter(X[yhc == 2, 0], X[yhc == 2, 1], s = 100, c = 'blue', label = 'Cluster 3')\n",
    "plt.scatter(X[yhc == 3, 0], X[yhc == 3, 1], s = 100, c = 'magenta', label = 'Cluster 4')\n",
    "plt.scatter(X[yhc == 4, 0], X[yhc == 4, 1], s = 100, c = 'yellow', label = 'Cluster 5')\n",
    "plt.scatter(X[yhc == 5, 0], X[yhc == 5, 1], s = 100, c = 'black', label = 'Cluster 6')\n",
    "\n",
    "plt.title('Amazon Users')\n",
    "plt.xlabel('Age')\n",
    "plt.ylabel('Rating')\n",
    "\n",
    "plt.legend()\n",
    "plt.show()"
   ]
  }
 ],
 "metadata": {
  "colab": {
   "authorship_tag": "ABX9TyO6yfoV3hCnyOuwm4F9P+W/",
   "name": "Hierarchical Clustering Working Copy.ipynb",
   "provenance": [],
   "toc_visible": true
  },
  "kernelspec": {
   "display_name": "Python 3 (ipykernel)",
   "language": "python",
   "name": "python3"
  },
  "language_info": {
   "codemirror_mode": {
    "name": "ipython",
    "version": 3
   },
   "file_extension": ".py",
   "mimetype": "text/x-python",
   "name": "python",
   "nbconvert_exporter": "python",
   "pygments_lexer": "ipython3",
   "version": "3.8.0"
  }
 },
 "nbformat": 4,
 "nbformat_minor": 1
}
