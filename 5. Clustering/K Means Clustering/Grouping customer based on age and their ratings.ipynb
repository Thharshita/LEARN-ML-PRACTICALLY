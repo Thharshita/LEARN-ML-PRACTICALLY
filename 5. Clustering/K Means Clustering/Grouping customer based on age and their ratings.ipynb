{
 "cells": [
  {
   "cell_type": "markdown",
   "metadata": {
    "id": "Z-jZGC0q0aiY"
   },
   "source": [
    "# K Means Clustering"
   ]
  },
  {
   "cell_type": "markdown",
   "metadata": {
    "id": "jE4Rc_OO0eJM"
   },
   "source": [
    "## Importing libraries"
   ]
  },
  {
   "cell_type": "code",
   "execution_count": 1,
   "metadata": {
    "executionInfo": {
     "elapsed": 1305,
     "status": "ok",
     "timestamp": 1612430204416,
     "user": {
      "displayName": "Atulya Kaushik",
      "photoUrl": "https://lh3.googleusercontent.com/a-/AOh14GjjPM0QFv0fzELN5xUoH88OX1ULhRx7eL8ibiKcUs_ZHMYfdr0RAqxNAVYM4joZA6_JXNgynjPU_DCG4NTEgwT0LxO7wJv9cFBTYfH3UeIQbl9eV0HYu33T6W4JqsvL1HGxL_YgdSuKAewh6EpQgFRAyC195UQ4ANgajJcmvN3QcDUVUyRmPR2M22XytJmJKRKayB7Qxi9_TXHBMy6j4xEIkEBBqGjeM8wymRA6llQQpZQDcw5fxEGkUTIXWfjMn0256rUkZpgvFNtaxXJqHtJflxwuNRXslK0vabhCSgmO8qS1NhRQaIhJdz_Hk4A-rBaT8yRdu-cNzIa9BDVuETnYQpnTso8aNwo6k2GlqELin4_HGoFNBDf-s9K2VAxEpIlD_My2fSpEuHSVQfl6A7FIwvJf-Sbm9v2d0fLHAu5ryzw6pRzZgJvOItq8_fvzfkavCht7VJ_Prr2PWKmBJSq-3ypFab8I4U0zbNT2bpP99pU3SeFiDDdJ9ADOLSCmG_NDd-itzbrVBDxcBjvMA3e7ZOMAr_ozzr5cJmJF2fUm8mKuvCGGi4lMxOaCraEbwU-wERSg6J0Qqx9qqRINZHmEpBxC6ICagTScmRBU_-g74X7-jJnT54UV71dC5lsPUUErH3UExR9TwHeT39xtCJmdSAwp5wIn8T1NYKLmTBDabnhxEHe1KFCIEMnRHUMZyDvuJsA5wGvBr1lXhMPEc7MIRLdX9gXcYqsgd8rjkJEZg5CrPXwviJraxhOKHzt8w24C2A=s64",
      "userId": "16390917540151948122"
     },
     "user_tz": -330
    },
    "id": "Mdu36Q6YU-HX"
   },
   "outputs": [],
   "source": [
    "import numpy as np\n",
    "import matplotlib.pyplot as plt\n",
    "import pandas as pd"
   ]
  },
  {
   "cell_type": "markdown",
   "metadata": {
    "id": "A9-xGHd20gY1"
   },
   "source": [
    "## Importing dataset"
   ]
  },
  {
   "cell_type": "code",
   "execution_count": 27,
   "metadata": {
    "executionInfo": {
     "elapsed": 1312,
     "status": "ok",
     "timestamp": 1612435520136,
     "user": {
      "displayName": "Atulya Kaushik",
      "photoUrl": "https://lh3.googleusercontent.com/a-/AOh14GjjPM0QFv0fzELN5xUoH88OX1ULhRx7eL8ibiKcUs_ZHMYfdr0RAqxNAVYM4joZA6_JXNgynjPU_DCG4NTEgwT0LxO7wJv9cFBTYfH3UeIQbl9eV0HYu33T6W4JqsvL1HGxL_YgdSuKAewh6EpQgFRAyC195UQ4ANgajJcmvN3QcDUVUyRmPR2M22XytJmJKRKayB7Qxi9_TXHBMy6j4xEIkEBBqGjeM8wymRA6llQQpZQDcw5fxEGkUTIXWfjMn0256rUkZpgvFNtaxXJqHtJflxwuNRXslK0vabhCSgmO8qS1NhRQaIhJdz_Hk4A-rBaT8yRdu-cNzIa9BDVuETnYQpnTso8aNwo6k2GlqELin4_HGoFNBDf-s9K2VAxEpIlD_My2fSpEuHSVQfl6A7FIwvJf-Sbm9v2d0fLHAu5ryzw6pRzZgJvOItq8_fvzfkavCht7VJ_Prr2PWKmBJSq-3ypFab8I4U0zbNT2bpP99pU3SeFiDDdJ9ADOLSCmG_NDd-itzbrVBDxcBjvMA3e7ZOMAr_ozzr5cJmJF2fUm8mKuvCGGi4lMxOaCraEbwU-wERSg6J0Qqx9qqRINZHmEpBxC6ICagTScmRBU_-g74X7-jJnT54UV71dC5lsPUUErH3UExR9TwHeT39xtCJmdSAwp5wIn8T1NYKLmTBDabnhxEHe1KFCIEMnRHUMZyDvuJsA5wGvBr1lXhMPEc7MIRLdX9gXcYqsgd8rjkJEZg5CrPXwviJraxhOKHzt8w24C2A=s64",
      "userId": "16390917540151948122"
     },
     "user_tz": -330
    },
    "id": "fLojxKFZU_wb"
   },
   "outputs": [],
   "source": [
    "dataset = pd.read_csv('Amazon.com Clusturing Model.csv')\n",
    "X = dataset.iloc[:, [2, 4]].values"
   ]
  },
  {
   "cell_type": "code",
   "execution_count": 28,
   "metadata": {
    "colab": {
     "base_uri": "https://localhost:8080/"
    },
    "executionInfo": {
     "elapsed": 1199,
     "status": "ok",
     "timestamp": 1612435528921,
     "user": {
      "displayName": "Atulya Kaushik",
      "photoUrl": "https://lh3.googleusercontent.com/a-/AOh14GjjPM0QFv0fzELN5xUoH88OX1ULhRx7eL8ibiKcUs_ZHMYfdr0RAqxNAVYM4joZA6_JXNgynjPU_DCG4NTEgwT0LxO7wJv9cFBTYfH3UeIQbl9eV0HYu33T6W4JqsvL1HGxL_YgdSuKAewh6EpQgFRAyC195UQ4ANgajJcmvN3QcDUVUyRmPR2M22XytJmJKRKayB7Qxi9_TXHBMy6j4xEIkEBBqGjeM8wymRA6llQQpZQDcw5fxEGkUTIXWfjMn0256rUkZpgvFNtaxXJqHtJflxwuNRXslK0vabhCSgmO8qS1NhRQaIhJdz_Hk4A-rBaT8yRdu-cNzIa9BDVuETnYQpnTso8aNwo6k2GlqELin4_HGoFNBDf-s9K2VAxEpIlD_My2fSpEuHSVQfl6A7FIwvJf-Sbm9v2d0fLHAu5ryzw6pRzZgJvOItq8_fvzfkavCht7VJ_Prr2PWKmBJSq-3ypFab8I4U0zbNT2bpP99pU3SeFiDDdJ9ADOLSCmG_NDd-itzbrVBDxcBjvMA3e7ZOMAr_ozzr5cJmJF2fUm8mKuvCGGi4lMxOaCraEbwU-wERSg6J0Qqx9qqRINZHmEpBxC6ICagTScmRBU_-g74X7-jJnT54UV71dC5lsPUUErH3UExR9TwHeT39xtCJmdSAwp5wIn8T1NYKLmTBDabnhxEHe1KFCIEMnRHUMZyDvuJsA5wGvBr1lXhMPEc7MIRLdX9gXcYqsgd8rjkJEZg5CrPXwviJraxhOKHzt8w24C2A=s64",
      "userId": "16390917540151948122"
     },
     "user_tz": -330
    },
    "id": "hXX2ntJqpPDH",
    "outputId": "4a9c423f-b59c-4b0f-9039-11ced525434a"
   },
   "outputs": [
    {
     "name": "stdout",
     "output_type": "stream",
     "text": [
      "[[ 23  44]\n",
      " [ 26  91]\n",
      " [ 24   7]\n",
      " [ 28  87]\n",
      " [ 38  45]\n",
      " [ 27  86]\n",
      " [ 42   7]\n",
      " [ 28 106]\n",
      " [ 77   4]\n",
      " [ 36  81]\n",
      " [ 81  16]\n",
      " [ 42 111]\n",
      " [ 70  17]\n",
      " [ 29  87]\n",
      " [ 45  15]\n",
      " [ 27  89]\n",
      " [ 42  40]\n",
      " [ 24  74]\n",
      " [ 63  33]\n",
      " [ 42 110]\n",
      " [ 42  40]\n",
      " [ 30  82]\n",
      " [ 56   6]\n",
      " [ 38  82]\n",
      " [ 65  16]\n",
      " [ 35  92]\n",
      " [ 54  36]\n",
      " [ 42  69]\n",
      " [ 48  35]\n",
      " [ 28  98]\n",
      " [ 72   5]\n",
      " [ 26  82]\n",
      " [ 64   5]\n",
      " [ 22 104]\n",
      " [ 59  16]\n",
      " [ 26  91]\n",
      " [ 51  20]\n",
      " [ 36  82]\n",
      " [ 44  30]\n",
      " [ 24  84]\n",
      " [ 78  40]\n",
      " [ 29 104]\n",
      " [ 58  41]\n",
      " [ 38  69]\n",
      " [ 59  32]\n",
      " [ 29  73]\n",
      " [ 60  62]\n",
      " [ 33  53]\n",
      " [ 35  48]\n",
      " [ 38  48]\n",
      " [ 59  59]\n",
      " [ 40  68]\n",
      " [ 38  61]\n",
      " [ 71  68]\n",
      " [ 60  51]\n",
      " [ 57  46]\n",
      " [ 62  56]\n",
      " [ 83  52]\n",
      " [ 33  58]\n",
      " [ 64  52]\n",
      " [ 84  63]\n",
      " [ 23  62]\n",
      " [ 81  59]\n",
      " [ 65  67]\n",
      " [ 76  58]\n",
      " [ 22  67]\n",
      " [ 52  56]\n",
      " [ 82  54]\n",
      " [ 23  67]\n",
      " [ 39  53]\n",
      " [ 84  62]\n",
      " [ 57  48]\n",
      " [ 72  55]\n",
      " [ 72  63]\n",
      " [ 71  53]\n",
      " [ 32  61]\n",
      " [ 54  60]\n",
      " [ 48  54]\n",
      " [ 28  59]\n",
      " [ 59  48]\n",
      " [ 69  58]\n",
      " [ 46  62]\n",
      " [ 81  46]\n",
      " [ 56  50]\n",
      " [ 26  64]\n",
      " [ 58  52]\n",
      " [ 66  65]\n",
      " [ 27  62]\n",
      " [ 41  68]\n",
      " [ 60  52]\n",
      " [ 82  62]\n",
      " [ 22  46]\n",
      " [ 58  55]\n",
      " [ 48  45]\n",
      " [ 39  48]\n",
      " [ 29  59]\n",
      " [ 57  53]\n",
      " [ 33  56]\n",
      " [ 58  48]\n",
      " [ 24  55]\n",
      " [ 28  46]\n",
      " [ 59  54]\n",
      " [ 81  67]\n",
      " [ 32  62]\n",
      " [ 59  63]\n",
      " [ 26  48]\n",
      " [ 80  56]\n",
      " [ 65  52]\n",
      " [ 82  49]\n",
      " [ 80  54]\n",
      " [ 78  59]\n",
      " [ 23  61]\n",
      " [ 46  48]\n",
      " [ 23  52]\n",
      " [ 22  54]\n",
      " [ 23  56]\n",
      " [ 76  49]\n",
      " [ 59  67]\n",
      " [ 62  49]\n",
      " [ 60  64]\n",
      " [ 33  63]\n",
      " [ 46  45]\n",
      " [ 48  65]\n",
      " [ 47 102]\n",
      " [ 28  33]\n",
      " [ 38  87]\n",
      " [ 52  40]\n",
      " [ 48 107]\n",
      " [ 71  13]\n",
      " [ 46  84]\n",
      " [ 57  11]\n",
      " [ 47  84]\n",
      " [ 30  39]\n",
      " [ 38  80]\n",
      " [ 24   6]\n",
      " [ 35  99]\n",
      " [ 53   8]\n",
      " [ 39  82]\n",
      " [ 23  12]\n",
      " [ 42  81]\n",
      " [ 69   6]\n",
      " [ 39 105]\n",
      " [ 34  45]\n",
      " [ 39  98]\n",
      " [ 30  14]\n",
      " [ 34 109]\n",
      " [ 58  41]\n",
      " [ 39  83]\n",
      " [ 41  25]\n",
      " [ 41 101]\n",
      " [ 52  20]\n",
      " [ 47  99]\n",
      " [ 53  23]\n",
      " [ 46  86]\n",
      " [ 57  18]\n",
      " [ 33 100]\n",
      " [ 45   2]\n",
      " [ 36  88]\n",
      " [ 41   2]\n",
      " [ 36  82]\n",
      " [ 68  40]\n",
      " [ 35  93]\n",
      " [ 23   6]\n",
      " [ 38 105]\n",
      " [ 60  30]\n",
      " [ 44  84]\n",
      " [ 51  23]\n",
      " [ 40 107]\n",
      " [ 44  31]\n",
      " [ 39  71]\n",
      " [ 48  15]\n",
      " [ 34  84]\n",
      " [ 44  12]\n",
      " [ 44 104]\n",
      " [ 63  15]\n",
      " [ 36  97]\n",
      " [ 70  17]\n",
      " [ 33  78]\n",
      " [ 71  16]\n",
      " [ 42 101]\n",
      " [ 45  36]\n",
      " [ 39  97]\n",
      " [ 56  17]\n",
      " [ 35  99]\n",
      " [ 50  44]\n",
      " [ 36 109]\n",
      " [ 65  27]\n",
      " [ 34  77]\n",
      " [ 50  20]\n",
      " [ 44  96]\n",
      " [ 41  26]\n",
      " [ 39  78]\n",
      " [ 40   9]\n",
      " [ 46 102]\n",
      " [ 57  18]\n",
      " [ 42  89]\n",
      " [ 54  32]\n",
      " [ 39  83]\n",
      " [ 39  21]\n",
      " [ 36  93]]\n"
     ]
    }
   ],
   "source": [
    "print(X)"
   ]
  },
  {
   "cell_type": "markdown",
   "metadata": {
    "id": "8REFJFGC0lRN"
   },
   "source": [
    "## Optimal number of clusters via Elbow Method"
   ]
  },
  {
   "cell_type": "code",
   "execution_count": 29,
   "metadata": {
    "colab": {
     "base_uri": "https://localhost:8080/",
     "height": 295
    },
    "executionInfo": {
     "elapsed": 1804,
     "status": "ok",
     "timestamp": 1612435534785,
     "user": {
      "displayName": "Atulya Kaushik",
      "photoUrl": "https://lh3.googleusercontent.com/a-/AOh14GjjPM0QFv0fzELN5xUoH88OX1ULhRx7eL8ibiKcUs_ZHMYfdr0RAqxNAVYM4joZA6_JXNgynjPU_DCG4NTEgwT0LxO7wJv9cFBTYfH3UeIQbl9eV0HYu33T6W4JqsvL1HGxL_YgdSuKAewh6EpQgFRAyC195UQ4ANgajJcmvN3QcDUVUyRmPR2M22XytJmJKRKayB7Qxi9_TXHBMy6j4xEIkEBBqGjeM8wymRA6llQQpZQDcw5fxEGkUTIXWfjMn0256rUkZpgvFNtaxXJqHtJflxwuNRXslK0vabhCSgmO8qS1NhRQaIhJdz_Hk4A-rBaT8yRdu-cNzIa9BDVuETnYQpnTso8aNwo6k2GlqELin4_HGoFNBDf-s9K2VAxEpIlD_My2fSpEuHSVQfl6A7FIwvJf-Sbm9v2d0fLHAu5ryzw6pRzZgJvOItq8_fvzfkavCht7VJ_Prr2PWKmBJSq-3ypFab8I4U0zbNT2bpP99pU3SeFiDDdJ9ADOLSCmG_NDd-itzbrVBDxcBjvMA3e7ZOMAr_ozzr5cJmJF2fUm8mKuvCGGi4lMxOaCraEbwU-wERSg6J0Qqx9qqRINZHmEpBxC6ICagTScmRBU_-g74X7-jJnT54UV71dC5lsPUUErH3UExR9TwHeT39xtCJmdSAwp5wIn8T1NYKLmTBDabnhxEHe1KFCIEMnRHUMZyDvuJsA5wGvBr1lXhMPEc7MIRLdX9gXcYqsgd8rjkJEZg5CrPXwviJraxhOKHzt8w24C2A=s64",
      "userId": "16390917540151948122"
     },
     "user_tz": -330
    },
    "id": "M2aNSjOekRQX",
    "outputId": "ad958b11-e7c0-4715-8bea-f850ee3b4665"
   },
   "outputs": [
    {
     "data": {
      "image/png": "[encoded data removed]",
      "text/plain": [
       "<Figure size 432x288 with 1 Axes>"
      ]
     },
     "metadata": {
      "needs_background": "light",
      "tags": []
     },
     "output_type": "display_data"
    }
   ],
   "source": [
    "from sklearn.cluster import KMeans\n",
    "wcss = []\n",
    "\n",
    "for i in range(1,11):\n",
    "  kmeans = KMeans(n_clusters= i, init= 'k-means++', random_state = 21)\n",
    "  kmeans.fit(X)\n",
    "  wcss.append(kmeans.inertia_)\n",
    "\n",
    "plt.plot(range(1,11), wcss)\n",
    "plt.title('WCSS via Elbow method')\n",
    "plt.xlabel('Number of clusters')\n",
    "plt.ylabel('WCSS Value')\n",
    "\n",
    "plt.show()"
   ]
  },
  {
   "cell_type": "markdown",
   "metadata": {
    "id": "2QUFYaoH00H6"
   },
   "source": [
    "## K Means Model Training on Training set"
   ]
  },
  {
   "cell_type": "code",
   "execution_count": 31,
   "metadata": {
    "executionInfo": {
     "elapsed": 1318,
     "status": "ok",
     "timestamp": 1612435551391,
     "user": {
      "displayName": "Atulya Kaushik",
      "photoUrl": "https://lh3.googleusercontent.com/a-/AOh14GjjPM0QFv0fzELN5xUoH88OX1ULhRx7eL8ibiKcUs_ZHMYfdr0RAqxNAVYM4joZA6_JXNgynjPU_DCG4NTEgwT0LxO7wJv9cFBTYfH3UeIQbl9eV0HYu33T6W4JqsvL1HGxL_YgdSuKAewh6EpQgFRAyC195UQ4ANgajJcmvN3QcDUVUyRmPR2M22XytJmJKRKayB7Qxi9_TXHBMy6j4xEIkEBBqGjeM8wymRA6llQQpZQDcw5fxEGkUTIXWfjMn0256rUkZpgvFNtaxXJqHtJflxwuNRXslK0vabhCSgmO8qS1NhRQaIhJdz_Hk4A-rBaT8yRdu-cNzIa9BDVuETnYQpnTso8aNwo6k2GlqELin4_HGoFNBDf-s9K2VAxEpIlD_My2fSpEuHSVQfl6A7FIwvJf-Sbm9v2d0fLHAu5ryzw6pRzZgJvOItq8_fvzfkavCht7VJ_Prr2PWKmBJSq-3ypFab8I4U0zbNT2bpP99pU3SeFiDDdJ9ADOLSCmG_NDd-itzbrVBDxcBjvMA3e7ZOMAr_ozzr5cJmJF2fUm8mKuvCGGi4lMxOaCraEbwU-wERSg6J0Qqx9qqRINZHmEpBxC6ICagTScmRBU_-g74X7-jJnT54UV71dC5lsPUUErH3UExR9TwHeT39xtCJmdSAwp5wIn8T1NYKLmTBDabnhxEHe1KFCIEMnRHUMZyDvuJsA5wGvBr1lXhMPEc7MIRLdX9gXcYqsgd8rjkJEZg5CrPXwviJraxhOKHzt8w24C2A=s64",
      "userId": "16390917540151948122"
     },
     "user_tz": -330
    },
    "id": "ZIRwgaygmGJf"
   },
   "outputs": [],
   "source": [
    "kmeans = KMeans(n_clusters = 4, init = 'k-means++', random_state = 42)\n",
    "y_means = kmeans.fit_predict(X)"
   ]
  },
  {
   "cell_type": "code",
   "execution_count": 32,
   "metadata": {
    "colab": {
     "base_uri": "https://localhost:8080/"
    },
    "executionInfo": {
     "elapsed": 1382,
     "status": "ok",
     "timestamp": 1612435553547,
     "user": {
      "displayName": "Atulya Kaushik",
      "photoUrl": "https://lh3.googleusercontent.com/a-/AOh14GjjPM0QFv0fzELN5xUoH88OX1ULhRx7eL8ibiKcUs_ZHMYfdr0RAqxNAVYM4joZA6_JXNgynjPU_DCG4NTEgwT0LxO7wJv9cFBTYfH3UeIQbl9eV0HYu33T6W4JqsvL1HGxL_YgdSuKAewh6EpQgFRAyC195UQ4ANgajJcmvN3QcDUVUyRmPR2M22XytJmJKRKayB7Qxi9_TXHBMy6j4xEIkEBBqGjeM8wymRA6llQQpZQDcw5fxEGkUTIXWfjMn0256rUkZpgvFNtaxXJqHtJflxwuNRXslK0vabhCSgmO8qS1NhRQaIhJdz_Hk4A-rBaT8yRdu-cNzIa9BDVuETnYQpnTso8aNwo6k2GlqELin4_HGoFNBDf-s9K2VAxEpIlD_My2fSpEuHSVQfl6A7FIwvJf-Sbm9v2d0fLHAu5ryzw6pRzZgJvOItq8_fvzfkavCht7VJ_Prr2PWKmBJSq-3ypFab8I4U0zbNT2bpP99pU3SeFiDDdJ9ADOLSCmG_NDd-itzbrVBDxcBjvMA3e7ZOMAr_ozzr5cJmJF2fUm8mKuvCGGi4lMxOaCraEbwU-wERSg6J0Qqx9qqRINZHmEpBxC6ICagTScmRBU_-g74X7-jJnT54UV71dC5lsPUUErH3UExR9TwHeT39xtCJmdSAwp5wIn8T1NYKLmTBDabnhxEHe1KFCIEMnRHUMZyDvuJsA5wGvBr1lXhMPEc7MIRLdX9gXcYqsgd8rjkJEZg5CrPXwviJraxhOKHzt8w24C2A=s64",
      "userId": "16390917540151948122"
     },
     "user_tz": -330
    },
    "id": "WgIKbEMwndad",
    "outputId": "8d55a6ee-5d83-4150-d492-fd3a11cb4c66"
   },
   "outputs": [
    {
     "name": "stdout",
     "output_type": "stream",
     "text": [
      "[3 0 1 0 3 0 1 0 1 0 1 0 1 0 1 0 3 3 1 0 3 0 1 0 1 0 1 3 1 0 1 0 1 0 1 0 1\n",
      " 0 1 0 2 0 2 3 1 3 2 3 3 3 2 3 3 2 2 2 2 2 3 2 2 3 2 2 2 3 2 2 3 3 2 2 2 2\n",
      " 2 3 2 3 3 2 2 3 2 2 3 2 2 3 3 2 2 3 2 3 3 3 2 3 2 3 3 2 2 3 2 3 2 2 2 2 2\n",
      " 3 3 3 3 3 2 2 2 2 3 3 3 0 3 0 2 0 1 0 1 0 3 0 1 0 1 0 1 0 1 0 3 0 1 0 2 0\n",
      " 1 0 1 0 1 0 1 0 1 0 1 0 2 0 1 0 1 0 1 0 1 3 1 0 1 0 1 0 1 0 1 0 1 0 1 0 2\n",
      " 0 1 0 1 0 1 0 1 0 1 0 1 0 1 0]\n"
     ]
    }
   ],
   "source": [
    "print(y_means)"
   ]
  },
  {
   "cell_type": "markdown",
   "metadata": {
    "id": "-Dw4Khi70u9g"
   },
   "source": [
    "## Visualizing Clusters"
   ]
  },
  {
   "cell_type": "code",
   "execution_count": 34,
   "metadata": {
    "colab": {
     "base_uri": "https://localhost:8080/",
     "height": 295
    },
    "executionInfo": {
     "elapsed": 1690,
     "status": "ok",
     "timestamp": 1612435586088,
     "user": {
      "displayName": "Atulya Kaushik",
      "photoUrl": "https://lh3.googleusercontent.com/a-/AOh14GjjPM0QFv0fzELN5xUoH88OX1ULhRx7eL8ibiKcUs_ZHMYfdr0RAqxNAVYM4joZA6_JXNgynjPU_DCG4NTEgwT0LxO7wJv9cFBTYfH3UeIQbl9eV0HYu33T6W4JqsvL1HGxL_YgdSuKAewh6EpQgFRAyC195UQ4ANgajJcmvN3QcDUVUyRmPR2M22XytJmJKRKayB7Qxi9_TXHBMy6j4xEIkEBBqGjeM8wymRA6llQQpZQDcw5fxEGkUTIXWfjMn0256rUkZpgvFNtaxXJqHtJflxwuNRXslK0vabhCSgmO8qS1NhRQaIhJdz_Hk4A-rBaT8yRdu-cNzIa9BDVuETnYQpnTso8aNwo6k2GlqELin4_HGoFNBDf-s9K2VAxEpIlD_My2fSpEuHSVQfl6A7FIwvJf-Sbm9v2d0fLHAu5ryzw6pRzZgJvOItq8_fvzfkavCht7VJ_Prr2PWKmBJSq-3ypFab8I4U0zbNT2bpP99pU3SeFiDDdJ9ADOLSCmG_NDd-itzbrVBDxcBjvMA3e7ZOMAr_ozzr5cJmJF2fUm8mKuvCGGi4lMxOaCraEbwU-wERSg6J0Qqx9qqRINZHmEpBxC6ICagTScmRBU_-g74X7-jJnT54UV71dC5lsPUUErH3UExR9TwHeT39xtCJmdSAwp5wIn8T1NYKLmTBDabnhxEHe1KFCIEMnRHUMZyDvuJsA5wGvBr1lXhMPEc7MIRLdX9gXcYqsgd8rjkJEZg5CrPXwviJraxhOKHzt8w24C2A=s64",
      "userId": "16390917540151948122"
     },
     "user_tz": -330
    },
    "id": "1dsBLag_nCuU",
    "outputId": "760edc25-7ccd-4ac7-e744-c292c2cedbdc"
   },
   "outputs": [
    {
     "data": {
      "image/png": "[encoded data removed]",
      "text/plain": [
       "<Figure size 432x288 with 1 Axes>"
      ]
     },
     "metadata": {
      "needs_background": "light",
      "tags": []
     },
     "output_type": "display_data"
    }
   ],
   "source": [
    "plt.scatter(X[y_means == 0, 0], X[y_means == 0, 1], s = 100, c = 'magenta', label = 'Cluster 1')\n",
    "plt.scatter(X[y_means == 1, 0], X[y_means == 1, 1], s = 100, c = 'blue', label = 'Cluster 2')  \n",
    "#1 refers to the cluster label,and 0 and 1 refer to the indices of the features (columns) in your dataset X\n",
    "plt.scatter(X[y_means == 2, 0], X[y_means == 2, 1], s = 100, c = 'red', label = 'Cluster 3')\n",
    "plt.scatter(X[y_means == 3, 0], X[y_means == 3, 1], s = 100, c = 'cyan', label = 'Cluster 4')\n",
    "plt.scatter(kmeans.cluster_centers_[:, 0], kmeans.cluster_centers_[:, 1], s = 300, c = 'black', label = 'Centroids')\n",
    "#kmeans.cluster_centers_ contains the coordinates of the centroids. [:, 0] ---- X-coordinate (first feature) of all the centroids and [:, 1]---- Y-coordinate (second feature) of all the centroids\n",
    "plt.title('Cluster of Amazon users')\n",
    "plt.xlabel('Age')\n",
    "plt.ylabel('Purchase Rating')\n",
    "plt.legend()\n",
    "plt.show()"
   ]
  }
 ],
 "metadata": {
  "colab": {
   "authorship_tag": "ABX9TyPJnbKsVhePc2x4kBwMfisQ",
   "name": "K Means Clustering Working Copy.ipynb",
   "provenance": [],
   "toc_visible": true
  },
  "kernelspec": {
   "display_name": "Python 3 (ipykernel)",
   "language": "python",
   "name": "python3"
  },
  "language_info": {
   "codemirror_mode": {
    "name": "ipython",
    "version": 3
   },
   "file_extension": ".py",
   "mimetype": "text/x-python",
   "name": "python",
   "nbconvert_exporter": "python",
   "pygments_lexer": "ipython3",
   "version": "3.8.0"
  }
 },
 "nbformat": 4,
 "nbformat_minor": 1
}
