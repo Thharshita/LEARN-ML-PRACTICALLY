{
 "cells": [
  {
   "cell_type": "markdown",
   "metadata": {
    "id": "NnPEZHzaF84c"
   },
   "source": [
    "# SVR"
   ]
  },
  {
   "cell_type": "markdown",
   "metadata": {
    "id": "MAoMviwdF_dS"
   },
   "source": [
    "## Importing the libraries"
   ]
  },
  {
   "cell_type": "code",
   "execution_count": 5,
   "metadata": {
    "executionInfo": {
     "elapsed": 986,
     "status": "ok",
     "timestamp": 1611910498943,
     "user": {
      "displayName": "Atulya Kaushik",
      "photoUrl": "https://lh3.googleusercontent.com/a-/AOh14GifJIY8FAK4vzSIHwu_hZ-zXzVSXsQdNBK6sASX-lNQcusulm-iwiA94-NB4r-j9d912X1S5leXLT6Z4MZLjLfFTmqMhFnCu8lpozO-QG8scPi_mIxYUpV1nYqLB86F0ciGcfthwlrraVgvzqRYTSgDASpMReWNX6HgbBNVCq-YtJHfanTuLI9neglR-X_SqSiH_VtLICyaLi4i3v4Yf_FNXK85p7uCE9r97gYWPP3NQA-cEoRr0srBJZ3ZSFjM7Iwht0npO3erKuQ-TAOyAeOeG4tRM-up5G4RajoRudwQ0OgajUm7HcPHTI8E-D1ig1uezwltiCPS3J0b6SpvNRdK8HHWFT2NtVt-k9Z53J6zH1ZYlfjYfFUvYKY8LbtqOZoAWGuxqsLvi4ZM36j8KXVAuZaixS8xklMVaGs_25gv9xrBvehjpKyQERK57j7x77Q2hJnt2BpTuJlk8mOv3Oh7QMxA4uADumH2rGMwnl4jKUIL2-hU2jYTaFnxDHWkaqSAXGe0L18kPlZ_EzENZfJrUjMr9DCewg1IphQGmUgjj2bgCrSmt0YDqfcHGEn8vy7mBuFZK7D6Od7xgDy-XaxgjN4mDutHLjknig99EmDOgdmRqgzHYz5CRniizXtfU6jXGlaxyRgOq9eJaY2GcT88z2GW9pcrYwlkTG08oFrk5NSGR99KK6OqYoHtjXtZ_QrX1fz_iG9S1VW_xDxx-Cty_1qF00up_RakdoX4PeRpKQVMp3Yq7h-xczZFDMctHYJxfg=s64",
      "userId": "16390917540151948122"
     },
     "user_tz": -330
    },
    "id": "7vuIGMSSJkSU"
   },
   "outputs": [],
   "source": [
    "import numpy as np\n",
    "import matplotlib.pyplot as plt\n",
    "import pandas as pd"
   ]
  },
  {
   "cell_type": "markdown",
   "metadata": {
    "id": "ukNpho2tGIj8"
   },
   "source": [
    "## Data Set Import"
   ]
  },
  {
   "cell_type": "code",
   "execution_count": 6,
   "metadata": {
    "executionInfo": {
     "elapsed": 1000,
     "status": "ok",
     "timestamp": 1611910502023,
     "user": {
      "displayName": "Atulya Kaushik",
      "photoUrl": "https://lh3.googleusercontent.com/a-/AOh14GifJIY8FAK4vzSIHwu_hZ-zXzVSXsQdNBK6sASX-lNQcusulm-iwiA94-NB4r-j9d912X1S5leXLT6Z4MZLjLfFTmqMhFnCu8lpozO-QG8scPi_mIxYUpV1nYqLB86F0ciGcfthwlrraVgvzqRYTSgDASpMReWNX6HgbBNVCq-YtJHfanTuLI9neglR-X_SqSiH_VtLICyaLi4i3v4Yf_FNXK85p7uCE9r97gYWPP3NQA-cEoRr0srBJZ3ZSFjM7Iwht0npO3erKuQ-TAOyAeOeG4tRM-up5G4RajoRudwQ0OgajUm7HcPHTI8E-D1ig1uezwltiCPS3J0b6SpvNRdK8HHWFT2NtVt-k9Z53J6zH1ZYlfjYfFUvYKY8LbtqOZoAWGuxqsLvi4ZM36j8KXVAuZaixS8xklMVaGs_25gv9xrBvehjpKyQERK57j7x77Q2hJnt2BpTuJlk8mOv3Oh7QMxA4uADumH2rGMwnl4jKUIL2-hU2jYTaFnxDHWkaqSAXGe0L18kPlZ_EzENZfJrUjMr9DCewg1IphQGmUgjj2bgCrSmt0YDqfcHGEn8vy7mBuFZK7D6Od7xgDy-XaxgjN4mDutHLjknig99EmDOgdmRqgzHYz5CRniizXtfU6jXGlaxyRgOq9eJaY2GcT88z2GW9pcrYwlkTG08oFrk5NSGR99KK6OqYoHtjXtZ_QrX1fz_iG9S1VW_xDxx-Cty_1qF00up_RakdoX4PeRpKQVMp3Yq7h-xczZFDMctHYJxfg=s64",
      "userId": "16390917540151948122"
     },
     "user_tz": -330
    },
    "id": "SQ3pkLxJJl4A"
   },
   "outputs": [],
   "source": [
    "data_set = pd.read_csv('../Model Selection - Combined Cycl.csv')\n",
    "X = data_set.iloc[:, :-1].values\n",
    "y = data_set.iloc[:, -1].values"
   ]
  },
  {
   "cell_type": "code",
   "execution_count": 7,
   "metadata": {
    "executionInfo": {
     "elapsed": 1023,
     "status": "ok",
     "timestamp": 1611910508830,
     "user": {
      "displayName": "Atulya Kaushik",
      "photoUrl": "https://lh3.googleusercontent.com/a-/AOh14GifJIY8FAK4vzSIHwu_hZ-zXzVSXsQdNBK6sASX-lNQcusulm-iwiA94-NB4r-j9d912X1S5leXLT6Z4MZLjLfFTmqMhFnCu8lpozO-QG8scPi_mIxYUpV1nYqLB86F0ciGcfthwlrraVgvzqRYTSgDASpMReWNX6HgbBNVCq-YtJHfanTuLI9neglR-X_SqSiH_VtLICyaLi4i3v4Yf_FNXK85p7uCE9r97gYWPP3NQA-cEoRr0srBJZ3ZSFjM7Iwht0npO3erKuQ-TAOyAeOeG4tRM-up5G4RajoRudwQ0OgajUm7HcPHTI8E-D1ig1uezwltiCPS3J0b6SpvNRdK8HHWFT2NtVt-k9Z53J6zH1ZYlfjYfFUvYKY8LbtqOZoAWGuxqsLvi4ZM36j8KXVAuZaixS8xklMVaGs_25gv9xrBvehjpKyQERK57j7x77Q2hJnt2BpTuJlk8mOv3Oh7QMxA4uADumH2rGMwnl4jKUIL2-hU2jYTaFnxDHWkaqSAXGe0L18kPlZ_EzENZfJrUjMr9DCewg1IphQGmUgjj2bgCrSmt0YDqfcHGEn8vy7mBuFZK7D6Od7xgDy-XaxgjN4mDutHLjknig99EmDOgdmRqgzHYz5CRniizXtfU6jXGlaxyRgOq9eJaY2GcT88z2GW9pcrYwlkTG08oFrk5NSGR99KK6OqYoHtjXtZ_QrX1fz_iG9S1VW_xDxx-Cty_1qF00up_RakdoX4PeRpKQVMp3Yq7h-xczZFDMctHYJxfg=s64",
      "userId": "16390917540151948122"
     },
     "user_tz": -330
    },
    "id": "UI9ZWXL5V4rI"
   },
   "outputs": [],
   "source": [
    "y = y.reshape(len(y),1)"
   ]
  },
  {
   "cell_type": "markdown",
   "metadata": {
    "id": "_ME70lO_GJ4Q"
   },
   "source": [
    "## Splitting the dataset into the Training & Test set"
   ]
  },
  {
   "cell_type": "code",
   "execution_count": 8,
   "metadata": {
    "executionInfo": {
     "elapsed": 1050,
     "status": "ok",
     "timestamp": 1611910513238,
     "user": {
      "displayName": "Atulya Kaushik",
      "photoUrl": "https://lh3.googleusercontent.com/a-/AOh14GifJIY8FAK4vzSIHwu_hZ-zXzVSXsQdNBK6sASX-lNQcusulm-iwiA94-NB4r-j9d912X1S5leXLT6Z4MZLjLfFTmqMhFnCu8lpozO-QG8scPi_mIxYUpV1nYqLB86F0ciGcfthwlrraVgvzqRYTSgDASpMReWNX6HgbBNVCq-YtJHfanTuLI9neglR-X_SqSiH_VtLICyaLi4i3v4Yf_FNXK85p7uCE9r97gYWPP3NQA-cEoRr0srBJZ3ZSFjM7Iwht0npO3erKuQ-TAOyAeOeG4tRM-up5G4RajoRudwQ0OgajUm7HcPHTI8E-D1ig1uezwltiCPS3J0b6SpvNRdK8HHWFT2NtVt-k9Z53J6zH1ZYlfjYfFUvYKY8LbtqOZoAWGuxqsLvi4ZM36j8KXVAuZaixS8xklMVaGs_25gv9xrBvehjpKyQERK57j7x77Q2hJnt2BpTuJlk8mOv3Oh7QMxA4uADumH2rGMwnl4jKUIL2-hU2jYTaFnxDHWkaqSAXGe0L18kPlZ_EzENZfJrUjMr9DCewg1IphQGmUgjj2bgCrSmt0YDqfcHGEn8vy7mBuFZK7D6Od7xgDy-XaxgjN4mDutHLjknig99EmDOgdmRqgzHYz5CRniizXtfU6jXGlaxyRgOq9eJaY2GcT88z2GW9pcrYwlkTG08oFrk5NSGR99KK6OqYoHtjXtZ_QrX1fz_iG9S1VW_xDxx-Cty_1qF00up_RakdoX4PeRpKQVMp3Yq7h-xczZFDMctHYJxfg=s64",
      "userId": "16390917540151948122"
     },
     "user_tz": -330
    },
    "id": "eqsM8yOrJner"
   },
   "outputs": [],
   "source": [
    "from sklearn.model_selection import train_test_split\n",
    "X_train, X_test, y_train, y_test = train_test_split(X, y, test_size = 0.2, random_state = 0)"
   ]
  },
  {
   "cell_type": "markdown",
   "metadata": {
    "id": "c6Odjsb7Jsh0"
   },
   "source": [
    "## Feature Scaling"
   ]
  },
  {
   "cell_type": "code",
   "execution_count": 9,
   "metadata": {
    "executionInfo": {
     "elapsed": 1155,
     "status": "ok",
     "timestamp": 1611910518008,
     "user": {
      "displayName": "Atulya Kaushik",
      "photoUrl": "https://lh3.googleusercontent.com/a-/AOh14GifJIY8FAK4vzSIHwu_hZ-zXzVSXsQdNBK6sASX-lNQcusulm-iwiA94-NB4r-j9d912X1S5leXLT6Z4MZLjLfFTmqMhFnCu8lpozO-QG8scPi_mIxYUpV1nYqLB86F0ciGcfthwlrraVgvzqRYTSgDASpMReWNX6HgbBNVCq-YtJHfanTuLI9neglR-X_SqSiH_VtLICyaLi4i3v4Yf_FNXK85p7uCE9r97gYWPP3NQA-cEoRr0srBJZ3ZSFjM7Iwht0npO3erKuQ-TAOyAeOeG4tRM-up5G4RajoRudwQ0OgajUm7HcPHTI8E-D1ig1uezwltiCPS3J0b6SpvNRdK8HHWFT2NtVt-k9Z53J6zH1ZYlfjYfFUvYKY8LbtqOZoAWGuxqsLvi4ZM36j8KXVAuZaixS8xklMVaGs_25gv9xrBvehjpKyQERK57j7x77Q2hJnt2BpTuJlk8mOv3Oh7QMxA4uADumH2rGMwnl4jKUIL2-hU2jYTaFnxDHWkaqSAXGe0L18kPlZ_EzENZfJrUjMr9DCewg1IphQGmUgjj2bgCrSmt0YDqfcHGEn8vy7mBuFZK7D6Od7xgDy-XaxgjN4mDutHLjknig99EmDOgdmRqgzHYz5CRniizXtfU6jXGlaxyRgOq9eJaY2GcT88z2GW9pcrYwlkTG08oFrk5NSGR99KK6OqYoHtjXtZ_QrX1fz_iG9S1VW_xDxx-Cty_1qF00up_RakdoX4PeRpKQVMp3Yq7h-xczZFDMctHYJxfg=s64",
      "userId": "16390917540151948122"
     },
     "user_tz": -330
    },
    "id": "Km9mP-IzJzdi"
   },
   "outputs": [
    {
     "name": "stdout",
     "output_type": "stream",
     "text": [
      "[[ 1.15069786]\n",
      " [ 0.79540777]\n",
      " [-1.30936356]\n",
      " ...\n",
      " [ 0.27595724]\n",
      " [ 0.49346982]\n",
      " [-1.53508417]]\n",
      "[ 1.15069786  0.79540777 -1.30936356 ...  0.27595724  0.49346982\n",
      " -1.53508417]\n"
     ]
    }
   ],
   "source": [
    "from sklearn.preprocessing import StandardScaler\n",
    "sc_X = StandardScaler()\n",
    "sc_y = StandardScaler()\n",
    "X_train = sc_X.fit_transform(X_train)\n",
    "y_train = sc_y.fit_transform(y_train)\n",
    "print(y_train)\n",
    "y_train=np.ravel(y_train)\n",
    "print(y_train)"
   ]
  },
  {
   "cell_type": "markdown",
   "metadata": {
    "id": "pwhSjXpQGM_2"
   },
   "source": [
    "## SVR model Training on the Training set"
   ]
  },
  {
   "cell_type": "code",
   "execution_count": 10,
   "metadata": {
    "colab": {
     "base_uri": "https://localhost:8080/"
    },
    "executionInfo": {
     "elapsed": 4106,
     "status": "ok",
     "timestamp": 1611910531977,
     "user": {
      "displayName": "Atulya Kaushik",
      "photoUrl": "https://lh3.googleusercontent.com/a-/AOh14GifJIY8FAK4vzSIHwu_hZ-zXzVSXsQdNBK6sASX-lNQcusulm-iwiA94-NB4r-j9d912X1S5leXLT6Z4MZLjLfFTmqMhFnCu8lpozO-QG8scPi_mIxYUpV1nYqLB86F0ciGcfthwlrraVgvzqRYTSgDASpMReWNX6HgbBNVCq-YtJHfanTuLI9neglR-X_SqSiH_VtLICyaLi4i3v4Yf_FNXK85p7uCE9r97gYWPP3NQA-cEoRr0srBJZ3ZSFjM7Iwht0npO3erKuQ-TAOyAeOeG4tRM-up5G4RajoRudwQ0OgajUm7HcPHTI8E-D1ig1uezwltiCPS3J0b6SpvNRdK8HHWFT2NtVt-k9Z53J6zH1ZYlfjYfFUvYKY8LbtqOZoAWGuxqsLvi4ZM36j8KXVAuZaixS8xklMVaGs_25gv9xrBvehjpKyQERK57j7x77Q2hJnt2BpTuJlk8mOv3Oh7QMxA4uADumH2rGMwnl4jKUIL2-hU2jYTaFnxDHWkaqSAXGe0L18kPlZ_EzENZfJrUjMr9DCewg1IphQGmUgjj2bgCrSmt0YDqfcHGEn8vy7mBuFZK7D6Od7xgDy-XaxgjN4mDutHLjknig99EmDOgdmRqgzHYz5CRniizXtfU6jXGlaxyRgOq9eJaY2GcT88z2GW9pcrYwlkTG08oFrk5NSGR99KK6OqYoHtjXtZ_QrX1fz_iG9S1VW_xDxx-Cty_1qF00up_RakdoX4PeRpKQVMp3Yq7h-xczZFDMctHYJxfg=s64",
      "userId": "16390917540151948122"
     },
     "user_tz": -330
    },
    "id": "OQ1YAiMlJ4p9",
    "outputId": "8c6424a5-7166-4f15-88ca-70ba2c8bbe8d"
   },
   "outputs": [
    {
     "data": {
      "text/plain": [
       "SVR()"
      ]
     },
     "execution_count": 10,
     "metadata": {},
     "output_type": "execute_result"
    }
   ],
   "source": [
    "from sklearn.svm import SVR\n",
    "regressor = SVR(kernel = 'rbf')\n",
    "regressor.fit(X_train, y_train)"
   ]
  },
  {
   "cell_type": "markdown",
   "metadata": {
    "id": "k1ZEA16lGSnN"
   },
   "source": [
    "## Test set results Predictions"
   ]
  },
  {
   "cell_type": "code",
   "execution_count": 11,
   "metadata": {
    "colab": {
     "base_uri": "https://localhost:8080/"
    },
    "executionInfo": {
     "elapsed": 1512,
     "status": "ok",
     "timestamp": 1611910534877,
     "user": {
      "displayName": "Atulya Kaushik",
      "photoUrl": "https://lh3.googleusercontent.com/a-/AOh14GifJIY8FAK4vzSIHwu_hZ-zXzVSXsQdNBK6sASX-lNQcusulm-iwiA94-NB4r-j9d912X1S5leXLT6Z4MZLjLfFTmqMhFnCu8lpozO-QG8scPi_mIxYUpV1nYqLB86F0ciGcfthwlrraVgvzqRYTSgDASpMReWNX6HgbBNVCq-YtJHfanTuLI9neglR-X_SqSiH_VtLICyaLi4i3v4Yf_FNXK85p7uCE9r97gYWPP3NQA-cEoRr0srBJZ3ZSFjM7Iwht0npO3erKuQ-TAOyAeOeG4tRM-up5G4RajoRudwQ0OgajUm7HcPHTI8E-D1ig1uezwltiCPS3J0b6SpvNRdK8HHWFT2NtVt-k9Z53J6zH1ZYlfjYfFUvYKY8LbtqOZoAWGuxqsLvi4ZM36j8KXVAuZaixS8xklMVaGs_25gv9xrBvehjpKyQERK57j7x77Q2hJnt2BpTuJlk8mOv3Oh7QMxA4uADumH2rGMwnl4jKUIL2-hU2jYTaFnxDHWkaqSAXGe0L18kPlZ_EzENZfJrUjMr9DCewg1IphQGmUgjj2bgCrSmt0YDqfcHGEn8vy7mBuFZK7D6Od7xgDy-XaxgjN4mDutHLjknig99EmDOgdmRqgzHYz5CRniizXtfU6jXGlaxyRgOq9eJaY2GcT88z2GW9pcrYwlkTG08oFrk5NSGR99KK6OqYoHtjXtZ_QrX1fz_iG9S1VW_xDxx-Cty_1qF00up_RakdoX4PeRpKQVMp3Yq7h-xczZFDMctHYJxfg=s64",
      "userId": "16390917540151948122"
     },
     "user_tz": -330
    },
    "id": "F8O3trL-J7Cw",
    "outputId": "8c1c2b8a-6241-442a-df33-312ae3436083"
   },
   "outputs": [
    {
     "name": "stdout",
     "output_type": "stream",
     "text": [
      "[[434.49984934]\n",
      " [457.70985097]\n",
      " [460.84909947]\n",
      " ...\n",
      " [470.22304261]\n",
      " [439.28872637]\n",
      " [460.42910288]]\n",
      "[[431.23]\n",
      " [460.01]\n",
      " [461.14]\n",
      " ...\n",
      " [473.26]\n",
      " [438.  ]\n",
      " [463.28]]\n",
      "[[434.5  431.23]\n",
      " [457.71 460.01]\n",
      " [460.85 461.14]\n",
      " ...\n",
      " [470.22 473.26]\n",
      " [439.29 438.  ]\n",
      " [460.43 463.28]]\n"
     ]
    }
   ],
   "source": [
    "X_test=sc_X.fit_transform(X_test)\n",
    "y_pred=regressor.predict(X_test)\n",
    "y_predict= sc_y.inverse_transform([y_pred])\n",
    "y_predict=y_predict.reshape(-1,1)\n",
    "print(y_predict)\n",
    "print(y_test)\n",
    "\n",
    "\n",
    "#  y_pred = sc_y.inverse_transform(regressor.predict(sc_X.transform(X_test)))\n",
    "np.set_printoptions(precision=2)\n",
    "print(np.concatenate((y_predict.reshape(len(y_pred),1), y_test.reshape(len(y_test),1)),1))"
   ]
  },
  {
   "cell_type": "markdown",
   "metadata": {
    "id": "aQl2P-bkGVfG"
   },
   "source": [
    "## Model Performance Evaluation"
   ]
  },
  {
   "cell_type": "code",
   "execution_count": 13,
   "metadata": {
    "colab": {
     "base_uri": "https://localhost:8080/"
    },
    "executionInfo": {
     "elapsed": 1474,
     "status": "ok",
     "timestamp": 1611910538711,
     "user": {
      "displayName": "Atulya Kaushik",
      "photoUrl": "https://lh3.googleusercontent.com/a-/AOh14GifJIY8FAK4vzSIHwu_hZ-zXzVSXsQdNBK6sASX-lNQcusulm-iwiA94-NB4r-j9d912X1S5leXLT6Z4MZLjLfFTmqMhFnCu8lpozO-QG8scPi_mIxYUpV1nYqLB86F0ciGcfthwlrraVgvzqRYTSgDASpMReWNX6HgbBNVCq-YtJHfanTuLI9neglR-X_SqSiH_VtLICyaLi4i3v4Yf_FNXK85p7uCE9r97gYWPP3NQA-cEoRr0srBJZ3ZSFjM7Iwht0npO3erKuQ-TAOyAeOeG4tRM-up5G4RajoRudwQ0OgajUm7HcPHTI8E-D1ig1uezwltiCPS3J0b6SpvNRdK8HHWFT2NtVt-k9Z53J6zH1ZYlfjYfFUvYKY8LbtqOZoAWGuxqsLvi4ZM36j8KXVAuZaixS8xklMVaGs_25gv9xrBvehjpKyQERK57j7x77Q2hJnt2BpTuJlk8mOv3Oh7QMxA4uADumH2rGMwnl4jKUIL2-hU2jYTaFnxDHWkaqSAXGe0L18kPlZ_EzENZfJrUjMr9DCewg1IphQGmUgjj2bgCrSmt0YDqfcHGEn8vy7mBuFZK7D6Od7xgDy-XaxgjN4mDutHLjknig99EmDOgdmRqgzHYz5CRniizXtfU6jXGlaxyRgOq9eJaY2GcT88z2GW9pcrYwlkTG08oFrk5NSGR99KK6OqYoHtjXtZ_QrX1fz_iG9S1VW_xDxx-Cty_1qF00up_RakdoX4PeRpKQVMp3Yq7h-xczZFDMctHYJxfg=s64",
      "userId": "16390917540151948122"
     },
     "user_tz": -330
    },
    "id": "4L4p5rjzJ9N_",
    "outputId": "1415bf15-ef63-45c6-8f9e-8ddec82c6bfe"
   },
   "outputs": [
    {
     "data": {
      "text/plain": [
       "0.9483693304317926"
      ]
     },
     "execution_count": 13,
     "metadata": {},
     "output_type": "execute_result"
    }
   ],
   "source": [
    "from sklearn.metrics import r2_score\n",
    "r2_score(y_test, y_predict)"
   ]
  },
  {
   "cell_type": "code",
   "execution_count": null,
   "metadata": {},
   "outputs": [],
   "source": []
  }
 ],
 "metadata": {
  "colab": {
   "authorship_tag": "ABX9TyPCXuAn7eySKYV+hqHxLodK",
   "name": "SVR Regression.ipynb",
   "provenance": [],
   "toc_visible": true
  },
  "kernelspec": {
   "display_name": "Python 3 (ipykernel)",
   "language": "python",
   "name": "python3"
  },
  "language_info": {
   "codemirror_mode": {
    "name": "ipython",
    "version": 3
   },
   "file_extension": ".py",
   "mimetype": "text/x-python",
   "name": "python",
   "nbconvert_exporter": "python",
   "pygments_lexer": "ipython3",
   "version": "3.9.13"
  }
 },
 "nbformat": 4,
 "nbformat_minor": 1
}
