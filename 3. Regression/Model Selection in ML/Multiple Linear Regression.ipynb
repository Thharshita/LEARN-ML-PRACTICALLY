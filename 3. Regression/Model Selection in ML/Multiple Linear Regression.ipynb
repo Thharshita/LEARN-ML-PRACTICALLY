{
 "cells": [
  {
   "cell_type": "markdown",
   "metadata": {
    "id": "NnPEZHzaF84c"
   },
   "source": [
    "# Multiple Linear Regression"
   ]
  },
  {
   "cell_type": "markdown",
   "metadata": {
    "id": "MAoMviwdF_dS"
   },
   "source": [
    "## Importing the libraries"
   ]
  },
  {
   "cell_type": "code",
   "execution_count": 2,
   "metadata": {
    "executionInfo": {
     "elapsed": 1311,
     "status": "ok",
     "timestamp": 1611910256089,
     "user": {
      "displayName": "Atulya Kaushik",
      "photoUrl": "https://lh3.googleusercontent.com/a-/AOh14Gh44VkWPCXPcm-gl3w36wzgNlWsl6r_eNiIJ6OMht4QNKLcdlB20mX52ms2Nz_WeiDf1P2sRzD1ZTXle1eO-LrlhdvLudzr4nZ4wlCzMLrCBdIeIj9qShGMzKWVD3uOlt61Ddk6Pqh4RIz0pD48n6nKF_azJ8w6g5Oc9ygHZJj8WnXvJ6nULa2JEekJ08637iso_GxWGokfehu8UILm2O9iE1ZcjxfCTIrxUvEGqK9RKCL0OXifYCJ8lbkd6Yl-tAIGp15KYVSYKVXBR_a5g3VZI20qPEriWHHFgf9Wj_W7MFgvWiMOMvVQiOX_gJMJ40cj8xR5aWmXPnUjh9NuxPyARpANTzgxHB7817LRfrbUSTiVcio1AfoSDlxer-bLi_I6YFCZNc9XqI6abQMs6maWAmfxVr9A80imVnjJk_LyRDF5VdlYnws70ZBqVymSVajOecosBL8cZavPB6tprpbeeDQSy4XqyqE9r9PFVHSi0xFH_jCW5pFf1bFMvN7zi9Gd7DKj9KFHpzOGkvmFIlOIWMfICyio9MfBQHN9SdVHGVOWOXGMJlaOghAsWCJgHh-RPZEEKwQq0kQMXUvA0CNoEeDL4c7TaGGRCf_Va78d3OU0_P2JaDydifzaHJ4NQlhLePDwCJoT4PxhlEy7I0XX6lLx-ruzBP2vpdFI5KpztNjAdOg8LM6Kq-i28o2FG1ffDBA8yq2McAb-RBBwBbqzbkDDAjBeeETCYbAPhLfDzHpS0nNAaN80-9Mu6mHHTCTl-A=s64",
      "userId": "16390917540151948122"
     },
     "user_tz": -330
    },
    "id": "H5EuXk6vHs6F"
   },
   "outputs": [],
   "source": [
    "import numpy as np\n",
    "import matplotlib.pyplot as plt\n",
    "import pandas as pd"
   ]
  },
  {
   "cell_type": "markdown",
   "metadata": {
    "id": "ukNpho2tGIj8"
   },
   "source": [
    "## Data Set Import"
   ]
  },
  {
   "cell_type": "code",
   "execution_count": 3,
   "metadata": {
    "executionInfo": {
     "elapsed": 742,
     "status": "ok",
     "timestamp": 1611910257490,
     "user": {
      "displayName": "Atulya Kaushik",
      "photoUrl": "https://lh3.googleusercontent.com/a-/AOh14Gh44VkWPCXPcm-gl3w36wzgNlWsl6r_eNiIJ6OMht4QNKLcdlB20mX52ms2Nz_WeiDf1P2sRzD1ZTXle1eO-LrlhdvLudzr4nZ4wlCzMLrCBdIeIj9qShGMzKWVD3uOlt61Ddk6Pqh4RIz0pD48n6nKF_azJ8w6g5Oc9ygHZJj8WnXvJ6nULa2JEekJ08637iso_GxWGokfehu8UILm2O9iE1ZcjxfCTIrxUvEGqK9RKCL0OXifYCJ8lbkd6Yl-tAIGp15KYVSYKVXBR_a5g3VZI20qPEriWHHFgf9Wj_W7MFgvWiMOMvVQiOX_gJMJ40cj8xR5aWmXPnUjh9NuxPyARpANTzgxHB7817LRfrbUSTiVcio1AfoSDlxer-bLi_I6YFCZNc9XqI6abQMs6maWAmfxVr9A80imVnjJk_LyRDF5VdlYnws70ZBqVymSVajOecosBL8cZavPB6tprpbeeDQSy4XqyqE9r9PFVHSi0xFH_jCW5pFf1bFMvN7zi9Gd7DKj9KFHpzOGkvmFIlOIWMfICyio9MfBQHN9SdVHGVOWOXGMJlaOghAsWCJgHh-RPZEEKwQq0kQMXUvA0CNoEeDL4c7TaGGRCf_Va78d3OU0_P2JaDydifzaHJ4NQlhLePDwCJoT4PxhlEy7I0XX6lLx-ruzBP2vpdFI5KpztNjAdOg8LM6Kq-i28o2FG1ffDBA8yq2McAb-RBBwBbqzbkDDAjBeeETCYbAPhLfDzHpS0nNAaN80-9Mu6mHHTCTl-A=s64",
      "userId": "16390917540151948122"
     },
     "user_tz": -330
    },
    "id": "qr8FwG0CIJtW"
   },
   "outputs": [
    {
     "name": "stdout",
     "output_type": "stream",
     "text": [
      "      Ambient Temperature  Exhaust Vacuum  Ambient Pressure  \\\n",
      "0                   14.96           41.76           1024.07   \n",
      "1                   25.18           62.96           1020.04   \n",
      "2                    5.11           39.40           1012.16   \n",
      "3                   20.86           57.32           1010.24   \n",
      "4                   10.82           37.50           1009.23   \n",
      "...                   ...             ...               ...   \n",
      "9563                16.65           49.69           1014.01   \n",
      "9564                13.19           39.18           1023.67   \n",
      "9565                31.32           74.33           1012.92   \n",
      "9566                24.48           69.45           1013.86   \n",
      "9567                21.60           62.52           1017.23   \n",
      "\n",
      "      Relative Humidity  electrical energy output  \n",
      "0                 73.17                    463.26  \n",
      "1                 59.08                    444.37  \n",
      "2                 92.14                    488.56  \n",
      "3                 76.64                    446.48  \n",
      "4                 96.62                    473.90  \n",
      "...                 ...                       ...  \n",
      "9563              91.00                    460.03  \n",
      "9564              66.78                    469.62  \n",
      "9565              36.48                    429.57  \n",
      "9566              62.39                    435.74  \n",
      "9567              67.87                    453.28  \n",
      "\n",
      "[9568 rows x 5 columns]\n"
     ]
    }
   ],
   "source": [
    "data_set = pd.read_csv('../Model Selection - Combined Cycl.csv')\n",
    "print(data_set)\n"
   ]
  },
  {
   "cell_type": "code",
   "execution_count": 4,
   "metadata": {},
   "outputs": [
    {
     "name": "stdout",
     "output_type": "stream",
     "text": [
      "<class 'pandas.core.frame.DataFrame'>\n",
      "RangeIndex: 9568 entries, 0 to 9567\n",
      "Data columns (total 5 columns):\n",
      " #   Column                    Non-Null Count  Dtype  \n",
      "---  ------                    --------------  -----  \n",
      " 0   Ambient Temperature       9568 non-null   float64\n",
      " 1   Exhaust Vacuum            9568 non-null   float64\n",
      " 2   Ambient Pressure          9568 non-null   float64\n",
      " 3   Relative Humidity         9568 non-null   float64\n",
      " 4   electrical energy output  9568 non-null   float64\n",
      "dtypes: float64(5)\n",
      "memory usage: 373.9 KB\n"
     ]
    }
   ],
   "source": [
    "data_set.info()"
   ]
  },
  {
   "cell_type": "code",
   "execution_count": 5,
   "metadata": {},
   "outputs": [
    {
     "data": {
      "text/plain": [
       "Ambient Temperature         0\n",
       "Exhaust Vacuum              0\n",
       "Ambient Pressure            0\n",
       "Relative Humidity           0\n",
       "electrical energy output    0\n",
       "dtype: int64"
      ]
     },
     "execution_count": 5,
     "metadata": {},
     "output_type": "execute_result"
    }
   ],
   "source": [
    "data_set.isna().sum()"
   ]
  },
  {
   "cell_type": "code",
   "execution_count": 6,
   "metadata": {},
   "outputs": [
    {
     "data": {
      "text/plain": [
       "41"
      ]
     },
     "execution_count": 6,
     "metadata": {},
     "output_type": "execute_result"
    }
   ],
   "source": [
    "data_set.duplicated().sum()"
   ]
  },
  {
   "cell_type": "code",
   "execution_count": 10,
   "metadata": {},
   "outputs": [
    {
     "name": "stdout",
     "output_type": "stream",
     "text": [
      "      Ambient Temperature  Exhaust Vacuum  Ambient Pressure  \\\n",
      "2184                 9.54           41.17           1019.79   \n",
      "2421                12.11           41.17           1019.46   \n",
      "2577                28.84           75.60           1018.41   \n",
      "2896                27.54           75.60           1018.26   \n",
      "3314                 8.07           41.17           1019.40   \n",
      "4236                25.79           75.60           1017.46   \n",
      "4549                11.23           41.17           1019.36   \n",
      "4577                24.63           59.57           1010.45   \n",
      "4667                25.21           75.60           1017.19   \n",
      "5276                25.56           75.60           1017.37   \n",
      "5320                 6.03           41.17           1019.81   \n",
      "5467                26.45           75.60           1017.42   \n",
      "5498                 6.86           41.17           1020.12   \n",
      "5615                12.00           41.17           1019.48   \n",
      "5828                25.42           75.60           1017.39   \n",
      "5933                25.53           59.57           1010.65   \n",
      "5955                25.91           75.60           1018.23   \n",
      "6008                 6.06           41.17           1019.67   \n",
      "6131                 6.40           41.17           1019.54   \n",
      "6227                29.23           75.60           1017.72   \n",
      "6826                24.79           75.60           1017.07   \n",
      "6883                12.27           41.17           1019.39   \n",
      "7410                 7.24           41.17           1020.35   \n",
      "7604                12.19           41.17           1019.43   \n",
      "7758                28.37           75.60           1017.48   \n",
      "7769                26.85           75.60           1017.43   \n",
      "7771                 7.87           41.17           1020.33   \n",
      "8105                 8.44           41.17           1019.90   \n",
      "8499                11.61           41.17           1019.57   \n",
      "8523                10.72           41.17           1019.68   \n",
      "8639                 9.83           41.17           1019.34   \n",
      "8685                26.12           75.60           1017.41   \n",
      "8821                27.64           75.60           1017.35   \n",
      "8882                29.45           75.60           1018.12   \n",
      "9000                29.05           75.60           1017.63   \n",
      "9097                11.82           41.17           1019.50   \n",
      "9138                28.41           75.60           1018.48   \n",
      "9147                 7.64           41.17           1020.01   \n",
      "9201                29.51           75.60           1017.92   \n",
      "9345                 8.57           41.17           1020.18   \n",
      "9523                12.27           41.17           1019.41   \n",
      "\n",
      "      Relative Humidity  electrical energy output  \n",
      "2184              65.61                    481.18  \n",
      "2421              62.59                    475.53  \n",
      "2577              53.96                    442.69  \n",
      "2896              57.89                    440.87  \n",
      "3314              86.43                    484.54  \n",
      "4236              75.63                    434.65  \n",
      "4549              56.85                    475.85  \n",
      "4577              85.36                    440.67  \n",
      "4667              69.84                    445.84  \n",
      "5276              69.31                    442.20  \n",
      "5320              84.20                    488.57  \n",
      "5467              74.50                    436.89  \n",
      "5498              79.14                    490.23  \n",
      "5615              58.71                    474.40  \n",
      "5828              77.63                    438.24  \n",
      "5933              82.04                    445.59  \n",
      "5955              62.65                    443.20  \n",
      "6008              84.70                    489.62  \n",
      "6131              85.37                    488.82  \n",
      "6227              52.26                    438.92  \n",
      "6826              68.23                    440.05  \n",
      "6883              52.18                    473.84  \n",
      "7410              80.56                    486.76  \n",
      "7604              65.47                    475.64  \n",
      "7758              55.19                    439.25  \n",
      "7769              74.55                    433.48  \n",
      "7771              77.77                    486.20  \n",
      "8105              70.72                    486.15  \n",
      "8499              58.82                    476.81  \n",
      "8523              60.71                    479.21  \n",
      "8639              72.29                    478.21  \n",
      "8685              72.31                    439.68  \n",
      "8821              54.78                    441.04  \n",
      "8882              50.68                    437.31  \n",
      "9000              51.16                    439.14  \n",
      "9097              55.74                    475.61  \n",
      "9138              56.07                    440.28  \n",
      "9147              75.14                    488.53  \n",
      "9201              50.61                    431.18  \n",
      "9345              72.47                    484.20  \n",
      "9523              58.10                    475.13  \n"
     ]
    }
   ],
   "source": [
    "print(data_set[data_set.duplicated()])"
   ]
  },
  {
   "cell_type": "code",
   "execution_count": 8,
   "metadata": {},
   "outputs": [
    {
     "data": {
      "text/html": [
       "<div>\n",
       "<style scoped>\n",
       "    .dataframe tbody tr th:only-of-type {\n",
       "        vertical-align: middle;\n",
       "    }\n",
       "\n",
       "    .dataframe tbody tr th {\n",
       "        vertical-align: top;\n",
       "    }\n",
       "\n",
       "    .dataframe thead th {\n",
       "        text-align: right;\n",
       "    }\n",
       "</style>\n",
       "<table border=\"1\" class=\"dataframe\">\n",
       "  <thead>\n",
       "    <tr style=\"text-align: right;\">\n",
       "      <th></th>\n",
       "      <th>Ambient Temperature</th>\n",
       "      <th>Exhaust Vacuum</th>\n",
       "      <th>Ambient Pressure</th>\n",
       "      <th>Relative Humidity</th>\n",
       "      <th>electrical energy output</th>\n",
       "    </tr>\n",
       "  </thead>\n",
       "  <tbody>\n",
       "    <tr>\n",
       "      <th>0</th>\n",
       "      <td>14.96</td>\n",
       "      <td>41.76</td>\n",
       "      <td>1024.07</td>\n",
       "      <td>73.17</td>\n",
       "      <td>463.26</td>\n",
       "    </tr>\n",
       "    <tr>\n",
       "      <th>1</th>\n",
       "      <td>25.18</td>\n",
       "      <td>62.96</td>\n",
       "      <td>1020.04</td>\n",
       "      <td>59.08</td>\n",
       "      <td>444.37</td>\n",
       "    </tr>\n",
       "    <tr>\n",
       "      <th>2</th>\n",
       "      <td>5.11</td>\n",
       "      <td>39.40</td>\n",
       "      <td>1012.16</td>\n",
       "      <td>92.14</td>\n",
       "      <td>488.56</td>\n",
       "    </tr>\n",
       "    <tr>\n",
       "      <th>3</th>\n",
       "      <td>20.86</td>\n",
       "      <td>57.32</td>\n",
       "      <td>1010.24</td>\n",
       "      <td>76.64</td>\n",
       "      <td>446.48</td>\n",
       "    </tr>\n",
       "    <tr>\n",
       "      <th>4</th>\n",
       "      <td>10.82</td>\n",
       "      <td>37.50</td>\n",
       "      <td>1009.23</td>\n",
       "      <td>96.62</td>\n",
       "      <td>473.90</td>\n",
       "    </tr>\n",
       "    <tr>\n",
       "      <th>...</th>\n",
       "      <td>...</td>\n",
       "      <td>...</td>\n",
       "      <td>...</td>\n",
       "      <td>...</td>\n",
       "      <td>...</td>\n",
       "    </tr>\n",
       "    <tr>\n",
       "      <th>9563</th>\n",
       "      <td>16.65</td>\n",
       "      <td>49.69</td>\n",
       "      <td>1014.01</td>\n",
       "      <td>91.00</td>\n",
       "      <td>460.03</td>\n",
       "    </tr>\n",
       "    <tr>\n",
       "      <th>9564</th>\n",
       "      <td>13.19</td>\n",
       "      <td>39.18</td>\n",
       "      <td>1023.67</td>\n",
       "      <td>66.78</td>\n",
       "      <td>469.62</td>\n",
       "    </tr>\n",
       "    <tr>\n",
       "      <th>9565</th>\n",
       "      <td>31.32</td>\n",
       "      <td>74.33</td>\n",
       "      <td>1012.92</td>\n",
       "      <td>36.48</td>\n",
       "      <td>429.57</td>\n",
       "    </tr>\n",
       "    <tr>\n",
       "      <th>9566</th>\n",
       "      <td>24.48</td>\n",
       "      <td>69.45</td>\n",
       "      <td>1013.86</td>\n",
       "      <td>62.39</td>\n",
       "      <td>435.74</td>\n",
       "    </tr>\n",
       "    <tr>\n",
       "      <th>9567</th>\n",
       "      <td>21.60</td>\n",
       "      <td>62.52</td>\n",
       "      <td>1017.23</td>\n",
       "      <td>67.87</td>\n",
       "      <td>453.28</td>\n",
       "    </tr>\n",
       "  </tbody>\n",
       "</table>\n",
       "<p>9527 rows × 5 columns</p>\n",
       "</div>"
      ],
      "text/plain": [
       "      Ambient Temperature  Exhaust Vacuum  Ambient Pressure  \\\n",
       "0                   14.96           41.76           1024.07   \n",
       "1                   25.18           62.96           1020.04   \n",
       "2                    5.11           39.40           1012.16   \n",
       "3                   20.86           57.32           1010.24   \n",
       "4                   10.82           37.50           1009.23   \n",
       "...                   ...             ...               ...   \n",
       "9563                16.65           49.69           1014.01   \n",
       "9564                13.19           39.18           1023.67   \n",
       "9565                31.32           74.33           1012.92   \n",
       "9566                24.48           69.45           1013.86   \n",
       "9567                21.60           62.52           1017.23   \n",
       "\n",
       "      Relative Humidity  electrical energy output  \n",
       "0                 73.17                    463.26  \n",
       "1                 59.08                    444.37  \n",
       "2                 92.14                    488.56  \n",
       "3                 76.64                    446.48  \n",
       "4                 96.62                    473.90  \n",
       "...                 ...                       ...  \n",
       "9563              91.00                    460.03  \n",
       "9564              66.78                    469.62  \n",
       "9565              36.48                    429.57  \n",
       "9566              62.39                    435.74  \n",
       "9567              67.87                    453.28  \n",
       "\n",
       "[9527 rows x 5 columns]"
      ]
     },
     "execution_count": 8,
     "metadata": {},
     "output_type": "execute_result"
    }
   ],
   "source": [
    "data_set.drop_duplicates(keep='first')"
   ]
  },
  {
   "cell_type": "code",
   "execution_count": 12,
   "metadata": {},
   "outputs": [],
   "source": [
    "X = data_set.iloc[:, :-1].values\n",
    "y = data_set.iloc[:, -1].values"
   ]
  },
  {
   "cell_type": "markdown",
   "metadata": {
    "id": "_ME70lO_GJ4Q"
   },
   "source": [
    "## Splitting the dataset into the Training & Test set"
   ]
  },
  {
   "cell_type": "code",
   "execution_count": 13,
   "metadata": {
    "executionInfo": {
     "elapsed": 2073,
     "status": "ok",
     "timestamp": 1611910261529,
     "user": {
      "displayName": "Atulya Kaushik",
      "photoUrl": "https://lh3.googleusercontent.com/a-/AOh14Gh44VkWPCXPcm-gl3w36wzgNlWsl6r_eNiIJ6OMht4QNKLcdlB20mX52ms2Nz_WeiDf1P2sRzD1ZTXle1eO-LrlhdvLudzr4nZ4wlCzMLrCBdIeIj9qShGMzKWVD3uOlt61Ddk6Pqh4RIz0pD48n6nKF_azJ8w6g5Oc9ygHZJj8WnXvJ6nULa2JEekJ08637iso_GxWGokfehu8UILm2O9iE1ZcjxfCTIrxUvEGqK9RKCL0OXifYCJ8lbkd6Yl-tAIGp15KYVSYKVXBR_a5g3VZI20qPEriWHHFgf9Wj_W7MFgvWiMOMvVQiOX_gJMJ40cj8xR5aWmXPnUjh9NuxPyARpANTzgxHB7817LRfrbUSTiVcio1AfoSDlxer-bLi_I6YFCZNc9XqI6abQMs6maWAmfxVr9A80imVnjJk_LyRDF5VdlYnws70ZBqVymSVajOecosBL8cZavPB6tprpbeeDQSy4XqyqE9r9PFVHSi0xFH_jCW5pFf1bFMvN7zi9Gd7DKj9KFHpzOGkvmFIlOIWMfICyio9MfBQHN9SdVHGVOWOXGMJlaOghAsWCJgHh-RPZEEKwQq0kQMXUvA0CNoEeDL4c7TaGGRCf_Va78d3OU0_P2JaDydifzaHJ4NQlhLePDwCJoT4PxhlEy7I0XX6lLx-ruzBP2vpdFI5KpztNjAdOg8LM6Kq-i28o2FG1ffDBA8yq2McAb-RBBwBbqzbkDDAjBeeETCYbAPhLfDzHpS0nNAaN80-9Mu6mHHTCTl-A=s64",
      "userId": "16390917540151948122"
     },
     "user_tz": -330
    },
    "id": "K7Jk9SWqIN50"
   },
   "outputs": [],
   "source": [
    "from sklearn.model_selection import train_test_split\n",
    "X_train, X_test, y_train, y_test = train_test_split(X, y, test_size = 0.2, random_state = 0)"
   ]
  },
  {
   "cell_type": "markdown",
   "metadata": {
    "id": "pwhSjXpQGM_2"
   },
   "source": [
    "## Multiple Linear Regression model Training on the Training set"
   ]
  },
  {
   "cell_type": "code",
   "execution_count": 14,
   "metadata": {
    "colab": {
     "base_uri": "https://localhost:8080/"
    },
    "executionInfo": {
     "elapsed": 1354,
     "status": "ok",
     "timestamp": 1611910263342,
     "user": {
      "displayName": "Atulya Kaushik",
      "photoUrl": "https://lh3.googleusercontent.com/a-/AOh14Gh44VkWPCXPcm-gl3w36wzgNlWsl6r_eNiIJ6OMht4QNKLcdlB20mX52ms2Nz_WeiDf1P2sRzD1ZTXle1eO-LrlhdvLudzr4nZ4wlCzMLrCBdIeIj9qShGMzKWVD3uOlt61Ddk6Pqh4RIz0pD48n6nKF_azJ8w6g5Oc9ygHZJj8WnXvJ6nULa2JEekJ08637iso_GxWGokfehu8UILm2O9iE1ZcjxfCTIrxUvEGqK9RKCL0OXifYCJ8lbkd6Yl-tAIGp15KYVSYKVXBR_a5g3VZI20qPEriWHHFgf9Wj_W7MFgvWiMOMvVQiOX_gJMJ40cj8xR5aWmXPnUjh9NuxPyARpANTzgxHB7817LRfrbUSTiVcio1AfoSDlxer-bLi_I6YFCZNc9XqI6abQMs6maWAmfxVr9A80imVnjJk_LyRDF5VdlYnws70ZBqVymSVajOecosBL8cZavPB6tprpbeeDQSy4XqyqE9r9PFVHSi0xFH_jCW5pFf1bFMvN7zi9Gd7DKj9KFHpzOGkvmFIlOIWMfICyio9MfBQHN9SdVHGVOWOXGMJlaOghAsWCJgHh-RPZEEKwQq0kQMXUvA0CNoEeDL4c7TaGGRCf_Va78d3OU0_P2JaDydifzaHJ4NQlhLePDwCJoT4PxhlEy7I0XX6lLx-ruzBP2vpdFI5KpztNjAdOg8LM6Kq-i28o2FG1ffDBA8yq2McAb-RBBwBbqzbkDDAjBeeETCYbAPhLfDzHpS0nNAaN80-9Mu6mHHTCTl-A=s64",
      "userId": "16390917540151948122"
     },
     "user_tz": -330
    },
    "id": "elZ40vL2IQpi",
    "outputId": "e7e84785-09d7-4d37-f902-b7f755dec295"
   },
   "outputs": [
    {
     "data": {
      "text/plain": [
       "LinearRegression()"
      ]
     },
     "execution_count": 14,
     "metadata": {},
     "output_type": "execute_result"
    }
   ],
   "source": [
    "from sklearn.linear_model import LinearRegression\n",
    "regressor = LinearRegression()\n",
    "regressor.fit(X_train, y_train)"
   ]
  },
  {
   "cell_type": "markdown",
   "metadata": {
    "id": "k1ZEA16lGSnN"
   },
   "source": [
    "## Test set results Predictions"
   ]
  },
  {
   "cell_type": "code",
   "execution_count": 17,
   "metadata": {
    "colab": {
     "base_uri": "https://localhost:8080/"
    },
    "executionInfo": {
     "elapsed": 1122,
     "status": "ok",
     "timestamp": 1611910265436,
     "user": {
      "displayName": "Atulya Kaushik",
      "photoUrl": "https://lh3.googleusercontent.com/a-/AOh14Gh44VkWPCXPcm-gl3w36wzgNlWsl6r_eNiIJ6OMht4QNKLcdlB20mX52ms2Nz_WeiDf1P2sRzD1ZTXle1eO-LrlhdvLudzr4nZ4wlCzMLrCBdIeIj9qShGMzKWVD3uOlt61Ddk6Pqh4RIz0pD48n6nKF_azJ8w6g5Oc9ygHZJj8WnXvJ6nULa2JEekJ08637iso_GxWGokfehu8UILm2O9iE1ZcjxfCTIrxUvEGqK9RKCL0OXifYCJ8lbkd6Yl-tAIGp15KYVSYKVXBR_a5g3VZI20qPEriWHHFgf9Wj_W7MFgvWiMOMvVQiOX_gJMJ40cj8xR5aWmXPnUjh9NuxPyARpANTzgxHB7817LRfrbUSTiVcio1AfoSDlxer-bLi_I6YFCZNc9XqI6abQMs6maWAmfxVr9A80imVnjJk_LyRDF5VdlYnws70ZBqVymSVajOecosBL8cZavPB6tprpbeeDQSy4XqyqE9r9PFVHSi0xFH_jCW5pFf1bFMvN7zi9Gd7DKj9KFHpzOGkvmFIlOIWMfICyio9MfBQHN9SdVHGVOWOXGMJlaOghAsWCJgHh-RPZEEKwQq0kQMXUvA0CNoEeDL4c7TaGGRCf_Va78d3OU0_P2JaDydifzaHJ4NQlhLePDwCJoT4PxhlEy7I0XX6lLx-ruzBP2vpdFI5KpztNjAdOg8LM6Kq-i28o2FG1ffDBA8yq2McAb-RBBwBbqzbkDDAjBeeETCYbAPhLfDzHpS0nNAaN80-9Mu6mHHTCTl-A=s64",
      "userId": "16390917540151948122"
     },
     "user_tz": -330
    },
    "id": "h_0ed1oFISdf",
    "outputId": "bf534cde-ad7d-4d54-d263-3fda80d6449e"
   },
   "outputs": [
    {
     "name": "stdout",
     "output_type": "stream",
     "text": [
      "[[431.43 431.23]\n",
      " [458.56 460.01]\n",
      " [462.75 461.14]\n",
      " ...\n",
      " [469.52 473.26]\n",
      " [442.42 438.  ]\n",
      " [461.88 463.28]]\n"
     ]
    }
   ],
   "source": [
    "y_pred = regressor.predict(X_test)\n",
    "np.set_printoptions(precision=2)\n",
    "print(np.concatenate((y_pred.reshape(len(y_pred),1), y_test.reshape(len(y_test),1)),1))\n",
    "# np.set_printoptions(threshold=np.inf)  for printing entire rows and column\n",
    "# Reset the print options to their default values\n",
    "# np.set_printoptions()\n"
   ]
  },
  {
   "cell_type": "markdown",
   "metadata": {
    "id": "aQl2P-bkGVfG"
   },
   "source": [
    "## Model Performance Evaluation"
   ]
  },
  {
   "cell_type": "code",
   "execution_count": 16,
   "metadata": {
    "colab": {
     "base_uri": "https://localhost:8080/"
    },
    "executionInfo": {
     "elapsed": 1109,
     "status": "ok",
     "timestamp": 1611910267923,
     "user": {
      "displayName": "Atulya Kaushik",
      "photoUrl": "https://lh3.googleusercontent.com/a-/AOh14Gh44VkWPCXPcm-gl3w36wzgNlWsl6r_eNiIJ6OMht4QNKLcdlB20mX52ms2Nz_WeiDf1P2sRzD1ZTXle1eO-LrlhdvLudzr4nZ4wlCzMLrCBdIeIj9qShGMzKWVD3uOlt61Ddk6Pqh4RIz0pD48n6nKF_azJ8w6g5Oc9ygHZJj8WnXvJ6nULa2JEekJ08637iso_GxWGokfehu8UILm2O9iE1ZcjxfCTIrxUvEGqK9RKCL0OXifYCJ8lbkd6Yl-tAIGp15KYVSYKVXBR_a5g3VZI20qPEriWHHFgf9Wj_W7MFgvWiMOMvVQiOX_gJMJ40cj8xR5aWmXPnUjh9NuxPyARpANTzgxHB7817LRfrbUSTiVcio1AfoSDlxer-bLi_I6YFCZNc9XqI6abQMs6maWAmfxVr9A80imVnjJk_LyRDF5VdlYnws70ZBqVymSVajOecosBL8cZavPB6tprpbeeDQSy4XqyqE9r9PFVHSi0xFH_jCW5pFf1bFMvN7zi9Gd7DKj9KFHpzOGkvmFIlOIWMfICyio9MfBQHN9SdVHGVOWOXGMJlaOghAsWCJgHh-RPZEEKwQq0kQMXUvA0CNoEeDL4c7TaGGRCf_Va78d3OU0_P2JaDydifzaHJ4NQlhLePDwCJoT4PxhlEy7I0XX6lLx-ruzBP2vpdFI5KpztNjAdOg8LM6Kq-i28o2FG1ffDBA8yq2McAb-RBBwBbqzbkDDAjBeeETCYbAPhLfDzHpS0nNAaN80-9Mu6mHHTCTl-A=s64",
      "userId": "16390917540151948122"
     },
     "user_tz": -330
    },
    "id": "-HnAr6FiIUYo",
    "outputId": "3abce79f-48c5-49b2-891f-740f1218e801"
   },
   "outputs": [
    {
     "data": {
      "text/plain": [
       "0.9325315554761303"
      ]
     },
     "execution_count": 16,
     "metadata": {},
     "output_type": "execute_result"
    }
   ],
   "source": [
    "from sklearn.metrics import r2_score\n",
    "r2_score(y_test, y_pred)"
   ]
  }
 ],
 "metadata": {
  "colab": {
   "authorship_tag": "ABX9TyNy1TxKD0CqQKAnELu1SFzJ",
   "name": "Multiple Linear Regression.ipynb",
   "provenance": [],
   "toc_visible": true
  },
  "kernelspec": {
   "display_name": "Python 3 (ipykernel)",
   "language": "python",
   "name": "python3"
  },
  "language_info": {
   "codemirror_mode": {
    "name": "ipython",
    "version": 3
   },
   "file_extension": ".py",
   "mimetype": "text/x-python",
   "name": "python",
   "nbconvert_exporter": "python",
   "pygments_lexer": "ipython3",
   "version": "3.9.13"
  }
 },
 "nbformat": 4,
 "nbformat_minor": 1
}
