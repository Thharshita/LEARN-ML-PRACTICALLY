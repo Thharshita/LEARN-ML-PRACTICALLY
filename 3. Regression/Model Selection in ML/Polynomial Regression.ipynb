{
 "cells": [
  {
   "cell_type": "markdown",
   "metadata": {
    "id": "NnPEZHzaF84c"
   },
   "source": [
    "# Polynomial Regression"
   ]
  },
  {
   "cell_type": "markdown",
   "metadata": {
    "id": "MAoMviwdF_dS"
   },
   "source": [
    "## Importing the libraries"
   ]
  },
  {
   "cell_type": "code",
   "execution_count": 1,
   "metadata": {
    "executionInfo": {
     "elapsed": 1068,
     "status": "ok",
     "timestamp": 1611910239655,
     "user": {
      "displayName": "Atulya Kaushik",
      "photoUrl": "https://lh3.googleusercontent.com/a-/AOh14GgD1bQuWpO4I6VTtZMxAaawpvIfNGkZ5rOJTKh0EdBeA4Kd1qoTuoOlK-uaGUlIfcb9i0bElz0PrzsASF2M6ep_JEwpGhOf5kM8ywHvqHC_nHt83SAUDmmykfS5nCmSCP9fJcJyEwsU5tQcK_Mxkwkcq5NGnWk1zhHtK6KPDKTuZ74X0260hiXmdXln5UQq4oPAkyeG50tOR49RjGiGnxkpBSS1B2VqVyCtAQw0qakjsJhSXXYb-7hP_aiQl29P1vtihuBk-tiA6IRqFIC2nRuStTgWqOAsM5WYSSE7YVspv_XttCUKB7en4v42boUenaSX_6tnFZpBfEzwxW7A2dh4o19sYgxP8BjpZbeKacloEnnlMADfXMOLlteiafF70gKD76zrfSP33j4GRJCjVVMqDO4j7htShlxZrgV8Wlz5WirYlg74IZmwhGB6br8THwGd0vqp248veWLTUzsN3kDq0MepwR1sz1RIES8Y0izIGT48_Ij0cLJ_m7u8VwVXHickgIA2IS7nsyGlNGxWe7URMdg-MR5VoPJw0zt_fnDwOuF47Pd_rdbL-dINSa7wPkvOJOMT4WSsDT09-koHehaEunYiennqYWOfzVVUvSkilkUvt73QFGTordMpYS02Kl6YtjhQImmKwzjDmenzlxZ4lakeaA4Mpe5GorpBILQs0XGHLkkSATm5hAg4ws3FP5CKUaUL0iLdv74UblMt6ubjgea0AQI2ALh5R9LCDLtBsS2aWPhztyrfEo8PblvGf6TNSw=s64",
      "userId": "16390917540151948122"
     },
     "user_tz": -330
    },
    "id": "Km4TslezImiv"
   },
   "outputs": [],
   "source": [
    "import numpy as np\n",
    "import matplotlib.pyplot as plt\n",
    "import pandas as pd"
   ]
  },
  {
   "cell_type": "markdown",
   "metadata": {
    "id": "ukNpho2tGIj8"
   },
   "source": [
    "## Data Set Import"
   ]
  },
  {
   "cell_type": "code",
   "execution_count": 3,
   "metadata": {
    "executionInfo": {
     "elapsed": 1240,
     "status": "ok",
     "timestamp": 1611910241360,
     "user": {
      "displayName": "Atulya Kaushik",
      "photoUrl": "https://lh3.googleusercontent.com/a-/AOh14GgD1bQuWpO4I6VTtZMxAaawpvIfNGkZ5rOJTKh0EdBeA4Kd1qoTuoOlK-uaGUlIfcb9i0bElz0PrzsASF2M6ep_JEwpGhOf5kM8ywHvqHC_nHt83SAUDmmykfS5nCmSCP9fJcJyEwsU5tQcK_Mxkwkcq5NGnWk1zhHtK6KPDKTuZ74X0260hiXmdXln5UQq4oPAkyeG50tOR49RjGiGnxkpBSS1B2VqVyCtAQw0qakjsJhSXXYb-7hP_aiQl29P1vtihuBk-tiA6IRqFIC2nRuStTgWqOAsM5WYSSE7YVspv_XttCUKB7en4v42boUenaSX_6tnFZpBfEzwxW7A2dh4o19sYgxP8BjpZbeKacloEnnlMADfXMOLlteiafF70gKD76zrfSP33j4GRJCjVVMqDO4j7htShlxZrgV8Wlz5WirYlg74IZmwhGB6br8THwGd0vqp248veWLTUzsN3kDq0MepwR1sz1RIES8Y0izIGT48_Ij0cLJ_m7u8VwVXHickgIA2IS7nsyGlNGxWe7URMdg-MR5VoPJw0zt_fnDwOuF47Pd_rdbL-dINSa7wPkvOJOMT4WSsDT09-koHehaEunYiennqYWOfzVVUvSkilkUvt73QFGTordMpYS02Kl6YtjhQImmKwzjDmenzlxZ4lakeaA4Mpe5GorpBILQs0XGHLkkSATm5hAg4ws3FP5CKUaUL0iLdv74UblMt6ubjgea0AQI2ALh5R9LCDLtBsS2aWPhztyrfEo8PblvGf6TNSw=s64",
      "userId": "16390917540151948122"
     },
     "user_tz": -330
    },
    "id": "F8IWW4tJInEH"
   },
   "outputs": [],
   "source": [
    "data_set = pd.read_csv('../Model Selection - Combined Cycl.csv')\n",
    "X = data_set.iloc[:, :-1].values\n",
    "y = data_set.iloc[:, -1].values"
   ]
  },
  {
   "cell_type": "markdown",
   "metadata": {
    "id": "_ME70lO_GJ4Q"
   },
   "source": [
    "## Splitting the dataset into the Training & Test set"
   ]
  },
  {
   "cell_type": "code",
   "execution_count": 4,
   "metadata": {
    "executionInfo": {
     "elapsed": 2065,
     "status": "ok",
     "timestamp": 1611910244852,
     "user": {
      "displayName": "Atulya Kaushik",
      "photoUrl": "https://lh3.googleusercontent.com/a-/AOh14GgD1bQuWpO4I6VTtZMxAaawpvIfNGkZ5rOJTKh0EdBeA4Kd1qoTuoOlK-uaGUlIfcb9i0bElz0PrzsASF2M6ep_JEwpGhOf5kM8ywHvqHC_nHt83SAUDmmykfS5nCmSCP9fJcJyEwsU5tQcK_Mxkwkcq5NGnWk1zhHtK6KPDKTuZ74X0260hiXmdXln5UQq4oPAkyeG50tOR49RjGiGnxkpBSS1B2VqVyCtAQw0qakjsJhSXXYb-7hP_aiQl29P1vtihuBk-tiA6IRqFIC2nRuStTgWqOAsM5WYSSE7YVspv_XttCUKB7en4v42boUenaSX_6tnFZpBfEzwxW7A2dh4o19sYgxP8BjpZbeKacloEnnlMADfXMOLlteiafF70gKD76zrfSP33j4GRJCjVVMqDO4j7htShlxZrgV8Wlz5WirYlg74IZmwhGB6br8THwGd0vqp248veWLTUzsN3kDq0MepwR1sz1RIES8Y0izIGT48_Ij0cLJ_m7u8VwVXHickgIA2IS7nsyGlNGxWe7URMdg-MR5VoPJw0zt_fnDwOuF47Pd_rdbL-dINSa7wPkvOJOMT4WSsDT09-koHehaEunYiennqYWOfzVVUvSkilkUvt73QFGTordMpYS02Kl6YtjhQImmKwzjDmenzlxZ4lakeaA4Mpe5GorpBILQs0XGHLkkSATm5hAg4ws3FP5CKUaUL0iLdv74UblMt6ubjgea0AQI2ALh5R9LCDLtBsS2aWPhztyrfEo8PblvGf6TNSw=s64",
      "userId": "16390917540151948122"
     },
     "user_tz": -330
    },
    "id": "lV4sO5SrIp49"
   },
   "outputs": [],
   "source": [
    "from sklearn.model_selection import train_test_split\n",
    "X_train, X_test, y_train, y_test = train_test_split(X, y, test_size = 0.2, random_state = 0)"
   ]
  },
  {
   "cell_type": "markdown",
   "metadata": {
    "id": "pwhSjXpQGM_2"
   },
   "source": [
    "## Polynomial Regression model Training on the Training set"
   ]
  },
  {
   "cell_type": "code",
   "execution_count": 5,
   "metadata": {
    "colab": {
     "base_uri": "https://localhost:8080/"
    },
    "executionInfo": {
     "elapsed": 1327,
     "status": "ok",
     "timestamp": 1611910246865,
     "user": {
      "displayName": "Atulya Kaushik",
      "photoUrl": "https://lh3.googleusercontent.com/a-/AOh14GgD1bQuWpO4I6VTtZMxAaawpvIfNGkZ5rOJTKh0EdBeA4Kd1qoTuoOlK-uaGUlIfcb9i0bElz0PrzsASF2M6ep_JEwpGhOf5kM8ywHvqHC_nHt83SAUDmmykfS5nCmSCP9fJcJyEwsU5tQcK_Mxkwkcq5NGnWk1zhHtK6KPDKTuZ74X0260hiXmdXln5UQq4oPAkyeG50tOR49RjGiGnxkpBSS1B2VqVyCtAQw0qakjsJhSXXYb-7hP_aiQl29P1vtihuBk-tiA6IRqFIC2nRuStTgWqOAsM5WYSSE7YVspv_XttCUKB7en4v42boUenaSX_6tnFZpBfEzwxW7A2dh4o19sYgxP8BjpZbeKacloEnnlMADfXMOLlteiafF70gKD76zrfSP33j4GRJCjVVMqDO4j7htShlxZrgV8Wlz5WirYlg74IZmwhGB6br8THwGd0vqp248veWLTUzsN3kDq0MepwR1sz1RIES8Y0izIGT48_Ij0cLJ_m7u8VwVXHickgIA2IS7nsyGlNGxWe7URMdg-MR5VoPJw0zt_fnDwOuF47Pd_rdbL-dINSa7wPkvOJOMT4WSsDT09-koHehaEunYiennqYWOfzVVUvSkilkUvt73QFGTordMpYS02Kl6YtjhQImmKwzjDmenzlxZ4lakeaA4Mpe5GorpBILQs0XGHLkkSATm5hAg4ws3FP5CKUaUL0iLdv74UblMt6ubjgea0AQI2ALh5R9LCDLtBsS2aWPhztyrfEo8PblvGf6TNSw=s64",
      "userId": "16390917540151948122"
     },
     "user_tz": -330
    },
    "id": "syiuc2kWI3NV",
    "outputId": "00fde791-f3c3-4243-9e84-f3835dbb169c"
   },
   "outputs": [
    {
     "data": {
      "text/plain": [
       "LinearRegression()"
      ]
     },
     "execution_count": 5,
     "metadata": {},
     "output_type": "execute_result"
    }
   ],
   "source": [
    "from sklearn.preprocessing import PolynomialFeatures\n",
    "from sklearn.linear_model import LinearRegression\n",
    "poly_reg = PolynomialFeatures(degree = 4)\n",
    "X_poly = poly_reg.fit_transform(X_train)\n",
    "regressor = LinearRegression()\n",
    "regressor.fit(X_poly, y_train)"
   ]
  },
  {
   "cell_type": "markdown",
   "metadata": {
    "id": "k1ZEA16lGSnN"
   },
   "source": [
    "## Test set results Predictions"
   ]
  },
  {
   "cell_type": "code",
   "execution_count": 6,
   "metadata": {
    "colab": {
     "base_uri": "https://localhost:8080/"
    },
    "executionInfo": {
     "elapsed": 1053,
     "status": "ok",
     "timestamp": 1611910249060,
     "user": {
      "displayName": "Atulya Kaushik",
      "photoUrl": "https://lh3.googleusercontent.com/a-/AOh14GgD1bQuWpO4I6VTtZMxAaawpvIfNGkZ5rOJTKh0EdBeA4Kd1qoTuoOlK-uaGUlIfcb9i0bElz0PrzsASF2M6ep_JEwpGhOf5kM8ywHvqHC_nHt83SAUDmmykfS5nCmSCP9fJcJyEwsU5tQcK_Mxkwkcq5NGnWk1zhHtK6KPDKTuZ74X0260hiXmdXln5UQq4oPAkyeG50tOR49RjGiGnxkpBSS1B2VqVyCtAQw0qakjsJhSXXYb-7hP_aiQl29P1vtihuBk-tiA6IRqFIC2nRuStTgWqOAsM5WYSSE7YVspv_XttCUKB7en4v42boUenaSX_6tnFZpBfEzwxW7A2dh4o19sYgxP8BjpZbeKacloEnnlMADfXMOLlteiafF70gKD76zrfSP33j4GRJCjVVMqDO4j7htShlxZrgV8Wlz5WirYlg74IZmwhGB6br8THwGd0vqp248veWLTUzsN3kDq0MepwR1sz1RIES8Y0izIGT48_Ij0cLJ_m7u8VwVXHickgIA2IS7nsyGlNGxWe7URMdg-MR5VoPJw0zt_fnDwOuF47Pd_rdbL-dINSa7wPkvOJOMT4WSsDT09-koHehaEunYiennqYWOfzVVUvSkilkUvt73QFGTordMpYS02Kl6YtjhQImmKwzjDmenzlxZ4lakeaA4Mpe5GorpBILQs0XGHLkkSATm5hAg4ws3FP5CKUaUL0iLdv74UblMt6ubjgea0AQI2ALh5R9LCDLtBsS2aWPhztyrfEo8PblvGf6TNSw=s64",
      "userId": "16390917540151948122"
     },
     "user_tz": -330
    },
    "id": "G8DV1nkkI4-I",
    "outputId": "84b7d0fd-58af-46d5-a868-a7c49f9ddcd4"
   },
   "outputs": [
    {
     "name": "stdout",
     "output_type": "stream",
     "text": [
      "[[433.94 431.23]\n",
      " [457.9  460.01]\n",
      " [460.52 461.14]\n",
      " ...\n",
      " [469.53 473.26]\n",
      " [438.27 438.  ]\n",
      " [461.67 463.28]]\n"
     ]
    }
   ],
   "source": [
    "y_pred = regressor.predict(poly_reg.transform(X_test))\n",
    "np.set_printoptions(precision=2)\n",
    "print(np.concatenate((y_pred.reshape(len(y_pred),1), y_test.reshape(len(y_test),1)),1))"
   ]
  },
  {
   "cell_type": "markdown",
   "metadata": {
    "id": "aQl2P-bkGVfG"
   },
   "source": [
    "## Model Performance Evaluation"
   ]
  },
  {
   "cell_type": "code",
   "execution_count": 7,
   "metadata": {
    "colab": {
     "base_uri": "https://localhost:8080/"
    },
    "executionInfo": {
     "elapsed": 1103,
     "status": "ok",
     "timestamp": 1611910251507,
     "user": {
      "displayName": "Atulya Kaushik",
      "photoUrl": "https://lh3.googleusercontent.com/a-/AOh14GgD1bQuWpO4I6VTtZMxAaawpvIfNGkZ5rOJTKh0EdBeA4Kd1qoTuoOlK-uaGUlIfcb9i0bElz0PrzsASF2M6ep_JEwpGhOf5kM8ywHvqHC_nHt83SAUDmmykfS5nCmSCP9fJcJyEwsU5tQcK_Mxkwkcq5NGnWk1zhHtK6KPDKTuZ74X0260hiXmdXln5UQq4oPAkyeG50tOR49RjGiGnxkpBSS1B2VqVyCtAQw0qakjsJhSXXYb-7hP_aiQl29P1vtihuBk-tiA6IRqFIC2nRuStTgWqOAsM5WYSSE7YVspv_XttCUKB7en4v42boUenaSX_6tnFZpBfEzwxW7A2dh4o19sYgxP8BjpZbeKacloEnnlMADfXMOLlteiafF70gKD76zrfSP33j4GRJCjVVMqDO4j7htShlxZrgV8Wlz5WirYlg74IZmwhGB6br8THwGd0vqp248veWLTUzsN3kDq0MepwR1sz1RIES8Y0izIGT48_Ij0cLJ_m7u8VwVXHickgIA2IS7nsyGlNGxWe7URMdg-MR5VoPJw0zt_fnDwOuF47Pd_rdbL-dINSa7wPkvOJOMT4WSsDT09-koHehaEunYiennqYWOfzVVUvSkilkUvt73QFGTordMpYS02Kl6YtjhQImmKwzjDmenzlxZ4lakeaA4Mpe5GorpBILQs0XGHLkkSATm5hAg4ws3FP5CKUaUL0iLdv74UblMt6ubjgea0AQI2ALh5R9LCDLtBsS2aWPhztyrfEo8PblvGf6TNSw=s64",
      "userId": "16390917540151948122"
     },
     "user_tz": -330
    },
    "id": "zrHAKWFeI5qr",
    "outputId": "a6649b0a-b663-4a28-90de-c5727b83e1f0"
   },
   "outputs": [
    {
     "data": {
      "text/plain": [
       "0.9458193146472929"
      ]
     },
     "execution_count": 7,
     "metadata": {},
     "output_type": "execute_result"
    }
   ],
   "source": [
    "from sklearn.metrics import r2_score\n",
    "r2_score(y_test, y_pred)"
   ]
  },
  {
   "cell_type": "code",
   "execution_count": null,
   "metadata": {},
   "outputs": [],
   "source": []
  }
 ],
 "metadata": {
  "colab": {
   "authorship_tag": "ABX9TyO8g0xF2PW84X9Y120oM16h",
   "name": "Polynomial Regression.ipynb",
   "provenance": [],
   "toc_visible": true
  },
  "kernelspec": {
   "display_name": "Python 3 (ipykernel)",
   "language": "python",
   "name": "python3"
  },
  "language_info": {
   "codemirror_mode": {
    "name": "ipython",
    "version": 3
   },
   "file_extension": ".py",
   "mimetype": "text/x-python",
   "name": "python",
   "nbconvert_exporter": "python",
   "pygments_lexer": "ipython3",
   "version": "3.9.13"
  }
 },
 "nbformat": 4,
 "nbformat_minor": 1
}
