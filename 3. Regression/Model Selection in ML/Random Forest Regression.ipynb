{
 "cells": [
  {
   "cell_type": "markdown",
   "metadata": {
    "id": "NnPEZHzaF84c"
   },
   "source": [
    "# Random Forest Regression"
   ]
  },
  {
   "cell_type": "markdown",
   "metadata": {
    "id": "MAoMviwdF_dS"
   },
   "source": [
    "## Importing the libraries"
   ]
  },
  {
   "cell_type": "code",
   "execution_count": 3,
   "metadata": {
    "executionInfo": {
     "elapsed": 1132,
     "status": "ok",
     "timestamp": 1611910187056,
     "user": {
      "displayName": "Atulya Kaushik",
      "photoUrl": "https://lh3.googleusercontent.com/a-/AOh14GjxUmS0i6a9gZ28dTpjKl8q6SHYkZC3ohgJZAK42f09A0vTYTm0gTbmoGFXmbHPWb_bOCsQVzJ1bbm_uxa5GRx-2AStRu0-OEMbMRwQTYf5SQ9V3puDfJ8oLFO206besI1AQ4YOiUJ7k2i9lzEdg9Kv4kSGQ-p_QcNMF-p3P_c7NAeloXK3tnT8hnN3HDrULLelQPd3xnXbp7jqp5uDfLi2dHlSH1ifbBKOhZ-8rZFl-0BzvEFQ8bjNuH_uTwuZScd7QIeoLosf4A7k3CJoGT0bU5T0kRCm4WmcFiDJBit9uJvfSLDgUdjLhzWAdnk-d_ndJFTvPRGYOOPlVEBRPTz6Th7mJP76TSIKSK8pyzyA2JqIiuskVDALGPy55YUt6EJe54n99ZD9umVB3HFnVYS_fbEYaeECASGcfT_H3VgH2UiefmiEMwAUQptXrWZ2sQaqFmSrltAUI-rVq9C9PVD9B4s6G6EQ2mE9J2WXOBuAoMWcdi4Ro0lkc4jYY_MkatG_KtIvRk1Kkx33qxfz6Rfe1aFT0MMXmfwe65fxRHobhkRTrgX_Rec5cnyPrelXcYiI4gTXKAIu89c4nEi3F0-mufHVc9tObuSyIIqcRh2X4gHs7nlnqDQ_kwg0qo0Bga1rTSBVgVODnqOokQmYud5ElDzdyfuJJ__su8NQtbg5t2sBdZpYw28UP_9zL_vyX2qRmOwrtSNBfRvF2Iv1EgEePzg-yCBbuUyfjKANckKxlHTEtVhK5HILoas7K28xDL4JVA=s64",
      "userId": "16390917540151948122"
     },
     "user_tz": -330
    },
    "id": "ig4V21xeJBf-"
   },
   "outputs": [],
   "source": [
    "import numpy as np\n",
    "import matplotlib.pyplot as plt\n",
    "import pandas as pd"
   ]
  },
  {
   "cell_type": "markdown",
   "metadata": {
    "id": "ukNpho2tGIj8"
   },
   "source": [
    "## Data Set Import"
   ]
  },
  {
   "cell_type": "code",
   "execution_count": 4,
   "metadata": {
    "executionInfo": {
     "elapsed": 1068,
     "status": "ok",
     "timestamp": 1611910190996,
     "user": {
      "displayName": "Atulya Kaushik",
      "photoUrl": "https://lh3.googleusercontent.com/a-/AOh14GjxUmS0i6a9gZ28dTpjKl8q6SHYkZC3ohgJZAK42f09A0vTYTm0gTbmoGFXmbHPWb_bOCsQVzJ1bbm_uxa5GRx-2AStRu0-OEMbMRwQTYf5SQ9V3puDfJ8oLFO206besI1AQ4YOiUJ7k2i9lzEdg9Kv4kSGQ-p_QcNMF-p3P_c7NAeloXK3tnT8hnN3HDrULLelQPd3xnXbp7jqp5uDfLi2dHlSH1ifbBKOhZ-8rZFl-0BzvEFQ8bjNuH_uTwuZScd7QIeoLosf4A7k3CJoGT0bU5T0kRCm4WmcFiDJBit9uJvfSLDgUdjLhzWAdnk-d_ndJFTvPRGYOOPlVEBRPTz6Th7mJP76TSIKSK8pyzyA2JqIiuskVDALGPy55YUt6EJe54n99ZD9umVB3HFnVYS_fbEYaeECASGcfT_H3VgH2UiefmiEMwAUQptXrWZ2sQaqFmSrltAUI-rVq9C9PVD9B4s6G6EQ2mE9J2WXOBuAoMWcdi4Ro0lkc4jYY_MkatG_KtIvRk1Kkx33qxfz6Rfe1aFT0MMXmfwe65fxRHobhkRTrgX_Rec5cnyPrelXcYiI4gTXKAIu89c4nEi3F0-mufHVc9tObuSyIIqcRh2X4gHs7nlnqDQ_kwg0qo0Bga1rTSBVgVODnqOokQmYud5ElDzdyfuJJ__su8NQtbg5t2sBdZpYw28UP_9zL_vyX2qRmOwrtSNBfRvF2Iv1EgEePzg-yCBbuUyfjKANckKxlHTEtVhK5HILoas7K28xDL4JVA=s64",
      "userId": "16390917540151948122"
     },
     "user_tz": -330
    },
    "id": "brEBIvMLJCds"
   },
   "outputs": [],
   "source": [
    "data_set = pd.read_csv('../Model Selection - Combined Cycl.csv')\n",
    "X = data_set.iloc[:, :-1].values\n",
    "y = data_set.iloc[:, -1].values"
   ]
  },
  {
   "cell_type": "markdown",
   "metadata": {
    "id": "_ME70lO_GJ4Q"
   },
   "source": [
    "## Splitting the dataset into the Training & Test set"
   ]
  },
  {
   "cell_type": "code",
   "execution_count": 5,
   "metadata": {
    "executionInfo": {
     "elapsed": 1741,
     "status": "ok",
     "timestamp": 1611910193309,
     "user": {
      "displayName": "Atulya Kaushik",
      "photoUrl": "https://lh3.googleusercontent.com/a-/AOh14GjxUmS0i6a9gZ28dTpjKl8q6SHYkZC3ohgJZAK42f09A0vTYTm0gTbmoGFXmbHPWb_bOCsQVzJ1bbm_uxa5GRx-2AStRu0-OEMbMRwQTYf5SQ9V3puDfJ8oLFO206besI1AQ4YOiUJ7k2i9lzEdg9Kv4kSGQ-p_QcNMF-p3P_c7NAeloXK3tnT8hnN3HDrULLelQPd3xnXbp7jqp5uDfLi2dHlSH1ifbBKOhZ-8rZFl-0BzvEFQ8bjNuH_uTwuZScd7QIeoLosf4A7k3CJoGT0bU5T0kRCm4WmcFiDJBit9uJvfSLDgUdjLhzWAdnk-d_ndJFTvPRGYOOPlVEBRPTz6Th7mJP76TSIKSK8pyzyA2JqIiuskVDALGPy55YUt6EJe54n99ZD9umVB3HFnVYS_fbEYaeECASGcfT_H3VgH2UiefmiEMwAUQptXrWZ2sQaqFmSrltAUI-rVq9C9PVD9B4s6G6EQ2mE9J2WXOBuAoMWcdi4Ro0lkc4jYY_MkatG_KtIvRk1Kkx33qxfz6Rfe1aFT0MMXmfwe65fxRHobhkRTrgX_Rec5cnyPrelXcYiI4gTXKAIu89c4nEi3F0-mufHVc9tObuSyIIqcRh2X4gHs7nlnqDQ_kwg0qo0Bga1rTSBVgVODnqOokQmYud5ElDzdyfuJJ__su8NQtbg5t2sBdZpYw28UP_9zL_vyX2qRmOwrtSNBfRvF2Iv1EgEePzg-yCBbuUyfjKANckKxlHTEtVhK5HILoas7K28xDL4JVA=s64",
      "userId": "16390917540151948122"
     },
     "user_tz": -330
    },
    "id": "6xIyWFsIJOzv"
   },
   "outputs": [],
   "source": [
    "from sklearn.model_selection import train_test_split\n",
    "X_train, X_test, y_train, y_test = train_test_split(X, y, test_size = 0.2, random_state = 0)"
   ]
  },
  {
   "cell_type": "markdown",
   "metadata": {
    "id": "pwhSjXpQGM_2"
   },
   "source": [
    "## Random Forest Regression model Training on the Training set"
   ]
  },
  {
   "cell_type": "code",
   "execution_count": 6,
   "metadata": {
    "colab": {
     "base_uri": "https://localhost:8080/"
    },
    "executionInfo": {
     "elapsed": 1528,
     "status": "ok",
     "timestamp": 1611910195292,
     "user": {
      "displayName": "Atulya Kaushik",
      "photoUrl": "https://lh3.googleusercontent.com/a-/AOh14GjxUmS0i6a9gZ28dTpjKl8q6SHYkZC3ohgJZAK42f09A0vTYTm0gTbmoGFXmbHPWb_bOCsQVzJ1bbm_uxa5GRx-2AStRu0-OEMbMRwQTYf5SQ9V3puDfJ8oLFO206besI1AQ4YOiUJ7k2i9lzEdg9Kv4kSGQ-p_QcNMF-p3P_c7NAeloXK3tnT8hnN3HDrULLelQPd3xnXbp7jqp5uDfLi2dHlSH1ifbBKOhZ-8rZFl-0BzvEFQ8bjNuH_uTwuZScd7QIeoLosf4A7k3CJoGT0bU5T0kRCm4WmcFiDJBit9uJvfSLDgUdjLhzWAdnk-d_ndJFTvPRGYOOPlVEBRPTz6Th7mJP76TSIKSK8pyzyA2JqIiuskVDALGPy55YUt6EJe54n99ZD9umVB3HFnVYS_fbEYaeECASGcfT_H3VgH2UiefmiEMwAUQptXrWZ2sQaqFmSrltAUI-rVq9C9PVD9B4s6G6EQ2mE9J2WXOBuAoMWcdi4Ro0lkc4jYY_MkatG_KtIvRk1Kkx33qxfz6Rfe1aFT0MMXmfwe65fxRHobhkRTrgX_Rec5cnyPrelXcYiI4gTXKAIu89c4nEi3F0-mufHVc9tObuSyIIqcRh2X4gHs7nlnqDQ_kwg0qo0Bga1rTSBVgVODnqOokQmYud5ElDzdyfuJJ__su8NQtbg5t2sBdZpYw28UP_9zL_vyX2qRmOwrtSNBfRvF2Iv1EgEePzg-yCBbuUyfjKANckKxlHTEtVhK5HILoas7K28xDL4JVA=s64",
      "userId": "16390917540151948122"
     },
     "user_tz": -330
    },
    "id": "RBzvfekPJLyO",
    "outputId": "d456e698-b401-447c-c3a1-2b35a16e83dd"
   },
   "outputs": [
    {
     "data": {
      "text/plain": [
       "RandomForestRegressor(n_estimators=10, random_state=0)"
      ]
     },
     "execution_count": 6,
     "metadata": {},
     "output_type": "execute_result"
    }
   ],
   "source": [
    "from sklearn.ensemble import RandomForestRegressor\n",
    "regressor = RandomForestRegressor(n_estimators = 10, random_state = 0)\n",
    "regressor.fit(X_train, y_train)"
   ]
  },
  {
   "cell_type": "markdown",
   "metadata": {
    "id": "k1ZEA16lGSnN"
   },
   "source": [
    "## Test set results Predictions"
   ]
  },
  {
   "cell_type": "code",
   "execution_count": 7,
   "metadata": {
    "colab": {
     "base_uri": "https://localhost:8080/"
    },
    "executionInfo": {
     "elapsed": 1056,
     "status": "ok",
     "timestamp": 1611910197577,
     "user": {
      "displayName": "Atulya Kaushik",
      "photoUrl": "https://lh3.googleusercontent.com/a-/AOh14GjxUmS0i6a9gZ28dTpjKl8q6SHYkZC3ohgJZAK42f09A0vTYTm0gTbmoGFXmbHPWb_bOCsQVzJ1bbm_uxa5GRx-2AStRu0-OEMbMRwQTYf5SQ9V3puDfJ8oLFO206besI1AQ4YOiUJ7k2i9lzEdg9Kv4kSGQ-p_QcNMF-p3P_c7NAeloXK3tnT8hnN3HDrULLelQPd3xnXbp7jqp5uDfLi2dHlSH1ifbBKOhZ-8rZFl-0BzvEFQ8bjNuH_uTwuZScd7QIeoLosf4A7k3CJoGT0bU5T0kRCm4WmcFiDJBit9uJvfSLDgUdjLhzWAdnk-d_ndJFTvPRGYOOPlVEBRPTz6Th7mJP76TSIKSK8pyzyA2JqIiuskVDALGPy55YUt6EJe54n99ZD9umVB3HFnVYS_fbEYaeECASGcfT_H3VgH2UiefmiEMwAUQptXrWZ2sQaqFmSrltAUI-rVq9C9PVD9B4s6G6EQ2mE9J2WXOBuAoMWcdi4Ro0lkc4jYY_MkatG_KtIvRk1Kkx33qxfz6Rfe1aFT0MMXmfwe65fxRHobhkRTrgX_Rec5cnyPrelXcYiI4gTXKAIu89c4nEi3F0-mufHVc9tObuSyIIqcRh2X4gHs7nlnqDQ_kwg0qo0Bga1rTSBVgVODnqOokQmYud5ElDzdyfuJJ__su8NQtbg5t2sBdZpYw28UP_9zL_vyX2qRmOwrtSNBfRvF2Iv1EgEePzg-yCBbuUyfjKANckKxlHTEtVhK5HILoas7K28xDL4JVA=s64",
      "userId": "16390917540151948122"
     },
     "user_tz": -330
    },
    "id": "_3mPEAyyJRd8",
    "outputId": "c47fbbb2-cba6-47d1-e60e-468094c25ff4"
   },
   "outputs": [
    {
     "name": "stdout",
     "output_type": "stream",
     "text": [
      "[[434.05 431.23]\n",
      " [458.79 460.01]\n",
      " [463.02 461.14]\n",
      " ...\n",
      " [469.48 473.26]\n",
      " [439.57 438.  ]\n",
      " [460.38 463.28]]\n"
     ]
    }
   ],
   "source": [
    "y_pred = regressor.predict(X_test)\n",
    "np.set_printoptions(precision=2)\n",
    "print(np.concatenate((y_pred.reshape(len(y_pred),1), y_test.reshape(len(y_test),1)),1))"
   ]
  },
  {
   "cell_type": "markdown",
   "metadata": {
    "id": "aQl2P-bkGVfG"
   },
   "source": [
    "## Model Performance Evaluation"
   ]
  },
  {
   "cell_type": "code",
   "execution_count": 8,
   "metadata": {
    "colab": {
     "base_uri": "https://localhost:8080/"
    },
    "executionInfo": {
     "elapsed": 737,
     "status": "ok",
     "timestamp": 1611910199414,
     "user": {
      "displayName": "Atulya Kaushik",
      "photoUrl": "https://lh3.googleusercontent.com/a-/AOh14GjxUmS0i6a9gZ28dTpjKl8q6SHYkZC3ohgJZAK42f09A0vTYTm0gTbmoGFXmbHPWb_bOCsQVzJ1bbm_uxa5GRx-2AStRu0-OEMbMRwQTYf5SQ9V3puDfJ8oLFO206besI1AQ4YOiUJ7k2i9lzEdg9Kv4kSGQ-p_QcNMF-p3P_c7NAeloXK3tnT8hnN3HDrULLelQPd3xnXbp7jqp5uDfLi2dHlSH1ifbBKOhZ-8rZFl-0BzvEFQ8bjNuH_uTwuZScd7QIeoLosf4A7k3CJoGT0bU5T0kRCm4WmcFiDJBit9uJvfSLDgUdjLhzWAdnk-d_ndJFTvPRGYOOPlVEBRPTz6Th7mJP76TSIKSK8pyzyA2JqIiuskVDALGPy55YUt6EJe54n99ZD9umVB3HFnVYS_fbEYaeECASGcfT_H3VgH2UiefmiEMwAUQptXrWZ2sQaqFmSrltAUI-rVq9C9PVD9B4s6G6EQ2mE9J2WXOBuAoMWcdi4Ro0lkc4jYY_MkatG_KtIvRk1Kkx33qxfz6Rfe1aFT0MMXmfwe65fxRHobhkRTrgX_Rec5cnyPrelXcYiI4gTXKAIu89c4nEi3F0-mufHVc9tObuSyIIqcRh2X4gHs7nlnqDQ_kwg0qo0Bga1rTSBVgVODnqOokQmYud5ElDzdyfuJJ__su8NQtbg5t2sBdZpYw28UP_9zL_vyX2qRmOwrtSNBfRvF2Iv1EgEePzg-yCBbuUyfjKANckKxlHTEtVhK5HILoas7K28xDL4JVA=s64",
      "userId": "16390917540151948122"
     },
     "user_tz": -330
    },
    "id": "eh4i8EzKJULq",
    "outputId": "1db745e8-4edd-4417-e72d-9a4e48ad418e"
   },
   "outputs": [
    {
     "data": {
      "text/plain": [
       "0.9615908334363876"
      ]
     },
     "execution_count": 8,
     "metadata": {},
     "output_type": "execute_result"
    }
   ],
   "source": [
    "from sklearn.metrics import r2_score\n",
    "r2_score(y_test, y_pred)"
   ]
  },
  {
   "cell_type": "code",
   "execution_count": null,
   "metadata": {},
   "outputs": [],
   "source": []
  }
 ],
 "metadata": {
  "colab": {
   "authorship_tag": "ABX9TyObqlzuyBN/nQaff51bAiVW",
   "name": "Random Forest Regression.ipynb",
   "provenance": [],
   "toc_visible": true
  },
  "kernelspec": {
   "display_name": "Python 3 (ipykernel)",
   "language": "python",
   "name": "python3"
  },
  "language_info": {
   "codemirror_mode": {
    "name": "ipython",
    "version": 3
   },
   "file_extension": ".py",
   "mimetype": "text/x-python",
   "name": "python",
   "nbconvert_exporter": "python",
   "pygments_lexer": "ipython3",
   "version": "3.9.13"
  }
 },
 "nbformat": 4,
 "nbformat_minor": 1
}
