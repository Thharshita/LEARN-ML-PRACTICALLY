{
 "cells": [
  {
   "cell_type": "markdown",
   "metadata": {
    "id": "NnPEZHzaF84c"
   },
   "source": [
    "# Decision Tree Regression"
   ]
  },
  {
   "cell_type": "markdown",
   "metadata": {
    "id": "MAoMviwdF_dS"
   },
   "source": [
    "## Importing the libraries"
   ]
  },
  {
   "cell_type": "code",
   "execution_count": 11,
   "metadata": {
    "executionInfo": {
     "elapsed": 1552,
     "status": "ok",
     "timestamp": 1611910153891,
     "user": {
      "displayName": "Atulya Kaushik",
      "photoUrl": "https://lh3.googleusercontent.com/a-/AOh14GhkX5izjBwlAFPEYlnikw_fjUbRqT9ncKniew_mBjWsWW_eqHuuxSAm82ocg1ilYKb2y_up1kpEPxCGmA5W-zUl6PepkNOrdcqlZWoXzCzReXWSTXCmiD60Vl5KVKKCQUlshcKT6e3kgrylyAYukf0zNGGOhkkrLRDVzDaREeGgHIxYtBw_3zMTygpko4fbWDi40dfC3mfyb6-CXE6KyDpryjSiKr0ilYDZpaDrcOVyUbmi0sB2Gj-fFZPJ-aPaeCdYhm6YI60l8nEMQO_YtPrwjX8iD-aQ3n1wof-oOT5c4s-cpfPmCk8G8CAkGiPOQp6yUEKdIlWcLhoXBr-K8nWu4YjDDqY-3uD3DPMxa1CeMRCOGNpcFAaUvt9oXT-KQqnAk_5nT-fTVDkPCOWPTxmhN7ZoHv2jd80b-uc_utp7rJbfN89SZwq3mfCFT6SlnyyaFXrsTa_Tm37HM4vpEqk3zSrZicEZThhjzlrYyYeaF96kN5IPMBkeoH0PiDHELU6q5Y8o9Dn8UuSyNSwhY_CDMFImiHegr-CYgd2ILCsAZULPn5paC_gy1bAWMcqjCbCdnKH2N0Xiu6ARd9Wl3EWaXiLkjVpNiyO7JFvUdqSZTgH7JNF_DGvauoQo7EuQFMjcxNSv6-H4x19iXQCQ-hHGOFP_EXkZlLd9i_dkha5wkT-tPBiS_r1vERvl86P-bVT1sp-t2EfOzp7s25ZuC63ZoKcn4vIFs-bzaQ-qi8DCow5bxVjAP0r5hICzXnB0pTfQlA=s64",
      "userId": "16390917540151948122"
     },
     "user_tz": -330
    },
    "id": "AG2pWy4dGv0G"
   },
   "outputs": [],
   "source": [
    "import numpy as np\n",
    "import matplotlib.pyplot as plt\n",
    "import pandas as pd"
   ]
  },
  {
   "cell_type": "markdown",
   "metadata": {
    "id": "ukNpho2tGIj8"
   },
   "source": [
    "## Data Set Import"
   ]
  },
  {
   "cell_type": "code",
   "execution_count": 17,
   "metadata": {
    "executionInfo": {
     "elapsed": 1566,
     "status": "ok",
     "timestamp": 1611910156454,
     "user": {
      "displayName": "Atulya Kaushik",
      "photoUrl": "https://lh3.googleusercontent.com/a-/AOh14GhkX5izjBwlAFPEYlnikw_fjUbRqT9ncKniew_mBjWsWW_eqHuuxSAm82ocg1ilYKb2y_up1kpEPxCGmA5W-zUl6PepkNOrdcqlZWoXzCzReXWSTXCmiD60Vl5KVKKCQUlshcKT6e3kgrylyAYukf0zNGGOhkkrLRDVzDaREeGgHIxYtBw_3zMTygpko4fbWDi40dfC3mfyb6-CXE6KyDpryjSiKr0ilYDZpaDrcOVyUbmi0sB2Gj-fFZPJ-aPaeCdYhm6YI60l8nEMQO_YtPrwjX8iD-aQ3n1wof-oOT5c4s-cpfPmCk8G8CAkGiPOQp6yUEKdIlWcLhoXBr-K8nWu4YjDDqY-3uD3DPMxa1CeMRCOGNpcFAaUvt9oXT-KQqnAk_5nT-fTVDkPCOWPTxmhN7ZoHv2jd80b-uc_utp7rJbfN89SZwq3mfCFT6SlnyyaFXrsTa_Tm37HM4vpEqk3zSrZicEZThhjzlrYyYeaF96kN5IPMBkeoH0PiDHELU6q5Y8o9Dn8UuSyNSwhY_CDMFImiHegr-CYgd2ILCsAZULPn5paC_gy1bAWMcqjCbCdnKH2N0Xiu6ARd9Wl3EWaXiLkjVpNiyO7JFvUdqSZTgH7JNF_DGvauoQo7EuQFMjcxNSv6-H4x19iXQCQ-hHGOFP_EXkZlLd9i_dkha5wkT-tPBiS_r1vERvl86P-bVT1sp-t2EfOzp7s25ZuC63ZoKcn4vIFs-bzaQ-qi8DCow5bxVjAP0r5hICzXnB0pTfQlA=s64",
      "userId": "16390917540151948122"
     },
     "user_tz": -330
    },
    "id": "buYLnf2pGyoc"
   },
   "outputs": [],
   "source": [
    "data_set = pd.read_csv('../Model Selection - Combined Cycl.csv')\n",
    "X=data_set.iloc[:, :-1].values\n",
    "y = data_set.iloc[:, -1].values"
   ]
  },
  {
   "cell_type": "markdown",
   "metadata": {
    "id": "_ME70lO_GJ4Q"
   },
   "source": [
    "## Splitting the dataset into the Training & Test set"
   ]
  },
  {
   "cell_type": "code",
   "execution_count": 18,
   "metadata": {
    "executionInfo": {
     "elapsed": 1821,
     "status": "ok",
     "timestamp": 1611910159634,
     "user": {
      "displayName": "Atulya Kaushik",
      "photoUrl": "https://lh3.googleusercontent.com/a-/AOh14GhkX5izjBwlAFPEYlnikw_fjUbRqT9ncKniew_mBjWsWW_eqHuuxSAm82ocg1ilYKb2y_up1kpEPxCGmA5W-zUl6PepkNOrdcqlZWoXzCzReXWSTXCmiD60Vl5KVKKCQUlshcKT6e3kgrylyAYukf0zNGGOhkkrLRDVzDaREeGgHIxYtBw_3zMTygpko4fbWDi40dfC3mfyb6-CXE6KyDpryjSiKr0ilYDZpaDrcOVyUbmi0sB2Gj-fFZPJ-aPaeCdYhm6YI60l8nEMQO_YtPrwjX8iD-aQ3n1wof-oOT5c4s-cpfPmCk8G8CAkGiPOQp6yUEKdIlWcLhoXBr-K8nWu4YjDDqY-3uD3DPMxa1CeMRCOGNpcFAaUvt9oXT-KQqnAk_5nT-fTVDkPCOWPTxmhN7ZoHv2jd80b-uc_utp7rJbfN89SZwq3mfCFT6SlnyyaFXrsTa_Tm37HM4vpEqk3zSrZicEZThhjzlrYyYeaF96kN5IPMBkeoH0PiDHELU6q5Y8o9Dn8UuSyNSwhY_CDMFImiHegr-CYgd2ILCsAZULPn5paC_gy1bAWMcqjCbCdnKH2N0Xiu6ARd9Wl3EWaXiLkjVpNiyO7JFvUdqSZTgH7JNF_DGvauoQo7EuQFMjcxNSv6-H4x19iXQCQ-hHGOFP_EXkZlLd9i_dkha5wkT-tPBiS_r1vERvl86P-bVT1sp-t2EfOzp7s25ZuC63ZoKcn4vIFs-bzaQ-qi8DCow5bxVjAP0r5hICzXnB0pTfQlA=s64",
      "userId": "16390917540151948122"
     },
     "user_tz": -330
    },
    "id": "VZ2gn18lG3wn"
   },
   "outputs": [],
   "source": [
    "from sklearn.model_selection import train_test_split\n",
    "X_train, X_test, y_train, y_test = train_test_split(X, y, test_size = 0.2, random_state = 0)"
   ]
  },
  {
   "cell_type": "markdown",
   "metadata": {
    "id": "pwhSjXpQGM_2"
   },
   "source": [
    "## Decision Tree Regression model Training on the Training set"
   ]
  },
  {
   "cell_type": "code",
   "execution_count": 19,
   "metadata": {
    "colab": {
     "base_uri": "https://localhost:8080/"
    },
    "executionInfo": {
     "elapsed": 1992,
     "status": "ok",
     "timestamp": 1611910162241,
     "user": {
      "displayName": "Atulya Kaushik",
      "photoUrl": "https://lh3.googleusercontent.com/a-/AOh14GhkX5izjBwlAFPEYlnikw_fjUbRqT9ncKniew_mBjWsWW_eqHuuxSAm82ocg1ilYKb2y_up1kpEPxCGmA5W-zUl6PepkNOrdcqlZWoXzCzReXWSTXCmiD60Vl5KVKKCQUlshcKT6e3kgrylyAYukf0zNGGOhkkrLRDVzDaREeGgHIxYtBw_3zMTygpko4fbWDi40dfC3mfyb6-CXE6KyDpryjSiKr0ilYDZpaDrcOVyUbmi0sB2Gj-fFZPJ-aPaeCdYhm6YI60l8nEMQO_YtPrwjX8iD-aQ3n1wof-oOT5c4s-cpfPmCk8G8CAkGiPOQp6yUEKdIlWcLhoXBr-K8nWu4YjDDqY-3uD3DPMxa1CeMRCOGNpcFAaUvt9oXT-KQqnAk_5nT-fTVDkPCOWPTxmhN7ZoHv2jd80b-uc_utp7rJbfN89SZwq3mfCFT6SlnyyaFXrsTa_Tm37HM4vpEqk3zSrZicEZThhjzlrYyYeaF96kN5IPMBkeoH0PiDHELU6q5Y8o9Dn8UuSyNSwhY_CDMFImiHegr-CYgd2ILCsAZULPn5paC_gy1bAWMcqjCbCdnKH2N0Xiu6ARd9Wl3EWaXiLkjVpNiyO7JFvUdqSZTgH7JNF_DGvauoQo7EuQFMjcxNSv6-H4x19iXQCQ-hHGOFP_EXkZlLd9i_dkha5wkT-tPBiS_r1vERvl86P-bVT1sp-t2EfOzp7s25ZuC63ZoKcn4vIFs-bzaQ-qi8DCow5bxVjAP0r5hICzXnB0pTfQlA=s64",
      "userId": "16390917540151948122"
     },
     "user_tz": -330
    },
    "id": "_FtP53LXG6ll",
    "outputId": "6c9bdf37-324d-4a58-86ae-257023a63aa7"
   },
   "outputs": [
    {
     "data": {
      "text/plain": [
       "DecisionTreeRegressor(random_state=21)"
      ]
     },
     "execution_count": 19,
     "metadata": {},
     "output_type": "execute_result"
    }
   ],
   "source": [
    "from sklearn.tree import DecisionTreeRegressor\n",
    "regressor = DecisionTreeRegressor(random_state = 21)\n",
    "regressor.fit(X_train, y_train)"
   ]
  },
  {
   "cell_type": "markdown",
   "metadata": {
    "id": "k1ZEA16lGSnN"
   },
   "source": [
    "## Test set results Predictions"
   ]
  },
  {
   "cell_type": "code",
   "execution_count": 20,
   "metadata": {
    "colab": {
     "base_uri": "https://localhost:8080/"
    },
    "executionInfo": {
     "elapsed": 1379,
     "status": "ok",
     "timestamp": 1611910165197,
     "user": {
      "displayName": "Atulya Kaushik",
      "photoUrl": "https://lh3.googleusercontent.com/a-/AOh14GhkX5izjBwlAFPEYlnikw_fjUbRqT9ncKniew_mBjWsWW_eqHuuxSAm82ocg1ilYKb2y_up1kpEPxCGmA5W-zUl6PepkNOrdcqlZWoXzCzReXWSTXCmiD60Vl5KVKKCQUlshcKT6e3kgrylyAYukf0zNGGOhkkrLRDVzDaREeGgHIxYtBw_3zMTygpko4fbWDi40dfC3mfyb6-CXE6KyDpryjSiKr0ilYDZpaDrcOVyUbmi0sB2Gj-fFZPJ-aPaeCdYhm6YI60l8nEMQO_YtPrwjX8iD-aQ3n1wof-oOT5c4s-cpfPmCk8G8CAkGiPOQp6yUEKdIlWcLhoXBr-K8nWu4YjDDqY-3uD3DPMxa1CeMRCOGNpcFAaUvt9oXT-KQqnAk_5nT-fTVDkPCOWPTxmhN7ZoHv2jd80b-uc_utp7rJbfN89SZwq3mfCFT6SlnyyaFXrsTa_Tm37HM4vpEqk3zSrZicEZThhjzlrYyYeaF96kN5IPMBkeoH0PiDHELU6q5Y8o9Dn8UuSyNSwhY_CDMFImiHegr-CYgd2ILCsAZULPn5paC_gy1bAWMcqjCbCdnKH2N0Xiu6ARd9Wl3EWaXiLkjVpNiyO7JFvUdqSZTgH7JNF_DGvauoQo7EuQFMjcxNSv6-H4x19iXQCQ-hHGOFP_EXkZlLd9i_dkha5wkT-tPBiS_r1vERvl86P-bVT1sp-t2EfOzp7s25ZuC63ZoKcn4vIFs-bzaQ-qi8DCow5bxVjAP0r5hICzXnB0pTfQlA=s64",
      "userId": "16390917540151948122"
     },
     "user_tz": -330
    },
    "id": "3mZjyAufHSBS",
    "outputId": "b80cb8a1-4d0b-4801-8fc7-06ad040cec0a"
   },
   "outputs": [
    {
     "name": "stdout",
     "output_type": "stream",
     "text": [
      "[[431.28 431.23]\n",
      " [459.59 460.01]\n",
      " [460.06 461.14]\n",
      " ...\n",
      " [471.46 473.26]\n",
      " [437.76 438.  ]\n",
      " [462.74 463.28]]\n"
     ]
    }
   ],
   "source": [
    "y_pred = regressor.predict(X_test)\n",
    "np.set_printoptions(precision=2)\n",
    "print(np.concatenate((y_pred.reshape(len(y_pred),1), y_test.reshape(len(y_test),1)),1))"
   ]
  },
  {
   "cell_type": "markdown",
   "metadata": {
    "id": "aQl2P-bkGVfG"
   },
   "source": [
    "## Model Performance Evaluation"
   ]
  },
  {
   "cell_type": "code",
   "execution_count": 21,
   "metadata": {
    "colab": {
     "base_uri": "https://localhost:8080/"
    },
    "executionInfo": {
     "elapsed": 1684,
     "status": "ok",
     "timestamp": 1611910179800,
     "user": {
      "displayName": "Atulya Kaushik",
      "photoUrl": "https://lh3.googleusercontent.com/a-/AOh14GhkX5izjBwlAFPEYlnikw_fjUbRqT9ncKniew_mBjWsWW_eqHuuxSAm82ocg1ilYKb2y_up1kpEPxCGmA5W-zUl6PepkNOrdcqlZWoXzCzReXWSTXCmiD60Vl5KVKKCQUlshcKT6e3kgrylyAYukf0zNGGOhkkrLRDVzDaREeGgHIxYtBw_3zMTygpko4fbWDi40dfC3mfyb6-CXE6KyDpryjSiKr0ilYDZpaDrcOVyUbmi0sB2Gj-fFZPJ-aPaeCdYhm6YI60l8nEMQO_YtPrwjX8iD-aQ3n1wof-oOT5c4s-cpfPmCk8G8CAkGiPOQp6yUEKdIlWcLhoXBr-K8nWu4YjDDqY-3uD3DPMxa1CeMRCOGNpcFAaUvt9oXT-KQqnAk_5nT-fTVDkPCOWPTxmhN7ZoHv2jd80b-uc_utp7rJbfN89SZwq3mfCFT6SlnyyaFXrsTa_Tm37HM4vpEqk3zSrZicEZThhjzlrYyYeaF96kN5IPMBkeoH0PiDHELU6q5Y8o9Dn8UuSyNSwhY_CDMFImiHegr-CYgd2ILCsAZULPn5paC_gy1bAWMcqjCbCdnKH2N0Xiu6ARd9Wl3EWaXiLkjVpNiyO7JFvUdqSZTgH7JNF_DGvauoQo7EuQFMjcxNSv6-H4x19iXQCQ-hHGOFP_EXkZlLd9i_dkha5wkT-tPBiS_r1vERvl86P-bVT1sp-t2EfOzp7s25ZuC63ZoKcn4vIFs-bzaQ-qi8DCow5bxVjAP0r5hICzXnB0pTfQlA=s64",
      "userId": "16390917540151948122"
     },
     "user_tz": -330
    },
    "id": "6pHDHCViHTB5",
    "outputId": "b0293d3c-2e7b-4477-c5eb-324b206544a7"
   },
   "outputs": [
    {
     "data": {
      "text/plain": [
       "0.9185756259476033"
      ]
     },
     "execution_count": 21,
     "metadata": {},
     "output_type": "execute_result"
    }
   ],
   "source": [
    "from sklearn.metrics import r2_score\n",
    "r2_score(y_test, y_pred)"
   ]
  },
  {
   "cell_type": "code",
   "execution_count": null,
   "metadata": {},
   "outputs": [],
   "source": []
  },
  {
   "cell_type": "code",
   "execution_count": null,
   "metadata": {},
   "outputs": [],
   "source": []
  }
 ],
 "metadata": {
  "colab": {
   "authorship_tag": "ABX9TyMa5ENo4xgEpysEO/JxLjIt",
   "name": "Decision Tree Regression.ipynb",
   "provenance": [],
   "toc_visible": true
  },
  "kernelspec": {
   "display_name": "Python 3 (ipykernel)",
   "language": "python",
   "name": "python3"
  },
  "language_info": {
   "codemirror_mode": {
    "name": "ipython",
    "version": 3
   },
   "file_extension": ".py",
   "mimetype": "text/x-python",
   "name": "python",
   "nbconvert_exporter": "python",
   "pygments_lexer": "ipython3",
   "version": "3.9.13"
  }
 },
 "nbformat": 4,
 "nbformat_minor": 1
}
