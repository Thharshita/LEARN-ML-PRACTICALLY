{
 "cells": [
  {
   "cell_type": "markdown",
   "metadata": {
    "id": "FB7mg-9WUSAn"
   },
   "source": [
    "# Multiple Linear Regression "
   ]
  },
  {
   "cell_type": "markdown",
   "metadata": {
    "id": "zcXufiytUV3b"
   },
   "source": [
    "## Importing Libraries"
   ]
  },
  {
   "cell_type": "code",
   "execution_count": 1,
   "metadata": {
    "executionInfo": {
     "elapsed": 1217,
     "status": "ok",
     "timestamp": 1611820625076,
     "user": {
      "displayName": "Atulya Kaushik",
      "photoUrl": "https://lh3.googleusercontent.com/a-/AOh14GiRxXp1ZXudzP4EK8I1caEPytGwMhFLE7K_SjRwIT6USNwHgA1a7sSMc4e_OlrcpUlHF_BjwrT1QMfCG_Ct16q8fcPMXelukT1oCRGwjza75lHn5yePJ9LHRsu7cZIyfzpqd9N9sdnQdRGvLFcK6gf2oLqAU5dFQEwM2_xbCWQIaIi8D09ObAKuJZyELVoQMJm2cm2NtFv1Tdhicp0wL5nJ9p8NYhrCBgMVE8Pu22nGBtSFRmuhuQNU-zl5emqqSo1581BmUnQOv37V2Di3dq_HK0CDNWBeGm4cwXcKE4q0dpPdS7S50JKXszyuYYlXiaaGmqpuBxfpluCBJ952TKNPoywiVE1edSNRXpOxK9WFzwODvAmRDthO1gVXgxBgQUAZbdYQF5NCHhVK9HcHFBu_D8e5oKtFUmLSOMYuhX0lVaxMlYmtPuY395GQmK39BNcvAwVwF4OCio843RvHJcCnsfWH1HismC85T69TFisNM5th7MN9XS_WOXeD9LBqh-JmzY57oy6d8H7Zol5EHa_1QW4XMJiA7ihuKJruxaVyhFJe3cYAgSetVlXVZXb7Bvz0mp4H4EhA99nYXIlYY08IyEDtmvVo_HNK-6qlf0SkVsMbXrx4-MukLX-TeT9cT7270W4720E4iUpoelBARzn1ZROR8Yy6xikqkAetrWltUKHEW1GQleyI1uFc8bRpvTkj6pgIbLVbceXTw7APQCuR8GP-Bs-36JRVLJ9iESqgBO2rPOKowtJa-WIFlGAvAHuPEQ=s64",
      "userId": "16390917540151948122"
     },
     "user_tz": -330
    },
    "id": "C1pbceKb-bOf"
   },
   "outputs": [],
   "source": [
    "import numpy as np\n",
    "import matplotlib.pyplot as plt\n",
    "import pandas as pd"
   ]
  },
  {
   "cell_type": "markdown",
   "metadata": {
    "id": "x1V8I7-1Ugu8"
   },
   "source": [
    "## Importing Data Set"
   ]
  },
  {
   "cell_type": "code",
   "execution_count": 6,
   "metadata": {
    "executionInfo": {
     "elapsed": 964,
     "status": "ok",
     "timestamp": 1611820865640,
     "user": {
      "displayName": "Atulya Kaushik",
      "photoUrl": "https://lh3.googleusercontent.com/a-/AOh14GiRxXp1ZXudzP4EK8I1caEPytGwMhFLE7K_SjRwIT6USNwHgA1a7sSMc4e_OlrcpUlHF_BjwrT1QMfCG_Ct16q8fcPMXelukT1oCRGwjza75lHn5yePJ9LHRsu7cZIyfzpqd9N9sdnQdRGvLFcK6gf2oLqAU5dFQEwM2_xbCWQIaIi8D09ObAKuJZyELVoQMJm2cm2NtFv1Tdhicp0wL5nJ9p8NYhrCBgMVE8Pu22nGBtSFRmuhuQNU-zl5emqqSo1581BmUnQOv37V2Di3dq_HK0CDNWBeGm4cwXcKE4q0dpPdS7S50JKXszyuYYlXiaaGmqpuBxfpluCBJ952TKNPoywiVE1edSNRXpOxK9WFzwODvAmRDthO1gVXgxBgQUAZbdYQF5NCHhVK9HcHFBu_D8e5oKtFUmLSOMYuhX0lVaxMlYmtPuY395GQmK39BNcvAwVwF4OCio843RvHJcCnsfWH1HismC85T69TFisNM5th7MN9XS_WOXeD9LBqh-JmzY57oy6d8H7Zol5EHa_1QW4XMJiA7ihuKJruxaVyhFJe3cYAgSetVlXVZXb7Bvz0mp4H4EhA99nYXIlYY08IyEDtmvVo_HNK-6qlf0SkVsMbXrx4-MukLX-TeT9cT7270W4720E4iUpoelBARzn1ZROR8Yy6xikqkAetrWltUKHEW1GQleyI1uFc8bRpvTkj6pgIbLVbceXTw7APQCuR8GP-Bs-36JRVLJ9iESqgBO2rPOKowtJa-WIFlGAvAHuPEQ=s64",
      "userId": "16390917540151948122"
     },
     "user_tz": -330
    },
    "id": "_lr-eRA2-fHb"
   },
   "outputs": [
    {
     "data": {
      "text/html": [
       "<div>\n",
       "<style scoped>\n",
       "    .dataframe tbody tr th:only-of-type {\n",
       "        vertical-align: middle;\n",
       "    }\n",
       "\n",
       "    .dataframe tbody tr th {\n",
       "        vertical-align: top;\n",
       "    }\n",
       "\n",
       "    .dataframe thead th {\n",
       "        text-align: right;\n",
       "    }\n",
       "</style>\n",
       "<table border=\"1\" class=\"dataframe\">\n",
       "  <thead>\n",
       "    <tr style=\"text-align: right;\">\n",
       "      <th></th>\n",
       "      <th>age</th>\n",
       "      <th>Body Temp</th>\n",
       "      <th>Chronic disease</th>\n",
       "      <th>Blood O2 Level in Percentage</th>\n",
       "      <th>Anti Bodies</th>\n",
       "    </tr>\n",
       "  </thead>\n",
       "  <tbody>\n",
       "    <tr>\n",
       "      <th>0</th>\n",
       "      <td>10</td>\n",
       "      <td>Moderate</td>\n",
       "      <td>0</td>\n",
       "      <td>97</td>\n",
       "      <td>127181</td>\n",
       "    </tr>\n",
       "    <tr>\n",
       "      <th>1</th>\n",
       "      <td>80</td>\n",
       "      <td>High</td>\n",
       "      <td>0</td>\n",
       "      <td>92</td>\n",
       "      <td>61004</td>\n",
       "    </tr>\n",
       "    <tr>\n",
       "      <th>2</th>\n",
       "      <td>10</td>\n",
       "      <td>Low</td>\n",
       "      <td>0</td>\n",
       "      <td>97</td>\n",
       "      <td>111911</td>\n",
       "    </tr>\n",
       "    <tr>\n",
       "      <th>3</th>\n",
       "      <td>81</td>\n",
       "      <td>High</td>\n",
       "      <td>4</td>\n",
       "      <td>75</td>\n",
       "      <td>39010</td>\n",
       "    </tr>\n",
       "    <tr>\n",
       "      <th>4</th>\n",
       "      <td>12</td>\n",
       "      <td>Moderate</td>\n",
       "      <td>0</td>\n",
       "      <td>97</td>\n",
       "      <td>110911</td>\n",
       "    </tr>\n",
       "    <tr>\n",
       "      <th>...</th>\n",
       "      <td>...</td>\n",
       "      <td>...</td>\n",
       "      <td>...</td>\n",
       "      <td>...</td>\n",
       "      <td>...</td>\n",
       "    </tr>\n",
       "    <tr>\n",
       "      <th>65</th>\n",
       "      <td>76</td>\n",
       "      <td>High</td>\n",
       "      <td>4</td>\n",
       "      <td>80</td>\n",
       "      <td>39010</td>\n",
       "    </tr>\n",
       "    <tr>\n",
       "      <th>66</th>\n",
       "      <td>35</td>\n",
       "      <td>Moderate</td>\n",
       "      <td>0</td>\n",
       "      <td>92</td>\n",
       "      <td>91141</td>\n",
       "    </tr>\n",
       "    <tr>\n",
       "      <th>67</th>\n",
       "      <td>13</td>\n",
       "      <td>Moderate</td>\n",
       "      <td>0</td>\n",
       "      <td>94</td>\n",
       "      <td>112101</td>\n",
       "    </tr>\n",
       "    <tr>\n",
       "      <th>68</th>\n",
       "      <td>82</td>\n",
       "      <td>High</td>\n",
       "      <td>3</td>\n",
       "      <td>73</td>\n",
       "      <td>42010</td>\n",
       "    </tr>\n",
       "    <tr>\n",
       "      <th>69</th>\n",
       "      <td>84</td>\n",
       "      <td>High</td>\n",
       "      <td>3</td>\n",
       "      <td>75</td>\n",
       "      <td>42099</td>\n",
       "    </tr>\n",
       "  </tbody>\n",
       "</table>\n",
       "<p>70 rows × 5 columns</p>\n",
       "</div>"
      ],
      "text/plain": [
       "    age Body Temp  Chronic disease  Blood O2 Level in Percentage  Anti Bodies\n",
       "0    10  Moderate                0                            97       127181\n",
       "1    80      High                0                            92        61004\n",
       "2    10       Low                0                            97       111911\n",
       "3    81      High                4                            75        39010\n",
       "4    12  Moderate                0                            97       110911\n",
       "..  ...       ...              ...                           ...          ...\n",
       "65   76      High                4                            80        39010\n",
       "66   35  Moderate                0                            92        91141\n",
       "67   13  Moderate                0                            94       112101\n",
       "68   82      High                3                            73        42010\n",
       "69   84      High                3                            75        42099\n",
       "\n",
       "[70 rows x 5 columns]"
      ]
     },
     "metadata": {},
     "output_type": "display_data"
    }
   ],
   "source": [
    "dataset = pd.read_csv('../Covid_data Multiple Linear Regr.csv')\n",
    "display(dataset)\n"
   ]
  },
  {
   "cell_type": "markdown",
   "metadata": {},
   "source": [
    "## Checking Data"
   ]
  },
  {
   "cell_type": "code",
   "execution_count": 9,
   "metadata": {},
   "outputs": [
    {
     "data": {
      "text/plain": [
       "1"
      ]
     },
     "execution_count": 9,
     "metadata": {},
     "output_type": "execute_result"
    }
   ],
   "source": [
    "dataset.duplicated().sum()"
   ]
  },
  {
   "cell_type": "code",
   "execution_count": 10,
   "metadata": {},
   "outputs": [
    {
     "data": {
      "text/html": [
       "<div>\n",
       "<style scoped>\n",
       "    .dataframe tbody tr th:only-of-type {\n",
       "        vertical-align: middle;\n",
       "    }\n",
       "\n",
       "    .dataframe tbody tr th {\n",
       "        vertical-align: top;\n",
       "    }\n",
       "\n",
       "    .dataframe thead th {\n",
       "        text-align: right;\n",
       "    }\n",
       "</style>\n",
       "<table border=\"1\" class=\"dataframe\">\n",
       "  <thead>\n",
       "    <tr style=\"text-align: right;\">\n",
       "      <th></th>\n",
       "      <th>age</th>\n",
       "      <th>Body Temp</th>\n",
       "      <th>Chronic disease</th>\n",
       "      <th>Blood O2 Level in Percentage</th>\n",
       "      <th>Anti Bodies</th>\n",
       "    </tr>\n",
       "  </thead>\n",
       "  <tbody>\n",
       "    <tr>\n",
       "      <th>0</th>\n",
       "      <td>10</td>\n",
       "      <td>Moderate</td>\n",
       "      <td>0</td>\n",
       "      <td>97</td>\n",
       "      <td>127181</td>\n",
       "    </tr>\n",
       "    <tr>\n",
       "      <th>1</th>\n",
       "      <td>80</td>\n",
       "      <td>High</td>\n",
       "      <td>0</td>\n",
       "      <td>92</td>\n",
       "      <td>61004</td>\n",
       "    </tr>\n",
       "    <tr>\n",
       "      <th>2</th>\n",
       "      <td>10</td>\n",
       "      <td>Low</td>\n",
       "      <td>0</td>\n",
       "      <td>97</td>\n",
       "      <td>111911</td>\n",
       "    </tr>\n",
       "    <tr>\n",
       "      <th>3</th>\n",
       "      <td>81</td>\n",
       "      <td>High</td>\n",
       "      <td>4</td>\n",
       "      <td>75</td>\n",
       "      <td>39010</td>\n",
       "    </tr>\n",
       "    <tr>\n",
       "      <th>4</th>\n",
       "      <td>12</td>\n",
       "      <td>Moderate</td>\n",
       "      <td>0</td>\n",
       "      <td>97</td>\n",
       "      <td>110911</td>\n",
       "    </tr>\n",
       "    <tr>\n",
       "      <th>...</th>\n",
       "      <td>...</td>\n",
       "      <td>...</td>\n",
       "      <td>...</td>\n",
       "      <td>...</td>\n",
       "      <td>...</td>\n",
       "    </tr>\n",
       "    <tr>\n",
       "      <th>65</th>\n",
       "      <td>76</td>\n",
       "      <td>High</td>\n",
       "      <td>4</td>\n",
       "      <td>80</td>\n",
       "      <td>39010</td>\n",
       "    </tr>\n",
       "    <tr>\n",
       "      <th>66</th>\n",
       "      <td>35</td>\n",
       "      <td>Moderate</td>\n",
       "      <td>0</td>\n",
       "      <td>92</td>\n",
       "      <td>91141</td>\n",
       "    </tr>\n",
       "    <tr>\n",
       "      <th>67</th>\n",
       "      <td>13</td>\n",
       "      <td>Moderate</td>\n",
       "      <td>0</td>\n",
       "      <td>94</td>\n",
       "      <td>112101</td>\n",
       "    </tr>\n",
       "    <tr>\n",
       "      <th>68</th>\n",
       "      <td>82</td>\n",
       "      <td>High</td>\n",
       "      <td>3</td>\n",
       "      <td>73</td>\n",
       "      <td>42010</td>\n",
       "    </tr>\n",
       "    <tr>\n",
       "      <th>69</th>\n",
       "      <td>84</td>\n",
       "      <td>High</td>\n",
       "      <td>3</td>\n",
       "      <td>75</td>\n",
       "      <td>42099</td>\n",
       "    </tr>\n",
       "  </tbody>\n",
       "</table>\n",
       "<p>69 rows × 5 columns</p>\n",
       "</div>"
      ],
      "text/plain": [
       "    age Body Temp  Chronic disease  Blood O2 Level in Percentage  Anti Bodies\n",
       "0    10  Moderate                0                            97       127181\n",
       "1    80      High                0                            92        61004\n",
       "2    10       Low                0                            97       111911\n",
       "3    81      High                4                            75        39010\n",
       "4    12  Moderate                0                            97       110911\n",
       "..  ...       ...              ...                           ...          ...\n",
       "65   76      High                4                            80        39010\n",
       "66   35  Moderate                0                            92        91141\n",
       "67   13  Moderate                0                            94       112101\n",
       "68   82      High                3                            73        42010\n",
       "69   84      High                3                            75        42099\n",
       "\n",
       "[69 rows x 5 columns]"
      ]
     },
     "execution_count": 10,
     "metadata": {},
     "output_type": "execute_result"
    }
   ],
   "source": [
    "dataset.drop_duplicates(keep='first')"
   ]
  },
  {
   "cell_type": "code",
   "execution_count": 11,
   "metadata": {},
   "outputs": [
    {
     "data": {
      "text/plain": [
       "age                             51\n",
       "Body Temp                        3\n",
       "Chronic disease                  5\n",
       "Blood O2 Level in Percentage    27\n",
       "Anti Bodies                     67\n",
       "dtype: int64"
      ]
     },
     "execution_count": 11,
     "metadata": {},
     "output_type": "execute_result"
    }
   ],
   "source": [
    "dataset.nunique()"
   ]
  },
  {
   "cell_type": "code",
   "execution_count": 13,
   "metadata": {},
   "outputs": [
    {
     "name": "stdout",
     "output_type": "stream",
     "text": [
      "<class 'pandas.core.frame.DataFrame'>\n",
      "RangeIndex: 70 entries, 0 to 69\n",
      "Data columns (total 5 columns):\n",
      " #   Column                        Non-Null Count  Dtype \n",
      "---  ------                        --------------  ----- \n",
      " 0   age                           70 non-null     int64 \n",
      " 1   Body Temp                     70 non-null     object\n",
      " 2   Chronic disease               70 non-null     int64 \n",
      " 3   Blood O2 Level in Percentage  70 non-null     int64 \n",
      " 4   Anti Bodies                   70 non-null     int64 \n",
      "dtypes: int64(4), object(1)\n",
      "memory usage: 2.9+ KB\n"
     ]
    }
   ],
   "source": [
    "dataset.info()"
   ]
  },
  {
   "cell_type": "code",
   "execution_count": 14,
   "metadata": {},
   "outputs": [],
   "source": [
    "\n",
    "X = dataset.iloc[:, :-1].values\n",
    "y = dataset.iloc[:, -1].values"
   ]
  },
  {
   "cell_type": "markdown",
   "metadata": {
    "id": "V9bZq2w39GwP"
   },
   "source": [
    "## Encoding categorical data"
   ]
  },
  {
   "cell_type": "code",
   "execution_count": 15,
   "metadata": {
    "executionInfo": {
     "elapsed": 1005,
     "status": "ok",
     "timestamp": 1611820880711,
     "user": {
      "displayName": "Atulya Kaushik",
      "photoUrl": "https://lh3.googleusercontent.com/a-/AOh14GiRxXp1ZXudzP4EK8I1caEPytGwMhFLE7K_SjRwIT6USNwHgA1a7sSMc4e_OlrcpUlHF_BjwrT1QMfCG_Ct16q8fcPMXelukT1oCRGwjza75lHn5yePJ9LHRsu7cZIyfzpqd9N9sdnQdRGvLFcK6gf2oLqAU5dFQEwM2_xbCWQIaIi8D09ObAKuJZyELVoQMJm2cm2NtFv1Tdhicp0wL5nJ9p8NYhrCBgMVE8Pu22nGBtSFRmuhuQNU-zl5emqqSo1581BmUnQOv37V2Di3dq_HK0CDNWBeGm4cwXcKE4q0dpPdS7S50JKXszyuYYlXiaaGmqpuBxfpluCBJ952TKNPoywiVE1edSNRXpOxK9WFzwODvAmRDthO1gVXgxBgQUAZbdYQF5NCHhVK9HcHFBu_D8e5oKtFUmLSOMYuhX0lVaxMlYmtPuY395GQmK39BNcvAwVwF4OCio843RvHJcCnsfWH1HismC85T69TFisNM5th7MN9XS_WOXeD9LBqh-JmzY57oy6d8H7Zol5EHa_1QW4XMJiA7ihuKJruxaVyhFJe3cYAgSetVlXVZXb7Bvz0mp4H4EhA99nYXIlYY08IyEDtmvVo_HNK-6qlf0SkVsMbXrx4-MukLX-TeT9cT7270W4720E4iUpoelBARzn1ZROR8Yy6xikqkAetrWltUKHEW1GQleyI1uFc8bRpvTkj6pgIbLVbceXTw7APQCuR8GP-Bs-36JRVLJ9iESqgBO2rPOKowtJa-WIFlGAvAHuPEQ=s64",
      "userId": "16390917540151948122"
     },
     "user_tz": -330
    },
    "id": "rrnDb2H8ALZh"
   },
   "outputs": [],
   "source": [
    "from sklearn.compose import ColumnTransformer\n",
    "from sklearn.preprocessing import OneHotEncoder\n",
    "ct = ColumnTransformer(transformers = [('encoder', OneHotEncoder(),[1])], remainder = 'passthrough')\n",
    "X = np.array(ct.fit_transform(X))"
   ]
  },
  {
   "cell_type": "code",
   "execution_count": 8,
   "metadata": {
    "colab": {
     "base_uri": "https://localhost:8080/"
    },
    "executionInfo": {
     "elapsed": 1019,
     "status": "ok",
     "timestamp": 1611820886781,
     "user": {
      "displayName": "Atulya Kaushik",
      "photoUrl": "https://lh3.googleusercontent.com/a-/AOh14GiRxXp1ZXudzP4EK8I1caEPytGwMhFLE7K_SjRwIT6USNwHgA1a7sSMc4e_OlrcpUlHF_BjwrT1QMfCG_Ct16q8fcPMXelukT1oCRGwjza75lHn5yePJ9LHRsu7cZIyfzpqd9N9sdnQdRGvLFcK6gf2oLqAU5dFQEwM2_xbCWQIaIi8D09ObAKuJZyELVoQMJm2cm2NtFv1Tdhicp0wL5nJ9p8NYhrCBgMVE8Pu22nGBtSFRmuhuQNU-zl5emqqSo1581BmUnQOv37V2Di3dq_HK0CDNWBeGm4cwXcKE4q0dpPdS7S50JKXszyuYYlXiaaGmqpuBxfpluCBJ952TKNPoywiVE1edSNRXpOxK9WFzwODvAmRDthO1gVXgxBgQUAZbdYQF5NCHhVK9HcHFBu_D8e5oKtFUmLSOMYuhX0lVaxMlYmtPuY395GQmK39BNcvAwVwF4OCio843RvHJcCnsfWH1HismC85T69TFisNM5th7MN9XS_WOXeD9LBqh-JmzY57oy6d8H7Zol5EHa_1QW4XMJiA7ihuKJruxaVyhFJe3cYAgSetVlXVZXb7Bvz0mp4H4EhA99nYXIlYY08IyEDtmvVo_HNK-6qlf0SkVsMbXrx4-MukLX-TeT9cT7270W4720E4iUpoelBARzn1ZROR8Yy6xikqkAetrWltUKHEW1GQleyI1uFc8bRpvTkj6pgIbLVbceXTw7APQCuR8GP-Bs-36JRVLJ9iESqgBO2rPOKowtJa-WIFlGAvAHuPEQ=s64",
      "userId": "16390917540151948122"
     },
     "user_tz": -330
    },
    "id": "ScHjxImAAtnb",
    "outputId": "2116d7c4-4467-4aa8-a35e-5e71d4c8d8e4"
   },
   "outputs": [
    {
     "name": "stdout",
     "output_type": "stream",
     "text": [
      "[[0.0 0.0 1.0 10 0 97]\n",
      " [1.0 0.0 0.0 80 0 92]\n",
      " [0.0 1.0 0.0 10 0 97]\n",
      " [1.0 0.0 0.0 81 4 75]\n",
      " [0.0 0.0 1.0 12 0 97]\n",
      " [0.0 1.0 0.0 18 0 66]\n",
      " [0.0 0.0 1.0 13 0 93]\n",
      " [1.0 0.0 0.0 94 4 64]\n",
      " [1.0 0.0 0.0 86 2 76]\n",
      " [0.0 0.0 1.0 20 0 92]\n",
      " [0.0 0.0 1.0 15 0 94]\n",
      " [0.0 0.0 1.0 15 0 92]\n",
      " [0.0 1.0 0.0 16 0 92]\n",
      " [0.0 0.0 1.0 17 0 93]\n",
      " [0.0 0.0 1.0 18 0 93]\n",
      " [0.0 0.0 1.0 19 0 92]\n",
      " [0.0 0.0 1.0 19 0 89]\n",
      " [0.0 0.0 1.0 12 0 97]\n",
      " [0.0 0.0 1.0 20 0 93]\n",
      " [0.0 0.0 1.0 24 0 92]\n",
      " [0.0 0.0 1.0 25 0 93]\n",
      " [1.0 0.0 0.0 59 2 68]\n",
      " [1.0 0.0 0.0 63 1 66]\n",
      " [0.0 0.0 1.0 25 1 62]\n",
      " [1.0 0.0 0.0 26 0 94]\n",
      " [0.0 1.0 0.0 26 0 97]\n",
      " [0.0 0.0 1.0 28 0 99]\n",
      " [1.0 0.0 0.0 59 0 69]\n",
      " [0.0 0.0 1.0 28 0 89]\n",
      " [0.0 0.0 1.0 29 0 93]\n",
      " [0.0 0.0 1.0 48 0 93]\n",
      " [0.0 0.0 1.0 30 0 62]\n",
      " [0.0 0.0 1.0 30 0 86]\n",
      " [0.0 0.0 1.0 32 0 84]\n",
      " [0.0 0.0 1.0 34 1 90]\n",
      " [0.0 0.0 1.0 35 0 89]\n",
      " [1.0 0.0 0.0 50 2 77]\n",
      " [1.0 0.0 0.0 56 2 76]\n",
      " [1.0 0.0 0.0 56 1 77]\n",
      " [1.0 0.0 0.0 36 1 90]\n",
      " [1.0 0.0 0.0 38 2 75]\n",
      " [0.0 0.0 1.0 40 0 90]\n",
      " [1.0 0.0 0.0 40 0 92]\n",
      " [1.0 0.0 0.0 61 2 76]\n",
      " [1.0 0.0 0.0 42 0 92]\n",
      " [1.0 0.0 0.0 46 0 91]\n",
      " [0.0 0.0 1.0 49 0 80]\n",
      " [1.0 0.0 0.0 52 1 80]\n",
      " [0.0 0.0 1.0 32 0 89]\n",
      " [1.0 0.0 0.0 53 1 55]\n",
      " [1.0 0.0 0.0 54 1 70]\n",
      " [1.0 0.0 0.0 90 3 67]\n",
      " [1.0 0.0 0.0 78 2 71]\n",
      " [1.0 0.0 0.0 58 0 70]\n",
      " [1.0 0.0 0.0 60 1 68]\n",
      " [0.0 0.0 1.0 61 0 90]\n",
      " [1.0 0.0 0.0 62 1 68]\n",
      " [1.0 0.0 0.0 86 3 71]\n",
      " [1.0 0.0 0.0 62 2 69]\n",
      " [1.0 0.0 0.0 64 1 73]\n",
      " [1.0 0.0 0.0 68 1 67]\n",
      " [1.0 0.0 0.0 69 0 53]\n",
      " [0.0 0.0 1.0 70 1 88]\n",
      " [1.0 0.0 0.0 74 2 75]\n",
      " [1.0 0.0 0.0 75 1 72]\n",
      " [1.0 0.0 0.0 76 4 80]\n",
      " [0.0 0.0 1.0 35 0 92]\n",
      " [0.0 0.0 1.0 13 0 94]\n",
      " [1.0 0.0 0.0 82 3 73]\n",
      " [1.0 0.0 0.0 84 3 75]]\n"
     ]
    }
   ],
   "source": [
    "print(X)"
   ]
  },
  {
   "cell_type": "markdown",
   "metadata": {
    "id": "2vBbKI1BUilB"
   },
   "source": [
    "## Splitting into test and training set"
   ]
  },
  {
   "cell_type": "code",
   "execution_count": 16,
   "metadata": {
    "executionInfo": {
     "elapsed": 1033,
     "status": "ok",
     "timestamp": 1611822427977,
     "user": {
      "displayName": "Atulya Kaushik",
      "photoUrl": "https://lh3.googleusercontent.com/a-/AOh14GiRxXp1ZXudzP4EK8I1caEPytGwMhFLE7K_SjRwIT6USNwHgA1a7sSMc4e_OlrcpUlHF_BjwrT1QMfCG_Ct16q8fcPMXelukT1oCRGwjza75lHn5yePJ9LHRsu7cZIyfzpqd9N9sdnQdRGvLFcK6gf2oLqAU5dFQEwM2_xbCWQIaIi8D09ObAKuJZyELVoQMJm2cm2NtFv1Tdhicp0wL5nJ9p8NYhrCBgMVE8Pu22nGBtSFRmuhuQNU-zl5emqqSo1581BmUnQOv37V2Di3dq_HK0CDNWBeGm4cwXcKE4q0dpPdS7S50JKXszyuYYlXiaaGmqpuBxfpluCBJ952TKNPoywiVE1edSNRXpOxK9WFzwODvAmRDthO1gVXgxBgQUAZbdYQF5NCHhVK9HcHFBu_D8e5oKtFUmLSOMYuhX0lVaxMlYmtPuY395GQmK39BNcvAwVwF4OCio843RvHJcCnsfWH1HismC85T69TFisNM5th7MN9XS_WOXeD9LBqh-JmzY57oy6d8H7Zol5EHa_1QW4XMJiA7ihuKJruxaVyhFJe3cYAgSetVlXVZXb7Bvz0mp4H4EhA99nYXIlYY08IyEDtmvVo_HNK-6qlf0SkVsMbXrx4-MukLX-TeT9cT7270W4720E4iUpoelBARzn1ZROR8Yy6xikqkAetrWltUKHEW1GQleyI1uFc8bRpvTkj6pgIbLVbceXTw7APQCuR8GP-Bs-36JRVLJ9iESqgBO2rPOKowtJa-WIFlGAvAHuPEQ=s64",
      "userId": "16390917540151948122"
     },
     "user_tz": -330
    },
    "id": "4_S1rBJM-z8U"
   },
   "outputs": [],
   "source": [
    "from sklearn.model_selection import train_test_split\n",
    "X_train, X_test, y_train, y_test = train_test_split(X, y, test_size = 0.4, random_state = 0)"
   ]
  },
  {
   "cell_type": "markdown",
   "metadata": {
    "id": "K6uEL0b5Utac"
   },
   "source": [
    "## Training the Multiple Linear Regression model on the Training set"
   ]
  },
  {
   "cell_type": "code",
   "execution_count": 17,
   "metadata": {
    "colab": {
     "base_uri": "https://localhost:8080/"
    },
    "executionInfo": {
     "elapsed": 1200,
     "status": "ok",
     "timestamp": 1611822430313,
     "user": {
      "displayName": "Atulya Kaushik",
      "photoUrl": "https://lh3.googleusercontent.com/a-/AOh14GiRxXp1ZXudzP4EK8I1caEPytGwMhFLE7K_SjRwIT6USNwHgA1a7sSMc4e_OlrcpUlHF_BjwrT1QMfCG_Ct16q8fcPMXelukT1oCRGwjza75lHn5yePJ9LHRsu7cZIyfzpqd9N9sdnQdRGvLFcK6gf2oLqAU5dFQEwM2_xbCWQIaIi8D09ObAKuJZyELVoQMJm2cm2NtFv1Tdhicp0wL5nJ9p8NYhrCBgMVE8Pu22nGBtSFRmuhuQNU-zl5emqqSo1581BmUnQOv37V2Di3dq_HK0CDNWBeGm4cwXcKE4q0dpPdS7S50JKXszyuYYlXiaaGmqpuBxfpluCBJ952TKNPoywiVE1edSNRXpOxK9WFzwODvAmRDthO1gVXgxBgQUAZbdYQF5NCHhVK9HcHFBu_D8e5oKtFUmLSOMYuhX0lVaxMlYmtPuY395GQmK39BNcvAwVwF4OCio843RvHJcCnsfWH1HismC85T69TFisNM5th7MN9XS_WOXeD9LBqh-JmzY57oy6d8H7Zol5EHa_1QW4XMJiA7ihuKJruxaVyhFJe3cYAgSetVlXVZXb7Bvz0mp4H4EhA99nYXIlYY08IyEDtmvVo_HNK-6qlf0SkVsMbXrx4-MukLX-TeT9cT7270W4720E4iUpoelBARzn1ZROR8Yy6xikqkAetrWltUKHEW1GQleyI1uFc8bRpvTkj6pgIbLVbceXTw7APQCuR8GP-Bs-36JRVLJ9iESqgBO2rPOKowtJa-WIFlGAvAHuPEQ=s64",
      "userId": "16390917540151948122"
     },
     "user_tz": -330
    },
    "id": "TdY6tls4A5Q1",
    "outputId": "eafbb709-5adb-4a72-e4bc-d67a797eb8c5"
   },
   "outputs": [
    {
     "data": {
      "text/plain": [
       "LinearRegression()"
      ]
     },
     "execution_count": 17,
     "metadata": {},
     "output_type": "execute_result"
    }
   ],
   "source": [
    "from sklearn.linear_model import LinearRegression\n",
    "regressor = LinearRegression()\n",
    "regressor.fit(X_train, y_train)"
   ]
  },
  {
   "cell_type": "markdown",
   "metadata": {
    "id": "RyRva69qUzBK"
   },
   "source": [
    "## Predicting the Test set results"
   ]
  },
  {
   "cell_type": "code",
   "execution_count": 18,
   "metadata": {
    "colab": {
     "base_uri": "https://localhost:8080/"
    },
    "executionInfo": {
     "elapsed": 1038,
     "status": "ok",
     "timestamp": 1611822432960,
     "user": {
      "displayName": "Atulya Kaushik",
      "photoUrl": "https://lh3.googleusercontent.com/a-/AOh14GiRxXp1ZXudzP4EK8I1caEPytGwMhFLE7K_SjRwIT6USNwHgA1a7sSMc4e_OlrcpUlHF_BjwrT1QMfCG_Ct16q8fcPMXelukT1oCRGwjza75lHn5yePJ9LHRsu7cZIyfzpqd9N9sdnQdRGvLFcK6gf2oLqAU5dFQEwM2_xbCWQIaIi8D09ObAKuJZyELVoQMJm2cm2NtFv1Tdhicp0wL5nJ9p8NYhrCBgMVE8Pu22nGBtSFRmuhuQNU-zl5emqqSo1581BmUnQOv37V2Di3dq_HK0CDNWBeGm4cwXcKE4q0dpPdS7S50JKXszyuYYlXiaaGmqpuBxfpluCBJ952TKNPoywiVE1edSNRXpOxK9WFzwODvAmRDthO1gVXgxBgQUAZbdYQF5NCHhVK9HcHFBu_D8e5oKtFUmLSOMYuhX0lVaxMlYmtPuY395GQmK39BNcvAwVwF4OCio843RvHJcCnsfWH1HismC85T69TFisNM5th7MN9XS_WOXeD9LBqh-JmzY57oy6d8H7Zol5EHa_1QW4XMJiA7ihuKJruxaVyhFJe3cYAgSetVlXVZXb7Bvz0mp4H4EhA99nYXIlYY08IyEDtmvVo_HNK-6qlf0SkVsMbXrx4-MukLX-TeT9cT7270W4720E4iUpoelBARzn1ZROR8Yy6xikqkAetrWltUKHEW1GQleyI1uFc8bRpvTkj6pgIbLVbceXTw7APQCuR8GP-Bs-36JRVLJ9iESqgBO2rPOKowtJa-WIFlGAvAHuPEQ=s64",
      "userId": "16390917540151948122"
     },
     "user_tz": -330
    },
    "id": "oWdAcCHvFK0O",
    "outputId": "fa3f9ea8-7d36-4a0c-c10f-fb8608b3a8ed"
   },
   "outputs": [
    {
     "name": "stdout",
     "output_type": "stream",
     "text": [
      "[[ 98523.191  93010.   ]\n",
      " [ 65402.264  66019.   ]\n",
      " [ 91633.957  91019.   ]\n",
      " [ 59006.199  59994.   ]\n",
      " [ 83371.86   83891.   ]\n",
      " [ 37389.494  46016.   ]\n",
      " [ 30993.428  37914.   ]\n",
      " [ 61449.821  62001.   ]\n",
      " [ 88243.989  90001.   ]\n",
      " [ 44653.711  42099.   ]\n",
      " [ 60509.248  61018.   ]\n",
      " [ 94138.001  93091.   ]\n",
      " [ 81045.966  75012.   ]\n",
      " [ 87382.408  88012.   ]\n",
      " [ 89441.362  90015.   ]\n",
      " [ 73918.161  71191.   ]\n",
      " [ 45028.695  42010.   ]\n",
      " [ 64830.56   67019.   ]\n",
      " [ 62066.945  62019.   ]\n",
      " [107662.326 110911.   ]\n",
      " [ 49277.928  39010.   ]\n",
      " [ 66394.372  61082.   ]\n",
      " [110895.003 111911.   ]\n",
      " [ 76026.676  78004.   ]\n",
      " [103591.699 102019.   ]\n",
      " [ 43955.278  39010.   ]\n",
      " [ 61761.269  62019.   ]\n",
      " [ 83187.824  84008.   ]]\n"
     ]
    }
   ],
   "source": [
    "y_pred = regressor.predict(X_test)\n",
    "np.set_printoptions(precision= 3)\n",
    "print(np.concatenate((y_pred.reshape(len(y_pred), 1), y_test.reshape(len(y_test),1)), 1))"
   ]
  },
  {
   "cell_type": "markdown",
   "metadata": {
    "id": "uziF7cmeU4tJ"
   },
   "source": [
    "## Visualizing results"
   ]
  },
  {
   "cell_type": "code",
   "execution_count": 32,
   "metadata": {
    "colab": {
     "base_uri": "https://localhost:8080/",
     "height": 265
    },
    "executionInfo": {
     "elapsed": 1279,
     "status": "ok",
     "timestamp": 1611822440784,
     "user": {
      "displayName": "Atulya Kaushik",
      "photoUrl": "https://lh3.googleusercontent.com/a-/AOh14GiRxXp1ZXudzP4EK8I1caEPytGwMhFLE7K_SjRwIT6USNwHgA1a7sSMc4e_OlrcpUlHF_BjwrT1QMfCG_Ct16q8fcPMXelukT1oCRGwjza75lHn5yePJ9LHRsu7cZIyfzpqd9N9sdnQdRGvLFcK6gf2oLqAU5dFQEwM2_xbCWQIaIi8D09ObAKuJZyELVoQMJm2cm2NtFv1Tdhicp0wL5nJ9p8NYhrCBgMVE8Pu22nGBtSFRmuhuQNU-zl5emqqSo1581BmUnQOv37V2Di3dq_HK0CDNWBeGm4cwXcKE4q0dpPdS7S50JKXszyuYYlXiaaGmqpuBxfpluCBJ952TKNPoywiVE1edSNRXpOxK9WFzwODvAmRDthO1gVXgxBgQUAZbdYQF5NCHhVK9HcHFBu_D8e5oKtFUmLSOMYuhX0lVaxMlYmtPuY395GQmK39BNcvAwVwF4OCio843RvHJcCnsfWH1HismC85T69TFisNM5th7MN9XS_WOXeD9LBqh-JmzY57oy6d8H7Zol5EHa_1QW4XMJiA7ihuKJruxaVyhFJe3cYAgSetVlXVZXb7Bvz0mp4H4EhA99nYXIlYY08IyEDtmvVo_HNK-6qlf0SkVsMbXrx4-MukLX-TeT9cT7270W4720E4iUpoelBARzn1ZROR8Yy6xikqkAetrWltUKHEW1GQleyI1uFc8bRpvTkj6pgIbLVbceXTw7APQCuR8GP-Bs-36JRVLJ9iESqgBO2rPOKowtJa-WIFlGAvAHuPEQ=s64",
      "userId": "16390917540151948122"
     },
     "user_tz": -330
    },
    "id": "5Mw6nKnxGZ7y",
    "outputId": "610eb973-b57f-4c69-e9ea-186bbc27a2c0"
   },
   "outputs": [
    {
     "data": {
      "image/png": "[encoded data removed]",
      "text/plain": [
       "<Figure size 432x288 with 1 Axes>"
      ]
     },
     "metadata": {
      "needs_background": "light",
      "tags": []
     },
     "output_type": "display_data"
    }
   ],
   "source": [
    "plt.plot(y_pred)\n",
    "plt.plot(y_test)\n",
    "plt.show()"
   ]
  }
 ],
 "metadata": {
  "colab": {
   "authorship_tag": "ABX9TyMsX0vIdquyq6kS1BA4r7HQ",
   "name": "Multiple Linear Regression Working Copy.ipynb",
   "provenance": [],
   "toc_visible": true
  },
  "kernelspec": {
   "display_name": "Python 3 (ipykernel)",
   "language": "python",
   "name": "python3"
  },
  "language_info": {
   "codemirror_mode": {
    "name": "ipython",
    "version": 3
   },
   "file_extension": ".py",
   "mimetype": "text/x-python",
   "name": "python",
   "nbconvert_exporter": "python",
   "pygments_lexer": "ipython3",
   "version": "3.9.13"
  }
 },
 "nbformat": 4,
 "nbformat_minor": 1
}
