{
 "cells": [
  {
   "cell_type": "markdown",
   "metadata": {
    "id": "FB7mg-9WUSAn"
   },
   "source": [
    "# Simple Linear Regression "
   ]
  },
  {
   "cell_type": "markdown",
   "metadata": {
    "id": "zcXufiytUV3b"
   },
   "source": [
    "## Importing Libraries"
   ]
  },
  {
   "cell_type": "code",
   "execution_count": 1,
   "metadata": {
    "executionInfo": {
     "elapsed": 3081,
     "status": "ok",
     "timestamp": 1611814796474,
     "user": {
      "displayName": "Atulya Kaushik",
      "photoUrl": "https://lh3.googleusercontent.com/a-/AOh14GirtptE5omzkLBcSjhjZ7G8fr78MCKPjGu8YQtNr4TC5CIilXbI6Xc5Xc1D9C7PXGr4jxcdLGdNvi5sJXvRb62bB4VXJaNgIhbjbAmWiEhFyvb9Pd1InZDbAiZBwQfxhbsW8r-_7sAHvZQln76vCyqGTwobQITE--CP1v8AOt2-4pE6OEhqOKV9Ib5dtrIcGn_oVMElqIVImQajW4ybtVxkiXLdykUSBaVeZbvhRbCP78jr5iaMQKKsRJAkdtfvUfM_v4jcnZZo4AynPW2N2kL3KnkODndPjmJC3l7brOavtKYdShoKiQH1zHd7bclRQullLEQAHXR8zto3-M-EuAyjqd4mkf1tSl5E801jKCZYe3WeTD_7tHoBcRCr8kU79L8WwI6qcIhTzRp2K_2d3lVC2p-NxWPWvcsVEf95xe4kmknFor5KCljvA4IFx8-ZVVra2Rrj87FPq-IuF0TRfWWeJIDlG-XY0Gj67WFUCnKe65eZWavNjQRbPLJSiZjOghi5VDqHvwsI7-xF4DaeH_d6x_27paJQE_787DJvveeo29A078A2nL2ZucSZubu0PNixsZOUbNv7V17j8F1vfYHg3D_xjAH3ACgB8dVadrxnmiZxnPbeCBq5Ac6yeXTRLIz9Oo5b4eC5_NCISp-Iow9VCiUBmq7TcvdQP9qEha5iircK96KUs4hveE5Q0H3Wne-5WPVh_iqUfdlIx8usULktWyrE-yQ5zUjnmR3wllOem_3Zm-8bKFMGvszmvtj2HSr-Dg=s64",
      "userId": "16390917540151948122"
     },
     "user_tz": -330
    },
    "id": "E8gwdYnqpeXM"
   },
   "outputs": [],
   "source": [
    "import numpy as np\n",
    "import matplotlib.pyplot as plt\n",
    "import pandas as pd"
   ]
  },
  {
   "cell_type": "markdown",
   "metadata": {
    "id": "x1V8I7-1Ugu8"
   },
   "source": [
    "## Importing Data Set"
   ]
  },
  {
   "cell_type": "code",
   "execution_count": 4,
   "metadata": {
    "executionInfo": {
     "elapsed": 992,
     "status": "ok",
     "timestamp": 1611814964666,
     "user": {
      "displayName": "Atulya Kaushik",
      "photoUrl": "https://lh3.googleusercontent.com/a-/AOh14GirtptE5omzkLBcSjhjZ7G8fr78MCKPjGu8YQtNr4TC5CIilXbI6Xc5Xc1D9C7PXGr4jxcdLGdNvi5sJXvRb62bB4VXJaNgIhbjbAmWiEhFyvb9Pd1InZDbAiZBwQfxhbsW8r-_7sAHvZQln76vCyqGTwobQITE--CP1v8AOt2-4pE6OEhqOKV9Ib5dtrIcGn_oVMElqIVImQajW4ybtVxkiXLdykUSBaVeZbvhRbCP78jr5iaMQKKsRJAkdtfvUfM_v4jcnZZo4AynPW2N2kL3KnkODndPjmJC3l7brOavtKYdShoKiQH1zHd7bclRQullLEQAHXR8zto3-M-EuAyjqd4mkf1tSl5E801jKCZYe3WeTD_7tHoBcRCr8kU79L8WwI6qcIhTzRp2K_2d3lVC2p-NxWPWvcsVEf95xe4kmknFor5KCljvA4IFx8-ZVVra2Rrj87FPq-IuF0TRfWWeJIDlG-XY0Gj67WFUCnKe65eZWavNjQRbPLJSiZjOghi5VDqHvwsI7-xF4DaeH_d6x_27paJQE_787DJvveeo29A078A2nL2ZucSZubu0PNixsZOUbNv7V17j8F1vfYHg3D_xjAH3ACgB8dVadrxnmiZxnPbeCBq5Ac6yeXTRLIz9Oo5b4eC5_NCISp-Iow9VCiUBmq7TcvdQP9qEha5iircK96KUs4hveE5Q0H3Wne-5WPVh_iqUfdlIx8usULktWyrE-yQ5zUjnmR3wllOem_3Zm-8bKFMGvszmvtj2HSr-Dg=s64",
      "userId": "16390917540151948122"
     },
     "user_tz": -330
    },
    "id": "WHKG6Ow4pgRC"
   },
   "outputs": [],
   "source": [
    "data_set = pd.read_csv(\"../Simple Linear Regression.csv\")\n",
    "X = data_set.iloc[:, :-1].values\n",
    "y = data_set.iloc[:, -1].values"
   ]
  },
  {
   "cell_type": "markdown",
   "metadata": {},
   "source": [
    "## Checking Data"
   ]
  },
  {
   "cell_type": "code",
   "execution_count": 13,
   "metadata": {},
   "outputs": [
    {
     "data": {
      "text/html": [
       "<div>\n",
       "<style scoped>\n",
       "    .dataframe tbody tr th:only-of-type {\n",
       "        vertical-align: middle;\n",
       "    }\n",
       "\n",
       "    .dataframe tbody tr th {\n",
       "        vertical-align: top;\n",
       "    }\n",
       "\n",
       "    .dataframe thead th {\n",
       "        text-align: right;\n",
       "    }\n",
       "</style>\n",
       "<table border=\"1\" class=\"dataframe\">\n",
       "  <thead>\n",
       "    <tr style=\"text-align: right;\">\n",
       "      <th></th>\n",
       "      <th>years_experience</th>\n",
       "      <th>salary</th>\n",
       "    </tr>\n",
       "  </thead>\n",
       "  <tbody>\n",
       "    <tr>\n",
       "      <th>0</th>\n",
       "      <td>1.0</td>\n",
       "      <td>325000</td>\n",
       "    </tr>\n",
       "    <tr>\n",
       "      <th>1</th>\n",
       "      <td>1.2</td>\n",
       "      <td>361259</td>\n",
       "    </tr>\n",
       "    <tr>\n",
       "      <th>2</th>\n",
       "      <td>1.6</td>\n",
       "      <td>340000</td>\n",
       "    </tr>\n",
       "    <tr>\n",
       "      <th>3</th>\n",
       "      <td>2.0</td>\n",
       "      <td>414101</td>\n",
       "    </tr>\n",
       "    <tr>\n",
       "      <th>4</th>\n",
       "      <td>2.3</td>\n",
       "      <td>405000</td>\n",
       "    </tr>\n",
       "  </tbody>\n",
       "</table>\n",
       "</div>"
      ],
      "text/plain": [
       "   years_experience  salary\n",
       "0               1.0  325000\n",
       "1               1.2  361259\n",
       "2               1.6  340000\n",
       "3               2.0  414101\n",
       "4               2.3  405000"
      ]
     },
     "execution_count": 13,
     "metadata": {},
     "output_type": "execute_result"
    }
   ],
   "source": [
    "data_set.head()"
   ]
  },
  {
   "cell_type": "code",
   "execution_count": 16,
   "metadata": {},
   "outputs": [
    {
     "data": {
      "text/plain": [
       "(25, 2)"
      ]
     },
     "execution_count": 16,
     "metadata": {},
     "output_type": "execute_result"
    }
   ],
   "source": [
    "data_set.shape"
   ]
  },
  {
   "cell_type": "code",
   "execution_count": 18,
   "metadata": {},
   "outputs": [
    {
     "data": {
      "text/plain": [
       "years_experience    0\n",
       "salary              0\n",
       "dtype: int64"
      ]
     },
     "execution_count": 18,
     "metadata": {},
     "output_type": "execute_result"
    }
   ],
   "source": [
    "data_set.isna().sum()"
   ]
  },
  {
   "cell_type": "code",
   "execution_count": 23,
   "metadata": {},
   "outputs": [
    {
     "data": {
      "text/plain": [
       "0"
      ]
     },
     "execution_count": 23,
     "metadata": {},
     "output_type": "execute_result"
    }
   ],
   "source": [
    "data_set.duplicated().sum()"
   ]
  },
  {
   "cell_type": "code",
   "execution_count": 24,
   "metadata": {},
   "outputs": [
    {
     "name": "stdout",
     "output_type": "stream",
     "text": [
      "<class 'pandas.core.frame.DataFrame'>\n",
      "RangeIndex: 25 entries, 0 to 24\n",
      "Data columns (total 2 columns):\n",
      " #   Column            Non-Null Count  Dtype  \n",
      "---  ------            --------------  -----  \n",
      " 0   years_experience  25 non-null     float64\n",
      " 1   salary            25 non-null     int64  \n",
      "dtypes: float64(1), int64(1)\n",
      "memory usage: 528.0 bytes\n"
     ]
    }
   ],
   "source": [
    "data_set.info()"
   ]
  },
  {
   "cell_type": "code",
   "execution_count": 25,
   "metadata": {},
   "outputs": [
    {
     "data": {
      "text/plain": [
       "years_experience    24\n",
       "salary              25\n",
       "dtype: int64"
      ]
     },
     "execution_count": 25,
     "metadata": {},
     "output_type": "execute_result"
    }
   ],
   "source": [
    "data_set.nunique()"
   ]
  },
  {
   "cell_type": "markdown",
   "metadata": {
    "id": "2vBbKI1BUilB"
   },
   "source": [
    "## Splitting into test and training set"
   ]
  },
  {
   "cell_type": "code",
   "execution_count": 26,
   "metadata": {
    "executionInfo": {
     "elapsed": 1244,
     "status": "ok",
     "timestamp": 1611815105764,
     "user": {
      "displayName": "Atulya Kaushik",
      "photoUrl": "https://lh3.googleusercontent.com/a-/AOh14GirtptE5omzkLBcSjhjZ7G8fr78MCKPjGu8YQtNr4TC5CIilXbI6Xc5Xc1D9C7PXGr4jxcdLGdNvi5sJXvRb62bB4VXJaNgIhbjbAmWiEhFyvb9Pd1InZDbAiZBwQfxhbsW8r-_7sAHvZQln76vCyqGTwobQITE--CP1v8AOt2-4pE6OEhqOKV9Ib5dtrIcGn_oVMElqIVImQajW4ybtVxkiXLdykUSBaVeZbvhRbCP78jr5iaMQKKsRJAkdtfvUfM_v4jcnZZo4AynPW2N2kL3KnkODndPjmJC3l7brOavtKYdShoKiQH1zHd7bclRQullLEQAHXR8zto3-M-EuAyjqd4mkf1tSl5E801jKCZYe3WeTD_7tHoBcRCr8kU79L8WwI6qcIhTzRp2K_2d3lVC2p-NxWPWvcsVEf95xe4kmknFor5KCljvA4IFx8-ZVVra2Rrj87FPq-IuF0TRfWWeJIDlG-XY0Gj67WFUCnKe65eZWavNjQRbPLJSiZjOghi5VDqHvwsI7-xF4DaeH_d6x_27paJQE_787DJvveeo29A078A2nL2ZucSZubu0PNixsZOUbNv7V17j8F1vfYHg3D_xjAH3ACgB8dVadrxnmiZxnPbeCBq5Ac6yeXTRLIz9Oo5b4eC5_NCISp-Iow9VCiUBmq7TcvdQP9qEha5iircK96KUs4hveE5Q0H3Wne-5WPVh_iqUfdlIx8usULktWyrE-yQ5zUjnmR3wllOem_3Zm-8bKFMGvszmvtj2HSr-Dg=s64",
      "userId": "16390917540151948122"
     },
     "user_tz": -330
    },
    "id": "kJuYYND3qOPN"
   },
   "outputs": [],
   "source": [
    "from sklearn.model_selection import train_test_split\n",
    "X_train, X_test, y_train, y_test = train_test_split(X, y, test_size = 0.3, random_state = 42)"
   ]
  },
  {
   "cell_type": "markdown",
   "metadata": {
    "id": "K6uEL0b5Utac"
   },
   "source": [
    "## Training on Training Set using Simple Linear Regression"
   ]
  },
  {
   "cell_type": "code",
   "execution_count": 27,
   "metadata": {
    "colab": {
     "base_uri": "https://localhost:8080/"
    },
    "executionInfo": {
     "elapsed": 999,
     "status": "ok",
     "timestamp": 1611815796523,
     "user": {
      "displayName": "Atulya Kaushik",
      "photoUrl": "https://lh3.googleusercontent.com/a-/AOh14GirtptE5omzkLBcSjhjZ7G8fr78MCKPjGu8YQtNr4TC5CIilXbI6Xc5Xc1D9C7PXGr4jxcdLGdNvi5sJXvRb62bB4VXJaNgIhbjbAmWiEhFyvb9Pd1InZDbAiZBwQfxhbsW8r-_7sAHvZQln76vCyqGTwobQITE--CP1v8AOt2-4pE6OEhqOKV9Ib5dtrIcGn_oVMElqIVImQajW4ybtVxkiXLdykUSBaVeZbvhRbCP78jr5iaMQKKsRJAkdtfvUfM_v4jcnZZo4AynPW2N2kL3KnkODndPjmJC3l7brOavtKYdShoKiQH1zHd7bclRQullLEQAHXR8zto3-M-EuAyjqd4mkf1tSl5E801jKCZYe3WeTD_7tHoBcRCr8kU79L8WwI6qcIhTzRp2K_2d3lVC2p-NxWPWvcsVEf95xe4kmknFor5KCljvA4IFx8-ZVVra2Rrj87FPq-IuF0TRfWWeJIDlG-XY0Gj67WFUCnKe65eZWavNjQRbPLJSiZjOghi5VDqHvwsI7-xF4DaeH_d6x_27paJQE_787DJvveeo29A078A2nL2ZucSZubu0PNixsZOUbNv7V17j8F1vfYHg3D_xjAH3ACgB8dVadrxnmiZxnPbeCBq5Ac6yeXTRLIz9Oo5b4eC5_NCISp-Iow9VCiUBmq7TcvdQP9qEha5iircK96KUs4hveE5Q0H3Wne-5WPVh_iqUfdlIx8usULktWyrE-yQ5zUjnmR3wllOem_3Zm-8bKFMGvszmvtj2HSr-Dg=s64",
      "userId": "16390917540151948122"
     },
     "user_tz": -330
    },
    "id": "Ve1dmoUBs9ZO",
    "outputId": "cf6d9939-645f-4241-89f3-ee7778f2fd8a"
   },
   "outputs": [
    {
     "data": {
      "text/plain": [
       "LinearRegression()"
      ]
     },
     "execution_count": 27,
     "metadata": {},
     "output_type": "execute_result"
    }
   ],
   "source": [
    "from sklearn.linear_model import LinearRegression\n",
    "regressor = LinearRegression()\n",
    "regressor.fit(X_train, y_train)"
   ]
  },
  {
   "cell_type": "markdown",
   "metadata": {
    "id": "RyRva69qUzBK"
   },
   "source": [
    "## Prediction on Test Set"
   ]
  },
  {
   "cell_type": "code",
   "execution_count": 28,
   "metadata": {
    "executionInfo": {
     "elapsed": 1268,
     "status": "ok",
     "timestamp": 1611815855482,
     "user": {
      "displayName": "Atulya Kaushik",
      "photoUrl": "https://lh3.googleusercontent.com/a-/AOh14GirtptE5omzkLBcSjhjZ7G8fr78MCKPjGu8YQtNr4TC5CIilXbI6Xc5Xc1D9C7PXGr4jxcdLGdNvi5sJXvRb62bB4VXJaNgIhbjbAmWiEhFyvb9Pd1InZDbAiZBwQfxhbsW8r-_7sAHvZQln76vCyqGTwobQITE--CP1v8AOt2-4pE6OEhqOKV9Ib5dtrIcGn_oVMElqIVImQajW4ybtVxkiXLdykUSBaVeZbvhRbCP78jr5iaMQKKsRJAkdtfvUfM_v4jcnZZo4AynPW2N2kL3KnkODndPjmJC3l7brOavtKYdShoKiQH1zHd7bclRQullLEQAHXR8zto3-M-EuAyjqd4mkf1tSl5E801jKCZYe3WeTD_7tHoBcRCr8kU79L8WwI6qcIhTzRp2K_2d3lVC2p-NxWPWvcsVEf95xe4kmknFor5KCljvA4IFx8-ZVVra2Rrj87FPq-IuF0TRfWWeJIDlG-XY0Gj67WFUCnKe65eZWavNjQRbPLJSiZjOghi5VDqHvwsI7-xF4DaeH_d6x_27paJQE_787DJvveeo29A078A2nL2ZucSZubu0PNixsZOUbNv7V17j8F1vfYHg3D_xjAH3ACgB8dVadrxnmiZxnPbeCBq5Ac6yeXTRLIz9Oo5b4eC5_NCISp-Iow9VCiUBmq7TcvdQP9qEha5iircK96KUs4hveE5Q0H3Wne-5WPVh_iqUfdlIx8usULktWyrE-yQ5zUjnmR3wllOem_3Zm-8bKFMGvszmvtj2HSr-Dg=s64",
      "userId": "16390917540151948122"
     },
     "user_tz": -330
    },
    "id": "w9plpJPWtU-c"
   },
   "outputs": [],
   "source": [
    "y_pred = regressor.predict(X_test)"
   ]
  },
  {
   "cell_type": "markdown",
   "metadata": {
    "id": "uziF7cmeU4tJ"
   },
   "source": [
    "## Visualizing the Training Set"
   ]
  },
  {
   "cell_type": "code",
   "execution_count": 29,
   "metadata": {
    "colab": {
     "base_uri": "https://localhost:8080/",
     "height": 295
    },
    "executionInfo": {
     "elapsed": 1457,
     "status": "ok",
     "timestamp": 1611815996298,
     "user": {
      "displayName": "Atulya Kaushik",
      "photoUrl": "https://lh3.googleusercontent.com/a-/AOh14GirtptE5omzkLBcSjhjZ7G8fr78MCKPjGu8YQtNr4TC5CIilXbI6Xc5Xc1D9C7PXGr4jxcdLGdNvi5sJXvRb62bB4VXJaNgIhbjbAmWiEhFyvb9Pd1InZDbAiZBwQfxhbsW8r-_7sAHvZQln76vCyqGTwobQITE--CP1v8AOt2-4pE6OEhqOKV9Ib5dtrIcGn_oVMElqIVImQajW4ybtVxkiXLdykUSBaVeZbvhRbCP78jr5iaMQKKsRJAkdtfvUfM_v4jcnZZo4AynPW2N2kL3KnkODndPjmJC3l7brOavtKYdShoKiQH1zHd7bclRQullLEQAHXR8zto3-M-EuAyjqd4mkf1tSl5E801jKCZYe3WeTD_7tHoBcRCr8kU79L8WwI6qcIhTzRp2K_2d3lVC2p-NxWPWvcsVEf95xe4kmknFor5KCljvA4IFx8-ZVVra2Rrj87FPq-IuF0TRfWWeJIDlG-XY0Gj67WFUCnKe65eZWavNjQRbPLJSiZjOghi5VDqHvwsI7-xF4DaeH_d6x_27paJQE_787DJvveeo29A078A2nL2ZucSZubu0PNixsZOUbNv7V17j8F1vfYHg3D_xjAH3ACgB8dVadrxnmiZxnPbeCBq5Ac6yeXTRLIz9Oo5b4eC5_NCISp-Iow9VCiUBmq7TcvdQP9qEha5iircK96KUs4hveE5Q0H3Wne-5WPVh_iqUfdlIx8usULktWyrE-yQ5zUjnmR3wllOem_3Zm-8bKFMGvszmvtj2HSr-Dg=s64",
      "userId": "16390917540151948122"
     },
     "user_tz": -330
    },
    "id": "rMl_51nbtkBc",
    "outputId": "b272b1ea-6c24-424b-9658-b69d8f1c3fde"
   },
   "outputs": [
    {
     "data": {
      "image/png": "[encoded data removed]",
      "text/plain": [
       "<Figure size 640x480 with 1 Axes>"
      ]
     },
     "metadata": {},
     "output_type": "display_data"
    }
   ],
   "source": [
    "plt.scatter(X_train, y_train, color = 'red')\n",
    "plt.plot(X_train, regressor.predict(X_train), color = 'blue')\n",
    "plt.title(\"CTC vs years of experience\")\n",
    "plt.xlabel(\"Experience in years\")\n",
    "plt.ylabel(\"CTC\")\n",
    "plt.show()"
   ]
  },
  {
   "cell_type": "markdown",
   "metadata": {
    "id": "8lWxePS5snZf"
   },
   "source": [
    "## Visualizing the Test Set\n"
   ]
  },
  {
   "cell_type": "code",
   "execution_count": 30,
   "metadata": {
    "colab": {
     "base_uri": "https://localhost:8080/",
     "height": 295
    },
    "executionInfo": {
     "elapsed": 1048,
     "status": "ok",
     "timestamp": 1611816057526,
     "user": {
      "displayName": "Atulya Kaushik",
      "photoUrl": "https://lh3.googleusercontent.com/a-/AOh14GirtptE5omzkLBcSjhjZ7G8fr78MCKPjGu8YQtNr4TC5CIilXbI6Xc5Xc1D9C7PXGr4jxcdLGdNvi5sJXvRb62bB4VXJaNgIhbjbAmWiEhFyvb9Pd1InZDbAiZBwQfxhbsW8r-_7sAHvZQln76vCyqGTwobQITE--CP1v8AOt2-4pE6OEhqOKV9Ib5dtrIcGn_oVMElqIVImQajW4ybtVxkiXLdykUSBaVeZbvhRbCP78jr5iaMQKKsRJAkdtfvUfM_v4jcnZZo4AynPW2N2kL3KnkODndPjmJC3l7brOavtKYdShoKiQH1zHd7bclRQullLEQAHXR8zto3-M-EuAyjqd4mkf1tSl5E801jKCZYe3WeTD_7tHoBcRCr8kU79L8WwI6qcIhTzRp2K_2d3lVC2p-NxWPWvcsVEf95xe4kmknFor5KCljvA4IFx8-ZVVra2Rrj87FPq-IuF0TRfWWeJIDlG-XY0Gj67WFUCnKe65eZWavNjQRbPLJSiZjOghi5VDqHvwsI7-xF4DaeH_d6x_27paJQE_787DJvveeo29A078A2nL2ZucSZubu0PNixsZOUbNv7V17j8F1vfYHg3D_xjAH3ACgB8dVadrxnmiZxnPbeCBq5Ac6yeXTRLIz9Oo5b4eC5_NCISp-Iow9VCiUBmq7TcvdQP9qEha5iircK96KUs4hveE5Q0H3Wne-5WPVh_iqUfdlIx8usULktWyrE-yQ5zUjnmR3wllOem_3Zm-8bKFMGvszmvtj2HSr-Dg=s64",
      "userId": "16390917540151948122"
     },
     "user_tz": -330
    },
    "id": "AMYhG9JMuGtg",
    "outputId": "c8326784-1c47-4ae1-a3c2-5ddac917b91d"
   },
   "outputs": [
    {
     "data": {
      "image/png": "[encoded data removed]",
      "text/plain": [
       "<Figure size 640x480 with 1 Axes>"
      ]
     },
     "metadata": {},
     "output_type": "display_data"
    }
   ],
   "source": [
    "plt.scatter(X_test, y_test, color = 'red')\n",
    "plt.plot(X_train, regressor.predict(X_train), color = 'blue')\n",
    "plt.title(\"CTC vs years of experience\")\n",
    "plt.xlabel(\"Experience in years\")\n",
    "plt.ylabel(\"CTC\")\n",
    "plt.show()"
   ]
  }
 ],
 "metadata": {
  "colab": {
   "authorship_tag": "ABX9TyMoo0TK+/VJjYh021ein5sf",
   "name": "Simple Linear Regression Working Copy.ipynb",
   "provenance": [],
   "toc_visible": true
  },
  "kernelspec": {
   "display_name": "Python 3 (ipykernel)",
   "language": "python",
   "name": "python3"
  },
  "language_info": {
   "codemirror_mode": {
    "name": "ipython",
    "version": 3
   },
   "file_extension": ".py",
   "mimetype": "text/x-python",
   "name": "python",
   "nbconvert_exporter": "python",
   "pygments_lexer": "ipython3",
   "version": "3.9.13"
  }
 },
 "nbformat": 4,
 "nbformat_minor": 1
}
