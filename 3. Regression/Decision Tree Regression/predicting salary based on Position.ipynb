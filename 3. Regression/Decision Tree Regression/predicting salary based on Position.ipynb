{
 "cells": [
  {
   "cell_type": "markdown",
   "metadata": {
    "id": "FB7mg-9WUSAn"
   },
   "source": [
    "# Decision Tree Regression"
   ]
  },
  {
   "cell_type": "markdown",
   "metadata": {
    "id": "zcXufiytUV3b"
   },
   "source": [
    "## Importing Libraries"
   ]
  },
  {
   "cell_type": "code",
   "execution_count": 1,
   "metadata": {
    "executionInfo": {
     "elapsed": 1290,
     "status": "ok",
     "timestamp": 1611905630820,
     "user": {
      "displayName": "Atulya Kaushik",
      "photoUrl": "https://lh3.googleusercontent.com/a-/AOh14GjmrAIpimRFE4585e3hWgyngUWSLlZEYLtGVRpZ6HuajtO5Vlj2PNIEiz_5W2PJwHt_2GFayRNnxnVMd6xgOe9D6klU4jiiar_8UsZQPbfUvgx8Dh_w284KG83Nc62ETT5LSaNDrXCyGXgHT0Imc1azpuY_NTnbuZ3DdtQQmG62iU_O8glcNDcFTrjvwe_n1l_pLJIxAi6eqmIgb6MXh-fCC9b-tsCIMRuXxgobzRQhKpDPt2JT_OZ9IFVVHj1XoNo0YwSeSJvViEnoR_EKirtZsd3Fr9MvOrAzMXXPW_kWWtdecDYhlyVAnt_r6b25rV4JNQxi4V40xJNYhbHTF9qdZ_MeAgS7xQY6FHlVS-k1JFrB7ldoaudP6MatpyOw5X7UTPqTQVPZnhLe56v15g5CMGZ2zZHoIy_Mzhe6LW-7c4SbLVaGfrzzI_DEgTZwjwMss-jrzxsUdA_xyc3m2-xjDXdlqNu9LFioKq4fJCOum3o7cnEwQlgKbIYCiC2dycML6aNnja5m3mevuXUiNMR2BI3GBTllui84ZEgMPNtdz7Gwx2WJnhrwPeT9LtIqkUkr1gv03N11EE19Xsbaa61aI-eFVJe6SATv_sj0d4TWWReTrC21-i7vzW8AexjHgveuqpJRTXzWoeS8XYeyHuvqQxRXaACijESfYVS_TfH2-fwRIuVKLV0wfBwyrASR60Kcu9f6Xfpg3fcsKFi4v56cq6ftzigZubsweWiKmPUBImPVCXK-Q7wMDzWnxyJv5Qze5Q=s64",
      "userId": "16390917540151948122"
     },
     "user_tz": -330
    },
    "id": "9wg_4MYJCu0w"
   },
   "outputs": [],
   "source": [
    "import numpy as np\n",
    "import matplotlib.pyplot as plt\n",
    "import pandas as pd"
   ]
  },
  {
   "cell_type": "markdown",
   "metadata": {
    "id": "x1V8I7-1Ugu8"
   },
   "source": [
    "## Importing Data Set"
   ]
  },
  {
   "cell_type": "code",
   "execution_count": 3,
   "metadata": {
    "executionInfo": {
     "elapsed": 1374,
     "status": "ok",
     "timestamp": 1611905360620,
     "user": {
      "displayName": "Atulya Kaushik",
      "photoUrl": "https://lh3.googleusercontent.com/a-/AOh14GjmrAIpimRFE4585e3hWgyngUWSLlZEYLtGVRpZ6HuajtO5Vlj2PNIEiz_5W2PJwHt_2GFayRNnxnVMd6xgOe9D6klU4jiiar_8UsZQPbfUvgx8Dh_w284KG83Nc62ETT5LSaNDrXCyGXgHT0Imc1azpuY_NTnbuZ3DdtQQmG62iU_O8glcNDcFTrjvwe_n1l_pLJIxAi6eqmIgb6MXh-fCC9b-tsCIMRuXxgobzRQhKpDPt2JT_OZ9IFVVHj1XoNo0YwSeSJvViEnoR_EKirtZsd3Fr9MvOrAzMXXPW_kWWtdecDYhlyVAnt_r6b25rV4JNQxi4V40xJNYhbHTF9qdZ_MeAgS7xQY6FHlVS-k1JFrB7ldoaudP6MatpyOw5X7UTPqTQVPZnhLe56v15g5CMGZ2zZHoIy_Mzhe6LW-7c4SbLVaGfrzzI_DEgTZwjwMss-jrzxsUdA_xyc3m2-xjDXdlqNu9LFioKq4fJCOum3o7cnEwQlgKbIYCiC2dycML6aNnja5m3mevuXUiNMR2BI3GBTllui84ZEgMPNtdz7Gwx2WJnhrwPeT9LtIqkUkr1gv03N11EE19Xsbaa61aI-eFVJe6SATv_sj0d4TWWReTrC21-i7vzW8AexjHgveuqpJRTXzWoeS8XYeyHuvqQxRXaACijESfYVS_TfH2-fwRIuVKLV0wfBwyrASR60Kcu9f6Xfpg3fcsKFi4v56cq6ftzigZubsweWiKmPUBImPVCXK-Q7wMDzWnxyJv5Qze5Q=s64",
      "userId": "16390917540151948122"
     },
     "user_tz": -330
    },
    "id": "-E6PSvqMCzZ2"
   },
   "outputs": [],
   "source": [
    "dataset = pd.read_csv('../DT_SV_PR_RF.csv')\n",
    "X = dataset.iloc[:, 1:-1].values\n",
    "y = dataset.iloc[:, -1].values"
   ]
  },
  {
   "cell_type": "code",
   "execution_count": 4,
   "metadata": {
    "colab": {
     "base_uri": "https://localhost:8080/"
    },
    "executionInfo": {
     "elapsed": 1281,
     "status": "ok",
     "timestamp": 1611905365237,
     "user": {
      "displayName": "Atulya Kaushik",
      "photoUrl": "https://lh3.googleusercontent.com/a-/AOh14GjmrAIpimRFE4585e3hWgyngUWSLlZEYLtGVRpZ6HuajtO5Vlj2PNIEiz_5W2PJwHt_2GFayRNnxnVMd6xgOe9D6klU4jiiar_8UsZQPbfUvgx8Dh_w284KG83Nc62ETT5LSaNDrXCyGXgHT0Imc1azpuY_NTnbuZ3DdtQQmG62iU_O8glcNDcFTrjvwe_n1l_pLJIxAi6eqmIgb6MXh-fCC9b-tsCIMRuXxgobzRQhKpDPt2JT_OZ9IFVVHj1XoNo0YwSeSJvViEnoR_EKirtZsd3Fr9MvOrAzMXXPW_kWWtdecDYhlyVAnt_r6b25rV4JNQxi4V40xJNYhbHTF9qdZ_MeAgS7xQY6FHlVS-k1JFrB7ldoaudP6MatpyOw5X7UTPqTQVPZnhLe56v15g5CMGZ2zZHoIy_Mzhe6LW-7c4SbLVaGfrzzI_DEgTZwjwMss-jrzxsUdA_xyc3m2-xjDXdlqNu9LFioKq4fJCOum3o7cnEwQlgKbIYCiC2dycML6aNnja5m3mevuXUiNMR2BI3GBTllui84ZEgMPNtdz7Gwx2WJnhrwPeT9LtIqkUkr1gv03N11EE19Xsbaa61aI-eFVJe6SATv_sj0d4TWWReTrC21-i7vzW8AexjHgveuqpJRTXzWoeS8XYeyHuvqQxRXaACijESfYVS_TfH2-fwRIuVKLV0wfBwyrASR60Kcu9f6Xfpg3fcsKFi4v56cq6ftzigZubsweWiKmPUBImPVCXK-Q7wMDzWnxyJv5Qze5Q=s64",
      "userId": "16390917540151948122"
     },
     "user_tz": -330
    },
    "id": "IWXWI_NAC1Pw",
    "outputId": "6ffa2bd8-36b8-40a4-f72a-7b495111be76"
   },
   "outputs": [
    {
     "name": "stdout",
     "output_type": "stream",
     "text": [
      "[[ 1]\n",
      " [ 2]\n",
      " [ 3]\n",
      " [ 4]\n",
      " [ 5]\n",
      " [ 6]\n",
      " [ 7]\n",
      " [ 8]\n",
      " [ 9]\n",
      " [10]\n",
      " [12]\n",
      " [13]]\n",
      "[  17000   27000   40000   65000  100000  150000  250000  400000  650000\n",
      " 1000000 1800000 4000000]\n"
     ]
    }
   ],
   "source": [
    "print(X)\n",
    "print(y)"
   ]
  },
  {
   "cell_type": "markdown",
   "metadata": {
    "id": "92DacfmDDHDu"
   },
   "source": [
    "## Training the dataset"
   ]
  },
  {
   "cell_type": "code",
   "execution_count": 5,
   "metadata": {
    "colab": {
     "base_uri": "https://localhost:8080/"
    },
    "executionInfo": {
     "elapsed": 1483,
     "status": "ok",
     "timestamp": 1611905715478,
     "user": {
      "displayName": "Atulya Kaushik",
      "photoUrl": "https://lh3.googleusercontent.com/a-/AOh14GjmrAIpimRFE4585e3hWgyngUWSLlZEYLtGVRpZ6HuajtO5Vlj2PNIEiz_5W2PJwHt_2GFayRNnxnVMd6xgOe9D6klU4jiiar_8UsZQPbfUvgx8Dh_w284KG83Nc62ETT5LSaNDrXCyGXgHT0Imc1azpuY_NTnbuZ3DdtQQmG62iU_O8glcNDcFTrjvwe_n1l_pLJIxAi6eqmIgb6MXh-fCC9b-tsCIMRuXxgobzRQhKpDPt2JT_OZ9IFVVHj1XoNo0YwSeSJvViEnoR_EKirtZsd3Fr9MvOrAzMXXPW_kWWtdecDYhlyVAnt_r6b25rV4JNQxi4V40xJNYhbHTF9qdZ_MeAgS7xQY6FHlVS-k1JFrB7ldoaudP6MatpyOw5X7UTPqTQVPZnhLe56v15g5CMGZ2zZHoIy_Mzhe6LW-7c4SbLVaGfrzzI_DEgTZwjwMss-jrzxsUdA_xyc3m2-xjDXdlqNu9LFioKq4fJCOum3o7cnEwQlgKbIYCiC2dycML6aNnja5m3mevuXUiNMR2BI3GBTllui84ZEgMPNtdz7Gwx2WJnhrwPeT9LtIqkUkr1gv03N11EE19Xsbaa61aI-eFVJe6SATv_sj0d4TWWReTrC21-i7vzW8AexjHgveuqpJRTXzWoeS8XYeyHuvqQxRXaACijESfYVS_TfH2-fwRIuVKLV0wfBwyrASR60Kcu9f6Xfpg3fcsKFi4v56cq6ftzigZubsweWiKmPUBImPVCXK-Q7wMDzWnxyJv5Qze5Q=s64",
      "userId": "16390917540151948122"
     },
     "user_tz": -330
    },
    "id": "_c8tY1HNEGJP",
    "outputId": "6caf7f18-913b-4a52-d3ad-7800c35b5685"
   },
   "outputs": [
    {
     "data": {
      "text/plain": [
       "DecisionTreeRegressor(random_state=21)"
      ]
     },
     "execution_count": 5,
     "metadata": {},
     "output_type": "execute_result"
    }
   ],
   "source": [
    "from sklearn.tree import DecisionTreeRegressor\n",
    "regressor = DecisionTreeRegressor(random_state = 21)\n",
    "regressor.fit(X,y)"
   ]
  },
  {
   "cell_type": "markdown",
   "metadata": {
    "id": "3ot8DaEpsxxb"
   },
   "source": [
    "## Predicting a new result"
   ]
  },
  {
   "cell_type": "code",
   "execution_count": 7,
   "metadata": {
    "colab": {
     "base_uri": "https://localhost:8080/"
    },
    "executionInfo": {
     "elapsed": 1335,
     "status": "ok",
     "timestamp": 1611905749923,
     "user": {
      "displayName": "Atulya Kaushik",
      "photoUrl": "https://lh3.googleusercontent.com/a-/AOh14GjmrAIpimRFE4585e3hWgyngUWSLlZEYLtGVRpZ6HuajtO5Vlj2PNIEiz_5W2PJwHt_2GFayRNnxnVMd6xgOe9D6klU4jiiar_8UsZQPbfUvgx8Dh_w284KG83Nc62ETT5LSaNDrXCyGXgHT0Imc1azpuY_NTnbuZ3DdtQQmG62iU_O8glcNDcFTrjvwe_n1l_pLJIxAi6eqmIgb6MXh-fCC9b-tsCIMRuXxgobzRQhKpDPt2JT_OZ9IFVVHj1XoNo0YwSeSJvViEnoR_EKirtZsd3Fr9MvOrAzMXXPW_kWWtdecDYhlyVAnt_r6b25rV4JNQxi4V40xJNYhbHTF9qdZ_MeAgS7xQY6FHlVS-k1JFrB7ldoaudP6MatpyOw5X7UTPqTQVPZnhLe56v15g5CMGZ2zZHoIy_Mzhe6LW-7c4SbLVaGfrzzI_DEgTZwjwMss-jrzxsUdA_xyc3m2-xjDXdlqNu9LFioKq4fJCOum3o7cnEwQlgKbIYCiC2dycML6aNnja5m3mevuXUiNMR2BI3GBTllui84ZEgMPNtdz7Gwx2WJnhrwPeT9LtIqkUkr1gv03N11EE19Xsbaa61aI-eFVJe6SATv_sj0d4TWWReTrC21-i7vzW8AexjHgveuqpJRTXzWoeS8XYeyHuvqQxRXaACijESfYVS_TfH2-fwRIuVKLV0wfBwyrASR60Kcu9f6Xfpg3fcsKFi4v56cq6ftzigZubsweWiKmPUBImPVCXK-Q7wMDzWnxyJv5Qze5Q=s64",
      "userId": "16390917540151948122"
     },
     "user_tz": -330
    },
    "id": "ee5uNDRqEWJF",
    "outputId": "2d4e481d-aae6-492f-e6a9-960dd1cfe5e0"
   },
   "outputs": [
    {
     "data": {
      "text/plain": [
       "array([150000.])"
      ]
     },
     "execution_count": 7,
     "metadata": {},
     "output_type": "execute_result"
    }
   ],
   "source": [
    "regressor.predict([[5.5]])"
   ]
  },
  {
   "cell_type": "markdown",
   "metadata": {
    "id": "uziF7cmeU4tJ"
   },
   "source": [
    "## Visualising the Decision Tree Regression"
   ]
  },
  {
   "cell_type": "code",
   "execution_count": 14,
   "metadata": {
    "colab": {
     "base_uri": "https://localhost:8080/",
     "height": 295
    },
    "executionInfo": {
     "elapsed": 1477,
     "status": "ok",
     "timestamp": 1611905993678,
     "user": {
      "displayName": "Atulya Kaushik",
      "photoUrl": "https://lh3.googleusercontent.com/a-/AOh14GjmrAIpimRFE4585e3hWgyngUWSLlZEYLtGVRpZ6HuajtO5Vlj2PNIEiz_5W2PJwHt_2GFayRNnxnVMd6xgOe9D6klU4jiiar_8UsZQPbfUvgx8Dh_w284KG83Nc62ETT5LSaNDrXCyGXgHT0Imc1azpuY_NTnbuZ3DdtQQmG62iU_O8glcNDcFTrjvwe_n1l_pLJIxAi6eqmIgb6MXh-fCC9b-tsCIMRuXxgobzRQhKpDPt2JT_OZ9IFVVHj1XoNo0YwSeSJvViEnoR_EKirtZsd3Fr9MvOrAzMXXPW_kWWtdecDYhlyVAnt_r6b25rV4JNQxi4V40xJNYhbHTF9qdZ_MeAgS7xQY6FHlVS-k1JFrB7ldoaudP6MatpyOw5X7UTPqTQVPZnhLe56v15g5CMGZ2zZHoIy_Mzhe6LW-7c4SbLVaGfrzzI_DEgTZwjwMss-jrzxsUdA_xyc3m2-xjDXdlqNu9LFioKq4fJCOum3o7cnEwQlgKbIYCiC2dycML6aNnja5m3mevuXUiNMR2BI3GBTllui84ZEgMPNtdz7Gwx2WJnhrwPeT9LtIqkUkr1gv03N11EE19Xsbaa61aI-eFVJe6SATv_sj0d4TWWReTrC21-i7vzW8AexjHgveuqpJRTXzWoeS8XYeyHuvqQxRXaACijESfYVS_TfH2-fwRIuVKLV0wfBwyrASR60Kcu9f6Xfpg3fcsKFi4v56cq6ftzigZubsweWiKmPUBImPVCXK-Q7wMDzWnxyJv5Qze5Q=s64",
      "userId": "16390917540151948122"
     },
     "user_tz": -330
    },
    "id": "rtHCqJFVDP5o",
    "outputId": "69e7ebc6-1ff1-4259-b0fa-418d2c345256"
   },
   "outputs": [
    {
     "name": "stdout",
     "output_type": "stream",
     "text": [
      "[ 1.    1.01  1.02 ... 12.97 12.98 12.99]\n",
      "[[ 1.  ]\n",
      " [ 1.01]\n",
      " [ 1.02]\n",
      " ...\n",
      " [12.97]\n",
      " [12.98]\n",
      " [12.99]]\n"
     ]
    },
    {
     "data": {
      "image/png": "[encoded data removed]",
      "text/plain": [
       "<Figure size 640x480 with 1 Axes>"
      ]
     },
     "metadata": {},
     "output_type": "display_data"
    }
   ],
   "source": [
    "X_grid = np.arange(min(X), max(X), 0.01)\n",
    "print(X_grid)\n",
    "X_grid = X_grid.reshape((len(X_grid), 1))\n",
    "print(X_grid)\n",
    "plt.scatter(X, y, color = 'red')\n",
    "plt.plot(X_grid, regressor.predict(X_grid), color = 'blue')\n",
    "plt.title('Decision Tree Regression')\n",
    "plt.xlabel('Grade')\n",
    "plt.ylabel('Salary')\n",
    "plt.show()"
   ]
  }
 ],
 "metadata": {
  "colab": {
   "authorship_tag": "ABX9TyOrCdwK/zb8rx5A0D3QjfGC",
   "name": "Decision Tree Regression Working Copy.ipynb",
   "provenance": [],
   "toc_visible": true
  },
  "kernelspec": {
   "display_name": "Python 3 (ipykernel)",
   "language": "python",
   "name": "python3"
  },
  "language_info": {
   "codemirror_mode": {
    "name": "ipython",
    "version": 3
   },
   "file_extension": ".py",
   "mimetype": "text/x-python",
   "name": "python",
   "nbconvert_exporter": "python",
   "pygments_lexer": "ipython3",
   "version": "3.9.13"
  }
 },
 "nbformat": 4,
 "nbformat_minor": 1
}
