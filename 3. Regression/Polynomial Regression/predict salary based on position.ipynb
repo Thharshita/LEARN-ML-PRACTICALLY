{
 "cells": [
  {
   "cell_type": "markdown",
   "metadata": {
    "id": "FB7mg-9WUSAn"
   },
   "source": [
    "# Polynomial Regression "
   ]
  },
  {
   "cell_type": "markdown",
   "metadata": {
    "id": "zcXufiytUV3b"
   },
   "source": [
    "## Importing Libraries"
   ]
  },
  {
   "cell_type": "code",
   "execution_count": 2,
   "metadata": {
    "executionInfo": {
     "elapsed": 1101,
     "status": "ok",
     "timestamp": 1611830197565,
     "user": {
      "displayName": "Atulya Kaushik",
      "photoUrl": "https://lh3.googleusercontent.com/a-/AOh14GiTFFAyz6WoFoGM5Ia-0B8QdYFi36Y2QPxp9SSTjygIuvYwSkEsk2nl87oCL6cSVySnQ8r2P0q-Rwo1CT-cjHTqlznnf0LHk2_25C-WCXbq8Y_wOrhruY2fQ2dij6QOSjHhstWOoA8sgM4-7Cs0hPdyfBVGTYmDGlcksomkozDQ7G8GyofjvsuNdQO7t7g93JJXPPh0nSP66vtWtLKPraVCjlK3Cw-W4wGrTqZ8foe50IZSNoXspvm019e0TwDdTBbjd3jQ--RPQKMDQvQPH7er4KEarHtczRYoEcvqCY300uT9V6pDX2zBehBPjyo69vQ8xlYyPs3LQQwBvNig9o3bRKohWEfLPnwXztbJR9S8qfmeHrkEQ20jJ1BuGCYe0xE8hcMViU_5Po13JJJt8LxC6FoF97JEKQRpB7UKYNViK6TV_qHyfXwPbZ2Uc99OQOLnDGY-WRiDJ-Rb2SMTTnxD6spW9ujy2jmXlx6OMPdzmFjPcmI9qdR9HJQZN2y7JYmJ_SXkNtWz3nCsjl0eTExRAhnjYun5mqoIG0CvK2jxsLZSoeXKJMJzrOOKjiuUXxvy0NIyNXIHWjze_KUqefB0bvgrb9EzsAfWbH1kiwmBvtFB-POYBJIbrUVD3nIq9P5bZJhqdJpCMb7xXniCjZGLMFN7vSh1BJgONA3JRaJAfbADnsNnIoP0HHbT4AvdW7DG7T83R8AogGunBJWW4qL-tdItPWK2uCrQttv6EbfTvkJl6S8_OoyWUR_vCpRxearraA=s64",
      "userId": "16390917540151948122"
     },
     "user_tz": -330
    },
    "id": "O1HaguaIK6kH"
   },
   "outputs": [],
   "source": [
    "import numpy as np\n",
    "import matplotlib.pyplot as plt\n",
    "import pandas as pd"
   ]
  },
  {
   "cell_type": "markdown",
   "metadata": {
    "id": "x1V8I7-1Ugu8"
   },
   "source": [
    "## Importing Data Set"
   ]
  },
  {
   "cell_type": "code",
   "execution_count": 8,
   "metadata": {
    "executionInfo": {
     "elapsed": 1127,
     "status": "ok",
     "timestamp": 1611830211569,
     "user": {
      "displayName": "Atulya Kaushik",
      "photoUrl": "https://lh3.googleusercontent.com/a-/AOh14GiTFFAyz6WoFoGM5Ia-0B8QdYFi36Y2QPxp9SSTjygIuvYwSkEsk2nl87oCL6cSVySnQ8r2P0q-Rwo1CT-cjHTqlznnf0LHk2_25C-WCXbq8Y_wOrhruY2fQ2dij6QOSjHhstWOoA8sgM4-7Cs0hPdyfBVGTYmDGlcksomkozDQ7G8GyofjvsuNdQO7t7g93JJXPPh0nSP66vtWtLKPraVCjlK3Cw-W4wGrTqZ8foe50IZSNoXspvm019e0TwDdTBbjd3jQ--RPQKMDQvQPH7er4KEarHtczRYoEcvqCY300uT9V6pDX2zBehBPjyo69vQ8xlYyPs3LQQwBvNig9o3bRKohWEfLPnwXztbJR9S8qfmeHrkEQ20jJ1BuGCYe0xE8hcMViU_5Po13JJJt8LxC6FoF97JEKQRpB7UKYNViK6TV_qHyfXwPbZ2Uc99OQOLnDGY-WRiDJ-Rb2SMTTnxD6spW9ujy2jmXlx6OMPdzmFjPcmI9qdR9HJQZN2y7JYmJ_SXkNtWz3nCsjl0eTExRAhnjYun5mqoIG0CvK2jxsLZSoeXKJMJzrOOKjiuUXxvy0NIyNXIHWjze_KUqefB0bvgrb9EzsAfWbH1kiwmBvtFB-POYBJIbrUVD3nIq9P5bZJhqdJpCMb7xXniCjZGLMFN7vSh1BJgONA3JRaJAfbADnsNnIoP0HHbT4AvdW7DG7T83R8AogGunBJWW4qL-tdItPWK2uCrQttv6EbfTvkJl6S8_OoyWUR_vCpRxearraA=s64",
      "userId": "16390917540151948122"
     },
     "user_tz": -330
    },
    "id": "LvNwT6-bK8j3"
   },
   "outputs": [
    {
     "name": "stdout",
     "output_type": "stream",
     "text": [
      "         Position  Grade  Salary\n",
      "0   New Associate      1   17000\n",
      "1       Associate      2   27000\n",
      "2         Analyst      3   40000\n",
      "3  Senior Analyst      4   65000\n",
      "4       Team Lead      5  100000\n",
      "(12, 3)\n"
     ]
    }
   ],
   "source": [
    "dataset = pd.read_csv('../DT_SV_PR_RF.csv')\n",
    "print(dataset.head())\n",
    "print(dataset.shape)\n"
   ]
  },
  {
   "cell_type": "code",
   "execution_count": 10,
   "metadata": {},
   "outputs": [
    {
     "name": "stdout",
     "output_type": "stream",
     "text": [
      "                Position  Grade   Salary\n",
      "0          New Associate      1    17000\n",
      "1              Associate      2    27000\n",
      "2                Analyst      3    40000\n",
      "3         Senior Analyst      4    65000\n",
      "4              Team Lead      5   100000\n",
      "5      Associate Manager      6   150000\n",
      "6                Manager      7   250000\n",
      "7         Senior Manager      8   400000\n",
      "8             Leadership      9   650000\n",
      "9      Senior Leadership     10  1000000\n",
      "10     Global Leadership     12  1800000\n",
      "11  Executive Leadership     13  4000000\n"
     ]
    }
   ],
   "source": [
    "pd.set_option('display.max_rows', None)\n",
    "pd.set_option('display.max_columns', None)\n",
    "print(dataset)  "
   ]
  },
  {
   "cell_type": "code",
   "execution_count": 11,
   "metadata": {},
   "outputs": [],
   "source": [
    "pd.set_option('display.max_rows', None)\n",
    "pd.set_option('display.max_columns', None)"
   ]
  },
  {
   "cell_type": "markdown",
   "metadata": {
    "id": "2vBbKI1BUilB"
   },
   "source": [
    "## Training the Linear Regression model on the whole dataset"
   ]
  },
  {
   "cell_type": "code",
   "execution_count": 12,
   "metadata": {
    "colab": {
     "base_uri": "https://localhost:8080/"
    },
    "executionInfo": {
     "elapsed": 2347,
     "status": "ok",
     "timestamp": 1611830218029,
     "user": {
      "displayName": "Atulya Kaushik",
      "photoUrl": "https://lh3.googleusercontent.com/a-/AOh14GiTFFAyz6WoFoGM5Ia-0B8QdYFi36Y2QPxp9SSTjygIuvYwSkEsk2nl87oCL6cSVySnQ8r2P0q-Rwo1CT-cjHTqlznnf0LHk2_25C-WCXbq8Y_wOrhruY2fQ2dij6QOSjHhstWOoA8sgM4-7Cs0hPdyfBVGTYmDGlcksomkozDQ7G8GyofjvsuNdQO7t7g93JJXPPh0nSP66vtWtLKPraVCjlK3Cw-W4wGrTqZ8foe50IZSNoXspvm019e0TwDdTBbjd3jQ--RPQKMDQvQPH7er4KEarHtczRYoEcvqCY300uT9V6pDX2zBehBPjyo69vQ8xlYyPs3LQQwBvNig9o3bRKohWEfLPnwXztbJR9S8qfmeHrkEQ20jJ1BuGCYe0xE8hcMViU_5Po13JJJt8LxC6FoF97JEKQRpB7UKYNViK6TV_qHyfXwPbZ2Uc99OQOLnDGY-WRiDJ-Rb2SMTTnxD6spW9ujy2jmXlx6OMPdzmFjPcmI9qdR9HJQZN2y7JYmJ_SXkNtWz3nCsjl0eTExRAhnjYun5mqoIG0CvK2jxsLZSoeXKJMJzrOOKjiuUXxvy0NIyNXIHWjze_KUqefB0bvgrb9EzsAfWbH1kiwmBvtFB-POYBJIbrUVD3nIq9P5bZJhqdJpCMb7xXniCjZGLMFN7vSh1BJgONA3JRaJAfbADnsNnIoP0HHbT4AvdW7DG7T83R8AogGunBJWW4qL-tdItPWK2uCrQttv6EbfTvkJl6S8_OoyWUR_vCpRxearraA=s64",
      "userId": "16390917540151948122"
     },
     "user_tz": -330
    },
    "id": "b9nNyeyOM6cU",
    "outputId": "5094dd9f-d478-40f4-f226-eb795cb4507e"
   },
   "outputs": [
    {
     "data": {
      "text/plain": [
       "LinearRegression()"
      ]
     },
     "execution_count": 12,
     "metadata": {},
     "output_type": "execute_result"
    }
   ],
   "source": [
    "from sklearn.linear_model import LinearRegression\n",
    "linear_reg = LinearRegression()\n",
    "linear_reg.fit(X, y)"
   ]
  },
  {
   "cell_type": "markdown",
   "metadata": {
    "id": "K6uEL0b5Utac"
   },
   "source": [
    "## Training the Polynomial Regression model on the whole dataset"
   ]
  },
  {
   "cell_type": "code",
   "execution_count": 14,
   "metadata": {
    "colab": {
     "base_uri": "https://localhost:8080/"
    },
    "executionInfo": {
     "elapsed": 1312,
     "status": "ok",
     "timestamp": 1611830222539,
     "user": {
      "displayName": "Atulya Kaushik",
      "photoUrl": "https://lh3.googleusercontent.com/a-/AOh14GiTFFAyz6WoFoGM5Ia-0B8QdYFi36Y2QPxp9SSTjygIuvYwSkEsk2nl87oCL6cSVySnQ8r2P0q-Rwo1CT-cjHTqlznnf0LHk2_25C-WCXbq8Y_wOrhruY2fQ2dij6QOSjHhstWOoA8sgM4-7Cs0hPdyfBVGTYmDGlcksomkozDQ7G8GyofjvsuNdQO7t7g93JJXPPh0nSP66vtWtLKPraVCjlK3Cw-W4wGrTqZ8foe50IZSNoXspvm019e0TwDdTBbjd3jQ--RPQKMDQvQPH7er4KEarHtczRYoEcvqCY300uT9V6pDX2zBehBPjyo69vQ8xlYyPs3LQQwBvNig9o3bRKohWEfLPnwXztbJR9S8qfmeHrkEQ20jJ1BuGCYe0xE8hcMViU_5Po13JJJt8LxC6FoF97JEKQRpB7UKYNViK6TV_qHyfXwPbZ2Uc99OQOLnDGY-WRiDJ-Rb2SMTTnxD6spW9ujy2jmXlx6OMPdzmFjPcmI9qdR9HJQZN2y7JYmJ_SXkNtWz3nCsjl0eTExRAhnjYun5mqoIG0CvK2jxsLZSoeXKJMJzrOOKjiuUXxvy0NIyNXIHWjze_KUqefB0bvgrb9EzsAfWbH1kiwmBvtFB-POYBJIbrUVD3nIq9P5bZJhqdJpCMb7xXniCjZGLMFN7vSh1BJgONA3JRaJAfbADnsNnIoP0HHbT4AvdW7DG7T83R8AogGunBJWW4qL-tdItPWK2uCrQttv6EbfTvkJl6S8_OoyWUR_vCpRxearraA=s64",
      "userId": "16390917540151948122"
     },
     "user_tz": -330
    },
    "id": "EiExmRH_R8DX",
    "outputId": "be7e522c-2e3d-425d-87df-06ec0d29e47f"
   },
   "outputs": [
    {
     "data": {
      "text/plain": [
       "LinearRegression()"
      ]
     },
     "execution_count": 14,
     "metadata": {},
     "output_type": "execute_result"
    }
   ],
   "source": [
    "from sklearn.preprocessing import PolynomialFeatures\n",
    "polynomial_reg = PolynomialFeatures(degree = 6)\n",
    "X_poly = polynomial_reg.fit_transform(X)\n",
    "\n",
    "linear_reg_2 = LinearRegression()\n",
    "linear_reg_2.fit(X_poly, y)"
   ]
  },
  {
   "cell_type": "markdown",
   "metadata": {
    "id": "RyRva69qUzBK"
   },
   "source": [
    "## Visualising the Linear Regression results"
   ]
  },
  {
   "cell_type": "code",
   "execution_count": 15,
   "metadata": {
    "colab": {
     "base_uri": "https://localhost:8080/",
     "height": 295
    },
    "executionInfo": {
     "elapsed": 1300,
     "status": "ok",
     "timestamp": 1611832278624,
     "user": {
      "displayName": "Atulya Kaushik",
      "photoUrl": "https://lh3.googleusercontent.com/a-/AOh14GiTFFAyz6WoFoGM5Ia-0B8QdYFi36Y2QPxp9SSTjygIuvYwSkEsk2nl87oCL6cSVySnQ8r2P0q-Rwo1CT-cjHTqlznnf0LHk2_25C-WCXbq8Y_wOrhruY2fQ2dij6QOSjHhstWOoA8sgM4-7Cs0hPdyfBVGTYmDGlcksomkozDQ7G8GyofjvsuNdQO7t7g93JJXPPh0nSP66vtWtLKPraVCjlK3Cw-W4wGrTqZ8foe50IZSNoXspvm019e0TwDdTBbjd3jQ--RPQKMDQvQPH7er4KEarHtczRYoEcvqCY300uT9V6pDX2zBehBPjyo69vQ8xlYyPs3LQQwBvNig9o3bRKohWEfLPnwXztbJR9S8qfmeHrkEQ20jJ1BuGCYe0xE8hcMViU_5Po13JJJt8LxC6FoF97JEKQRpB7UKYNViK6TV_qHyfXwPbZ2Uc99OQOLnDGY-WRiDJ-Rb2SMTTnxD6spW9ujy2jmXlx6OMPdzmFjPcmI9qdR9HJQZN2y7JYmJ_SXkNtWz3nCsjl0eTExRAhnjYun5mqoIG0CvK2jxsLZSoeXKJMJzrOOKjiuUXxvy0NIyNXIHWjze_KUqefB0bvgrb9EzsAfWbH1kiwmBvtFB-POYBJIbrUVD3nIq9P5bZJhqdJpCMb7xXniCjZGLMFN7vSh1BJgONA3JRaJAfbADnsNnIoP0HHbT4AvdW7DG7T83R8AogGunBJWW4qL-tdItPWK2uCrQttv6EbfTvkJl6S8_OoyWUR_vCpRxearraA=s64",
      "userId": "16390917540151948122"
     },
     "user_tz": -330
    },
    "id": "rBh-bGonTCk5",
    "outputId": "5aebcdbc-0014-4642-b679-963b797e8cfd"
   },
   "outputs": [
    {
     "data": {
      "image/png": "[encoded data removed]",
      "text/plain": [
       "<Figure size 640x480 with 1 Axes>"
      ]
     },
     "metadata": {},
     "output_type": "display_data"
    }
   ],
   "source": [
    "plt.scatter(X, y, color = \"red\")\n",
    "plt.plot(X, linear_reg.predict(X), color='blue')\n",
    "plt.title(\"Grade Vs Salary - Linear Regression\")\n",
    "plt.xlabel('Grade')\n",
    "plt.ylabel('Salary')\n",
    "plt.show()"
   ]
  },
  {
   "cell_type": "markdown",
   "metadata": {
    "id": "HvZExhwPRQBn"
   },
   "source": [
    "## Visualising the Polynomial Regression results\n"
   ]
  },
  {
   "cell_type": "code",
   "execution_count": 16,
   "metadata": {
    "colab": {
     "base_uri": "https://localhost:8080/",
     "height": 295
    },
    "executionInfo": {
     "elapsed": 1224,
     "status": "ok",
     "timestamp": 1611832322064,
     "user": {
      "displayName": "Atulya Kaushik",
      "photoUrl": "https://lh3.googleusercontent.com/a-/AOh14GiTFFAyz6WoFoGM5Ia-0B8QdYFi36Y2QPxp9SSTjygIuvYwSkEsk2nl87oCL6cSVySnQ8r2P0q-Rwo1CT-cjHTqlznnf0LHk2_25C-WCXbq8Y_wOrhruY2fQ2dij6QOSjHhstWOoA8sgM4-7Cs0hPdyfBVGTYmDGlcksomkozDQ7G8GyofjvsuNdQO7t7g93JJXPPh0nSP66vtWtLKPraVCjlK3Cw-W4wGrTqZ8foe50IZSNoXspvm019e0TwDdTBbjd3jQ--RPQKMDQvQPH7er4KEarHtczRYoEcvqCY300uT9V6pDX2zBehBPjyo69vQ8xlYyPs3LQQwBvNig9o3bRKohWEfLPnwXztbJR9S8qfmeHrkEQ20jJ1BuGCYe0xE8hcMViU_5Po13JJJt8LxC6FoF97JEKQRpB7UKYNViK6TV_qHyfXwPbZ2Uc99OQOLnDGY-WRiDJ-Rb2SMTTnxD6spW9ujy2jmXlx6OMPdzmFjPcmI9qdR9HJQZN2y7JYmJ_SXkNtWz3nCsjl0eTExRAhnjYun5mqoIG0CvK2jxsLZSoeXKJMJzrOOKjiuUXxvy0NIyNXIHWjze_KUqefB0bvgrb9EzsAfWbH1kiwmBvtFB-POYBJIbrUVD3nIq9P5bZJhqdJpCMb7xXniCjZGLMFN7vSh1BJgONA3JRaJAfbADnsNnIoP0HHbT4AvdW7DG7T83R8AogGunBJWW4qL-tdItPWK2uCrQttv6EbfTvkJl6S8_OoyWUR_vCpRxearraA=s64",
      "userId": "16390917540151948122"
     },
     "user_tz": -330
    },
    "id": "E-PI7aj7Wihy",
    "outputId": "15e9a037-f10f-44ec-8dff-c9cb1fb8e3ba"
   },
   "outputs": [
    {
     "data": {
      "image/png": "[encoded data removed]",
      "text/plain": [
       "<Figure size 640x480 with 1 Axes>"
      ]
     },
     "metadata": {},
     "output_type": "display_data"
    }
   ],
   "source": [
    "plt.scatter(X, y, color = \"red\")\n",
    "plt.plot(X, linear_reg_2.predict(X_poly), color='blue')\n",
    "plt.title(\"Grade Vs Salary - Polynomial Regression\")\n",
    "plt.xlabel('Grade')\n",
    "plt.ylabel('Salary')\n",
    "plt.show()"
   ]
  },
  {
   "cell_type": "markdown",
   "metadata": {
    "id": "3ot8DaEpsxxb"
   },
   "source": [
    "## Predicting a new result with Linear Regression"
   ]
  },
  {
   "cell_type": "code",
   "execution_count": 17,
   "metadata": {
    "colab": {
     "base_uri": "https://localhost:8080/"
    },
    "executionInfo": {
     "elapsed": 1672,
     "status": "ok",
     "timestamp": 1611832534823,
     "user": {
      "displayName": "Atulya Kaushik",
      "photoUrl": "https://lh3.googleusercontent.com/a-/AOh14GiTFFAyz6WoFoGM5Ia-0B8QdYFi36Y2QPxp9SSTjygIuvYwSkEsk2nl87oCL6cSVySnQ8r2P0q-Rwo1CT-cjHTqlznnf0LHk2_25C-WCXbq8Y_wOrhruY2fQ2dij6QOSjHhstWOoA8sgM4-7Cs0hPdyfBVGTYmDGlcksomkozDQ7G8GyofjvsuNdQO7t7g93JJXPPh0nSP66vtWtLKPraVCjlK3Cw-W4wGrTqZ8foe50IZSNoXspvm019e0TwDdTBbjd3jQ--RPQKMDQvQPH7er4KEarHtczRYoEcvqCY300uT9V6pDX2zBehBPjyo69vQ8xlYyPs3LQQwBvNig9o3bRKohWEfLPnwXztbJR9S8qfmeHrkEQ20jJ1BuGCYe0xE8hcMViU_5Po13JJJt8LxC6FoF97JEKQRpB7UKYNViK6TV_qHyfXwPbZ2Uc99OQOLnDGY-WRiDJ-Rb2SMTTnxD6spW9ujy2jmXlx6OMPdzmFjPcmI9qdR9HJQZN2y7JYmJ_SXkNtWz3nCsjl0eTExRAhnjYun5mqoIG0CvK2jxsLZSoeXKJMJzrOOKjiuUXxvy0NIyNXIHWjze_KUqefB0bvgrb9EzsAfWbH1kiwmBvtFB-POYBJIbrUVD3nIq9P5bZJhqdJpCMb7xXniCjZGLMFN7vSh1BJgONA3JRaJAfbADnsNnIoP0HHbT4AvdW7DG7T83R8AogGunBJWW4qL-tdItPWK2uCrQttv6EbfTvkJl6S8_OoyWUR_vCpRxearraA=s64",
      "userId": "16390917540151948122"
     },
     "user_tz": -330
    },
    "id": "ArJAEghiXSYE",
    "outputId": "b4c67656-6540-427a-9379-923d18ba626a"
   },
   "outputs": [
    {
     "data": {
      "text/plain": [
       "array([1750118.42105263])"
      ]
     },
     "execution_count": 17,
     "metadata": {},
     "output_type": "execute_result"
    }
   ],
   "source": [
    "linear_reg.predict([[11]])"
   ]
  },
  {
   "cell_type": "markdown",
   "metadata": {
    "id": "4IcZMd9PIKN9"
   },
   "source": [
    "## Predicting a new result with Polynomial Regression\n"
   ]
  },
  {
   "cell_type": "code",
   "execution_count": 18,
   "metadata": {
    "colab": {
     "base_uri": "https://localhost:8080/"
    },
    "executionInfo": {
     "elapsed": 1991,
     "status": "ok",
     "timestamp": 1611832605080,
     "user": {
      "displayName": "Atulya Kaushik",
      "photoUrl": "https://lh3.googleusercontent.com/a-/AOh14GiTFFAyz6WoFoGM5Ia-0B8QdYFi36Y2QPxp9SSTjygIuvYwSkEsk2nl87oCL6cSVySnQ8r2P0q-Rwo1CT-cjHTqlznnf0LHk2_25C-WCXbq8Y_wOrhruY2fQ2dij6QOSjHhstWOoA8sgM4-7Cs0hPdyfBVGTYmDGlcksomkozDQ7G8GyofjvsuNdQO7t7g93JJXPPh0nSP66vtWtLKPraVCjlK3Cw-W4wGrTqZ8foe50IZSNoXspvm019e0TwDdTBbjd3jQ--RPQKMDQvQPH7er4KEarHtczRYoEcvqCY300uT9V6pDX2zBehBPjyo69vQ8xlYyPs3LQQwBvNig9o3bRKohWEfLPnwXztbJR9S8qfmeHrkEQ20jJ1BuGCYe0xE8hcMViU_5Po13JJJt8LxC6FoF97JEKQRpB7UKYNViK6TV_qHyfXwPbZ2Uc99OQOLnDGY-WRiDJ-Rb2SMTTnxD6spW9ujy2jmXlx6OMPdzmFjPcmI9qdR9HJQZN2y7JYmJ_SXkNtWz3nCsjl0eTExRAhnjYun5mqoIG0CvK2jxsLZSoeXKJMJzrOOKjiuUXxvy0NIyNXIHWjze_KUqefB0bvgrb9EzsAfWbH1kiwmBvtFB-POYBJIbrUVD3nIq9P5bZJhqdJpCMb7xXniCjZGLMFN7vSh1BJgONA3JRaJAfbADnsNnIoP0HHbT4AvdW7DG7T83R8AogGunBJWW4qL-tdItPWK2uCrQttv6EbfTvkJl6S8_OoyWUR_vCpRxearraA=s64",
      "userId": "16390917540151948122"
     },
     "user_tz": -330
    },
    "id": "GPrnSTxRXfSv",
    "outputId": "227e6c70-0f86-42fb-f5e1-609191eb6f6b"
   },
   "outputs": [
    {
     "data": {
      "text/plain": [
       "array([1962280.29584621])"
      ]
     },
     "execution_count": 18,
     "metadata": {},
     "output_type": "execute_result"
    }
   ],
   "source": [
    "linear_reg_2.predict(polynomial_reg.fit_transform([[12.1]]))"
   ]
  }
 ],
 "metadata": {
  "colab": {
   "authorship_tag": "ABX9TyPSb9V2DIGkjHJVwUJZtVna",
   "name": "Polynomial Regression Working Copy (Salary Data - After SVR).ipynb",
   "provenance": [],
   "toc_visible": true
  },
  "kernelspec": {
   "display_name": "Python 3 (ipykernel)",
   "language": "python",
   "name": "python3"
  },
  "language_info": {
   "codemirror_mode": {
    "name": "ipython",
    "version": 3
   },
   "file_extension": ".py",
   "mimetype": "text/x-python",
   "name": "python",
   "nbconvert_exporter": "python",
   "pygments_lexer": "ipython3",
   "version": "3.9.13"
  }
 },
 "nbformat": 4,
 "nbformat_minor": 1
}
