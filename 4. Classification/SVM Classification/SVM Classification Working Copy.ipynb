{
 "cells": [
  {
   "cell_type": "markdown",
   "metadata": {
    "id": "Z-jZGC0q0aiY"
   },
   "source": [
    "# Support Vector Machines (SVM)"
   ]
  },
  {
   "cell_type": "markdown",
   "metadata": {
    "id": "jE4Rc_OO0eJM"
   },
   "source": [
    "## Importing libraries"
   ]
  },
  {
   "cell_type": "code",
   "execution_count": 1,
   "metadata": {
    "id": "jFDrqHSaW6iC"
   },
   "outputs": [],
   "source": [
    "import numpy as np\n",
    "import matplotlib.pyplot as plt\n",
    "import pandas as pd"
   ]
  },
  {
   "cell_type": "markdown",
   "metadata": {
    "id": "A9-xGHd20gY1"
   },
   "source": [
    "## Importing dataset"
   ]
  },
  {
   "cell_type": "code",
   "execution_count": 2,
   "metadata": {
    "id": "SVH6ZYD-W--s"
   },
   "outputs": [],
   "source": [
    "dataset = pd.read_csv('../Instagram Ads SVM.csv')\n",
    "X = dataset.iloc[:, :-1].values\n",
    "y = dataset.iloc[:, -1].values"
   ]
  },
  {
   "cell_type": "markdown",
   "metadata": {
    "id": "8REFJFGC0lRN"
   },
   "source": [
    "## Splitting the dataset into Training & Test set"
   ]
  },
  {
   "cell_type": "code",
   "execution_count": 3,
   "metadata": {
    "id": "-3caprD4XGwx"
   },
   "outputs": [],
   "source": [
    "from sklearn.model_selection import train_test_split\n",
    "X_train, X_test, y_train, y_test = train_test_split(X, y, test_size = 0.3, random_state = 21)"
   ]
  },
  {
   "cell_type": "markdown",
   "metadata": {
    "id": "-Dw4Khi70u9g"
   },
   "source": [
    "## Feature Scaling"
   ]
  },
  {
   "cell_type": "code",
   "execution_count": 4,
   "metadata": {
    "id": "dN5TSW7QXM_r"
   },
   "outputs": [],
   "source": [
    "from sklearn.preprocessing import StandardScaler\n",
    "sc = StandardScaler()\n",
    "X_train = sc.fit_transform(X_train)\n",
    "X_test = sc.transform(X_test)"
   ]
  },
  {
   "cell_type": "markdown",
   "metadata": {
    "id": "2QUFYaoH00H6"
   },
   "source": [
    "## SVM Training on Training set"
   ]
  },
  {
   "cell_type": "code",
   "execution_count": 5,
   "metadata": {
    "colab": {
     "base_uri": "https://localhost:8080/"
    },
    "executionInfo": {
     "elapsed": 1086,
     "status": "ok",
     "timestamp": 1612342602139,
     "user": {
      "displayName": "Atulya Kaushik",
      "photoUrl": "https://lh3.googleusercontent.com/a-/AOh14GjbhvYgFojoHN-HGl4SgTi1CUpzprucJC75Ow2BbSoWuEu0eLy52Dy5DvHNqYYz50sRBcTaYLbDFra1U8LEbYMteSvqKo2l1UMv6qL6vaxrktt5GiAzWWYIYJVkUNH92TAZHUsITEqnmk6MGwKNWS5elpBVwao_hpifqycZD6BMXSO6S9uTKw3_FUbV3msxVZbj9A35wRq0JZpggmPAJZ9oQo-amHcxTB0oZixQzAExdFt9nkiRpm_wi9rhqqlr-_U4KNq2PxXmaqjjP90z1WxOOxn6i8kk2rXnYR3aGJjqMPiVToGKKA2ptwr8l6qWbf2efveaJOifFsutEBdPZ5PORtGT_IzjRkPW-pEnfCFfAEIHIc4SNNkh2oPvI6c_uRCg80cj3fo46-Df3HU0QbCsO8Y9S_NV7zJMfKbZPUu-lCD2HDE0jm5d9PhsnLPIjB-HqTKumH22FP-zawozhdAHJJZt4cPXeUKdTn_BXeb1gl6Zwk-5vZlBQTTBRHoblP1UYCF-yHS1s3UdZtugKTLuWeG3h6f-j9bOTXyStydb9mqgT1X45LCnb810N86QIarfhsyXDemZcyrH_hWGdHsY9w6yWN7NAjVhwM0fiL1tMRnXBQx1hlAMzCHRRibjNvHcQgdr-d1pvWOXtV9cWxY3JUubp9Afua6DXHYskGtWGYHl78APdHAjFexMmzMJeaj--QQl1eED5akMrsuFCZUyS6J2WHg1G-t7wSrlr3DOdSSB1G_0wJUy0Bj7TZuuMMytVw=s64",
      "userId": "16390917540151948122"
     },
     "user_tz": -330
    },
    "id": "S21qjbYyXSHJ",
    "outputId": "a9ea5623-2525-4aa4-d99f-36ea82d394f4"
   },
   "outputs": [
    {
     "data": {
      "text/plain": [
       "SVC(kernel='linear', random_state=0)"
      ]
     },
     "execution_count": 5,
     "metadata": {},
     "output_type": "execute_result"
    }
   ],
   "source": [
    "from sklearn.svm import SVC\n",
    "classifier = SVC(kernel = 'linear', random_state = 0)\n",
    "classifier.fit(X_train, y_train)"
   ]
  },
  {
   "cell_type": "markdown",
   "metadata": {
    "id": "iXT0yCoI07X8"
   },
   "source": [
    "## Predicting"
   ]
  },
  {
   "cell_type": "code",
   "execution_count": 6,
   "metadata": {
    "colab": {
     "base_uri": "https://localhost:8080/"
    },
    "executionInfo": {
     "elapsed": 1188,
     "status": "ok",
     "timestamp": 1612342624923,
     "user": {
      "displayName": "Atulya Kaushik",
      "photoUrl": "https://lh3.googleusercontent.com/a-/AOh14GjbhvYgFojoHN-HGl4SgTi1CUpzprucJC75Ow2BbSoWuEu0eLy52Dy5DvHNqYYz50sRBcTaYLbDFra1U8LEbYMteSvqKo2l1UMv6qL6vaxrktt5GiAzWWYIYJVkUNH92TAZHUsITEqnmk6MGwKNWS5elpBVwao_hpifqycZD6BMXSO6S9uTKw3_FUbV3msxVZbj9A35wRq0JZpggmPAJZ9oQo-amHcxTB0oZixQzAExdFt9nkiRpm_wi9rhqqlr-_U4KNq2PxXmaqjjP90z1WxOOxn6i8kk2rXnYR3aGJjqMPiVToGKKA2ptwr8l6qWbf2efveaJOifFsutEBdPZ5PORtGT_IzjRkPW-pEnfCFfAEIHIc4SNNkh2oPvI6c_uRCg80cj3fo46-Df3HU0QbCsO8Y9S_NV7zJMfKbZPUu-lCD2HDE0jm5d9PhsnLPIjB-HqTKumH22FP-zawozhdAHJJZt4cPXeUKdTn_BXeb1gl6Zwk-5vZlBQTTBRHoblP1UYCF-yHS1s3UdZtugKTLuWeG3h6f-j9bOTXyStydb9mqgT1X45LCnb810N86QIarfhsyXDemZcyrH_hWGdHsY9w6yWN7NAjVhwM0fiL1tMRnXBQx1hlAMzCHRRibjNvHcQgdr-d1pvWOXtV9cWxY3JUubp9Afua6DXHYskGtWGYHl78APdHAjFexMmzMJeaj--QQl1eED5akMrsuFCZUyS6J2WHg1G-t7wSrlr3DOdSSB1G_0wJUy0Bj7TZuuMMytVw=s64",
      "userId": "16390917540151948122"
     },
     "user_tz": -330
    },
    "id": "6NZnLs7RXZLG",
    "outputId": "cedd69f3-d5db-4ca6-dfd7-ec7d6a626323"
   },
   "outputs": [
    {
     "name": "stdout",
     "output_type": "stream",
     "text": [
      "[1]\n"
     ]
    }
   ],
   "source": [
    "print(classifier.predict(sc.transform([[32, 45000]])))"
   ]
  },
  {
   "cell_type": "markdown",
   "metadata": {
    "id": "9oG_iJfc1A0K"
   },
   "source": [
    "## Predicting Test set results"
   ]
  },
  {
   "cell_type": "code",
   "execution_count": 9,
   "metadata": {
    "colab": {
     "base_uri": "https://localhost:8080/"
    },
    "executionInfo": {
     "elapsed": 1245,
     "status": "ok",
     "timestamp": 1612342631710,
     "user": {
      "displayName": "Atulya Kaushik",
      "photoUrl": "https://lh3.googleusercontent.com/a-/AOh14GjbhvYgFojoHN-HGl4SgTi1CUpzprucJC75Ow2BbSoWuEu0eLy52Dy5DvHNqYYz50sRBcTaYLbDFra1U8LEbYMteSvqKo2l1UMv6qL6vaxrktt5GiAzWWYIYJVkUNH92TAZHUsITEqnmk6MGwKNWS5elpBVwao_hpifqycZD6BMXSO6S9uTKw3_FUbV3msxVZbj9A35wRq0JZpggmPAJZ9oQo-amHcxTB0oZixQzAExdFt9nkiRpm_wi9rhqqlr-_U4KNq2PxXmaqjjP90z1WxOOxn6i8kk2rXnYR3aGJjqMPiVToGKKA2ptwr8l6qWbf2efveaJOifFsutEBdPZ5PORtGT_IzjRkPW-pEnfCFfAEIHIc4SNNkh2oPvI6c_uRCg80cj3fo46-Df3HU0QbCsO8Y9S_NV7zJMfKbZPUu-lCD2HDE0jm5d9PhsnLPIjB-HqTKumH22FP-zawozhdAHJJZt4cPXeUKdTn_BXeb1gl6Zwk-5vZlBQTTBRHoblP1UYCF-yHS1s3UdZtugKTLuWeG3h6f-j9bOTXyStydb9mqgT1X45LCnb810N86QIarfhsyXDemZcyrH_hWGdHsY9w6yWN7NAjVhwM0fiL1tMRnXBQx1hlAMzCHRRibjNvHcQgdr-d1pvWOXtV9cWxY3JUubp9Afua6DXHYskGtWGYHl78APdHAjFexMmzMJeaj--QQl1eED5akMrsuFCZUyS6J2WHg1G-t7wSrlr3DOdSSB1G_0wJUy0Bj7TZuuMMytVw=s64",
      "userId": "16390917540151948122"
     },
     "user_tz": -330
    },
    "id": "VFnOWkvcXnK5",
    "outputId": "41d6f6a5-167d-4b22-f577-67891d14ea4e"
   },
   "outputs": [
    {
     "name": "stdout",
     "output_type": "stream",
     "text": [
      "[[1 1]\n",
      " [0 0]\n",
      " [0 0]\n",
      " [0 0]\n",
      " [0 0]\n",
      " [0 0]\n",
      " [0 0]\n",
      " [1 1]\n",
      " [1 1]\n",
      " [1 1]\n",
      " [0 0]\n",
      " [0 0]\n",
      " [0 0]\n",
      " [1 1]\n",
      " [1 1]\n",
      " [1 1]\n",
      " [0 0]\n",
      " [1 1]\n",
      " [0 1]\n",
      " [0 0]\n",
      " [0 0]\n",
      " [0 0]\n",
      " [0 0]\n",
      " [0 1]\n",
      " [0 0]\n",
      " [0 0]\n",
      " [1 1]\n",
      " [1 1]\n",
      " [0 0]\n",
      " [0 0]\n",
      " [0 0]\n",
      " [1 1]\n",
      " [1 1]\n",
      " [0 0]\n",
      " [1 1]\n",
      " [0 0]\n",
      " [0 0]\n",
      " [0 1]\n",
      " [1 1]\n",
      " [0 0]\n",
      " [0 0]\n",
      " [0 0]\n",
      " [0 0]\n",
      " [0 0]\n",
      " [1 1]\n",
      " [1 1]\n",
      " [0 0]\n",
      " [0 0]\n",
      " [0 0]\n",
      " [1 1]\n",
      " [0 0]\n",
      " [0 1]\n",
      " [0 0]\n",
      " [1 1]\n",
      " [0 0]\n",
      " [0 0]\n",
      " [0 0]\n",
      " [0 0]\n",
      " [0 0]\n",
      " [1 1]]\n"
     ]
    }
   ],
   "source": [
    "y_pred = classifier.predict(X_test)\n",
    "print(np.concatenate((y_pred.reshape(len(y_pred),1), y_test.reshape(len(y_test),1)),1))"
   ]
  },
  {
   "cell_type": "markdown",
   "metadata": {
    "id": "p6I0bJj_1Fxl"
   },
   "source": [
    "## Confusion Matrix"
   ]
  },
  {
   "cell_type": "code",
   "execution_count": 10,
   "metadata": {
    "colab": {
     "base_uri": "https://localhost:8080/"
    },
    "executionInfo": {
     "elapsed": 1524,
     "status": "ok",
     "timestamp": 1612342648418,
     "user": {
      "displayName": "Atulya Kaushik",
      "photoUrl": "https://lh3.googleusercontent.com/a-/AOh14GjbhvYgFojoHN-HGl4SgTi1CUpzprucJC75Ow2BbSoWuEu0eLy52Dy5DvHNqYYz50sRBcTaYLbDFra1U8LEbYMteSvqKo2l1UMv6qL6vaxrktt5GiAzWWYIYJVkUNH92TAZHUsITEqnmk6MGwKNWS5elpBVwao_hpifqycZD6BMXSO6S9uTKw3_FUbV3msxVZbj9A35wRq0JZpggmPAJZ9oQo-amHcxTB0oZixQzAExdFt9nkiRpm_wi9rhqqlr-_U4KNq2PxXmaqjjP90z1WxOOxn6i8kk2rXnYR3aGJjqMPiVToGKKA2ptwr8l6qWbf2efveaJOifFsutEBdPZ5PORtGT_IzjRkPW-pEnfCFfAEIHIc4SNNkh2oPvI6c_uRCg80cj3fo46-Df3HU0QbCsO8Y9S_NV7zJMfKbZPUu-lCD2HDE0jm5d9PhsnLPIjB-HqTKumH22FP-zawozhdAHJJZt4cPXeUKdTn_BXeb1gl6Zwk-5vZlBQTTBRHoblP1UYCF-yHS1s3UdZtugKTLuWeG3h6f-j9bOTXyStydb9mqgT1X45LCnb810N86QIarfhsyXDemZcyrH_hWGdHsY9w6yWN7NAjVhwM0fiL1tMRnXBQx1hlAMzCHRRibjNvHcQgdr-d1pvWOXtV9cWxY3JUubp9Afua6DXHYskGtWGYHl78APdHAjFexMmzMJeaj--QQl1eED5akMrsuFCZUyS6J2WHg1G-t7wSrlr3DOdSSB1G_0wJUy0Bj7TZuuMMytVw=s64",
      "userId": "16390917540151948122"
     },
     "user_tz": -330
    },
    "id": "okfmHb4TXv-h",
    "outputId": "c0e1efbf-4082-4040-fd5f-8822839bb1d8"
   },
   "outputs": [
    {
     "name": "stdout",
     "output_type": "stream",
     "text": [
      "[[37  0]\n",
      " [ 4 19]]\n"
     ]
    },
    {
     "data": {
      "text/plain": [
       "0.9333333333333333"
      ]
     },
     "execution_count": 10,
     "metadata": {},
     "output_type": "execute_result"
    }
   ],
   "source": [
    "from sklearn.metrics import confusion_matrix, accuracy_score\n",
    "cm = confusion_matrix(y_test, y_pred)\n",
    "print(cm)\n",
    "accuracy_score(y_test, y_pred)"
   ]
  },
  {
   "cell_type": "markdown",
   "metadata": {
    "id": "SO86fovR1MKy"
   },
   "source": [
    "## Visualizing Test Set results"
   ]
  },
  {
   "cell_type": "code",
   "execution_count": 11,
   "metadata": {
    "colab": {
     "base_uri": "https://localhost:8080/",
     "height": 351
    },
    "executionInfo": {
     "elapsed": 2367,
     "status": "ok",
     "timestamp": 1612342664634,
     "user": {
      "displayName": "Atulya Kaushik",
      "photoUrl": "https://lh3.googleusercontent.com/a-/AOh14GjbhvYgFojoHN-HGl4SgTi1CUpzprucJC75Ow2BbSoWuEu0eLy52Dy5DvHNqYYz50sRBcTaYLbDFra1U8LEbYMteSvqKo2l1UMv6qL6vaxrktt5GiAzWWYIYJVkUNH92TAZHUsITEqnmk6MGwKNWS5elpBVwao_hpifqycZD6BMXSO6S9uTKw3_FUbV3msxVZbj9A35wRq0JZpggmPAJZ9oQo-amHcxTB0oZixQzAExdFt9nkiRpm_wi9rhqqlr-_U4KNq2PxXmaqjjP90z1WxOOxn6i8kk2rXnYR3aGJjqMPiVToGKKA2ptwr8l6qWbf2efveaJOifFsutEBdPZ5PORtGT_IzjRkPW-pEnfCFfAEIHIc4SNNkh2oPvI6c_uRCg80cj3fo46-Df3HU0QbCsO8Y9S_NV7zJMfKbZPUu-lCD2HDE0jm5d9PhsnLPIjB-HqTKumH22FP-zawozhdAHJJZt4cPXeUKdTn_BXeb1gl6Zwk-5vZlBQTTBRHoblP1UYCF-yHS1s3UdZtugKTLuWeG3h6f-j9bOTXyStydb9mqgT1X45LCnb810N86QIarfhsyXDemZcyrH_hWGdHsY9w6yWN7NAjVhwM0fiL1tMRnXBQx1hlAMzCHRRibjNvHcQgdr-d1pvWOXtV9cWxY3JUubp9Afua6DXHYskGtWGYHl78APdHAjFexMmzMJeaj--QQl1eED5akMrsuFCZUyS6J2WHg1G-t7wSrlr3DOdSSB1G_0wJUy0Bj7TZuuMMytVw=s64",
      "userId": "16390917540151948122"
     },
     "user_tz": -330
    },
    "id": "LDK-IBr7XyoD",
    "outputId": "62aba390-bef2-45ba-e94d-87570419886d"
   },
   "outputs": [
    {
     "name": "stderr",
     "output_type": "stream",
     "text": [
      "*c* argument looks like a single numeric RGB or RGBA sequence, which should be avoided as value-mapping will have precedence in case its length matches with *x* & *y*.  Please use the *color* keyword-argument or provide a 2D array with a single row if you intend to specify the same RGB or RGBA value for all points.\n",
      "*c* argument looks like a single numeric RGB or RGBA sequence, which should be avoided as value-mapping will have precedence in case its length matches with *x* & *y*.  Please use the *color* keyword-argument or provide a 2D array with a single row if you intend to specify the same RGB or RGBA value for all points.\n"
     ]
    },
    {
     "data": {
      "image/png": "[encoded data removed]",
      "text/plain": [
       "<Figure size 640x480 with 1 Axes>"
      ]
     },
     "metadata": {},
     "output_type": "display_data"
    }
   ],
   "source": [
    "from matplotlib.colors import ListedColormap\n",
    "X_set, y_set = sc.inverse_transform(X_test), y_test\n",
    "X1, X2 = np.meshgrid(np.arange(start = X_set[:, 0].min() - 0, stop = X_set[:, 0].max() + 3, step = 1),\n",
    "                     np.arange(start = X_set[:, 1].min() - 0, stop = X_set[:, 1].max() + 200, step = 1))\n",
    "plt.contourf(X1, X2, classifier.predict(sc.transform(np.array([X1.ravel(), X2.ravel()]).T)).reshape(X1.shape),\n",
    "             alpha = 0.75, cmap = ListedColormap(('red', 'green')))\n",
    "plt.xlim(X1.min(), X1.max())\n",
    "plt.ylim(X2.min(), X2.max())\n",
    "for i, j in enumerate(np.unique(y_set)):\n",
    "    plt.scatter(X_set[y_set == j, 0], X_set[y_set == j, 1], c = ListedColormap(('red', 'green'))(i), label = j)\n",
    "plt.title('SVM (Test set)')\n",
    "plt.xlabel('Age')\n",
    "plt.ylabel('Cost of Device')\n",
    "plt.legend()\n",
    "plt.show()\n",
    "\n"
   ]
  },
  {
   "cell_type": "markdown",
   "metadata": {
    "id": "MokDuSCS1J0n"
   },
   "source": [
    "## Visualising Training set results"
   ]
  },
  {
   "cell_type": "code",
   "execution_count": 13,
   "metadata": {
    "colab": {
     "base_uri": "https://localhost:8080/",
     "height": 351
    },
    "executionInfo": {
     "elapsed": 2321,
     "status": "ok",
     "timestamp": 1612342686189,
     "user": {
      "displayName": "Atulya Kaushik",
      "photoUrl": "https://lh3.googleusercontent.com/a-/AOh14GjbhvYgFojoHN-HGl4SgTi1CUpzprucJC75Ow2BbSoWuEu0eLy52Dy5DvHNqYYz50sRBcTaYLbDFra1U8LEbYMteSvqKo2l1UMv6qL6vaxrktt5GiAzWWYIYJVkUNH92TAZHUsITEqnmk6MGwKNWS5elpBVwao_hpifqycZD6BMXSO6S9uTKw3_FUbV3msxVZbj9A35wRq0JZpggmPAJZ9oQo-amHcxTB0oZixQzAExdFt9nkiRpm_wi9rhqqlr-_U4KNq2PxXmaqjjP90z1WxOOxn6i8kk2rXnYR3aGJjqMPiVToGKKA2ptwr8l6qWbf2efveaJOifFsutEBdPZ5PORtGT_IzjRkPW-pEnfCFfAEIHIc4SNNkh2oPvI6c_uRCg80cj3fo46-Df3HU0QbCsO8Y9S_NV7zJMfKbZPUu-lCD2HDE0jm5d9PhsnLPIjB-HqTKumH22FP-zawozhdAHJJZt4cPXeUKdTn_BXeb1gl6Zwk-5vZlBQTTBRHoblP1UYCF-yHS1s3UdZtugKTLuWeG3h6f-j9bOTXyStydb9mqgT1X45LCnb810N86QIarfhsyXDemZcyrH_hWGdHsY9w6yWN7NAjVhwM0fiL1tMRnXBQx1hlAMzCHRRibjNvHcQgdr-d1pvWOXtV9cWxY3JUubp9Afua6DXHYskGtWGYHl78APdHAjFexMmzMJeaj--QQl1eED5akMrsuFCZUyS6J2WHg1G-t7wSrlr3DOdSSB1G_0wJUy0Bj7TZuuMMytVw=s64",
      "userId": "16390917540151948122"
     },
     "user_tz": -330
    },
    "id": "I7tP1VqCXzfC",
    "outputId": "12b56671-244e-4608-d578-ce6e7bfca560"
   },
   "outputs": [
    {
     "name": "stderr",
     "output_type": "stream",
     "text": [
      "*c* argument looks like a single numeric RGB or RGBA sequence, which should be avoided as value-mapping will have precedence in case its length matches with *x* & *y*.  Please use the *color* keyword-argument or provide a 2D array with a single row if you intend to specify the same RGB or RGBA value for all points.\n",
      "*c* argument looks like a single numeric RGB or RGBA sequence, which should be avoided as value-mapping will have precedence in case its length matches with *x* & *y*.  Please use the *color* keyword-argument or provide a 2D array with a single row if you intend to specify the same RGB or RGBA value for all points.\n"
     ]
    },
    {
     "data": {
      "image/png": "[encoded data removed]",
      "text/plain": [
       "<Figure size 640x480 with 1 Axes>"
      ]
     },
     "metadata": {},
     "output_type": "display_data"
    }
   ],
   "source": [
    "from matplotlib.colors import ListedColormap\n",
    "X_set, y_set = sc.inverse_transform(X_train), y_train\n",
    "X1, X2 = np.meshgrid(np.arange(start = X_set[:, 0].min() - 0, stop = X_set[:, 0].max() + 3, step = 1),\n",
    "                     np.arange(start = X_set[:, 1].min() - 0, stop = X_set[:, 1].max() + 200, step = 1))\n",
    "plt.contourf(X1, X2, classifier.predict(sc.transform(np.array([X1.ravel(), X2.ravel()]).T)).reshape(X1.shape),\n",
    "             alpha = 0.75, cmap = ListedColormap(('red', 'green')))\n",
    "plt.xlim(X1.min(), X1.max())\n",
    "plt.ylim(X2.min(), X2.max())\n",
    "for i, j in enumerate(np.unique(y_set)):\n",
    "    plt.scatter(X_set[y_set == j, 0], X_set[y_set == j, 1], c = ListedColormap(('red', 'green'))(i), label = j)\n",
    "plt.title('SVM (Training set)')\n",
    "plt.xlabel('Age')\n",
    "plt.ylabel('Cost of Device')\n",
    "plt.legend()\n",
    "plt.show()\n",
    "\n",
    "\n"
   ]
  },
  {
   "cell_type": "code",
   "execution_count": null,
   "metadata": {},
   "outputs": [],
   "source": []
  }
 ],
 "metadata": {
  "colab": {
   "provenance": [],
   "toc_visible": true
  },
  "kernelspec": {
   "display_name": "Python 3 (ipykernel)",
   "language": "python",
   "name": "python3"
  },
  "language_info": {
   "codemirror_mode": {
    "name": "ipython",
    "version": 3
   },
   "file_extension": ".py",
   "mimetype": "text/x-python",
   "name": "python",
   "nbconvert_exporter": "python",
   "pygments_lexer": "ipython3",
   "version": "3.9.13"
  }
 },
 "nbformat": 4,
 "nbformat_minor": 1
}
