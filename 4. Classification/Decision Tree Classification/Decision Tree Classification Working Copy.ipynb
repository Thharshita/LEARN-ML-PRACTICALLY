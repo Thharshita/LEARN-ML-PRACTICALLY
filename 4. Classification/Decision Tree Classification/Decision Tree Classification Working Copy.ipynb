{
 "cells": [
  {
   "cell_type": "markdown",
   "metadata": {
    "id": "Z-jZGC0q0aiY"
   },
   "source": [
    "# Decision Tree"
   ]
  },
  {
   "cell_type": "markdown",
   "metadata": {
    "id": "jE4Rc_OO0eJM"
   },
   "source": [
    "## Importing libraries"
   ]
  },
  {
   "cell_type": "code",
   "execution_count": 1,
   "metadata": {
    "executionInfo": {
     "elapsed": 1126,
     "status": "ok",
     "timestamp": 1612354745475,
     "user": {
      "displayName": "Atulya Kaushik",
      "photoUrl": "https://lh3.googleusercontent.com/a-/AOh14GhECkv-LWD-7HwqMuR7X6CTOd3_AgPYmkF2hMPDfYU7p7MbuV9KJOaRaihOGN0qipbgnDZD_vD0NVMWJ4da-RIOHOfaVZeqSbFgt4ov46M1sMKxBiBPqkBcofMZwucU6mo131Ix0z_qMM1EMFpGrwhtGkACRO9-za7fyjsaYnacUgK3Ou1KTIP5r0zexB0cjbDFgWcMMdolxcxVOkoVRJ0QiJL0HoIPEq8FuNoFazMWZ37Mr5ZXcgzNRj6wN6-C--7_kgWItv2y5Ks64n15skrUVPpcy08FrTFVL1yAeSO_yHO-xZfMNeQEGZk2EtsJjNX2ra5CQzHUfw4DcAV-jc3rUcWxP50voGhu3NrrFpFJXJ_rfJSrYw6KGpHDDu3CgQxpDG5Q99uBauigwwbsj0KhEs4APuZYuH4xKZ6dEETy4l4jL8xeCbm_Trdn9c0JASkSjAWqW01tYkOu3Fzr6uCcbX3z5sCWli46eigovkH4fi29WNUrzQW5Q-kQBW7ZPpaOzLMbNOgELKHS1QKq8gxmGwqFkgcsnldGKJqJtg2AMSnHhNQQH78DVfxFgy7ozFU-jNphQbtNKAzTMg2CsZfLXgteSlCedEohF-3yFX5tASHXs9AiMduKdOmE5ptG_BnTihYEy8pk2lbSr4C_M7Rxyjj1y2eSVAtgEGP6zvIAe77ALLFG2H_vdr3HaEMBBtu2a3uyujMYWarL0epfLP6m87quvVvMoiDVGt2zEViTrhnpvBnUTQ8B9d1PJeWZiiVLxA=s64",
      "userId": "16390917540151948122"
     },
     "user_tz": -330
    },
    "id": "jFDrqHSaW6iC"
   },
   "outputs": [],
   "source": [
    "import numpy as np\n",
    "import matplotlib.pyplot as plt\n",
    "import pandas as pd"
   ]
  },
  {
   "cell_type": "markdown",
   "metadata": {
    "id": "A9-xGHd20gY1"
   },
   "source": [
    "## Importing dataset"
   ]
  },
  {
   "cell_type": "code",
   "execution_count": 2,
   "metadata": {
    "executionInfo": {
     "elapsed": 706,
     "status": "ok",
     "timestamp": 1612354746672,
     "user": {
      "displayName": "Atulya Kaushik",
      "photoUrl": "https://lh3.googleusercontent.com/a-/AOh14GhECkv-LWD-7HwqMuR7X6CTOd3_AgPYmkF2hMPDfYU7p7MbuV9KJOaRaihOGN0qipbgnDZD_vD0NVMWJ4da-RIOHOfaVZeqSbFgt4ov46M1sMKxBiBPqkBcofMZwucU6mo131Ix0z_qMM1EMFpGrwhtGkACRO9-za7fyjsaYnacUgK3Ou1KTIP5r0zexB0cjbDFgWcMMdolxcxVOkoVRJ0QiJL0HoIPEq8FuNoFazMWZ37Mr5ZXcgzNRj6wN6-C--7_kgWItv2y5Ks64n15skrUVPpcy08FrTFVL1yAeSO_yHO-xZfMNeQEGZk2EtsJjNX2ra5CQzHUfw4DcAV-jc3rUcWxP50voGhu3NrrFpFJXJ_rfJSrYw6KGpHDDu3CgQxpDG5Q99uBauigwwbsj0KhEs4APuZYuH4xKZ6dEETy4l4jL8xeCbm_Trdn9c0JASkSjAWqW01tYkOu3Fzr6uCcbX3z5sCWli46eigovkH4fi29WNUrzQW5Q-kQBW7ZPpaOzLMbNOgELKHS1QKq8gxmGwqFkgcsnldGKJqJtg2AMSnHhNQQH78DVfxFgy7ozFU-jNphQbtNKAzTMg2CsZfLXgteSlCedEohF-3yFX5tASHXs9AiMduKdOmE5ptG_BnTihYEy8pk2lbSr4C_M7Rxyjj1y2eSVAtgEGP6zvIAe77ALLFG2H_vdr3HaEMBBtu2a3uyujMYWarL0epfLP6m87quvVvMoiDVGt2zEViTrhnpvBnUTQ8B9d1PJeWZiiVLxA=s64",
      "userId": "16390917540151948122"
     },
     "user_tz": -330
    },
    "id": "SVH6ZYD-W--s"
   },
   "outputs": [],
   "source": [
    "dataset = pd.read_csv('../Instagram Ads Decision Tree.csv')\n",
    "X = dataset.iloc[:, :-1].values\n",
    "y = dataset.iloc[:, -1].values"
   ]
  },
  {
   "cell_type": "markdown",
   "metadata": {
    "id": "8REFJFGC0lRN"
   },
   "source": [
    "## Splitting the dataset into Training & Test set"
   ]
  },
  {
   "cell_type": "code",
   "execution_count": 3,
   "metadata": {
    "executionInfo": {
     "elapsed": 2668,
     "status": "ok",
     "timestamp": 1612354751958,
     "user": {
      "displayName": "Atulya Kaushik",
      "photoUrl": "https://lh3.googleusercontent.com/a-/AOh14GhECkv-LWD-7HwqMuR7X6CTOd3_AgPYmkF2hMPDfYU7p7MbuV9KJOaRaihOGN0qipbgnDZD_vD0NVMWJ4da-RIOHOfaVZeqSbFgt4ov46M1sMKxBiBPqkBcofMZwucU6mo131Ix0z_qMM1EMFpGrwhtGkACRO9-za7fyjsaYnacUgK3Ou1KTIP5r0zexB0cjbDFgWcMMdolxcxVOkoVRJ0QiJL0HoIPEq8FuNoFazMWZ37Mr5ZXcgzNRj6wN6-C--7_kgWItv2y5Ks64n15skrUVPpcy08FrTFVL1yAeSO_yHO-xZfMNeQEGZk2EtsJjNX2ra5CQzHUfw4DcAV-jc3rUcWxP50voGhu3NrrFpFJXJ_rfJSrYw6KGpHDDu3CgQxpDG5Q99uBauigwwbsj0KhEs4APuZYuH4xKZ6dEETy4l4jL8xeCbm_Trdn9c0JASkSjAWqW01tYkOu3Fzr6uCcbX3z5sCWli46eigovkH4fi29WNUrzQW5Q-kQBW7ZPpaOzLMbNOgELKHS1QKq8gxmGwqFkgcsnldGKJqJtg2AMSnHhNQQH78DVfxFgy7ozFU-jNphQbtNKAzTMg2CsZfLXgteSlCedEohF-3yFX5tASHXs9AiMduKdOmE5ptG_BnTihYEy8pk2lbSr4C_M7Rxyjj1y2eSVAtgEGP6zvIAe77ALLFG2H_vdr3HaEMBBtu2a3uyujMYWarL0epfLP6m87quvVvMoiDVGt2zEViTrhnpvBnUTQ8B9d1PJeWZiiVLxA=s64",
      "userId": "16390917540151948122"
     },
     "user_tz": -330
    },
    "id": "-3caprD4XGwx"
   },
   "outputs": [],
   "source": [
    "from sklearn.model_selection import train_test_split\n",
    "X_train, X_test, y_train, y_test = train_test_split(X, y, test_size = 0.3, random_state = 0)"
   ]
  },
  {
   "cell_type": "markdown",
   "metadata": {
    "id": "-Dw4Khi70u9g"
   },
   "source": [
    "## Feature Scaling"
   ]
  },
  {
   "cell_type": "code",
   "execution_count": 4,
   "metadata": {
    "executionInfo": {
     "elapsed": 1036,
     "status": "ok",
     "timestamp": 1612354759226,
     "user": {
      "displayName": "Atulya Kaushik",
      "photoUrl": "https://lh3.googleusercontent.com/a-/AOh14GhECkv-LWD-7HwqMuR7X6CTOd3_AgPYmkF2hMPDfYU7p7MbuV9KJOaRaihOGN0qipbgnDZD_vD0NVMWJ4da-RIOHOfaVZeqSbFgt4ov46M1sMKxBiBPqkBcofMZwucU6mo131Ix0z_qMM1EMFpGrwhtGkACRO9-za7fyjsaYnacUgK3Ou1KTIP5r0zexB0cjbDFgWcMMdolxcxVOkoVRJ0QiJL0HoIPEq8FuNoFazMWZ37Mr5ZXcgzNRj6wN6-C--7_kgWItv2y5Ks64n15skrUVPpcy08FrTFVL1yAeSO_yHO-xZfMNeQEGZk2EtsJjNX2ra5CQzHUfw4DcAV-jc3rUcWxP50voGhu3NrrFpFJXJ_rfJSrYw6KGpHDDu3CgQxpDG5Q99uBauigwwbsj0KhEs4APuZYuH4xKZ6dEETy4l4jL8xeCbm_Trdn9c0JASkSjAWqW01tYkOu3Fzr6uCcbX3z5sCWli46eigovkH4fi29WNUrzQW5Q-kQBW7ZPpaOzLMbNOgELKHS1QKq8gxmGwqFkgcsnldGKJqJtg2AMSnHhNQQH78DVfxFgy7ozFU-jNphQbtNKAzTMg2CsZfLXgteSlCedEohF-3yFX5tASHXs9AiMduKdOmE5ptG_BnTihYEy8pk2lbSr4C_M7Rxyjj1y2eSVAtgEGP6zvIAe77ALLFG2H_vdr3HaEMBBtu2a3uyujMYWarL0epfLP6m87quvVvMoiDVGt2zEViTrhnpvBnUTQ8B9d1PJeWZiiVLxA=s64",
      "userId": "16390917540151948122"
     },
     "user_tz": -330
    },
    "id": "dN5TSW7QXM_r"
   },
   "outputs": [],
   "source": [
    "from sklearn.preprocessing import StandardScaler\n",
    "sc = StandardScaler()\n",
    "X_train = sc.fit_transform(X_train)\n",
    "X_test = sc.transform(X_test)"
   ]
  },
  {
   "cell_type": "markdown",
   "metadata": {
    "id": "2QUFYaoH00H6"
   },
   "source": [
    "## Decision Tree Classification Training on Training set"
   ]
  },
  {
   "cell_type": "code",
   "execution_count": 5,
   "metadata": {
    "colab": {
     "base_uri": "https://localhost:8080/"
    },
    "executionInfo": {
     "elapsed": 1041,
     "status": "ok",
     "timestamp": 1612354890955,
     "user": {
      "displayName": "Atulya Kaushik",
      "photoUrl": "https://lh3.googleusercontent.com/a-/AOh14GhECkv-LWD-7HwqMuR7X6CTOd3_AgPYmkF2hMPDfYU7p7MbuV9KJOaRaihOGN0qipbgnDZD_vD0NVMWJ4da-RIOHOfaVZeqSbFgt4ov46M1sMKxBiBPqkBcofMZwucU6mo131Ix0z_qMM1EMFpGrwhtGkACRO9-za7fyjsaYnacUgK3Ou1KTIP5r0zexB0cjbDFgWcMMdolxcxVOkoVRJ0QiJL0HoIPEq8FuNoFazMWZ37Mr5ZXcgzNRj6wN6-C--7_kgWItv2y5Ks64n15skrUVPpcy08FrTFVL1yAeSO_yHO-xZfMNeQEGZk2EtsJjNX2ra5CQzHUfw4DcAV-jc3rUcWxP50voGhu3NrrFpFJXJ_rfJSrYw6KGpHDDu3CgQxpDG5Q99uBauigwwbsj0KhEs4APuZYuH4xKZ6dEETy4l4jL8xeCbm_Trdn9c0JASkSjAWqW01tYkOu3Fzr6uCcbX3z5sCWli46eigovkH4fi29WNUrzQW5Q-kQBW7ZPpaOzLMbNOgELKHS1QKq8gxmGwqFkgcsnldGKJqJtg2AMSnHhNQQH78DVfxFgy7ozFU-jNphQbtNKAzTMg2CsZfLXgteSlCedEohF-3yFX5tASHXs9AiMduKdOmE5ptG_BnTihYEy8pk2lbSr4C_M7Rxyjj1y2eSVAtgEGP6zvIAe77ALLFG2H_vdr3HaEMBBtu2a3uyujMYWarL0epfLP6m87quvVvMoiDVGt2zEViTrhnpvBnUTQ8B9d1PJeWZiiVLxA=s64",
      "userId": "16390917540151948122"
     },
     "user_tz": -330
    },
    "id": "KiuXO_aozZmS",
    "outputId": "eb24208b-74cd-4916-a90c-6ed487f91b81"
   },
   "outputs": [
    {
     "data": {
      "text/plain": [
       "DecisionTreeClassifier(criterion='entropy', random_state=21)"
      ]
     },
     "execution_count": 5,
     "metadata": {},
     "output_type": "execute_result"
    }
   ],
   "source": [
    "from sklearn.tree import DecisionTreeClassifier\n",
    "classifier = DecisionTreeClassifier(criterion = 'entropy', random_state = 21)\n",
    "classifier.fit(X_train, y_train)"
   ]
  },
  {
   "cell_type": "markdown",
   "metadata": {
    "id": "iXT0yCoI07X8"
   },
   "source": [
    "## Predicting"
   ]
  },
  {
   "cell_type": "code",
   "execution_count": 18,
   "metadata": {
    "colab": {
     "base_uri": "https://localhost:8080/"
    },
    "executionInfo": {
     "elapsed": 1079,
     "status": "ok",
     "timestamp": 1612354901067,
     "user": {
      "displayName": "Atulya Kaushik",
      "photoUrl": "https://lh3.googleusercontent.com/a-/AOh14GhECkv-LWD-7HwqMuR7X6CTOd3_AgPYmkF2hMPDfYU7p7MbuV9KJOaRaihOGN0qipbgnDZD_vD0NVMWJ4da-RIOHOfaVZeqSbFgt4ov46M1sMKxBiBPqkBcofMZwucU6mo131Ix0z_qMM1EMFpGrwhtGkACRO9-za7fyjsaYnacUgK3Ou1KTIP5r0zexB0cjbDFgWcMMdolxcxVOkoVRJ0QiJL0HoIPEq8FuNoFazMWZ37Mr5ZXcgzNRj6wN6-C--7_kgWItv2y5Ks64n15skrUVPpcy08FrTFVL1yAeSO_yHO-xZfMNeQEGZk2EtsJjNX2ra5CQzHUfw4DcAV-jc3rUcWxP50voGhu3NrrFpFJXJ_rfJSrYw6KGpHDDu3CgQxpDG5Q99uBauigwwbsj0KhEs4APuZYuH4xKZ6dEETy4l4jL8xeCbm_Trdn9c0JASkSjAWqW01tYkOu3Fzr6uCcbX3z5sCWli46eigovkH4fi29WNUrzQW5Q-kQBW7ZPpaOzLMbNOgELKHS1QKq8gxmGwqFkgcsnldGKJqJtg2AMSnHhNQQH78DVfxFgy7ozFU-jNphQbtNKAzTMg2CsZfLXgteSlCedEohF-3yFX5tASHXs9AiMduKdOmE5ptG_BnTihYEy8pk2lbSr4C_M7Rxyjj1y2eSVAtgEGP6zvIAe77ALLFG2H_vdr3HaEMBBtu2a3uyujMYWarL0epfLP6m87quvVvMoiDVGt2zEViTrhnpvBnUTQ8B9d1PJeWZiiVLxA=s64",
      "userId": "16390917540151948122"
     },
     "user_tz": -330
    },
    "id": "2YQddSHgza6U",
    "outputId": "fa9cb222-7c19-4869-b2d1-8cfa67be30d1"
   },
   "outputs": [
    {
     "name": "stdout",
     "output_type": "stream",
     "text": [
      "[0]\n"
     ]
    }
   ],
   "source": [
    "print(classifier.predict(sc.transform([[18,36000]])))"
   ]
  },
  {
   "cell_type": "markdown",
   "metadata": {
    "id": "9oG_iJfc1A0K"
   },
   "source": [
    "## Predicting Test set results"
   ]
  },
  {
   "cell_type": "code",
   "execution_count": 19,
   "metadata": {
    "colab": {
     "base_uri": "https://localhost:8080/"
    },
    "executionInfo": {
     "elapsed": 1038,
     "status": "ok",
     "timestamp": 1612354906742,
     "user": {
      "displayName": "Atulya Kaushik",
      "photoUrl": "https://lh3.googleusercontent.com/a-/AOh14GhECkv-LWD-7HwqMuR7X6CTOd3_AgPYmkF2hMPDfYU7p7MbuV9KJOaRaihOGN0qipbgnDZD_vD0NVMWJ4da-RIOHOfaVZeqSbFgt4ov46M1sMKxBiBPqkBcofMZwucU6mo131Ix0z_qMM1EMFpGrwhtGkACRO9-za7fyjsaYnacUgK3Ou1KTIP5r0zexB0cjbDFgWcMMdolxcxVOkoVRJ0QiJL0HoIPEq8FuNoFazMWZ37Mr5ZXcgzNRj6wN6-C--7_kgWItv2y5Ks64n15skrUVPpcy08FrTFVL1yAeSO_yHO-xZfMNeQEGZk2EtsJjNX2ra5CQzHUfw4DcAV-jc3rUcWxP50voGhu3NrrFpFJXJ_rfJSrYw6KGpHDDu3CgQxpDG5Q99uBauigwwbsj0KhEs4APuZYuH4xKZ6dEETy4l4jL8xeCbm_Trdn9c0JASkSjAWqW01tYkOu3Fzr6uCcbX3z5sCWli46eigovkH4fi29WNUrzQW5Q-kQBW7ZPpaOzLMbNOgELKHS1QKq8gxmGwqFkgcsnldGKJqJtg2AMSnHhNQQH78DVfxFgy7ozFU-jNphQbtNKAzTMg2CsZfLXgteSlCedEohF-3yFX5tASHXs9AiMduKdOmE5ptG_BnTihYEy8pk2lbSr4C_M7Rxyjj1y2eSVAtgEGP6zvIAe77ALLFG2H_vdr3HaEMBBtu2a3uyujMYWarL0epfLP6m87quvVvMoiDVGt2zEViTrhnpvBnUTQ8B9d1PJeWZiiVLxA=s64",
      "userId": "16390917540151948122"
     },
     "user_tz": -330
    },
    "id": "SXJcOtP0zdDq",
    "outputId": "f1ceaec3-312a-4053-979f-cdf62131beb7"
   },
   "outputs": [
    {
     "name": "stdout",
     "output_type": "stream",
     "text": [
      "[[0 0]\n",
      " [0 1]\n",
      " [1 1]\n",
      " [1 1]\n",
      " [0 1]\n",
      " [0 0]\n",
      " [0 0]\n",
      " [0 0]\n",
      " [1 0]\n",
      " [0 0]\n",
      " [0 0]\n",
      " [0 0]\n",
      " [1 1]\n",
      " [1 1]\n",
      " [0 0]\n",
      " [1 1]\n",
      " [0 0]\n",
      " [1 1]\n",
      " [1 0]\n",
      " [0 0]\n",
      " [0 1]\n",
      " [1 1]\n",
      " [0 0]\n",
      " [1 0]\n",
      " [1 0]\n",
      " [0 0]\n",
      " [0 0]\n",
      " [1 1]\n",
      " [0 0]\n",
      " [1 1]\n",
      " [1 1]\n",
      " [0 0]\n",
      " [1 1]\n",
      " [1 1]\n",
      " [0 0]\n",
      " [0 0]\n",
      " [1 1]\n",
      " [0 0]\n",
      " [1 1]\n",
      " [0 0]\n",
      " [0 0]\n",
      " [0 0]\n",
      " [0 0]\n",
      " [0 0]\n",
      " [1 1]\n",
      " [0 0]\n",
      " [0 0]\n",
      " [0 0]\n",
      " [1 0]\n",
      " [0 0]\n",
      " [0 0]\n",
      " [1 1]\n",
      " [1 0]\n",
      " [0 0]\n",
      " [1 1]\n",
      " [0 0]\n",
      " [0 0]\n",
      " [0 1]\n",
      " [0 0]\n",
      " [0 0]]\n"
     ]
    }
   ],
   "source": [
    "y_pred = classifier.predict(X_test)\n",
    "print(np.concatenate((y_pred.reshape(len(y_pred),1), y_test.reshape(len(y_test),1)),1))"
   ]
  },
  {
   "cell_type": "markdown",
   "metadata": {
    "id": "p6I0bJj_1Fxl"
   },
   "source": [
    "## Confusion Matrix"
   ]
  },
  {
   "cell_type": "code",
   "execution_count": 20,
   "metadata": {
    "colab": {
     "base_uri": "https://localhost:8080/"
    },
    "executionInfo": {
     "elapsed": 1017,
     "status": "ok",
     "timestamp": 1612354920832,
     "user": {
      "displayName": "Atulya Kaushik",
      "photoUrl": "https://lh3.googleusercontent.com/a-/AOh14GhECkv-LWD-7HwqMuR7X6CTOd3_AgPYmkF2hMPDfYU7p7MbuV9KJOaRaihOGN0qipbgnDZD_vD0NVMWJ4da-RIOHOfaVZeqSbFgt4ov46M1sMKxBiBPqkBcofMZwucU6mo131Ix0z_qMM1EMFpGrwhtGkACRO9-za7fyjsaYnacUgK3Ou1KTIP5r0zexB0cjbDFgWcMMdolxcxVOkoVRJ0QiJL0HoIPEq8FuNoFazMWZ37Mr5ZXcgzNRj6wN6-C--7_kgWItv2y5Ks64n15skrUVPpcy08FrTFVL1yAeSO_yHO-xZfMNeQEGZk2EtsJjNX2ra5CQzHUfw4DcAV-jc3rUcWxP50voGhu3NrrFpFJXJ_rfJSrYw6KGpHDDu3CgQxpDG5Q99uBauigwwbsj0KhEs4APuZYuH4xKZ6dEETy4l4jL8xeCbm_Trdn9c0JASkSjAWqW01tYkOu3Fzr6uCcbX3z5sCWli46eigovkH4fi29WNUrzQW5Q-kQBW7ZPpaOzLMbNOgELKHS1QKq8gxmGwqFkgcsnldGKJqJtg2AMSnHhNQQH78DVfxFgy7ozFU-jNphQbtNKAzTMg2CsZfLXgteSlCedEohF-3yFX5tASHXs9AiMduKdOmE5ptG_BnTihYEy8pk2lbSr4C_M7Rxyjj1y2eSVAtgEGP6zvIAe77ALLFG2H_vdr3HaEMBBtu2a3uyujMYWarL0epfLP6m87quvVvMoiDVGt2zEViTrhnpvBnUTQ8B9d1PJeWZiiVLxA=s64",
      "userId": "16390917540151948122"
     },
     "user_tz": -330
    },
    "id": "mtVstpjHzepv",
    "outputId": "595cc65a-eaf0-4c9a-f87e-2c3bbb07a62b"
   },
   "outputs": [
    {
     "name": "stdout",
     "output_type": "stream",
     "text": [
      "[[33  6]\n",
      " [ 4 17]]\n"
     ]
    },
    {
     "data": {
      "text/plain": [
       "0.8333333333333334"
      ]
     },
     "execution_count": 20,
     "metadata": {},
     "output_type": "execute_result"
    }
   ],
   "source": [
    "from sklearn.metrics import confusion_matrix, accuracy_score\n",
    "cm = confusion_matrix(y_test, y_pred)\n",
    "print(cm)\n",
    "accuracy_score(y_test, y_pred)"
   ]
  },
  {
   "cell_type": "markdown",
   "metadata": {
    "id": "SO86fovR1MKy"
   },
   "source": [
    "## Visualizing Test Set results"
   ]
  },
  {
   "cell_type": "code",
   "execution_count": 21,
   "metadata": {
    "colab": {
     "base_uri": "https://localhost:8080/",
     "height": 351
    },
    "executionInfo": {
     "elapsed": 2091,
     "status": "ok",
     "timestamp": 1612354943176,
     "user": {
      "displayName": "Atulya Kaushik",
      "photoUrl": "https://lh3.googleusercontent.com/a-/AOh14GhECkv-LWD-7HwqMuR7X6CTOd3_AgPYmkF2hMPDfYU7p7MbuV9KJOaRaihOGN0qipbgnDZD_vD0NVMWJ4da-RIOHOfaVZeqSbFgt4ov46M1sMKxBiBPqkBcofMZwucU6mo131Ix0z_qMM1EMFpGrwhtGkACRO9-za7fyjsaYnacUgK3Ou1KTIP5r0zexB0cjbDFgWcMMdolxcxVOkoVRJ0QiJL0HoIPEq8FuNoFazMWZ37Mr5ZXcgzNRj6wN6-C--7_kgWItv2y5Ks64n15skrUVPpcy08FrTFVL1yAeSO_yHO-xZfMNeQEGZk2EtsJjNX2ra5CQzHUfw4DcAV-jc3rUcWxP50voGhu3NrrFpFJXJ_rfJSrYw6KGpHDDu3CgQxpDG5Q99uBauigwwbsj0KhEs4APuZYuH4xKZ6dEETy4l4jL8xeCbm_Trdn9c0JASkSjAWqW01tYkOu3Fzr6uCcbX3z5sCWli46eigovkH4fi29WNUrzQW5Q-kQBW7ZPpaOzLMbNOgELKHS1QKq8gxmGwqFkgcsnldGKJqJtg2AMSnHhNQQH78DVfxFgy7ozFU-jNphQbtNKAzTMg2CsZfLXgteSlCedEohF-3yFX5tASHXs9AiMduKdOmE5ptG_BnTihYEy8pk2lbSr4C_M7Rxyjj1y2eSVAtgEGP6zvIAe77ALLFG2H_vdr3HaEMBBtu2a3uyujMYWarL0epfLP6m87quvVvMoiDVGt2zEViTrhnpvBnUTQ8B9d1PJeWZiiVLxA=s64",
      "userId": "16390917540151948122"
     },
     "user_tz": -330
    },
    "id": "LDK-IBr7XyoD",
    "outputId": "dd3b72e1-deab-4e0d-fa13-2a93a04db32d"
   },
   "outputs": [
    {
     "name": "stderr",
     "output_type": "stream",
     "text": [
      "*c* argument looks like a single numeric RGB or RGBA sequence, which should be avoided as value-mapping will have precedence in case its length matches with *x* & *y*.  Please use the *color* keyword-argument or provide a 2D array with a single row if you intend to specify the same RGB or RGBA value for all points.\n",
      "*c* argument looks like a single numeric RGB or RGBA sequence, which should be avoided as value-mapping will have precedence in case its length matches with *x* & *y*.  Please use the *color* keyword-argument or provide a 2D array with a single row if you intend to specify the same RGB or RGBA value for all points.\n"
     ]
    },
    {
     "data": {
      "image/png": "[encoded data removed]",
      "text/plain": [
       "<Figure size 640x480 with 1 Axes>"
      ]
     },
     "metadata": {},
     "output_type": "display_data"
    }
   ],
   "source": [
    "from matplotlib.colors import ListedColormap\n",
    "X_set, y_set = sc.inverse_transform(X_test), y_test\n",
    "X1, X2 = np.meshgrid(np.arange(start = X_set[:, 0].min() - 0, stop = X_set[:, 0].max() + 10, step = 1),\n",
    "                     np.arange(start = X_set[:, 1].min() - 0, stop = X_set[:, 1].max() + 1000, step = 1))\n",
    "plt.contourf(X1, X2, classifier.predict(sc.transform(np.array([X1.ravel(), X2.ravel()]).T)).reshape(X1.shape),\n",
    "             alpha = 0.75, cmap = ListedColormap(('red', 'green')))\n",
    "plt.xlim(X1.min(), X1.max())\n",
    "plt.ylim(X2.min(), X2.max())\n",
    "for i, j in enumerate(np.unique(y_set)):\n",
    "    plt.scatter(X_set[y_set == j, 0], X_set[y_set == j, 1], c = ListedColormap(('red', 'green'))(i), label = j)\n",
    "plt.title('Decision Tree (Test set)')\n",
    "plt.xlabel('Age')\n",
    "plt.ylabel('Cost of Device')\n",
    "plt.legend()\n",
    "plt.show()"
   ]
  },
  {
   "cell_type": "markdown",
   "metadata": {
    "id": "MokDuSCS1J0n"
   },
   "source": [
    "## Visualising Training set results"
   ]
  },
  {
   "cell_type": "code",
   "execution_count": 24,
   "metadata": {
    "colab": {
     "base_uri": "https://localhost:8080/",
     "height": 351
    },
    "executionInfo": {
     "elapsed": 1688,
     "status": "ok",
     "timestamp": 1612354982447,
     "user": {
      "displayName": "Atulya Kaushik",
      "photoUrl": "https://lh3.googleusercontent.com/a-/AOh14GhECkv-LWD-7HwqMuR7X6CTOd3_AgPYmkF2hMPDfYU7p7MbuV9KJOaRaihOGN0qipbgnDZD_vD0NVMWJ4da-RIOHOfaVZeqSbFgt4ov46M1sMKxBiBPqkBcofMZwucU6mo131Ix0z_qMM1EMFpGrwhtGkACRO9-za7fyjsaYnacUgK3Ou1KTIP5r0zexB0cjbDFgWcMMdolxcxVOkoVRJ0QiJL0HoIPEq8FuNoFazMWZ37Mr5ZXcgzNRj6wN6-C--7_kgWItv2y5Ks64n15skrUVPpcy08FrTFVL1yAeSO_yHO-xZfMNeQEGZk2EtsJjNX2ra5CQzHUfw4DcAV-jc3rUcWxP50voGhu3NrrFpFJXJ_rfJSrYw6KGpHDDu3CgQxpDG5Q99uBauigwwbsj0KhEs4APuZYuH4xKZ6dEETy4l4jL8xeCbm_Trdn9c0JASkSjAWqW01tYkOu3Fzr6uCcbX3z5sCWli46eigovkH4fi29WNUrzQW5Q-kQBW7ZPpaOzLMbNOgELKHS1QKq8gxmGwqFkgcsnldGKJqJtg2AMSnHhNQQH78DVfxFgy7ozFU-jNphQbtNKAzTMg2CsZfLXgteSlCedEohF-3yFX5tASHXs9AiMduKdOmE5ptG_BnTihYEy8pk2lbSr4C_M7Rxyjj1y2eSVAtgEGP6zvIAe77ALLFG2H_vdr3HaEMBBtu2a3uyujMYWarL0epfLP6m87quvVvMoiDVGt2zEViTrhnpvBnUTQ8B9d1PJeWZiiVLxA=s64",
      "userId": "16390917540151948122"
     },
     "user_tz": -330
    },
    "id": "I7tP1VqCXzfC",
    "outputId": "d4510bd5-6790-43dd-efe8-addb6acc6548"
   },
   "outputs": [
    {
     "name": "stderr",
     "output_type": "stream",
     "text": [
      "*c* argument looks like a single numeric RGB or RGBA sequence, which should be avoided as value-mapping will have precedence in case its length matches with *x* & *y*.  Please use the *color* keyword-argument or provide a 2D array with a single row if you intend to specify the same RGB or RGBA value for all points.\n",
      "*c* argument looks like a single numeric RGB or RGBA sequence, which should be avoided as value-mapping will have precedence in case its length matches with *x* & *y*.  Please use the *color* keyword-argument or provide a 2D array with a single row if you intend to specify the same RGB or RGBA value for all points.\n"
     ]
    },
    {
     "data": {
      "image/png": "[encoded data removed]",
      "text/plain": [
       "<Figure size 640x480 with 1 Axes>"
      ]
     },
     "metadata": {},
     "output_type": "display_data"
    }
   ],
   "source": [
    "from matplotlib.colors import ListedColormap\n",
    "X_set, y_set = sc.inverse_transform(X_train), y_train\n",
    "X1, X2 = np.meshgrid(np.arange(start = X_set[:, 0].min() - 0, stop = X_set[:, 0].max() + 10, step = 1),\n",
    "                     np.arange(start = X_set[:, 1].min() - 0, stop = X_set[:, 1].max() + 1000, step = 1))\n",
    "plt.contourf(X1, X2, classifier.predict(sc.transform(np.array([X1.ravel(), X2.ravel()]).T)).reshape(X1.shape),\n",
    "             alpha = 0.75, cmap = ListedColormap(('red', 'green')))\n",
    "plt.xlim(X1.min(), X1.max())\n",
    "plt.ylim(X2.min(), X2.max())\n",
    "for i, j in enumerate(np.unique(y_set)):\n",
    "    plt.scatter(X_set[y_set == j, 0], X_set[y_set == j, 1], c = ListedColormap(('red', 'green'))(i), label = j)\n",
    "plt.title('Decision Tree (Training set)')\n",
    "plt.xlabel('Age')\n",
    "plt.ylabel('Cost of Device')\n",
    "plt.legend()\n",
    "plt.show()"
   ]
  },
  {
   "cell_type": "code",
   "execution_count": null,
   "metadata": {},
   "outputs": [],
   "source": []
  }
 ],
 "metadata": {
  "colab": {
   "authorship_tag": "ABX9TyMiwi7pjGJhVcn/C8C5JEmS",
   "name": "Decision Tree Classification Working Copy.ipynb",
   "provenance": [],
   "toc_visible": true
  },
  "kernelspec": {
   "display_name": "Python 3 (ipykernel)",
   "language": "python",
   "name": "python3"
  },
  "language_info": {
   "codemirror_mode": {
    "name": "ipython",
    "version": 3
   },
   "file_extension": ".py",
   "mimetype": "text/x-python",
   "name": "python",
   "nbconvert_exporter": "python",
   "pygments_lexer": "ipython3",
   "version": "3.9.13"
  }
 },
 "nbformat": 4,
 "nbformat_minor": 1
}
