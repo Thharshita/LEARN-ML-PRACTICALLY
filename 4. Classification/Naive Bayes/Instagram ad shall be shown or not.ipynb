{
 "cells": [
  {
   "cell_type": "markdown",
   "metadata": {
    "id": "Z-jZGC0q0aiY"
   },
   "source": [
    "# Naive Bayes"
   ]
  },
  {
   "cell_type": "markdown",
   "metadata": {
    "id": "jE4Rc_OO0eJM"
   },
   "source": [
    "## Importing libraries"
   ]
  },
  {
   "cell_type": "code",
   "execution_count": 1,
   "metadata": {
    "executionInfo": {
     "elapsed": 1771,
     "status": "ok",
     "timestamp": 1612352033331,
     "user": {
      "displayName": "Atulya Kaushik",
      "photoUrl": "https://lh3.googleusercontent.com/a-/AOh14GhRBvLR0O4hcmuK9DqL67bvdEI0Yu_IWRdZHZgoElf1qcXSYVlVmkqLi61oS5KvOo0fFD_IN5PadgHw1VyGnbbTG859aN-tCO8OjfmMkoiofO7I4cvAJ5FuW-S9mvWRtuj3sf8ofNo8yAQTJqNQDPi-knW1L6xcXUQLBwh7MV88uyTz0GmYKmfospqIOaGmZG0dHHIAQ00L_qfYLxkKWDYFetugqW6bOxDSbynGso3gqSiLK8yxT5Slo7KZwXYd9A-bx6YrrJclfBjRgSZ5mgk9qKivVcjh84cgy4bTSOMr2EjGvBgVZqDsMPNqcHXhnR02rn6Hjszgsl3JvKJ51O_ZIbZaOdU5MJfeTwAnQ7l272QSFvZdjLspAbgAWe6QA-Z7G7F_mK3XrmvftbtCnlUfu3ioaPeNHcaCOKLijolgddPrOzaot9bD0OBpNyj09apM7fYGkyVfgGFDjCZ2VNiT6Ke2-dNFNApjucTb-m0cuQ6yiWSNj8d5dxzLwv2CzVngN7SZ1GBoph5XMI-xjg5VQlyjn8qa64hqhagQuqWyWED1aPirsGPv4YAOc3J1OlGT8zbyngwHDMySNcWa8y7ngBBuZjehzouxL8XCM6CXetdtz3eH8WiigUJiJt2tpQWSqV0HcYg2d-son9JoKjDvI-5yeY4i3UNafoXKmZ_1MukvAIZWa_d75VdSp1m07AxSll8tOaw5SfsbELIaU0A_iyiqSGPU0NxqdR_KRwGpJLtntkMDe5wlzcNLRO4gduVtCA=s64",
      "userId": "16390917540151948122"
     },
     "user_tz": -330
    },
    "id": "jFDrqHSaW6iC"
   },
   "outputs": [],
   "source": [
    "import numpy as np\n",
    "import matplotlib.pyplot as plt\n",
    "import pandas as pd"
   ]
  },
  {
   "cell_type": "markdown",
   "metadata": {
    "id": "A9-xGHd20gY1"
   },
   "source": [
    "## Importing dataset"
   ]
  },
  {
   "cell_type": "code",
   "execution_count": 6,
   "metadata": {
    "executionInfo": {
     "elapsed": 2321,
     "status": "ok",
     "timestamp": 1612352036796,
     "user": {
      "displayName": "Atulya Kaushik",
      "photoUrl": "https://lh3.googleusercontent.com/a-/AOh14GhRBvLR0O4hcmuK9DqL67bvdEI0Yu_IWRdZHZgoElf1qcXSYVlVmkqLi61oS5KvOo0fFD_IN5PadgHw1VyGnbbTG859aN-tCO8OjfmMkoiofO7I4cvAJ5FuW-S9mvWRtuj3sf8ofNo8yAQTJqNQDPi-knW1L6xcXUQLBwh7MV88uyTz0GmYKmfospqIOaGmZG0dHHIAQ00L_qfYLxkKWDYFetugqW6bOxDSbynGso3gqSiLK8yxT5Slo7KZwXYd9A-bx6YrrJclfBjRgSZ5mgk9qKivVcjh84cgy4bTSOMr2EjGvBgVZqDsMPNqcHXhnR02rn6Hjszgsl3JvKJ51O_ZIbZaOdU5MJfeTwAnQ7l272QSFvZdjLspAbgAWe6QA-Z7G7F_mK3XrmvftbtCnlUfu3ioaPeNHcaCOKLijolgddPrOzaot9bD0OBpNyj09apM7fYGkyVfgGFDjCZ2VNiT6Ke2-dNFNApjucTb-m0cuQ6yiWSNj8d5dxzLwv2CzVngN7SZ1GBoph5XMI-xjg5VQlyjn8qa64hqhagQuqWyWED1aPirsGPv4YAOc3J1OlGT8zbyngwHDMySNcWa8y7ngBBuZjehzouxL8XCM6CXetdtz3eH8WiigUJiJt2tpQWSqV0HcYg2d-son9JoKjDvI-5yeY4i3UNafoXKmZ_1MukvAIZWa_d75VdSp1m07AxSll8tOaw5SfsbELIaU0A_iyiqSGPU0NxqdR_KRwGpJLtntkMDe5wlzcNLRO4gduVtCA=s64",
      "userId": "16390917540151948122"
     },
     "user_tz": -330
    },
    "id": "SVH6ZYD-W--s"
   },
   "outputs": [
    {
     "name": "stdout",
     "output_type": "stream",
     "text": [
      "     Age  Mobile Phone  Purchased\n",
      "0     15          6334          0\n",
      "1     28          6667          0\n",
      "2     20         14334          0\n",
      "3     21         19000          0\n",
      "4     15         25334          0\n",
      "..   ...           ...        ...\n",
      "194   28         26334          0\n",
      "195   34         43000          1\n",
      "196   42         11334          1\n",
      "197   37         16667          1\n",
      "198   33         26334          0\n",
      "\n",
      "[199 rows x 3 columns]\n"
     ]
    }
   ],
   "source": [
    "dataset = pd.read_csv('../Instagram Ads Naive Bayes.csv')\n",
    "print(dataset)\n",
    "X = dataset.iloc[:, :-1].values\n",
    "y = dataset.iloc[:, -1].values"
   ]
  },
  {
   "cell_type": "markdown",
   "metadata": {
    "id": "8REFJFGC0lRN"
   },
   "source": [
    "## Splitting the dataset into Training & Test set"
   ]
  },
  {
   "cell_type": "code",
   "execution_count": 7,
   "metadata": {
    "executionInfo": {
     "elapsed": 4695,
     "status": "ok",
     "timestamp": 1612352041494,
     "user": {
      "displayName": "Atulya Kaushik",
      "photoUrl": "https://lh3.googleusercontent.com/a-/AOh14GhRBvLR0O4hcmuK9DqL67bvdEI0Yu_IWRdZHZgoElf1qcXSYVlVmkqLi61oS5KvOo0fFD_IN5PadgHw1VyGnbbTG859aN-tCO8OjfmMkoiofO7I4cvAJ5FuW-S9mvWRtuj3sf8ofNo8yAQTJqNQDPi-knW1L6xcXUQLBwh7MV88uyTz0GmYKmfospqIOaGmZG0dHHIAQ00L_qfYLxkKWDYFetugqW6bOxDSbynGso3gqSiLK8yxT5Slo7KZwXYd9A-bx6YrrJclfBjRgSZ5mgk9qKivVcjh84cgy4bTSOMr2EjGvBgVZqDsMPNqcHXhnR02rn6Hjszgsl3JvKJ51O_ZIbZaOdU5MJfeTwAnQ7l272QSFvZdjLspAbgAWe6QA-Z7G7F_mK3XrmvftbtCnlUfu3ioaPeNHcaCOKLijolgddPrOzaot9bD0OBpNyj09apM7fYGkyVfgGFDjCZ2VNiT6Ke2-dNFNApjucTb-m0cuQ6yiWSNj8d5dxzLwv2CzVngN7SZ1GBoph5XMI-xjg5VQlyjn8qa64hqhagQuqWyWED1aPirsGPv4YAOc3J1OlGT8zbyngwHDMySNcWa8y7ngBBuZjehzouxL8XCM6CXetdtz3eH8WiigUJiJt2tpQWSqV0HcYg2d-son9JoKjDvI-5yeY4i3UNafoXKmZ_1MukvAIZWa_d75VdSp1m07AxSll8tOaw5SfsbELIaU0A_iyiqSGPU0NxqdR_KRwGpJLtntkMDe5wlzcNLRO4gduVtCA=s64",
      "userId": "16390917540151948122"
     },
     "user_tz": -330
    },
    "id": "-3caprD4XGwx"
   },
   "outputs": [],
   "source": [
    "from sklearn.model_selection import train_test_split\n",
    "X_train, X_test, y_train, y_test = train_test_split(X, y, test_size = 0.3, random_state = 21)"
   ]
  },
  {
   "cell_type": "markdown",
   "metadata": {
    "id": "-Dw4Khi70u9g"
   },
   "source": [
    "## Feature Scaling"
   ]
  },
  {
   "cell_type": "code",
   "execution_count": 8,
   "metadata": {
    "executionInfo": {
     "elapsed": 1832,
     "status": "ok",
     "timestamp": 1612352045229,
     "user": {
      "displayName": "Atulya Kaushik",
      "photoUrl": "https://lh3.googleusercontent.com/a-/AOh14GhRBvLR0O4hcmuK9DqL67bvdEI0Yu_IWRdZHZgoElf1qcXSYVlVmkqLi61oS5KvOo0fFD_IN5PadgHw1VyGnbbTG859aN-tCO8OjfmMkoiofO7I4cvAJ5FuW-S9mvWRtuj3sf8ofNo8yAQTJqNQDPi-knW1L6xcXUQLBwh7MV88uyTz0GmYKmfospqIOaGmZG0dHHIAQ00L_qfYLxkKWDYFetugqW6bOxDSbynGso3gqSiLK8yxT5Slo7KZwXYd9A-bx6YrrJclfBjRgSZ5mgk9qKivVcjh84cgy4bTSOMr2EjGvBgVZqDsMPNqcHXhnR02rn6Hjszgsl3JvKJ51O_ZIbZaOdU5MJfeTwAnQ7l272QSFvZdjLspAbgAWe6QA-Z7G7F_mK3XrmvftbtCnlUfu3ioaPeNHcaCOKLijolgddPrOzaot9bD0OBpNyj09apM7fYGkyVfgGFDjCZ2VNiT6Ke2-dNFNApjucTb-m0cuQ6yiWSNj8d5dxzLwv2CzVngN7SZ1GBoph5XMI-xjg5VQlyjn8qa64hqhagQuqWyWED1aPirsGPv4YAOc3J1OlGT8zbyngwHDMySNcWa8y7ngBBuZjehzouxL8XCM6CXetdtz3eH8WiigUJiJt2tpQWSqV0HcYg2d-son9JoKjDvI-5yeY4i3UNafoXKmZ_1MukvAIZWa_d75VdSp1m07AxSll8tOaw5SfsbELIaU0A_iyiqSGPU0NxqdR_KRwGpJLtntkMDe5wlzcNLRO4gduVtCA=s64",
      "userId": "16390917540151948122"
     },
     "user_tz": -330
    },
    "id": "dN5TSW7QXM_r"
   },
   "outputs": [],
   "source": [
    "from sklearn.preprocessing import StandardScaler\n",
    "sc = StandardScaler()\n",
    "X_train = sc.fit_transform(X_train)\n",
    "X_test = sc.transform(X_test)"
   ]
  },
  {
   "cell_type": "markdown",
   "metadata": {
    "id": "2QUFYaoH00H6"
   },
   "source": [
    "## Naive Bayes Training on Training set"
   ]
  },
  {
   "cell_type": "code",
   "execution_count": 9,
   "metadata": {
    "colab": {
     "base_uri": "https://localhost:8080/"
    },
    "executionInfo": {
     "elapsed": 917,
     "status": "ok",
     "timestamp": 1612352101002,
     "user": {
      "displayName": "Atulya Kaushik",
      "photoUrl": "https://lh3.googleusercontent.com/a-/AOh14GhRBvLR0O4hcmuK9DqL67bvdEI0Yu_IWRdZHZgoElf1qcXSYVlVmkqLi61oS5KvOo0fFD_IN5PadgHw1VyGnbbTG859aN-tCO8OjfmMkoiofO7I4cvAJ5FuW-S9mvWRtuj3sf8ofNo8yAQTJqNQDPi-knW1L6xcXUQLBwh7MV88uyTz0GmYKmfospqIOaGmZG0dHHIAQ00L_qfYLxkKWDYFetugqW6bOxDSbynGso3gqSiLK8yxT5Slo7KZwXYd9A-bx6YrrJclfBjRgSZ5mgk9qKivVcjh84cgy4bTSOMr2EjGvBgVZqDsMPNqcHXhnR02rn6Hjszgsl3JvKJ51O_ZIbZaOdU5MJfeTwAnQ7l272QSFvZdjLspAbgAWe6QA-Z7G7F_mK3XrmvftbtCnlUfu3ioaPeNHcaCOKLijolgddPrOzaot9bD0OBpNyj09apM7fYGkyVfgGFDjCZ2VNiT6Ke2-dNFNApjucTb-m0cuQ6yiWSNj8d5dxzLwv2CzVngN7SZ1GBoph5XMI-xjg5VQlyjn8qa64hqhagQuqWyWED1aPirsGPv4YAOc3J1OlGT8zbyngwHDMySNcWa8y7ngBBuZjehzouxL8XCM6CXetdtz3eH8WiigUJiJt2tpQWSqV0HcYg2d-son9JoKjDvI-5yeY4i3UNafoXKmZ_1MukvAIZWa_d75VdSp1m07AxSll8tOaw5SfsbELIaU0A_iyiqSGPU0NxqdR_KRwGpJLtntkMDe5wlzcNLRO4gduVtCA=s64",
      "userId": "16390917540151948122"
     },
     "user_tz": -330
    },
    "id": "S21qjbYyXSHJ",
    "outputId": "18bfd2fd-e7b9-47af-e298-20aa23357e44"
   },
   "outputs": [
    {
     "data": {
      "text/plain": [
       "GaussianNB()"
      ]
     },
     "execution_count": 9,
     "metadata": {},
     "output_type": "execute_result"
    }
   ],
   "source": [
    "from sklearn.naive_bayes import GaussianNB\n",
    "classifier = GaussianNB()\n",
    "classifier.fit(X_train, y_train)"
   ]
  },
  {
   "cell_type": "markdown",
   "metadata": {
    "id": "iXT0yCoI07X8"
   },
   "source": [
    "## Predicting"
   ]
  },
  {
   "cell_type": "code",
   "execution_count": 10,
   "metadata": {
    "colab": {
     "base_uri": "https://localhost:8080/"
    },
    "executionInfo": {
     "elapsed": 1557,
     "status": "ok",
     "timestamp": 1612352116638,
     "user": {
      "displayName": "Atulya Kaushik",
      "photoUrl": "https://lh3.googleusercontent.com/a-/AOh14GhRBvLR0O4hcmuK9DqL67bvdEI0Yu_IWRdZHZgoElf1qcXSYVlVmkqLi61oS5KvOo0fFD_IN5PadgHw1VyGnbbTG859aN-tCO8OjfmMkoiofO7I4cvAJ5FuW-S9mvWRtuj3sf8ofNo8yAQTJqNQDPi-knW1L6xcXUQLBwh7MV88uyTz0GmYKmfospqIOaGmZG0dHHIAQ00L_qfYLxkKWDYFetugqW6bOxDSbynGso3gqSiLK8yxT5Slo7KZwXYd9A-bx6YrrJclfBjRgSZ5mgk9qKivVcjh84cgy4bTSOMr2EjGvBgVZqDsMPNqcHXhnR02rn6Hjszgsl3JvKJ51O_ZIbZaOdU5MJfeTwAnQ7l272QSFvZdjLspAbgAWe6QA-Z7G7F_mK3XrmvftbtCnlUfu3ioaPeNHcaCOKLijolgddPrOzaot9bD0OBpNyj09apM7fYGkyVfgGFDjCZ2VNiT6Ke2-dNFNApjucTb-m0cuQ6yiWSNj8d5dxzLwv2CzVngN7SZ1GBoph5XMI-xjg5VQlyjn8qa64hqhagQuqWyWED1aPirsGPv4YAOc3J1OlGT8zbyngwHDMySNcWa8y7ngBBuZjehzouxL8XCM6CXetdtz3eH8WiigUJiJt2tpQWSqV0HcYg2d-son9JoKjDvI-5yeY4i3UNafoXKmZ_1MukvAIZWa_d75VdSp1m07AxSll8tOaw5SfsbELIaU0A_iyiqSGPU0NxqdR_KRwGpJLtntkMDe5wlzcNLRO4gduVtCA=s64",
      "userId": "16390917540151948122"
     },
     "user_tz": -330
    },
    "id": "6NZnLs7RXZLG",
    "outputId": "d325f1a0-0625-4b62-a339-e817366789df"
   },
   "outputs": [
    {
     "name": "stdout",
     "output_type": "stream",
     "text": [
      "[1]\n"
     ]
    }
   ],
   "source": [
    "print(classifier.predict(sc.transform([[36,34000]])))"
   ]
  },
  {
   "cell_type": "markdown",
   "metadata": {
    "id": "9oG_iJfc1A0K"
   },
   "source": [
    "## Predicting Test set results"
   ]
  },
  {
   "cell_type": "code",
   "execution_count": 8,
   "metadata": {
    "colab": {
     "base_uri": "https://localhost:8080/"
    },
    "executionInfo": {
     "elapsed": 1188,
     "status": "ok",
     "timestamp": 1612352121054,
     "user": {
      "displayName": "Atulya Kaushik",
      "photoUrl": "https://lh3.googleusercontent.com/a-/AOh14GhRBvLR0O4hcmuK9DqL67bvdEI0Yu_IWRdZHZgoElf1qcXSYVlVmkqLi61oS5KvOo0fFD_IN5PadgHw1VyGnbbTG859aN-tCO8OjfmMkoiofO7I4cvAJ5FuW-S9mvWRtuj3sf8ofNo8yAQTJqNQDPi-knW1L6xcXUQLBwh7MV88uyTz0GmYKmfospqIOaGmZG0dHHIAQ00L_qfYLxkKWDYFetugqW6bOxDSbynGso3gqSiLK8yxT5Slo7KZwXYd9A-bx6YrrJclfBjRgSZ5mgk9qKivVcjh84cgy4bTSOMr2EjGvBgVZqDsMPNqcHXhnR02rn6Hjszgsl3JvKJ51O_ZIbZaOdU5MJfeTwAnQ7l272QSFvZdjLspAbgAWe6QA-Z7G7F_mK3XrmvftbtCnlUfu3ioaPeNHcaCOKLijolgddPrOzaot9bD0OBpNyj09apM7fYGkyVfgGFDjCZ2VNiT6Ke2-dNFNApjucTb-m0cuQ6yiWSNj8d5dxzLwv2CzVngN7SZ1GBoph5XMI-xjg5VQlyjn8qa64hqhagQuqWyWED1aPirsGPv4YAOc3J1OlGT8zbyngwHDMySNcWa8y7ngBBuZjehzouxL8XCM6CXetdtz3eH8WiigUJiJt2tpQWSqV0HcYg2d-son9JoKjDvI-5yeY4i3UNafoXKmZ_1MukvAIZWa_d75VdSp1m07AxSll8tOaw5SfsbELIaU0A_iyiqSGPU0NxqdR_KRwGpJLtntkMDe5wlzcNLRO4gduVtCA=s64",
      "userId": "16390917540151948122"
     },
     "user_tz": -330
    },
    "id": "VFnOWkvcXnK5",
    "outputId": "a871332e-2059-40a1-9958-377607ffc483"
   },
   "outputs": [
    {
     "name": "stdout",
     "output_type": "stream",
     "text": [
      "[[1 1]\n",
      " [0 0]\n",
      " [0 0]\n",
      " [0 0]\n",
      " [0 0]\n",
      " [0 0]\n",
      " [0 0]\n",
      " [1 1]\n",
      " [1 1]\n",
      " [1 1]\n",
      " [0 0]\n",
      " [0 0]\n",
      " [0 0]\n",
      " [1 1]\n",
      " [1 1]\n",
      " [1 1]\n",
      " [0 0]\n",
      " [1 1]\n",
      " [0 1]\n",
      " [0 0]\n",
      " [0 0]\n",
      " [0 0]\n",
      " [0 0]\n",
      " [0 1]\n",
      " [0 0]\n",
      " [0 0]\n",
      " [1 1]\n",
      " [1 1]\n",
      " [0 0]\n",
      " [0 0]\n",
      " [0 0]\n",
      " [1 1]\n",
      " [1 1]\n",
      " [0 0]\n",
      " [1 1]\n",
      " [1 0]\n",
      " [0 0]\n",
      " [0 1]\n",
      " [1 1]\n",
      " [0 0]\n",
      " [0 0]\n",
      " [0 0]\n",
      " [0 0]\n",
      " [0 0]\n",
      " [1 1]\n",
      " [1 1]\n",
      " [0 0]\n",
      " [0 0]\n",
      " [0 0]\n",
      " [1 1]\n",
      " [0 0]\n",
      " [1 1]\n",
      " [0 0]\n",
      " [1 1]\n",
      " [0 0]\n",
      " [0 0]\n",
      " [0 0]\n",
      " [0 0]\n",
      " [0 0]\n",
      " [1 1]]\n"
     ]
    }
   ],
   "source": [
    "y_pred = classifier.predict(X_test)\n",
    "print(np.concatenate((y_pred.reshape(len(y_pred),1), y_test.reshape(len(y_test),1)),1))"
   ]
  },
  {
   "cell_type": "markdown",
   "metadata": {
    "id": "p6I0bJj_1Fxl"
   },
   "source": [
    "## Confusion Matrix"
   ]
  },
  {
   "cell_type": "code",
   "execution_count": 9,
   "metadata": {
    "colab": {
     "base_uri": "https://localhost:8080/"
    },
    "executionInfo": {
     "elapsed": 992,
     "status": "ok",
     "timestamp": 1612352129679,
     "user": {
      "displayName": "Atulya Kaushik",
      "photoUrl": "https://lh3.googleusercontent.com/a-/AOh14GhRBvLR0O4hcmuK9DqL67bvdEI0Yu_IWRdZHZgoElf1qcXSYVlVmkqLi61oS5KvOo0fFD_IN5PadgHw1VyGnbbTG859aN-tCO8OjfmMkoiofO7I4cvAJ5FuW-S9mvWRtuj3sf8ofNo8yAQTJqNQDPi-knW1L6xcXUQLBwh7MV88uyTz0GmYKmfospqIOaGmZG0dHHIAQ00L_qfYLxkKWDYFetugqW6bOxDSbynGso3gqSiLK8yxT5Slo7KZwXYd9A-bx6YrrJclfBjRgSZ5mgk9qKivVcjh84cgy4bTSOMr2EjGvBgVZqDsMPNqcHXhnR02rn6Hjszgsl3JvKJ51O_ZIbZaOdU5MJfeTwAnQ7l272QSFvZdjLspAbgAWe6QA-Z7G7F_mK3XrmvftbtCnlUfu3ioaPeNHcaCOKLijolgddPrOzaot9bD0OBpNyj09apM7fYGkyVfgGFDjCZ2VNiT6Ke2-dNFNApjucTb-m0cuQ6yiWSNj8d5dxzLwv2CzVngN7SZ1GBoph5XMI-xjg5VQlyjn8qa64hqhagQuqWyWED1aPirsGPv4YAOc3J1OlGT8zbyngwHDMySNcWa8y7ngBBuZjehzouxL8XCM6CXetdtz3eH8WiigUJiJt2tpQWSqV0HcYg2d-son9JoKjDvI-5yeY4i3UNafoXKmZ_1MukvAIZWa_d75VdSp1m07AxSll8tOaw5SfsbELIaU0A_iyiqSGPU0NxqdR_KRwGpJLtntkMDe5wlzcNLRO4gduVtCA=s64",
      "userId": "16390917540151948122"
     },
     "user_tz": -330
    },
    "id": "okfmHb4TXv-h",
    "outputId": "43a308ea-294c-4165-c3c9-e706773bfd2e"
   },
   "outputs": [
    {
     "name": "stdout",
     "output_type": "stream",
     "text": [
      "[[36  1]\n",
      " [ 3 20]]\n"
     ]
    },
    {
     "data": {
      "text/plain": [
       "0.9333333333333333"
      ]
     },
     "execution_count": 9,
     "metadata": {
      "tags": []
     },
     "output_type": "execute_result"
    }
   ],
   "source": [
    "from sklearn.metrics import confusion_matrix, accuracy_score\n",
    "cm = confusion_matrix(y_test, y_pred)\n",
    "print(cm)\n",
    "accuracy_score(y_test, y_pred)"
   ]
  },
  {
   "cell_type": "markdown",
   "metadata": {
    "id": "SO86fovR1MKy"
   },
   "source": [
    "## Visualizing Test Set results"
   ]
  },
  {
   "cell_type": "code",
   "execution_count": 11,
   "metadata": {
    "colab": {
     "base_uri": "https://localhost:8080/",
     "height": 351
    },
    "executionInfo": {
     "elapsed": 1870,
     "status": "ok",
     "timestamp": 1612352151694,
     "user": {
      "displayName": "Atulya Kaushik",
      "photoUrl": "https://lh3.googleusercontent.com/a-/AOh14GhRBvLR0O4hcmuK9DqL67bvdEI0Yu_IWRdZHZgoElf1qcXSYVlVmkqLi61oS5KvOo0fFD_IN5PadgHw1VyGnbbTG859aN-tCO8OjfmMkoiofO7I4cvAJ5FuW-S9mvWRtuj3sf8ofNo8yAQTJqNQDPi-knW1L6xcXUQLBwh7MV88uyTz0GmYKmfospqIOaGmZG0dHHIAQ00L_qfYLxkKWDYFetugqW6bOxDSbynGso3gqSiLK8yxT5Slo7KZwXYd9A-bx6YrrJclfBjRgSZ5mgk9qKivVcjh84cgy4bTSOMr2EjGvBgVZqDsMPNqcHXhnR02rn6Hjszgsl3JvKJ51O_ZIbZaOdU5MJfeTwAnQ7l272QSFvZdjLspAbgAWe6QA-Z7G7F_mK3XrmvftbtCnlUfu3ioaPeNHcaCOKLijolgddPrOzaot9bD0OBpNyj09apM7fYGkyVfgGFDjCZ2VNiT6Ke2-dNFNApjucTb-m0cuQ6yiWSNj8d5dxzLwv2CzVngN7SZ1GBoph5XMI-xjg5VQlyjn8qa64hqhagQuqWyWED1aPirsGPv4YAOc3J1OlGT8zbyngwHDMySNcWa8y7ngBBuZjehzouxL8XCM6CXetdtz3eH8WiigUJiJt2tpQWSqV0HcYg2d-son9JoKjDvI-5yeY4i3UNafoXKmZ_1MukvAIZWa_d75VdSp1m07AxSll8tOaw5SfsbELIaU0A_iyiqSGPU0NxqdR_KRwGpJLtntkMDe5wlzcNLRO4gduVtCA=s64",
      "userId": "16390917540151948122"
     },
     "user_tz": -330
    },
    "id": "LDK-IBr7XyoD",
    "outputId": "d35295de-ed54-4ee1-f7fb-f9c13009c12b"
   },
   "outputs": [
    {
     "name": "stderr",
     "output_type": "stream",
     "text": [
      "*c* argument looks like a single numeric RGB or RGBA sequence, which should be avoided as value-mapping will have precedence in case its length matches with *x* & *y*.  Please use the *color* keyword-argument or provide a 2D array with a single row if you intend to specify the same RGB or RGBA value for all points.\n",
      "*c* argument looks like a single numeric RGB or RGBA sequence, which should be avoided as value-mapping will have precedence in case its length matches with *x* & *y*.  Please use the *color* keyword-argument or provide a 2D array with a single row if you intend to specify the same RGB or RGBA value for all points.\n"
     ]
    },
    {
     "data": {
      "image/png": "[encoded data removed]",
      "text/plain": [
       "<Figure size 640x480 with 1 Axes>"
      ]
     },
     "metadata": {},
     "output_type": "display_data"
    }
   ],
   "source": [
    "from matplotlib.colors import ListedColormap\n",
    "X_set, y_set = sc.inverse_transform(X_test), y_test\n",
    "X1, X2 = np.meshgrid(np.arange(start = X_set[:, 0].min() - 0, stop = X_set[:, 0].max() + 10, step = 1),\n",
    "                     np.arange(start = X_set[:, 1].min() - 0, stop = X_set[:, 1].max() + 1000, step = 1))\n",
    "plt.contourf(X1, X2, classifier.predict(sc.transform(np.array([X1.ravel(), X2.ravel()]).T)).reshape(X1.shape),\n",
    "             alpha = 0.75, cmap = ListedColormap(('red', 'green')))\n",
    "plt.xlim(X1.min(), X1.max())\n",
    "plt.ylim(X2.min(), X2.max())\n",
    "for i, j in enumerate(np.unique(y_set)):\n",
    "    plt.scatter(X_set[y_set == j, 0], X_set[y_set == j, 1], c = ListedColormap(('red', 'green'))(i), label = j)\n",
    "plt.title('SVM (Test set)')\n",
    "plt.xlabel('Age')\n",
    "plt.ylabel('Cost of Device')\n",
    "plt.legend()\n",
    "plt.show()"
   ]
  },
  {
   "cell_type": "markdown",
   "metadata": {
    "id": "MokDuSCS1J0n"
   },
   "source": [
    "## Visualising Training set results"
   ]
  },
  {
   "cell_type": "code",
   "execution_count": 12,
   "metadata": {
    "colab": {
     "base_uri": "https://localhost:8080/",
     "height": 351
    },
    "executionInfo": {
     "elapsed": 1625,
     "status": "ok",
     "timestamp": 1612352176653,
     "user": {
      "displayName": "Atulya Kaushik",
      "photoUrl": "https://lh3.googleusercontent.com/a-/AOh14GhRBvLR0O4hcmuK9DqL67bvdEI0Yu_IWRdZHZgoElf1qcXSYVlVmkqLi61oS5KvOo0fFD_IN5PadgHw1VyGnbbTG859aN-tCO8OjfmMkoiofO7I4cvAJ5FuW-S9mvWRtuj3sf8ofNo8yAQTJqNQDPi-knW1L6xcXUQLBwh7MV88uyTz0GmYKmfospqIOaGmZG0dHHIAQ00L_qfYLxkKWDYFetugqW6bOxDSbynGso3gqSiLK8yxT5Slo7KZwXYd9A-bx6YrrJclfBjRgSZ5mgk9qKivVcjh84cgy4bTSOMr2EjGvBgVZqDsMPNqcHXhnR02rn6Hjszgsl3JvKJ51O_ZIbZaOdU5MJfeTwAnQ7l272QSFvZdjLspAbgAWe6QA-Z7G7F_mK3XrmvftbtCnlUfu3ioaPeNHcaCOKLijolgddPrOzaot9bD0OBpNyj09apM7fYGkyVfgGFDjCZ2VNiT6Ke2-dNFNApjucTb-m0cuQ6yiWSNj8d5dxzLwv2CzVngN7SZ1GBoph5XMI-xjg5VQlyjn8qa64hqhagQuqWyWED1aPirsGPv4YAOc3J1OlGT8zbyngwHDMySNcWa8y7ngBBuZjehzouxL8XCM6CXetdtz3eH8WiigUJiJt2tpQWSqV0HcYg2d-son9JoKjDvI-5yeY4i3UNafoXKmZ_1MukvAIZWa_d75VdSp1m07AxSll8tOaw5SfsbELIaU0A_iyiqSGPU0NxqdR_KRwGpJLtntkMDe5wlzcNLRO4gduVtCA=s64",
      "userId": "16390917540151948122"
     },
     "user_tz": -330
    },
    "id": "I7tP1VqCXzfC",
    "outputId": "4626bf47-fb84-45db-8f1d-983884580664"
   },
   "outputs": [
    {
     "name": "stderr",
     "output_type": "stream",
     "text": [
      "*c* argument looks like a single numeric RGB or RGBA sequence, which should be avoided as value-mapping will have precedence in case its length matches with *x* & *y*.  Please use the *color* keyword-argument or provide a 2D array with a single row if you intend to specify the same RGB or RGBA value for all points.\n",
      "*c* argument looks like a single numeric RGB or RGBA sequence, which should be avoided as value-mapping will have precedence in case its length matches with *x* & *y*.  Please use the *color* keyword-argument or provide a 2D array with a single row if you intend to specify the same RGB or RGBA value for all points.\n"
     ]
    },
    {
     "data": {
      "image/png": "[encoded data removed]",
      "text/plain": [
       "<Figure size 640x480 with 1 Axes>"
      ]
     },
     "metadata": {},
     "output_type": "display_data"
    }
   ],
   "source": [
    "from matplotlib.colors import ListedColormap\n",
    "X_set, y_set = sc.inverse_transform(X_train), y_train\n",
    "X1, X2 = np.meshgrid(np.arange(start = X_set[:, 0].min() - 0, stop = X_set[:, 0].max() + 10, step = 1),\n",
    "                     np.arange(start = X_set[:, 1].min() - 0, stop = X_set[:, 1].max() + 1000, step = 1))\n",
    "plt.contourf(X1, X2, classifier.predict(sc.transform(np.array([X1.ravel(), X2.ravel()]).T)).reshape(X1.shape),\n",
    "             alpha = 0.75, cmap = ListedColormap(('red', 'green')))\n",
    "plt.xlim(X1.min(), X1.max())\n",
    "plt.ylim(X2.min(), X2.max())\n",
    "for i, j in enumerate(np.unique(y_set)):\n",
    "    plt.scatter(X_set[y_set == j, 0], X_set[y_set == j, 1], c = ListedColormap(('red', 'green'))(i), label = j)\n",
    "plt.title('SVM (Training set)')\n",
    "plt.xlabel('Age')\n",
    "plt.ylabel('Cost of Device')\n",
    "plt.legend()\n",
    "plt.show()"
   ]
  },
  {
   "cell_type": "code",
   "execution_count": null,
   "metadata": {},
   "outputs": [],
   "source": []
  }
 ],
 "metadata": {
  "colab": {
   "authorship_tag": "ABX9TyP8lKMSErwgibEGm/aYGpjw",
   "name": "Naive Bayes Classification Working Copy.ipynb",
   "provenance": [],
   "toc_visible": true
  },
  "kernelspec": {
   "display_name": "Python 3 (ipykernel)",
   "language": "python",
   "name": "python3"
  },
  "language_info": {
   "codemirror_mode": {
    "name": "ipython",
    "version": 3
   },
   "file_extension": ".py",
   "mimetype": "text/x-python",
   "name": "python",
   "nbconvert_exporter": "python",
   "pygments_lexer": "ipython3",
   "version": "3.9.13"
  }
 },
 "nbformat": 4,
 "nbformat_minor": 1
}
