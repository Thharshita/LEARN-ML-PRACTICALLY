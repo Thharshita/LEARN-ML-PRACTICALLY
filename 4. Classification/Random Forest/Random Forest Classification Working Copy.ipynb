{
 "cells": [
  {
   "cell_type": "markdown",
   "metadata": {
    "id": "Z-jZGC0q0aiY"
   },
   "source": [
    "# Random Forest"
   ]
  },
  {
   "cell_type": "markdown",
   "metadata": {
    "id": "jE4Rc_OO0eJM"
   },
   "source": [
    "## Importing libraries"
   ]
  },
  {
   "cell_type": "code",
   "execution_count": 5,
   "metadata": {
    "executionInfo": {
     "elapsed": 1069,
     "status": "ok",
     "timestamp": 1612355362270,
     "user": {
      "displayName": "Atulya Kaushik",
      "photoUrl": "https://lh3.googleusercontent.com/a-/AOh14GiMWjKz_7Z2c4vYsjWn3QOKThWXoAf4eRmyGZl5VPxdbVgSKhPOKHN4Tum6aA2BFSKsY-Zq0_fHPzc5VIpSfgmT6qi_w6eQAbJUjHOILtCekYQ8JliQrECBKKJyH183us7fQraBNuG1kFUCOFYrefxRZI8Niq0gYoHBQxz2L7eBMtzrAEJ_xzTpH-g7XD7zzGc14t8RZ2WqpiEi06HoyE2bBQX0SM3I742U8DsvSTELkbhW6voA9lJB1B9DV-ZNGaNWPAsVM_yFDKbItoVN4y2Qu3JKax0rNU6xqGhOwFE_oOP53HAo7MZhlNkOAsKg_1a0o-XyvEFDBDhOSvvYqurVDOhpRe5y3OAw_6w7ieRBBPRyNOnMU_KRpCLAgWJ9JN0nZpxHT8ji_BMLcG8s9I5ugX74PNCoVy5R1HH4j9NJqX8gtB2tz8B8YgfmckhI_SUJW7RgjwMUY9q3yjwiHbBAchF8xfDAhkxWN0QJr8JU3LwVYxQltIHZgJDV0uDWZ0DqwdcGrV5LIy3q-lZ2kVbRdG_55kuBMaj73iIC-E5pXGXyKQTD5snv1e9h7Ja10KQHsFWuzVd4eJvV527_5G9fW8dtRl9iDn7VwUHtnyBznnIwhjGSBDBG0NxwqeWSZviwW6qpbIpWDpClGFOQx2kPTjvRT9GJaflv8XyUDl0ZpISRkOrAr6K_3qTmv9b1H3RFPWwq7eBql5VHZ5vwyAxILAfGrwjQhXkF3twEwah4aUhvAVVYk8NZR_tz7G7Sl0gCRA=s64",
      "userId": "16390917540151948122"
     },
     "user_tz": -330
    },
    "id": "jFDrqHSaW6iC"
   },
   "outputs": [],
   "source": [
    "import numpy as np\n",
    "import matplotlib.pyplot as plt\n",
    "import pandas as pd"
   ]
  },
  {
   "cell_type": "markdown",
   "metadata": {
    "id": "A9-xGHd20gY1"
   },
   "source": [
    "## Importing dataset"
   ]
  },
  {
   "cell_type": "code",
   "execution_count": 7,
   "metadata": {
    "executionInfo": {
     "elapsed": 1086,
     "status": "ok",
     "timestamp": 1612355369855,
     "user": {
      "displayName": "Atulya Kaushik",
      "photoUrl": "https://lh3.googleusercontent.com/a-/AOh14GiMWjKz_7Z2c4vYsjWn3QOKThWXoAf4eRmyGZl5VPxdbVgSKhPOKHN4Tum6aA2BFSKsY-Zq0_fHPzc5VIpSfgmT6qi_w6eQAbJUjHOILtCekYQ8JliQrECBKKJyH183us7fQraBNuG1kFUCOFYrefxRZI8Niq0gYoHBQxz2L7eBMtzrAEJ_xzTpH-g7XD7zzGc14t8RZ2WqpiEi06HoyE2bBQX0SM3I742U8DsvSTELkbhW6voA9lJB1B9DV-ZNGaNWPAsVM_yFDKbItoVN4y2Qu3JKax0rNU6xqGhOwFE_oOP53HAo7MZhlNkOAsKg_1a0o-XyvEFDBDhOSvvYqurVDOhpRe5y3OAw_6w7ieRBBPRyNOnMU_KRpCLAgWJ9JN0nZpxHT8ji_BMLcG8s9I5ugX74PNCoVy5R1HH4j9NJqX8gtB2tz8B8YgfmckhI_SUJW7RgjwMUY9q3yjwiHbBAchF8xfDAhkxWN0QJr8JU3LwVYxQltIHZgJDV0uDWZ0DqwdcGrV5LIy3q-lZ2kVbRdG_55kuBMaj73iIC-E5pXGXyKQTD5snv1e9h7Ja10KQHsFWuzVd4eJvV527_5G9fW8dtRl9iDn7VwUHtnyBznnIwhjGSBDBG0NxwqeWSZviwW6qpbIpWDpClGFOQx2kPTjvRT9GJaflv8XyUDl0ZpISRkOrAr6K_3qTmv9b1H3RFPWwq7eBql5VHZ5vwyAxILAfGrwjQhXkF3twEwah4aUhvAVVYk8NZR_tz7G7Sl0gCRA=s64",
      "userId": "16390917540151948122"
     },
     "user_tz": -330
    },
    "id": "SVH6ZYD-W--s"
   },
   "outputs": [],
   "source": [
    "dataset = pd.read_csv('../Instagram Ads Decision Tree.csv')\n",
    "X = dataset.iloc[:, :-1].values\n",
    "y = dataset.iloc[:, -1].values"
   ]
  },
  {
   "cell_type": "markdown",
   "metadata": {
    "id": "8REFJFGC0lRN"
   },
   "source": [
    "## Splitting the dataset into Training & Test set"
   ]
  },
  {
   "cell_type": "code",
   "execution_count": 8,
   "metadata": {
    "executionInfo": {
     "elapsed": 2346,
     "status": "ok",
     "timestamp": 1612355373601,
     "user": {
      "displayName": "Atulya Kaushik",
      "photoUrl": "https://lh3.googleusercontent.com/a-/AOh14GiMWjKz_7Z2c4vYsjWn3QOKThWXoAf4eRmyGZl5VPxdbVgSKhPOKHN4Tum6aA2BFSKsY-Zq0_fHPzc5VIpSfgmT6qi_w6eQAbJUjHOILtCekYQ8JliQrECBKKJyH183us7fQraBNuG1kFUCOFYrefxRZI8Niq0gYoHBQxz2L7eBMtzrAEJ_xzTpH-g7XD7zzGc14t8RZ2WqpiEi06HoyE2bBQX0SM3I742U8DsvSTELkbhW6voA9lJB1B9DV-ZNGaNWPAsVM_yFDKbItoVN4y2Qu3JKax0rNU6xqGhOwFE_oOP53HAo7MZhlNkOAsKg_1a0o-XyvEFDBDhOSvvYqurVDOhpRe5y3OAw_6w7ieRBBPRyNOnMU_KRpCLAgWJ9JN0nZpxHT8ji_BMLcG8s9I5ugX74PNCoVy5R1HH4j9NJqX8gtB2tz8B8YgfmckhI_SUJW7RgjwMUY9q3yjwiHbBAchF8xfDAhkxWN0QJr8JU3LwVYxQltIHZgJDV0uDWZ0DqwdcGrV5LIy3q-lZ2kVbRdG_55kuBMaj73iIC-E5pXGXyKQTD5snv1e9h7Ja10KQHsFWuzVd4eJvV527_5G9fW8dtRl9iDn7VwUHtnyBznnIwhjGSBDBG0NxwqeWSZviwW6qpbIpWDpClGFOQx2kPTjvRT9GJaflv8XyUDl0ZpISRkOrAr6K_3qTmv9b1H3RFPWwq7eBql5VHZ5vwyAxILAfGrwjQhXkF3twEwah4aUhvAVVYk8NZR_tz7G7Sl0gCRA=s64",
      "userId": "16390917540151948122"
     },
     "user_tz": -330
    },
    "id": "-3caprD4XGwx"
   },
   "outputs": [],
   "source": [
    "from sklearn.model_selection import train_test_split\n",
    "X_train, X_test, y_train, y_test = train_test_split(X, y, test_size = 0.3, random_state = 0)"
   ]
  },
  {
   "cell_type": "markdown",
   "metadata": {
    "id": "-Dw4Khi70u9g"
   },
   "source": [
    "## Feature Scaling"
   ]
  },
  {
   "cell_type": "code",
   "execution_count": 9,
   "metadata": {
    "executionInfo": {
     "elapsed": 1061,
     "status": "ok",
     "timestamp": 1612355375162,
     "user": {
      "displayName": "Atulya Kaushik",
      "photoUrl": "https://lh3.googleusercontent.com/a-/AOh14GiMWjKz_7Z2c4vYsjWn3QOKThWXoAf4eRmyGZl5VPxdbVgSKhPOKHN4Tum6aA2BFSKsY-Zq0_fHPzc5VIpSfgmT6qi_w6eQAbJUjHOILtCekYQ8JliQrECBKKJyH183us7fQraBNuG1kFUCOFYrefxRZI8Niq0gYoHBQxz2L7eBMtzrAEJ_xzTpH-g7XD7zzGc14t8RZ2WqpiEi06HoyE2bBQX0SM3I742U8DsvSTELkbhW6voA9lJB1B9DV-ZNGaNWPAsVM_yFDKbItoVN4y2Qu3JKax0rNU6xqGhOwFE_oOP53HAo7MZhlNkOAsKg_1a0o-XyvEFDBDhOSvvYqurVDOhpRe5y3OAw_6w7ieRBBPRyNOnMU_KRpCLAgWJ9JN0nZpxHT8ji_BMLcG8s9I5ugX74PNCoVy5R1HH4j9NJqX8gtB2tz8B8YgfmckhI_SUJW7RgjwMUY9q3yjwiHbBAchF8xfDAhkxWN0QJr8JU3LwVYxQltIHZgJDV0uDWZ0DqwdcGrV5LIy3q-lZ2kVbRdG_55kuBMaj73iIC-E5pXGXyKQTD5snv1e9h7Ja10KQHsFWuzVd4eJvV527_5G9fW8dtRl9iDn7VwUHtnyBznnIwhjGSBDBG0NxwqeWSZviwW6qpbIpWDpClGFOQx2kPTjvRT9GJaflv8XyUDl0ZpISRkOrAr6K_3qTmv9b1H3RFPWwq7eBql5VHZ5vwyAxILAfGrwjQhXkF3twEwah4aUhvAVVYk8NZR_tz7G7Sl0gCRA=s64",
      "userId": "16390917540151948122"
     },
     "user_tz": -330
    },
    "id": "dN5TSW7QXM_r"
   },
   "outputs": [],
   "source": [
    "from sklearn.preprocessing import StandardScaler\n",
    "sc = StandardScaler()\n",
    "X_train = sc.fit_transform(X_train)\n",
    "X_test = sc.transform(X_test)"
   ]
  },
  {
   "cell_type": "markdown",
   "metadata": {
    "id": "2QUFYaoH00H6"
   },
   "source": [
    "## Random Forest Training on Training set"
   ]
  },
  {
   "cell_type": "code",
   "execution_count": 11,
   "metadata": {
    "executionInfo": {
     "elapsed": 992,
     "status": "ok",
     "timestamp": 1612355422969,
     "user": {
      "displayName": "Atulya Kaushik",
      "photoUrl": "https://lh3.googleusercontent.com/a-/AOh14GiMWjKz_7Z2c4vYsjWn3QOKThWXoAf4eRmyGZl5VPxdbVgSKhPOKHN4Tum6aA2BFSKsY-Zq0_fHPzc5VIpSfgmT6qi_w6eQAbJUjHOILtCekYQ8JliQrECBKKJyH183us7fQraBNuG1kFUCOFYrefxRZI8Niq0gYoHBQxz2L7eBMtzrAEJ_xzTpH-g7XD7zzGc14t8RZ2WqpiEi06HoyE2bBQX0SM3I742U8DsvSTELkbhW6voA9lJB1B9DV-ZNGaNWPAsVM_yFDKbItoVN4y2Qu3JKax0rNU6xqGhOwFE_oOP53HAo7MZhlNkOAsKg_1a0o-XyvEFDBDhOSvvYqurVDOhpRe5y3OAw_6w7ieRBBPRyNOnMU_KRpCLAgWJ9JN0nZpxHT8ji_BMLcG8s9I5ugX74PNCoVy5R1HH4j9NJqX8gtB2tz8B8YgfmckhI_SUJW7RgjwMUY9q3yjwiHbBAchF8xfDAhkxWN0QJr8JU3LwVYxQltIHZgJDV0uDWZ0DqwdcGrV5LIy3q-lZ2kVbRdG_55kuBMaj73iIC-E5pXGXyKQTD5snv1e9h7Ja10KQHsFWuzVd4eJvV527_5G9fW8dtRl9iDn7VwUHtnyBznnIwhjGSBDBG0NxwqeWSZviwW6qpbIpWDpClGFOQx2kPTjvRT9GJaflv8XyUDl0ZpISRkOrAr6K_3qTmv9b1H3RFPWwq7eBql5VHZ5vwyAxILAfGrwjQhXkF3twEwah4aUhvAVVYk8NZR_tz7G7Sl0gCRA=s64",
      "userId": "16390917540151948122"
     },
     "user_tz": -330
    },
    "id": "A8uYfVnI0PNF"
   },
   "outputs": [],
   "source": [
    "from sklearn.ensemble import RandomForestClassifier\n",
    "classifier = RandomForestClassifier(n_estimators = 11, criterion = 'entropy', random_state = 21)"
   ]
  },
  {
   "cell_type": "code",
   "execution_count": 12,
   "metadata": {
    "colab": {
     "base_uri": "https://localhost:8080/"
    },
    "executionInfo": {
     "elapsed": 1023,
     "status": "ok",
     "timestamp": 1612355443767,
     "user": {
      "displayName": "Atulya Kaushik",
      "photoUrl": "https://lh3.googleusercontent.com/a-/AOh14GiMWjKz_7Z2c4vYsjWn3QOKThWXoAf4eRmyGZl5VPxdbVgSKhPOKHN4Tum6aA2BFSKsY-Zq0_fHPzc5VIpSfgmT6qi_w6eQAbJUjHOILtCekYQ8JliQrECBKKJyH183us7fQraBNuG1kFUCOFYrefxRZI8Niq0gYoHBQxz2L7eBMtzrAEJ_xzTpH-g7XD7zzGc14t8RZ2WqpiEi06HoyE2bBQX0SM3I742U8DsvSTELkbhW6voA9lJB1B9DV-ZNGaNWPAsVM_yFDKbItoVN4y2Qu3JKax0rNU6xqGhOwFE_oOP53HAo7MZhlNkOAsKg_1a0o-XyvEFDBDhOSvvYqurVDOhpRe5y3OAw_6w7ieRBBPRyNOnMU_KRpCLAgWJ9JN0nZpxHT8ji_BMLcG8s9I5ugX74PNCoVy5R1HH4j9NJqX8gtB2tz8B8YgfmckhI_SUJW7RgjwMUY9q3yjwiHbBAchF8xfDAhkxWN0QJr8JU3LwVYxQltIHZgJDV0uDWZ0DqwdcGrV5LIy3q-lZ2kVbRdG_55kuBMaj73iIC-E5pXGXyKQTD5snv1e9h7Ja10KQHsFWuzVd4eJvV527_5G9fW8dtRl9iDn7VwUHtnyBznnIwhjGSBDBG0NxwqeWSZviwW6qpbIpWDpClGFOQx2kPTjvRT9GJaflv8XyUDl0ZpISRkOrAr6K_3qTmv9b1H3RFPWwq7eBql5VHZ5vwyAxILAfGrwjQhXkF3twEwah4aUhvAVVYk8NZR_tz7G7Sl0gCRA=s64",
      "userId": "16390917540151948122"
     },
     "user_tz": -330
    },
    "id": "Iv1QrIuc31lg",
    "outputId": "c80887f2-41d7-4027-e0b4-c6602091d1f6"
   },
   "outputs": [
    {
     "data": {
      "text/plain": [
       "RandomForestClassifier(criterion='entropy', n_estimators=11, random_state=21)"
      ]
     },
     "execution_count": 12,
     "metadata": {},
     "output_type": "execute_result"
    }
   ],
   "source": [
    "classifier.fit(X_train, y_train)"
   ]
  },
  {
   "cell_type": "markdown",
   "metadata": {
    "id": "iXT0yCoI07X8"
   },
   "source": [
    "## Predicting"
   ]
  },
  {
   "cell_type": "code",
   "execution_count": 13,
   "metadata": {
    "colab": {
     "base_uri": "https://localhost:8080/"
    },
    "executionInfo": {
     "elapsed": 1051,
     "status": "ok",
     "timestamp": 1612355460795,
     "user": {
      "displayName": "Atulya Kaushik",
      "photoUrl": "https://lh3.googleusercontent.com/a-/AOh14GiMWjKz_7Z2c4vYsjWn3QOKThWXoAf4eRmyGZl5VPxdbVgSKhPOKHN4Tum6aA2BFSKsY-Zq0_fHPzc5VIpSfgmT6qi_w6eQAbJUjHOILtCekYQ8JliQrECBKKJyH183us7fQraBNuG1kFUCOFYrefxRZI8Niq0gYoHBQxz2L7eBMtzrAEJ_xzTpH-g7XD7zzGc14t8RZ2WqpiEi06HoyE2bBQX0SM3I742U8DsvSTELkbhW6voA9lJB1B9DV-ZNGaNWPAsVM_yFDKbItoVN4y2Qu3JKax0rNU6xqGhOwFE_oOP53HAo7MZhlNkOAsKg_1a0o-XyvEFDBDhOSvvYqurVDOhpRe5y3OAw_6w7ieRBBPRyNOnMU_KRpCLAgWJ9JN0nZpxHT8ji_BMLcG8s9I5ugX74PNCoVy5R1HH4j9NJqX8gtB2tz8B8YgfmckhI_SUJW7RgjwMUY9q3yjwiHbBAchF8xfDAhkxWN0QJr8JU3LwVYxQltIHZgJDV0uDWZ0DqwdcGrV5LIy3q-lZ2kVbRdG_55kuBMaj73iIC-E5pXGXyKQTD5snv1e9h7Ja10KQHsFWuzVd4eJvV527_5G9fW8dtRl9iDn7VwUHtnyBznnIwhjGSBDBG0NxwqeWSZviwW6qpbIpWDpClGFOQx2kPTjvRT9GJaflv8XyUDl0ZpISRkOrAr6K_3qTmv9b1H3RFPWwq7eBql5VHZ5vwyAxILAfGrwjQhXkF3twEwah4aUhvAVVYk8NZR_tz7G7Sl0gCRA=s64",
      "userId": "16390917540151948122"
     },
     "user_tz": -330
    },
    "id": "6NZnLs7RXZLG",
    "outputId": "9caf4a31-28a3-47cd-a608-69d4799f0000"
   },
   "outputs": [
    {
     "name": "stdout",
     "output_type": "stream",
     "text": [
      "[1]\n"
     ]
    }
   ],
   "source": [
    "print(classifier.predict(sc.transform([[32,41000]])))"
   ]
  },
  {
   "cell_type": "markdown",
   "metadata": {
    "id": "9oG_iJfc1A0K"
   },
   "source": [
    "## Predicting Test set results"
   ]
  },
  {
   "cell_type": "code",
   "execution_count": 14,
   "metadata": {
    "colab": {
     "base_uri": "https://localhost:8080/"
    },
    "executionInfo": {
     "elapsed": 989,
     "status": "ok",
     "timestamp": 1612355463820,
     "user": {
      "displayName": "Atulya Kaushik",
      "photoUrl": "https://lh3.googleusercontent.com/a-/AOh14GiMWjKz_7Z2c4vYsjWn3QOKThWXoAf4eRmyGZl5VPxdbVgSKhPOKHN4Tum6aA2BFSKsY-Zq0_fHPzc5VIpSfgmT6qi_w6eQAbJUjHOILtCekYQ8JliQrECBKKJyH183us7fQraBNuG1kFUCOFYrefxRZI8Niq0gYoHBQxz2L7eBMtzrAEJ_xzTpH-g7XD7zzGc14t8RZ2WqpiEi06HoyE2bBQX0SM3I742U8DsvSTELkbhW6voA9lJB1B9DV-ZNGaNWPAsVM_yFDKbItoVN4y2Qu3JKax0rNU6xqGhOwFE_oOP53HAo7MZhlNkOAsKg_1a0o-XyvEFDBDhOSvvYqurVDOhpRe5y3OAw_6w7ieRBBPRyNOnMU_KRpCLAgWJ9JN0nZpxHT8ji_BMLcG8s9I5ugX74PNCoVy5R1HH4j9NJqX8gtB2tz8B8YgfmckhI_SUJW7RgjwMUY9q3yjwiHbBAchF8xfDAhkxWN0QJr8JU3LwVYxQltIHZgJDV0uDWZ0DqwdcGrV5LIy3q-lZ2kVbRdG_55kuBMaj73iIC-E5pXGXyKQTD5snv1e9h7Ja10KQHsFWuzVd4eJvV527_5G9fW8dtRl9iDn7VwUHtnyBznnIwhjGSBDBG0NxwqeWSZviwW6qpbIpWDpClGFOQx2kPTjvRT9GJaflv8XyUDl0ZpISRkOrAr6K_3qTmv9b1H3RFPWwq7eBql5VHZ5vwyAxILAfGrwjQhXkF3twEwah4aUhvAVVYk8NZR_tz7G7Sl0gCRA=s64",
      "userId": "16390917540151948122"
     },
     "user_tz": -330
    },
    "id": "rZVZSh0v0RY6",
    "outputId": "c7603dc4-844b-4448-c83f-12b623de8a6d"
   },
   "outputs": [
    {
     "name": "stdout",
     "output_type": "stream",
     "text": [
      "[[0 0]\n",
      " [0 1]\n",
      " [1 1]\n",
      " [1 1]\n",
      " [0 1]\n",
      " [0 0]\n",
      " [0 0]\n",
      " [0 0]\n",
      " [1 0]\n",
      " [0 0]\n",
      " [1 0]\n",
      " [0 0]\n",
      " [1 1]\n",
      " [1 1]\n",
      " [0 0]\n",
      " [1 1]\n",
      " [0 0]\n",
      " [1 1]\n",
      " [1 0]\n",
      " [0 0]\n",
      " [0 1]\n",
      " [1 1]\n",
      " [0 0]\n",
      " [0 0]\n",
      " [0 0]\n",
      " [0 0]\n",
      " [0 0]\n",
      " [1 1]\n",
      " [0 0]\n",
      " [1 1]\n",
      " [1 1]\n",
      " [0 0]\n",
      " [1 1]\n",
      " [1 1]\n",
      " [0 0]\n",
      " [0 0]\n",
      " [1 1]\n",
      " [0 0]\n",
      " [1 1]\n",
      " [0 0]\n",
      " [0 0]\n",
      " [0 0]\n",
      " [0 0]\n",
      " [0 0]\n",
      " [1 1]\n",
      " [0 0]\n",
      " [0 0]\n",
      " [0 0]\n",
      " [1 0]\n",
      " [0 0]\n",
      " [0 0]\n",
      " [1 1]\n",
      " [0 0]\n",
      " [0 0]\n",
      " [1 1]\n",
      " [0 0]\n",
      " [0 0]\n",
      " [0 1]\n",
      " [0 0]\n",
      " [0 0]]\n"
     ]
    }
   ],
   "source": [
    "y_pred = classifier.predict(X_test)\n",
    "print(np.concatenate((y_pred.reshape(len(y_pred),1), y_test.reshape(len(y_test),1)),1))"
   ]
  },
  {
   "cell_type": "markdown",
   "metadata": {
    "id": "p6I0bJj_1Fxl"
   },
   "source": [
    "## Confusion Matrix"
   ]
  },
  {
   "cell_type": "code",
   "execution_count": 15,
   "metadata": {
    "colab": {
     "base_uri": "https://localhost:8080/"
    },
    "executionInfo": {
     "elapsed": 1017,
     "status": "ok",
     "timestamp": 1612355469637,
     "user": {
      "displayName": "Atulya Kaushik",
      "photoUrl": "https://lh3.googleusercontent.com/a-/AOh14GiMWjKz_7Z2c4vYsjWn3QOKThWXoAf4eRmyGZl5VPxdbVgSKhPOKHN4Tum6aA2BFSKsY-Zq0_fHPzc5VIpSfgmT6qi_w6eQAbJUjHOILtCekYQ8JliQrECBKKJyH183us7fQraBNuG1kFUCOFYrefxRZI8Niq0gYoHBQxz2L7eBMtzrAEJ_xzTpH-g7XD7zzGc14t8RZ2WqpiEi06HoyE2bBQX0SM3I742U8DsvSTELkbhW6voA9lJB1B9DV-ZNGaNWPAsVM_yFDKbItoVN4y2Qu3JKax0rNU6xqGhOwFE_oOP53HAo7MZhlNkOAsKg_1a0o-XyvEFDBDhOSvvYqurVDOhpRe5y3OAw_6w7ieRBBPRyNOnMU_KRpCLAgWJ9JN0nZpxHT8ji_BMLcG8s9I5ugX74PNCoVy5R1HH4j9NJqX8gtB2tz8B8YgfmckhI_SUJW7RgjwMUY9q3yjwiHbBAchF8xfDAhkxWN0QJr8JU3LwVYxQltIHZgJDV0uDWZ0DqwdcGrV5LIy3q-lZ2kVbRdG_55kuBMaj73iIC-E5pXGXyKQTD5snv1e9h7Ja10KQHsFWuzVd4eJvV527_5G9fW8dtRl9iDn7VwUHtnyBznnIwhjGSBDBG0NxwqeWSZviwW6qpbIpWDpClGFOQx2kPTjvRT9GJaflv8XyUDl0ZpISRkOrAr6K_3qTmv9b1H3RFPWwq7eBql5VHZ5vwyAxILAfGrwjQhXkF3twEwah4aUhvAVVYk8NZR_tz7G7Sl0gCRA=s64",
      "userId": "16390917540151948122"
     },
     "user_tz": -330
    },
    "id": "x3em5WCB0SqN",
    "outputId": "f51d8877-1be4-4ce2-a7aa-425a06640ec8"
   },
   "outputs": [
    {
     "name": "stdout",
     "output_type": "stream",
     "text": [
      "[[35  4]\n",
      " [ 4 17]]\n"
     ]
    },
    {
     "data": {
      "text/plain": [
       "0.8666666666666667"
      ]
     },
     "execution_count": 15,
     "metadata": {},
     "output_type": "execute_result"
    }
   ],
   "source": [
    "from sklearn.metrics import confusion_matrix, accuracy_score\n",
    "cm = confusion_matrix(y_test, y_pred)\n",
    "print(cm)\n",
    "accuracy_score(y_test, y_pred)"
   ]
  },
  {
   "cell_type": "markdown",
   "metadata": {
    "id": "SO86fovR1MKy"
   },
   "source": [
    "## Visualizing Test Set results"
   ]
  },
  {
   "cell_type": "code",
   "execution_count": 16,
   "metadata": {
    "colab": {
     "base_uri": "https://localhost:8080/",
     "height": 351
    },
    "executionInfo": {
     "elapsed": 2747,
     "status": "ok",
     "timestamp": 1612355501648,
     "user": {
      "displayName": "Atulya Kaushik",
      "photoUrl": "https://lh3.googleusercontent.com/a-/AOh14GiMWjKz_7Z2c4vYsjWn3QOKThWXoAf4eRmyGZl5VPxdbVgSKhPOKHN4Tum6aA2BFSKsY-Zq0_fHPzc5VIpSfgmT6qi_w6eQAbJUjHOILtCekYQ8JliQrECBKKJyH183us7fQraBNuG1kFUCOFYrefxRZI8Niq0gYoHBQxz2L7eBMtzrAEJ_xzTpH-g7XD7zzGc14t8RZ2WqpiEi06HoyE2bBQX0SM3I742U8DsvSTELkbhW6voA9lJB1B9DV-ZNGaNWPAsVM_yFDKbItoVN4y2Qu3JKax0rNU6xqGhOwFE_oOP53HAo7MZhlNkOAsKg_1a0o-XyvEFDBDhOSvvYqurVDOhpRe5y3OAw_6w7ieRBBPRyNOnMU_KRpCLAgWJ9JN0nZpxHT8ji_BMLcG8s9I5ugX74PNCoVy5R1HH4j9NJqX8gtB2tz8B8YgfmckhI_SUJW7RgjwMUY9q3yjwiHbBAchF8xfDAhkxWN0QJr8JU3LwVYxQltIHZgJDV0uDWZ0DqwdcGrV5LIy3q-lZ2kVbRdG_55kuBMaj73iIC-E5pXGXyKQTD5snv1e9h7Ja10KQHsFWuzVd4eJvV527_5G9fW8dtRl9iDn7VwUHtnyBznnIwhjGSBDBG0NxwqeWSZviwW6qpbIpWDpClGFOQx2kPTjvRT9GJaflv8XyUDl0ZpISRkOrAr6K_3qTmv9b1H3RFPWwq7eBql5VHZ5vwyAxILAfGrwjQhXkF3twEwah4aUhvAVVYk8NZR_tz7G7Sl0gCRA=s64",
      "userId": "16390917540151948122"
     },
     "user_tz": -330
    },
    "id": "LDK-IBr7XyoD",
    "outputId": "958a9686-3991-42a9-a80c-39f31f8da84c"
   },
   "outputs": [
    {
     "name": "stderr",
     "output_type": "stream",
     "text": [
      "*c* argument looks like a single numeric RGB or RGBA sequence, which should be avoided as value-mapping will have precedence in case its length matches with *x* & *y*.  Please use the *color* keyword-argument or provide a 2D array with a single row if you intend to specify the same RGB or RGBA value for all points.\n",
      "*c* argument looks like a single numeric RGB or RGBA sequence, which should be avoided as value-mapping will have precedence in case its length matches with *x* & *y*.  Please use the *color* keyword-argument or provide a 2D array with a single row if you intend to specify the same RGB or RGBA value for all points.\n"
     ]
    },
    {
     "data": {
      "image/png": "[encoded data removed]",
      "text/plain": [
       "<Figure size 640x480 with 1 Axes>"
      ]
     },
     "metadata": {},
     "output_type": "display_data"
    }
   ],
   "source": [
    "from matplotlib.colors import ListedColormap\n",
    "X_set, y_set = sc.inverse_transform(X_test), y_test\n",
    "X1, X2 = np.meshgrid(np.arange(start = X_set[:, 0].min() - 0, stop = X_set[:, 0].max() + 10, step = 1),\n",
    "                     np.arange(start = X_set[:, 1].min() - 0, stop = X_set[:, 1].max() + 1000, step = 1))\n",
    "plt.contourf(X1, X2, classifier.predict(sc.transform(np.array([X1.ravel(), X2.ravel()]).T)).reshape(X1.shape),\n",
    "             alpha = 0.75, cmap = ListedColormap(('red', 'green')))\n",
    "plt.xlim(X1.min(), X1.max())\n",
    "plt.ylim(X2.min(), X2.max())\n",
    "for i, j in enumerate(np.unique(y_set)):\n",
    "    plt.scatter(X_set[y_set == j, 0], X_set[y_set == j, 1], c = ListedColormap(('red', 'green'))(i), label = j)\n",
    "plt.title('Random Forest (Test set)')\n",
    "plt.xlabel('Age')\n",
    "plt.ylabel('Cost of Device')\n",
    "plt.legend()\n",
    "plt.show()"
   ]
  },
  {
   "cell_type": "markdown",
   "metadata": {
    "id": "MokDuSCS1J0n"
   },
   "source": [
    "## Visualising Training set results"
   ]
  },
  {
   "cell_type": "code",
   "execution_count": 17,
   "metadata": {
    "colab": {
     "base_uri": "https://localhost:8080/",
     "height": 351
    },
    "executionInfo": {
     "elapsed": 2824,
     "status": "ok",
     "timestamp": 1612355541757,
     "user": {
      "displayName": "Atulya Kaushik",
      "photoUrl": "https://lh3.googleusercontent.com/a-/AOh14GiMWjKz_7Z2c4vYsjWn3QOKThWXoAf4eRmyGZl5VPxdbVgSKhPOKHN4Tum6aA2BFSKsY-Zq0_fHPzc5VIpSfgmT6qi_w6eQAbJUjHOILtCekYQ8JliQrECBKKJyH183us7fQraBNuG1kFUCOFYrefxRZI8Niq0gYoHBQxz2L7eBMtzrAEJ_xzTpH-g7XD7zzGc14t8RZ2WqpiEi06HoyE2bBQX0SM3I742U8DsvSTELkbhW6voA9lJB1B9DV-ZNGaNWPAsVM_yFDKbItoVN4y2Qu3JKax0rNU6xqGhOwFE_oOP53HAo7MZhlNkOAsKg_1a0o-XyvEFDBDhOSvvYqurVDOhpRe5y3OAw_6w7ieRBBPRyNOnMU_KRpCLAgWJ9JN0nZpxHT8ji_BMLcG8s9I5ugX74PNCoVy5R1HH4j9NJqX8gtB2tz8B8YgfmckhI_SUJW7RgjwMUY9q3yjwiHbBAchF8xfDAhkxWN0QJr8JU3LwVYxQltIHZgJDV0uDWZ0DqwdcGrV5LIy3q-lZ2kVbRdG_55kuBMaj73iIC-E5pXGXyKQTD5snv1e9h7Ja10KQHsFWuzVd4eJvV527_5G9fW8dtRl9iDn7VwUHtnyBznnIwhjGSBDBG0NxwqeWSZviwW6qpbIpWDpClGFOQx2kPTjvRT9GJaflv8XyUDl0ZpISRkOrAr6K_3qTmv9b1H3RFPWwq7eBql5VHZ5vwyAxILAfGrwjQhXkF3twEwah4aUhvAVVYk8NZR_tz7G7Sl0gCRA=s64",
      "userId": "16390917540151948122"
     },
     "user_tz": -330
    },
    "id": "I7tP1VqCXzfC",
    "outputId": "41e11a15-2328-40fc-9497-cd80cad58f27"
   },
   "outputs": [
    {
     "name": "stderr",
     "output_type": "stream",
     "text": [
      "*c* argument looks like a single numeric RGB or RGBA sequence, which should be avoided as value-mapping will have precedence in case its length matches with *x* & *y*.  Please use the *color* keyword-argument or provide a 2D array with a single row if you intend to specify the same RGB or RGBA value for all points.\n",
      "*c* argument looks like a single numeric RGB or RGBA sequence, which should be avoided as value-mapping will have precedence in case its length matches with *x* & *y*.  Please use the *color* keyword-argument or provide a 2D array with a single row if you intend to specify the same RGB or RGBA value for all points.\n"
     ]
    },
    {
     "data": {
      "image/png": "[encoded data removed]",
      "text/plain": [
       "<Figure size 640x480 with 1 Axes>"
      ]
     },
     "metadata": {},
     "output_type": "display_data"
    }
   ],
   "source": [
    "from matplotlib.colors import ListedColormap\n",
    "X_set, y_set = sc.inverse_transform(X_train), y_train\n",
    "X1, X2 = np.meshgrid(np.arange(start = X_set[:, 0].min() - 0, stop = X_set[:, 0].max() + 10, step = 1),\n",
    "                     np.arange(start = X_set[:, 1].min() - 0, stop = X_set[:, 1].max() + 1000, step = 1))\n",
    "plt.contourf(X1, X2, classifier.predict(sc.transform(np.array([X1.ravel(), X2.ravel()]).T)).reshape(X1.shape),\n",
    "             alpha = 0.75, cmap = ListedColormap(('red', 'green')))\n",
    "plt.xlim(X1.min(), X1.max())\n",
    "plt.ylim(X2.min(), X2.max())\n",
    "for i, j in enumerate(np.unique(y_set)):\n",
    "    plt.scatter(X_set[y_set == j, 0], X_set[y_set == j, 1], c = ListedColormap(('red', 'green'))(i), label = j)\n",
    "plt.title('Random Forest (Training set)')\n",
    "plt.xlabel('Age')\n",
    "plt.ylabel('Cost of Device')\n",
    "plt.legend()\n",
    "plt.show()"
   ]
  },
  {
   "cell_type": "code",
   "execution_count": null,
   "metadata": {},
   "outputs": [],
   "source": []
  }
 ],
 "metadata": {
  "colab": {
   "authorship_tag": "ABX9TyNc9OT+pKQxQ/j/toyisn2J",
   "name": "Random Forest Classification Working Copy.ipynb",
   "provenance": [],
   "toc_visible": true
  },
  "kernelspec": {
   "display_name": "Python 3 (ipykernel)",
   "language": "python",
   "name": "python3"
  },
  "language_info": {
   "codemirror_mode": {
    "name": "ipython",
    "version": 3
   },
   "file_extension": ".py",
   "mimetype": "text/x-python",
   "name": "python",
   "nbconvert_exporter": "python",
   "pygments_lexer": "ipython3",
   "version": "3.9.13"
  }
 },
 "nbformat": 4,
 "nbformat_minor": 1
}
