{
 "cells": [
  {
   "cell_type": "markdown",
   "metadata": {
    "id": "Z-jZGC0q0aiY"
   },
   "source": [
    "# Kernel SVM"
   ]
  },
  {
   "cell_type": "markdown",
   "metadata": {
    "id": "jE4Rc_OO0eJM"
   },
   "source": [
    "## Importing libraries"
   ]
  },
  {
   "cell_type": "code",
   "execution_count": 1,
   "metadata": {
    "executionInfo": {
     "elapsed": 1311,
     "status": "ok",
     "timestamp": 1612349169212,
     "user": {
      "displayName": "Atulya Kaushik",
      "photoUrl": "https://lh3.googleusercontent.com/a-/AOh14GisiHyZsYxN8blM7b6_7WxvPW7g0ZKnTYEzgtFJ0xD-p08LkWHIFSlwPtPxokKZuKp68Bw2uNQRQskP6LA71OjR2nGA5GkM5FX37OBlDJJH1-BAuPe9t4GNLtGB9TdZJCQnbTRFtZY0pBXCreLUmqEsjiB3H-f-NHYJkJ_-OzGRA7McxFwYkc9gGffU8wQvDOyzcT8YEXjA2bOeIFyYHf-yoEfNrHK_P4YpkoEt7hxrs5ZIhbFr2ZPR8jXAwz8fzgrxEVnZsjmCIicJL34vHLuaucxeXJTo3VBTNxEtfR2k7brAGraKMPbfJDUsuZF1QWdr5XL6lfRjAE-GWiMuPU7bH3_-ufG_KAZfC2KbB8cCCUEHEN9MMhdA_3YSAK7SoYGiHxtdjCN6jrubtTgCEeykDFS5Hyipxtu691OZiLylXf0Zp0dL7XVC1FqMz4S7Mo_jZdca_0bY2kGZOeJt6F4biXgIR87X3FQaFomOiZwgekGvthnqYdvPapNACLKZYHwJY2DPHPL7V0DZvHHcQeKKFuUptyhgtbY8hkpABzCWgq4KAfdOsYY_1eYaY9asSNu_RpDpKOwVwIUgGurWlTRLgtfmCM53xGHH12HDUPyxS40ZIHsY6VwrNGtD3i_dPOCgQ7G-VXeu7mCoImuS4JJ1TQJlhNH5FTWWnv_XQQeAfmkQeFbArUhtZ0U0HqcxzchL2HlyA6xvJu6FHJr5z7gvQVyalwjO5Qgk3QEyNTzIWeM1YlgigdBdgBZsuZ5G4eH8mg=s64",
      "userId": "16390917540151948122"
     },
     "user_tz": -330
    },
    "id": "jFDrqHSaW6iC"
   },
   "outputs": [],
   "source": [
    "import numpy as np\n",
    "import matplotlib.pyplot as plt\n",
    "import pandas as pd"
   ]
  },
  {
   "cell_type": "markdown",
   "metadata": {
    "id": "A9-xGHd20gY1"
   },
   "source": [
    "## Importing dataset"
   ]
  },
  {
   "cell_type": "code",
   "execution_count": 2,
   "metadata": {
    "executionInfo": {
     "elapsed": 1292,
     "status": "ok",
     "timestamp": 1612349171176,
     "user": {
      "displayName": "Atulya Kaushik",
      "photoUrl": "https://lh3.googleusercontent.com/a-/AOh14GisiHyZsYxN8blM7b6_7WxvPW7g0ZKnTYEzgtFJ0xD-p08LkWHIFSlwPtPxokKZuKp68Bw2uNQRQskP6LA71OjR2nGA5GkM5FX37OBlDJJH1-BAuPe9t4GNLtGB9TdZJCQnbTRFtZY0pBXCreLUmqEsjiB3H-f-NHYJkJ_-OzGRA7McxFwYkc9gGffU8wQvDOyzcT8YEXjA2bOeIFyYHf-yoEfNrHK_P4YpkoEt7hxrs5ZIhbFr2ZPR8jXAwz8fzgrxEVnZsjmCIicJL34vHLuaucxeXJTo3VBTNxEtfR2k7brAGraKMPbfJDUsuZF1QWdr5XL6lfRjAE-GWiMuPU7bH3_-ufG_KAZfC2KbB8cCCUEHEN9MMhdA_3YSAK7SoYGiHxtdjCN6jrubtTgCEeykDFS5Hyipxtu691OZiLylXf0Zp0dL7XVC1FqMz4S7Mo_jZdca_0bY2kGZOeJt6F4biXgIR87X3FQaFomOiZwgekGvthnqYdvPapNACLKZYHwJY2DPHPL7V0DZvHHcQeKKFuUptyhgtbY8hkpABzCWgq4KAfdOsYY_1eYaY9asSNu_RpDpKOwVwIUgGurWlTRLgtfmCM53xGHH12HDUPyxS40ZIHsY6VwrNGtD3i_dPOCgQ7G-VXeu7mCoImuS4JJ1TQJlhNH5FTWWnv_XQQeAfmkQeFbArUhtZ0U0HqcxzchL2HlyA6xvJu6FHJr5z7gvQVyalwjO5Qgk3QEyNTzIWeM1YlgigdBdgBZsuZ5G4eH8mg=s64",
      "userId": "16390917540151948122"
     },
     "user_tz": -330
    },
    "id": "SVH6ZYD-W--s"
   },
   "outputs": [],
   "source": [
    "dataset = pd.read_csv('../Instagram Ads Kernel SVM.csv')\n",
    "X = dataset.iloc[:, :-1].values\n",
    "y = dataset.iloc[:, -1].values"
   ]
  },
  {
   "cell_type": "markdown",
   "metadata": {
    "id": "8REFJFGC0lRN"
   },
   "source": [
    "## Splitting the dataset into Training & Test set"
   ]
  },
  {
   "cell_type": "code",
   "execution_count": 3,
   "metadata": {
    "executionInfo": {
     "elapsed": 2841,
     "status": "ok",
     "timestamp": 1612349176641,
     "user": {
      "displayName": "Atulya Kaushik",
      "photoUrl": "https://lh3.googleusercontent.com/a-/AOh14GisiHyZsYxN8blM7b6_7WxvPW7g0ZKnTYEzgtFJ0xD-p08LkWHIFSlwPtPxokKZuKp68Bw2uNQRQskP6LA71OjR2nGA5GkM5FX37OBlDJJH1-BAuPe9t4GNLtGB9TdZJCQnbTRFtZY0pBXCreLUmqEsjiB3H-f-NHYJkJ_-OzGRA7McxFwYkc9gGffU8wQvDOyzcT8YEXjA2bOeIFyYHf-yoEfNrHK_P4YpkoEt7hxrs5ZIhbFr2ZPR8jXAwz8fzgrxEVnZsjmCIicJL34vHLuaucxeXJTo3VBTNxEtfR2k7brAGraKMPbfJDUsuZF1QWdr5XL6lfRjAE-GWiMuPU7bH3_-ufG_KAZfC2KbB8cCCUEHEN9MMhdA_3YSAK7SoYGiHxtdjCN6jrubtTgCEeykDFS5Hyipxtu691OZiLylXf0Zp0dL7XVC1FqMz4S7Mo_jZdca_0bY2kGZOeJt6F4biXgIR87X3FQaFomOiZwgekGvthnqYdvPapNACLKZYHwJY2DPHPL7V0DZvHHcQeKKFuUptyhgtbY8hkpABzCWgq4KAfdOsYY_1eYaY9asSNu_RpDpKOwVwIUgGurWlTRLgtfmCM53xGHH12HDUPyxS40ZIHsY6VwrNGtD3i_dPOCgQ7G-VXeu7mCoImuS4JJ1TQJlhNH5FTWWnv_XQQeAfmkQeFbArUhtZ0U0HqcxzchL2HlyA6xvJu6FHJr5z7gvQVyalwjO5Qgk3QEyNTzIWeM1YlgigdBdgBZsuZ5G4eH8mg=s64",
      "userId": "16390917540151948122"
     },
     "user_tz": -330
    },
    "id": "-3caprD4XGwx"
   },
   "outputs": [],
   "source": [
    "from sklearn.model_selection import train_test_split\n",
    "X_train, X_test, y_train, y_test = train_test_split(X, y, test_size = 0.3, random_state = 21)"
   ]
  },
  {
   "cell_type": "markdown",
   "metadata": {
    "id": "-Dw4Khi70u9g"
   },
   "source": [
    "## Feature Scaling"
   ]
  },
  {
   "cell_type": "code",
   "execution_count": 4,
   "metadata": {
    "executionInfo": {
     "elapsed": 2163,
     "status": "ok",
     "timestamp": 1612349179383,
     "user": {
      "displayName": "Atulya Kaushik",
      "photoUrl": "https://lh3.googleusercontent.com/a-/AOh14GisiHyZsYxN8blM7b6_7WxvPW7g0ZKnTYEzgtFJ0xD-p08LkWHIFSlwPtPxokKZuKp68Bw2uNQRQskP6LA71OjR2nGA5GkM5FX37OBlDJJH1-BAuPe9t4GNLtGB9TdZJCQnbTRFtZY0pBXCreLUmqEsjiB3H-f-NHYJkJ_-OzGRA7McxFwYkc9gGffU8wQvDOyzcT8YEXjA2bOeIFyYHf-yoEfNrHK_P4YpkoEt7hxrs5ZIhbFr2ZPR8jXAwz8fzgrxEVnZsjmCIicJL34vHLuaucxeXJTo3VBTNxEtfR2k7brAGraKMPbfJDUsuZF1QWdr5XL6lfRjAE-GWiMuPU7bH3_-ufG_KAZfC2KbB8cCCUEHEN9MMhdA_3YSAK7SoYGiHxtdjCN6jrubtTgCEeykDFS5Hyipxtu691OZiLylXf0Zp0dL7XVC1FqMz4S7Mo_jZdca_0bY2kGZOeJt6F4biXgIR87X3FQaFomOiZwgekGvthnqYdvPapNACLKZYHwJY2DPHPL7V0DZvHHcQeKKFuUptyhgtbY8hkpABzCWgq4KAfdOsYY_1eYaY9asSNu_RpDpKOwVwIUgGurWlTRLgtfmCM53xGHH12HDUPyxS40ZIHsY6VwrNGtD3i_dPOCgQ7G-VXeu7mCoImuS4JJ1TQJlhNH5FTWWnv_XQQeAfmkQeFbArUhtZ0U0HqcxzchL2HlyA6xvJu6FHJr5z7gvQVyalwjO5Qgk3QEyNTzIWeM1YlgigdBdgBZsuZ5G4eH8mg=s64",
      "userId": "16390917540151948122"
     },
     "user_tz": -330
    },
    "id": "dN5TSW7QXM_r"
   },
   "outputs": [],
   "source": [
    "from sklearn.preprocessing import StandardScaler\n",
    "sc = StandardScaler()\n",
    "X_train = sc.fit_transform(X_train)\n",
    "X_test = sc.transform(X_test)"
   ]
  },
  {
   "cell_type": "code",
   "execution_count": 5,
   "metadata": {
    "colab": {
     "base_uri": "https://localhost:8080/"
    },
    "executionInfo": {
     "elapsed": 1759,
     "status": "ok",
     "timestamp": 1612349188932,
     "user": {
      "displayName": "Atulya Kaushik",
      "photoUrl": "https://lh3.googleusercontent.com/a-/AOh14GisiHyZsYxN8blM7b6_7WxvPW7g0ZKnTYEzgtFJ0xD-p08LkWHIFSlwPtPxokKZuKp68Bw2uNQRQskP6LA71OjR2nGA5GkM5FX37OBlDJJH1-BAuPe9t4GNLtGB9TdZJCQnbTRFtZY0pBXCreLUmqEsjiB3H-f-NHYJkJ_-OzGRA7McxFwYkc9gGffU8wQvDOyzcT8YEXjA2bOeIFyYHf-yoEfNrHK_P4YpkoEt7hxrs5ZIhbFr2ZPR8jXAwz8fzgrxEVnZsjmCIicJL34vHLuaucxeXJTo3VBTNxEtfR2k7brAGraKMPbfJDUsuZF1QWdr5XL6lfRjAE-GWiMuPU7bH3_-ufG_KAZfC2KbB8cCCUEHEN9MMhdA_3YSAK7SoYGiHxtdjCN6jrubtTgCEeykDFS5Hyipxtu691OZiLylXf0Zp0dL7XVC1FqMz4S7Mo_jZdca_0bY2kGZOeJt6F4biXgIR87X3FQaFomOiZwgekGvthnqYdvPapNACLKZYHwJY2DPHPL7V0DZvHHcQeKKFuUptyhgtbY8hkpABzCWgq4KAfdOsYY_1eYaY9asSNu_RpDpKOwVwIUgGurWlTRLgtfmCM53xGHH12HDUPyxS40ZIHsY6VwrNGtD3i_dPOCgQ7G-VXeu7mCoImuS4JJ1TQJlhNH5FTWWnv_XQQeAfmkQeFbArUhtZ0U0HqcxzchL2HlyA6xvJu6FHJr5z7gvQVyalwjO5Qgk3QEyNTzIWeM1YlgigdBdgBZsuZ5G4eH8mg=s64",
      "userId": "16390917540151948122"
     },
     "user_tz": -330
    },
    "id": "pUNPH5kpgAiK",
    "outputId": "c1513213-a28a-4365-b0ae-bc371c8cd6a1"
   },
   "outputs": [
    {
     "name": "stdout",
     "output_type": "stream",
     "text": [
      "[[ 0.13445177  1.60168298]\n",
      " [-0.4532462   2.01761313]\n",
      " [ 0.72214974  0.15981952]\n",
      " [ 0.25199136 -0.67204079]\n",
      " [-0.10062742 -0.39478175]\n",
      " [-0.21816702 -0.45026683]\n",
      " [-0.5707858   2.04531408]\n",
      " [ 2.13262486  0.88070965]\n",
      " [ 1.3098477  -1.53168523]\n",
      " [ 1.07476852  1.79575599]\n",
      " [ 0.83968933  1.87894202]\n",
      " [ 0.95722892 -1.28212714]\n",
      " [ 1.66246649 -1.03256904]\n",
      " [ 1.3098477   1.04708172]\n",
      " [-0.21816702 -0.4224827 ]\n",
      " [ 0.36953095  0.07663348]\n",
      " [-1.74618174 -1.58708712]\n",
      " [ 0.25199136  0.07663348]\n",
      " [-1.15848377  0.10433443]\n",
      " [-0.10062742 -0.67204079]\n",
      " [-0.21816702 -0.61663889]\n",
      " [-1.62864214  0.15981952]\n",
      " [ 0.25199136  0.04884935]\n",
      " [-1.15848377  0.10433443]\n",
      " [ 0.25199136 -0.45026683]\n",
      " [ 0.25199136 -0.4224827 ]\n",
      " [ 0.83968933  0.85300871]\n",
      " [ 1.78000608 -0.45026683]\n",
      " [ 0.95722892  1.18575283]\n",
      " [-1.15848377 -1.69805729]\n",
      " [ 0.72214974 -1.22664205]\n",
      " [ 0.48707055  1.57398203]\n",
      " [-1.62864214 -0.11752271]\n",
      " [-0.5707858  -1.61487126]\n",
      " [ 0.83968933 -0.92159888]\n",
      " [-1.04094417 -0.53345286]\n",
      " [-1.15848377  0.29840744]\n",
      " [-0.80586499 -0.92159888]\n",
      " [ 1.19230811 -1.11575508]\n",
      " [ 1.4273873   1.85124107]\n",
      " [-1.62864214 -1.47620015]\n",
      " [-1.51110255 -0.58885476]\n",
      " [-0.68832539  0.07663348]\n",
      " [-0.21816702 -0.45026683]\n",
      " [-0.4532462  -0.69982492]\n",
      " [ 0.25199136 -0.03433668]\n",
      " [-1.15848377  0.27070649]\n",
      " [ 1.3098477   1.71256996]\n",
      " [-1.15848377  0.10433443]\n",
      " [-0.21816702 -0.8107119 ]\n",
      " [ 1.78000608  1.26893886]\n",
      " [-1.27602336 -1.47620015]\n",
      " [-0.21816702 -1.03256904]\n",
      " [ 0.25199136  1.82354012]\n",
      " [-0.21816702 -0.50566873]\n",
      " [-1.74618174 -0.17292461]\n",
      " [ 0.83968933 -0.8107119 ]\n",
      " [ 1.07476852  0.32619158]\n",
      " [-0.5707858   1.21345378]\n",
      " [-1.51110255 -0.3670808 ]\n",
      " [-0.10062742  0.4647795 ]\n",
      " [ 1.78000608 -1.39301411]\n",
      " [-0.5707858   1.13026775]\n",
      " [-0.21816702  0.57574967]\n",
      " [ 0.13445177 -0.14522366]\n",
      " [-0.21816702 -1.55938618]\n",
      " [ 2.01508527  1.85124107]\n",
      " [-0.68832539  1.62938393]\n",
      " [ 0.72214974  0.07663348]\n",
      " [-0.80586499  1.98991218]\n",
      " [ 0.95722892  1.71256996]\n",
      " [ 0.13445177 -0.03433668]\n",
      " [ 0.95722892  1.79575599]\n",
      " [ 1.07476852 -0.31159572]\n",
      " [-0.33570661  0.99167982]\n",
      " [ 1.54492689  0.76982268]\n",
      " [ 0.01691217 -0.72752587]\n",
      " [-1.15848377 -1.14345602]\n",
      " [-1.39356296 -1.33752903]\n",
      " [ 1.66246649  1.57398203]\n",
      " [ 0.60461014 -1.03256904]\n",
      " [-0.92340458  0.07663348]\n",
      " [-1.39356296 -0.78301095]\n",
      " [ 2.13262486  0.71433759]\n",
      " [-0.80586499 -0.8107119 ]\n",
      " [-1.15848377 -1.19894111]\n",
      " [-0.68832539 -0.22840969]\n",
      " [-1.27602336  0.21522141]\n",
      " [ 0.25199136 -0.11752271]\n",
      " [-1.15848377 -1.50390109]\n",
      " [-0.33570661 -0.11752271]\n",
      " [-0.10062742  0.07663348]\n",
      " [ 0.25199136 -0.11752271]\n",
      " [-0.10062742 -0.17292461]\n",
      " [-1.39356296 -0.28389477]\n",
      " [-0.33570661 -0.92159888]\n",
      " [ 0.25199136 -0.53345286]\n",
      " [ 0.01691217 -0.47796778]\n",
      " [-0.4532462  -0.97708396]\n",
      " [-0.21816702 -0.58885476]\n",
      " [ 0.95722892  1.60168298]\n",
      " [ 0.36953095  0.10433443]\n",
      " [ 0.95722892  0.38159347]\n",
      " [-1.04094417 -1.55938618]\n",
      " [ 0.72214974 -1.50390109]\n",
      " [ 0.72214974  1.51849695]\n",
      " [-1.04094417 -0.61663889]\n",
      " [ 1.07476852 -0.06203763]\n",
      " [-0.21816702  0.88070965]\n",
      " [-0.10062742  0.04884935]\n",
      " [ 0.48707055  1.46301187]\n",
      " [-1.27602336 -1.36531317]\n",
      " [-0.21816702 -1.50390109]\n",
      " [-1.04094417 -0.50566873]\n",
      " [-1.15848377  0.38159347]\n",
      " [ 0.95722892  1.51849695]\n",
      " [ 0.01691217  0.10433443]\n",
      " [-1.27602336 -1.22664205]\n",
      " [ 1.89754567  0.52026459]\n",
      " [ 0.95722892 -0.06203763]\n",
      " [ 1.19230811  0.32619158]\n",
      " [ 0.01691217 -0.14522366]\n",
      " [-1.62864214  0.32619158]\n",
      " [ 0.25199136 -0.14522366]\n",
      " [ 0.25199136  0.10433443]\n",
      " [ 1.4273873  -1.17115697]\n",
      " [-0.21816702 -0.72752587]\n",
      " [-1.15848377  1.15805188]\n",
      " [ 0.83968933  1.01938077]\n",
      " [-0.21816702  1.96212805]\n",
      " [-1.74618174 -1.39301411]\n",
      " [ 0.72214974  0.54796553]\n",
      " [ 0.01691217 -0.69982492]\n",
      " [ 1.07476852  0.35389252]\n",
      " [ 1.66246649  0.76982268]\n",
      " [ 1.07476852  0.27070649]\n",
      " [-1.04094417  0.35389252]\n",
      " [-1.74618174 -0.00655255]\n",
      " [-0.21816702 -0.14522366]]\n"
     ]
    }
   ],
   "source": [
    "print(X_train)"
   ]
  },
  {
   "cell_type": "markdown",
   "metadata": {
    "id": "2QUFYaoH00H6"
   },
   "source": [
    "## Kernal SVM Training on Training set"
   ]
  },
  {
   "cell_type": "code",
   "execution_count": 6,
   "metadata": {
    "colab": {
     "base_uri": "https://localhost:8080/"
    },
    "executionInfo": {
     "elapsed": 928,
     "status": "ok",
     "timestamp": 1612349243186,
     "user": {
      "displayName": "Atulya Kaushik",
      "photoUrl": "https://lh3.googleusercontent.com/a-/AOh14GisiHyZsYxN8blM7b6_7WxvPW7g0ZKnTYEzgtFJ0xD-p08LkWHIFSlwPtPxokKZuKp68Bw2uNQRQskP6LA71OjR2nGA5GkM5FX37OBlDJJH1-BAuPe9t4GNLtGB9TdZJCQnbTRFtZY0pBXCreLUmqEsjiB3H-f-NHYJkJ_-OzGRA7McxFwYkc9gGffU8wQvDOyzcT8YEXjA2bOeIFyYHf-yoEfNrHK_P4YpkoEt7hxrs5ZIhbFr2ZPR8jXAwz8fzgrxEVnZsjmCIicJL34vHLuaucxeXJTo3VBTNxEtfR2k7brAGraKMPbfJDUsuZF1QWdr5XL6lfRjAE-GWiMuPU7bH3_-ufG_KAZfC2KbB8cCCUEHEN9MMhdA_3YSAK7SoYGiHxtdjCN6jrubtTgCEeykDFS5Hyipxtu691OZiLylXf0Zp0dL7XVC1FqMz4S7Mo_jZdca_0bY2kGZOeJt6F4biXgIR87X3FQaFomOiZwgekGvthnqYdvPapNACLKZYHwJY2DPHPL7V0DZvHHcQeKKFuUptyhgtbY8hkpABzCWgq4KAfdOsYY_1eYaY9asSNu_RpDpKOwVwIUgGurWlTRLgtfmCM53xGHH12HDUPyxS40ZIHsY6VwrNGtD3i_dPOCgQ7G-VXeu7mCoImuS4JJ1TQJlhNH5FTWWnv_XQQeAfmkQeFbArUhtZ0U0HqcxzchL2HlyA6xvJu6FHJr5z7gvQVyalwjO5Qgk3QEyNTzIWeM1YlgigdBdgBZsuZ5G4eH8mg=s64",
      "userId": "16390917540151948122"
     },
     "user_tz": -330
    },
    "id": "S21qjbYyXSHJ",
    "outputId": "86b7b6f8-aefa-42e0-b0f4-a7bc171ab3d7"
   },
   "outputs": [
    {
     "data": {
      "text/plain": [
       "SVC(random_state=42)"
      ]
     },
     "execution_count": 6,
     "metadata": {},
     "output_type": "execute_result"
    }
   ],
   "source": [
    "from sklearn.svm import SVC\n",
    "classifier = SVC(kernel = 'rbf', random_state = 42)\n",
    "classifier.fit(X_train, y_train)"
   ]
  },
  {
   "cell_type": "markdown",
   "metadata": {
    "id": "iXT0yCoI07X8"
   },
   "source": [
    "## Predicting"
   ]
  },
  {
   "cell_type": "code",
   "execution_count": 7,
   "metadata": {
    "colab": {
     "base_uri": "https://localhost:8080/"
    },
    "executionInfo": {
     "elapsed": 933,
     "status": "ok",
     "timestamp": 1612349261203,
     "user": {
      "displayName": "Atulya Kaushik",
      "photoUrl": "https://lh3.googleusercontent.com/a-/AOh14GisiHyZsYxN8blM7b6_7WxvPW7g0ZKnTYEzgtFJ0xD-p08LkWHIFSlwPtPxokKZuKp68Bw2uNQRQskP6LA71OjR2nGA5GkM5FX37OBlDJJH1-BAuPe9t4GNLtGB9TdZJCQnbTRFtZY0pBXCreLUmqEsjiB3H-f-NHYJkJ_-OzGRA7McxFwYkc9gGffU8wQvDOyzcT8YEXjA2bOeIFyYHf-yoEfNrHK_P4YpkoEt7hxrs5ZIhbFr2ZPR8jXAwz8fzgrxEVnZsjmCIicJL34vHLuaucxeXJTo3VBTNxEtfR2k7brAGraKMPbfJDUsuZF1QWdr5XL6lfRjAE-GWiMuPU7bH3_-ufG_KAZfC2KbB8cCCUEHEN9MMhdA_3YSAK7SoYGiHxtdjCN6jrubtTgCEeykDFS5Hyipxtu691OZiLylXf0Zp0dL7XVC1FqMz4S7Mo_jZdca_0bY2kGZOeJt6F4biXgIR87X3FQaFomOiZwgekGvthnqYdvPapNACLKZYHwJY2DPHPL7V0DZvHHcQeKKFuUptyhgtbY8hkpABzCWgq4KAfdOsYY_1eYaY9asSNu_RpDpKOwVwIUgGurWlTRLgtfmCM53xGHH12HDUPyxS40ZIHsY6VwrNGtD3i_dPOCgQ7G-VXeu7mCoImuS4JJ1TQJlhNH5FTWWnv_XQQeAfmkQeFbArUhtZ0U0HqcxzchL2HlyA6xvJu6FHJr5z7gvQVyalwjO5Qgk3QEyNTzIWeM1YlgigdBdgBZsuZ5G4eH8mg=s64",
      "userId": "16390917540151948122"
     },
     "user_tz": -330
    },
    "id": "6NZnLs7RXZLG",
    "outputId": "a1f1f7a2-54b4-4e6e-9042-32b6a0d11690"
   },
   "outputs": [
    {
     "name": "stdout",
     "output_type": "stream",
     "text": [
      "[1]\n"
     ]
    }
   ],
   "source": [
    "print(classifier.predict(sc.transform([[36,28000]])))"
   ]
  },
  {
   "cell_type": "markdown",
   "metadata": {
    "id": "9oG_iJfc1A0K"
   },
   "source": [
    "## Predicting Test set results"
   ]
  },
  {
   "cell_type": "code",
   "execution_count": 8,
   "metadata": {
    "colab": {
     "base_uri": "https://localhost:8080/"
    },
    "executionInfo": {
     "elapsed": 1166,
     "status": "ok",
     "timestamp": 1612349267008,
     "user": {
      "displayName": "Atulya Kaushik",
      "photoUrl": "https://lh3.googleusercontent.com/a-/AOh14GisiHyZsYxN8blM7b6_7WxvPW7g0ZKnTYEzgtFJ0xD-p08LkWHIFSlwPtPxokKZuKp68Bw2uNQRQskP6LA71OjR2nGA5GkM5FX37OBlDJJH1-BAuPe9t4GNLtGB9TdZJCQnbTRFtZY0pBXCreLUmqEsjiB3H-f-NHYJkJ_-OzGRA7McxFwYkc9gGffU8wQvDOyzcT8YEXjA2bOeIFyYHf-yoEfNrHK_P4YpkoEt7hxrs5ZIhbFr2ZPR8jXAwz8fzgrxEVnZsjmCIicJL34vHLuaucxeXJTo3VBTNxEtfR2k7brAGraKMPbfJDUsuZF1QWdr5XL6lfRjAE-GWiMuPU7bH3_-ufG_KAZfC2KbB8cCCUEHEN9MMhdA_3YSAK7SoYGiHxtdjCN6jrubtTgCEeykDFS5Hyipxtu691OZiLylXf0Zp0dL7XVC1FqMz4S7Mo_jZdca_0bY2kGZOeJt6F4biXgIR87X3FQaFomOiZwgekGvthnqYdvPapNACLKZYHwJY2DPHPL7V0DZvHHcQeKKFuUptyhgtbY8hkpABzCWgq4KAfdOsYY_1eYaY9asSNu_RpDpKOwVwIUgGurWlTRLgtfmCM53xGHH12HDUPyxS40ZIHsY6VwrNGtD3i_dPOCgQ7G-VXeu7mCoImuS4JJ1TQJlhNH5FTWWnv_XQQeAfmkQeFbArUhtZ0U0HqcxzchL2HlyA6xvJu6FHJr5z7gvQVyalwjO5Qgk3QEyNTzIWeM1YlgigdBdgBZsuZ5G4eH8mg=s64",
      "userId": "16390917540151948122"
     },
     "user_tz": -330
    },
    "id": "VFnOWkvcXnK5",
    "outputId": "5eec9bb4-a5b7-4b5c-9b21-0dfed529f648"
   },
   "outputs": [
    {
     "name": "stdout",
     "output_type": "stream",
     "text": [
      "[[1 1]\n",
      " [0 0]\n",
      " [0 0]\n",
      " [0 0]\n",
      " [0 0]\n",
      " [0 0]\n",
      " [0 0]\n",
      " [1 1]\n",
      " [1 1]\n",
      " [1 1]\n",
      " [0 0]\n",
      " [0 0]\n",
      " [0 0]\n",
      " [1 1]\n",
      " [1 1]\n",
      " [1 1]\n",
      " [0 0]\n",
      " [1 1]\n",
      " [0 1]\n",
      " [0 0]\n",
      " [0 0]\n",
      " [0 0]\n",
      " [1 0]\n",
      " [0 1]\n",
      " [0 0]\n",
      " [0 0]\n",
      " [1 1]\n",
      " [1 1]\n",
      " [0 0]\n",
      " [0 0]\n",
      " [0 0]\n",
      " [1 1]\n",
      " [1 1]\n",
      " [0 0]\n",
      " [1 1]\n",
      " [1 0]\n",
      " [0 0]\n",
      " [0 1]\n",
      " [1 1]\n",
      " [0 0]\n",
      " [0 0]\n",
      " [0 0]\n",
      " [0 0]\n",
      " [0 0]\n",
      " [1 1]\n",
      " [1 1]\n",
      " [0 0]\n",
      " [0 0]\n",
      " [0 0]\n",
      " [1 1]\n",
      " [0 0]\n",
      " [1 1]\n",
      " [0 0]\n",
      " [1 1]\n",
      " [1 0]\n",
      " [0 0]\n",
      " [0 0]\n",
      " [0 0]\n",
      " [0 0]\n",
      " [1 1]]\n"
     ]
    }
   ],
   "source": [
    "y_pred = classifier.predict(X_test)\n",
    "print(np.concatenate((y_pred.reshape(len(y_pred),1), y_test.reshape(len(y_test),1)),1))"
   ]
  },
  {
   "cell_type": "markdown",
   "metadata": {
    "id": "p6I0bJj_1Fxl"
   },
   "source": [
    "## Confusion Matrix"
   ]
  },
  {
   "cell_type": "code",
   "execution_count": 9,
   "metadata": {
    "colab": {
     "base_uri": "https://localhost:8080/"
    },
    "executionInfo": {
     "elapsed": 963,
     "status": "ok",
     "timestamp": 1612349272958,
     "user": {
      "displayName": "Atulya Kaushik",
      "photoUrl": "https://lh3.googleusercontent.com/a-/AOh14GisiHyZsYxN8blM7b6_7WxvPW7g0ZKnTYEzgtFJ0xD-p08LkWHIFSlwPtPxokKZuKp68Bw2uNQRQskP6LA71OjR2nGA5GkM5FX37OBlDJJH1-BAuPe9t4GNLtGB9TdZJCQnbTRFtZY0pBXCreLUmqEsjiB3H-f-NHYJkJ_-OzGRA7McxFwYkc9gGffU8wQvDOyzcT8YEXjA2bOeIFyYHf-yoEfNrHK_P4YpkoEt7hxrs5ZIhbFr2ZPR8jXAwz8fzgrxEVnZsjmCIicJL34vHLuaucxeXJTo3VBTNxEtfR2k7brAGraKMPbfJDUsuZF1QWdr5XL6lfRjAE-GWiMuPU7bH3_-ufG_KAZfC2KbB8cCCUEHEN9MMhdA_3YSAK7SoYGiHxtdjCN6jrubtTgCEeykDFS5Hyipxtu691OZiLylXf0Zp0dL7XVC1FqMz4S7Mo_jZdca_0bY2kGZOeJt6F4biXgIR87X3FQaFomOiZwgekGvthnqYdvPapNACLKZYHwJY2DPHPL7V0DZvHHcQeKKFuUptyhgtbY8hkpABzCWgq4KAfdOsYY_1eYaY9asSNu_RpDpKOwVwIUgGurWlTRLgtfmCM53xGHH12HDUPyxS40ZIHsY6VwrNGtD3i_dPOCgQ7G-VXeu7mCoImuS4JJ1TQJlhNH5FTWWnv_XQQeAfmkQeFbArUhtZ0U0HqcxzchL2HlyA6xvJu6FHJr5z7gvQVyalwjO5Qgk3QEyNTzIWeM1YlgigdBdgBZsuZ5G4eH8mg=s64",
      "userId": "16390917540151948122"
     },
     "user_tz": -330
    },
    "id": "okfmHb4TXv-h",
    "outputId": "bef0c3b5-9ce6-4400-8296-246ea81fc56b"
   },
   "outputs": [
    {
     "name": "stdout",
     "output_type": "stream",
     "text": [
      "[[34  3]\n",
      " [ 3 20]]\n"
     ]
    },
    {
     "data": {
      "text/plain": [
       "0.9"
      ]
     },
     "execution_count": 9,
     "metadata": {},
     "output_type": "execute_result"
    }
   ],
   "source": [
    "from sklearn.metrics import confusion_matrix, accuracy_score\n",
    "cm = confusion_matrix(y_test, y_pred)\n",
    "print(cm)\n",
    "accuracy_score(y_test, y_pred)"
   ]
  },
  {
   "cell_type": "markdown",
   "metadata": {
    "id": "SO86fovR1MKy"
   },
   "source": [
    "## Visualizing Test Set results"
   ]
  },
  {
   "cell_type": "code",
   "execution_count": 10,
   "metadata": {
    "colab": {
     "base_uri": "https://localhost:8080/",
     "height": 351
    },
    "executionInfo": {
     "elapsed": 3701,
     "status": "ok",
     "timestamp": 1612349281579,
     "user": {
      "displayName": "Atulya Kaushik",
      "photoUrl": "https://lh3.googleusercontent.com/a-/AOh14GisiHyZsYxN8blM7b6_7WxvPW7g0ZKnTYEzgtFJ0xD-p08LkWHIFSlwPtPxokKZuKp68Bw2uNQRQskP6LA71OjR2nGA5GkM5FX37OBlDJJH1-BAuPe9t4GNLtGB9TdZJCQnbTRFtZY0pBXCreLUmqEsjiB3H-f-NHYJkJ_-OzGRA7McxFwYkc9gGffU8wQvDOyzcT8YEXjA2bOeIFyYHf-yoEfNrHK_P4YpkoEt7hxrs5ZIhbFr2ZPR8jXAwz8fzgrxEVnZsjmCIicJL34vHLuaucxeXJTo3VBTNxEtfR2k7brAGraKMPbfJDUsuZF1QWdr5XL6lfRjAE-GWiMuPU7bH3_-ufG_KAZfC2KbB8cCCUEHEN9MMhdA_3YSAK7SoYGiHxtdjCN6jrubtTgCEeykDFS5Hyipxtu691OZiLylXf0Zp0dL7XVC1FqMz4S7Mo_jZdca_0bY2kGZOeJt6F4biXgIR87X3FQaFomOiZwgekGvthnqYdvPapNACLKZYHwJY2DPHPL7V0DZvHHcQeKKFuUptyhgtbY8hkpABzCWgq4KAfdOsYY_1eYaY9asSNu_RpDpKOwVwIUgGurWlTRLgtfmCM53xGHH12HDUPyxS40ZIHsY6VwrNGtD3i_dPOCgQ7G-VXeu7mCoImuS4JJ1TQJlhNH5FTWWnv_XQQeAfmkQeFbArUhtZ0U0HqcxzchL2HlyA6xvJu6FHJr5z7gvQVyalwjO5Qgk3QEyNTzIWeM1YlgigdBdgBZsuZ5G4eH8mg=s64",
      "userId": "16390917540151948122"
     },
     "user_tz": -330
    },
    "id": "LDK-IBr7XyoD",
    "outputId": "309d8803-fcdf-46a9-bb5b-53a39a3cb99f"
   },
   "outputs": [
    {
     "name": "stderr",
     "output_type": "stream",
     "text": [
      "*c* argument looks like a single numeric RGB or RGBA sequence, which should be avoided as value-mapping will have precedence in case its length matches with *x* & *y*.  Please use the *color* keyword-argument or provide a 2D array with a single row if you intend to specify the same RGB or RGBA value for all points.\n",
      "*c* argument looks like a single numeric RGB or RGBA sequence, which should be avoided as value-mapping will have precedence in case its length matches with *x* & *y*.  Please use the *color* keyword-argument or provide a 2D array with a single row if you intend to specify the same RGB or RGBA value for all points.\n"
     ]
    },
    {
     "data": {
      "image/png": "[encoded data removed]",
      "text/plain": [
       "<Figure size 640x480 with 1 Axes>"
      ]
     },
     "metadata": {},
     "output_type": "display_data"
    }
   ],
   "source": [
    "from matplotlib.colors import ListedColormap\n",
    "X_set, y_set = sc.inverse_transform(X_test), y_test\n",
    "X1, X2 = np.meshgrid(np.arange(start = X_set[:, 0].min() - 0, stop = X_set[:, 0].max() + 3, step = 1),\n",
    "                     np.arange(start = X_set[:, 1].min() - 0, stop = X_set[:, 1].max() + 200, step = 1))\n",
    "plt.contourf(X1, X2, classifier.predict(sc.transform(np.array([X1.ravel(), X2.ravel()]).T)).reshape(X1.shape),\n",
    "             alpha = 0.75, cmap = ListedColormap(('red', 'green')))\n",
    "plt.xlim(X1.min(), X1.max())\n",
    "plt.ylim(X2.min(), X2.max())\n",
    "for i, j in enumerate(np.unique(y_set)):\n",
    "    plt.scatter(X_set[y_set == j, 0], X_set[y_set == j, 1], c = ListedColormap(('red', 'green'))(i), label = j)\n",
    "plt.title('Kernel SVM (Test set)')\n",
    "plt.xlabel('Age')\n",
    "plt.ylabel('Cost of Device')\n",
    "plt.legend()\n",
    "plt.show()"
   ]
  },
  {
   "cell_type": "markdown",
   "metadata": {
    "id": "MokDuSCS1J0n"
   },
   "source": [
    "## Visualising Training set results"
   ]
  },
  {
   "cell_type": "code",
   "execution_count": 11,
   "metadata": {
    "colab": {
     "base_uri": "https://localhost:8080/",
     "height": 351
    },
    "executionInfo": {
     "elapsed": 3681,
     "status": "ok",
     "timestamp": 1612349315637,
     "user": {
      "displayName": "Atulya Kaushik",
      "photoUrl": "https://lh3.googleusercontent.com/a-/AOh14GisiHyZsYxN8blM7b6_7WxvPW7g0ZKnTYEzgtFJ0xD-p08LkWHIFSlwPtPxokKZuKp68Bw2uNQRQskP6LA71OjR2nGA5GkM5FX37OBlDJJH1-BAuPe9t4GNLtGB9TdZJCQnbTRFtZY0pBXCreLUmqEsjiB3H-f-NHYJkJ_-OzGRA7McxFwYkc9gGffU8wQvDOyzcT8YEXjA2bOeIFyYHf-yoEfNrHK_P4YpkoEt7hxrs5ZIhbFr2ZPR8jXAwz8fzgrxEVnZsjmCIicJL34vHLuaucxeXJTo3VBTNxEtfR2k7brAGraKMPbfJDUsuZF1QWdr5XL6lfRjAE-GWiMuPU7bH3_-ufG_KAZfC2KbB8cCCUEHEN9MMhdA_3YSAK7SoYGiHxtdjCN6jrubtTgCEeykDFS5Hyipxtu691OZiLylXf0Zp0dL7XVC1FqMz4S7Mo_jZdca_0bY2kGZOeJt6F4biXgIR87X3FQaFomOiZwgekGvthnqYdvPapNACLKZYHwJY2DPHPL7V0DZvHHcQeKKFuUptyhgtbY8hkpABzCWgq4KAfdOsYY_1eYaY9asSNu_RpDpKOwVwIUgGurWlTRLgtfmCM53xGHH12HDUPyxS40ZIHsY6VwrNGtD3i_dPOCgQ7G-VXeu7mCoImuS4JJ1TQJlhNH5FTWWnv_XQQeAfmkQeFbArUhtZ0U0HqcxzchL2HlyA6xvJu6FHJr5z7gvQVyalwjO5Qgk3QEyNTzIWeM1YlgigdBdgBZsuZ5G4eH8mg=s64",
      "userId": "16390917540151948122"
     },
     "user_tz": -330
    },
    "id": "I7tP1VqCXzfC",
    "outputId": "898b5972-b5b3-4ab5-e789-7ad1d61d9bf0"
   },
   "outputs": [
    {
     "name": "stderr",
     "output_type": "stream",
     "text": [
      "*c* argument looks like a single numeric RGB or RGBA sequence, which should be avoided as value-mapping will have precedence in case its length matches with *x* & *y*.  Please use the *color* keyword-argument or provide a 2D array with a single row if you intend to specify the same RGB or RGBA value for all points.\n",
      "*c* argument looks like a single numeric RGB or RGBA sequence, which should be avoided as value-mapping will have precedence in case its length matches with *x* & *y*.  Please use the *color* keyword-argument or provide a 2D array with a single row if you intend to specify the same RGB or RGBA value for all points.\n"
     ]
    },
    {
     "data": {
      "image/png": "[encoded data removed]",
      "text/plain": [
       "<Figure size 640x480 with 1 Axes>"
      ]
     },
     "metadata": {},
     "output_type": "display_data"
    }
   ],
   "source": [
    "from matplotlib.colors import ListedColormap\n",
    "X_set, y_set = sc.inverse_transform(X_train), y_train\n",
    "X1, X2 = np.meshgrid(np.arange(start = X_set[:, 0].min() - 0, stop = X_set[:, 0].max() + 3, step = 1),\n",
    "                     np.arange(start = X_set[:, 1].min() - 0, stop = X_set[:, 1].max() + 200, step = 1))\n",
    "plt.contourf(X1, X2, classifier.predict(sc.transform(np.array([X1.ravel(), X2.ravel()]).T)).reshape(X1.shape),\n",
    "             alpha = 0.75, cmap = ListedColormap(('red', 'green')))\n",
    "plt.xlim(X1.min(), X1.max())\n",
    "plt.ylim(X2.min(), X2.max())\n",
    "for i, j in enumerate(np.unique(y_set)):\n",
    "    plt.scatter(X_set[y_set == j, 0], X_set[y_set == j, 1], c = ListedColormap(('red', 'green'))(i), label = j)\n",
    "plt.title('Kernal SVM (Training set)')\n",
    "plt.xlabel('Age')\n",
    "plt.ylabel('Cost of Device')\n",
    "plt.legend()\n",
    "plt.show()"
   ]
  }
 ],
 "metadata": {
  "colab": {
   "authorship_tag": "ABX9TyNWqS/lbl6pH/NJf32IeX0I",
   "name": "Kernel SVM Classification Working Copy.ipynb",
   "provenance": [],
   "toc_visible": true
  },
  "kernelspec": {
   "display_name": "Python 3 (ipykernel)",
   "language": "python",
   "name": "python3"
  },
  "language_info": {
   "codemirror_mode": {
    "name": "ipython",
    "version": 3
   },
   "file_extension": ".py",
   "mimetype": "text/x-python",
   "name": "python",
   "nbconvert_exporter": "python",
   "pygments_lexer": "ipython3",
   "version": "3.9.13"
  }
 },
 "nbformat": 4,
 "nbformat_minor": 1
}
