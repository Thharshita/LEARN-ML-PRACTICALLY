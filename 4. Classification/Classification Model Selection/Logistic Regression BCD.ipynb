{
 "cells": [
  {
   "cell_type": "markdown",
   "metadata": {
    "id": "Z-jZGC0q0aiY"
   },
   "source": [
    "# Logistic Regression Classification"
   ]
  },
  {
   "cell_type": "markdown",
   "metadata": {
    "id": "jE4Rc_OO0eJM"
   },
   "source": [
    "## Importing libraries"
   ]
  },
  {
   "cell_type": "code",
   "execution_count": 1,
   "metadata": {
    "id": "XmbcHlqGzGmY"
   },
   "outputs": [],
   "source": [
    "import numpy as np\n",
    "import matplotlib.pyplot as plt\n",
    "import pandas as pd"
   ]
  },
  {
   "cell_type": "markdown",
   "metadata": {
    "id": "A9-xGHd20gY1"
   },
   "source": [
    "## Importing dataset"
   ]
  },
  {
   "cell_type": "code",
   "execution_count": 2,
   "metadata": {
    "id": "hkwIDf3pzH6a"
   },
   "outputs": [],
   "source": [
    "dataset = pd.read_csv('../Breast Cancer Detection Classif.csv')\n",
    "X = dataset.iloc[:, :-1].values\n",
    "y = dataset.iloc[:, -1].values"
   ]
  },
  {
   "cell_type": "markdown",
   "metadata": {
    "id": "8REFJFGC0lRN"
   },
   "source": [
    "## Splitting the dataset into Training & Test set"
   ]
  },
  {
   "cell_type": "code",
   "execution_count": 3,
   "metadata": {
    "id": "9a3yj_m7zJcr"
   },
   "outputs": [],
   "source": [
    "from sklearn.model_selection import train_test_split\n",
    "X_train, X_test, y_train, y_test = train_test_split(X, y, test_size = 0.3, random_state = 0)"
   ]
  },
  {
   "cell_type": "markdown",
   "metadata": {
    "id": "-Dw4Khi70u9g"
   },
   "source": [
    "## Feature Scaling"
   ]
  },
  {
   "cell_type": "code",
   "execution_count": 4,
   "metadata": {
    "id": "e92JJYRVzN1r"
   },
   "outputs": [],
   "source": [
    "from sklearn.preprocessing import StandardScaler\n",
    "sc = StandardScaler()\n",
    "X_train = sc.fit_transform(X_train)\n",
    "X_test = sc.transform(X_test)"
   ]
  },
  {
   "cell_type": "markdown",
   "metadata": {
    "id": "2QUFYaoH00H6"
   },
   "source": [
    "## Logistic Regression Training on Training set"
   ]
  },
  {
   "cell_type": "code",
   "execution_count": 5,
   "metadata": {
    "colab": {
     "base_uri": "https://localhost:8080/"
    },
    "executionInfo": {
     "elapsed": 1085,
     "status": "ok",
     "timestamp": 1612421464907,
     "user": {
      "displayName": "Atulya Kaushik",
      "photoUrl": "https://lh3.googleusercontent.com/a-/AOh14GjbUtfsIVvSTn9NeD5k4IUpj8Kl3hZzjse_cVRBcbh6PAeqp98bGCI90f-VhjV8hm2UJzfOVcX74IZ1tyIEt2mbDv5v-R0nLEAG467HsYR8se98rJ5QV2sAi0q4uClRUXL8sZXzH43ND-E3r8ucw2yT8rJZVQ9gn3K8xDcTayER5iPXQE64MFo4PSdYAi1AuWBjmMSkfcWMxXf2cGzAwjsiFc7Ftz4na996gDhPtwKFQAEveA-xQ7V267O1XeTncYRx_Ip_76qW73GndjSydXjtAC8zAiBIqlXqDSM-36Uh2L75_-Vd4Tu_f_thLhIhFtjIG5ycRUq_zeu_XikTU7iIiadE5dbnEblJx5LxHs19NhxtWE1ewd5xjv9cEROaPyeD2pFboDpwh7adeTJyyNnuFJArrxoKD_VYrlgOa0bEdgNa0gD6SILdScemJv5DpoIf8pMVaHtT14Tb-14zgqycvRgd-WbDk7Fh33zrBPzpW4YYw3lBxYSHd5U_cGp3luqdAFcVDNdvtayAwqALk9PYhNQRKCCjP0fMKF1Gs2_15LDb6PW5LZo3npfsCODtGnEFL1TD_S9vxzZhd5iIeSuVcn0fDM2Z4tujbEXnjOIAGZhITarBusNLVJ52QXmbHC_QJ-fER9PPCR0frJFII1RHWyt20YcsxGIY0LvhEYeBOScMnAEL0WPwboWj07LrELOw6S08BNir8j52x21e05RUYXK_YZQrdpdE2s7U7195moQjtDzCgISKqdtJhYuOKGmfPQ=s64",
      "userId": "16390917540151948122"
     },
     "user_tz": -330
    },
    "id": "8jOqQpJazROI",
    "outputId": "d3d57a70-a63a-43bb-e0e9-8bc1967e54b0"
   },
   "outputs": [
    {
     "data": {
      "text/plain": [
       "LogisticRegression(random_state=0)"
      ]
     },
     "execution_count": 5,
     "metadata": {},
     "output_type": "execute_result"
    }
   ],
   "source": [
    "from sklearn.linear_model import LogisticRegression\n",
    "classifier = LogisticRegression(random_state = 0)\n",
    "classifier.fit(X_train, y_train)"
   ]
  },
  {
   "cell_type": "markdown",
   "metadata": {
    "id": "p6I0bJj_1Fxl"
   },
   "source": [
    "## Confusion Matrix"
   ]
  },
  {
   "cell_type": "code",
   "execution_count": 6,
   "metadata": {
    "colab": {
     "base_uri": "https://localhost:8080/"
    },
    "executionInfo": {
     "elapsed": 1189,
     "status": "ok",
     "timestamp": 1612421467543,
     "user": {
      "displayName": "Atulya Kaushik",
      "photoUrl": "https://lh3.googleusercontent.com/a-/AOh14GjbUtfsIVvSTn9NeD5k4IUpj8Kl3hZzjse_cVRBcbh6PAeqp98bGCI90f-VhjV8hm2UJzfOVcX74IZ1tyIEt2mbDv5v-R0nLEAG467HsYR8se98rJ5QV2sAi0q4uClRUXL8sZXzH43ND-E3r8ucw2yT8rJZVQ9gn3K8xDcTayER5iPXQE64MFo4PSdYAi1AuWBjmMSkfcWMxXf2cGzAwjsiFc7Ftz4na996gDhPtwKFQAEveA-xQ7V267O1XeTncYRx_Ip_76qW73GndjSydXjtAC8zAiBIqlXqDSM-36Uh2L75_-Vd4Tu_f_thLhIhFtjIG5ycRUq_zeu_XikTU7iIiadE5dbnEblJx5LxHs19NhxtWE1ewd5xjv9cEROaPyeD2pFboDpwh7adeTJyyNnuFJArrxoKD_VYrlgOa0bEdgNa0gD6SILdScemJv5DpoIf8pMVaHtT14Tb-14zgqycvRgd-WbDk7Fh33zrBPzpW4YYw3lBxYSHd5U_cGp3luqdAFcVDNdvtayAwqALk9PYhNQRKCCjP0fMKF1Gs2_15LDb6PW5LZo3npfsCODtGnEFL1TD_S9vxzZhd5iIeSuVcn0fDM2Z4tujbEXnjOIAGZhITarBusNLVJ52QXmbHC_QJ-fER9PPCR0frJFII1RHWyt20YcsxGIY0LvhEYeBOScMnAEL0WPwboWj07LrELOw6S08BNir8j52x21e05RUYXK_YZQrdpdE2s7U7195moQjtDzCgISKqdtJhYuOKGmfPQ=s64",
      "userId": "16390917540151948122"
     },
     "user_tz": -330
    },
    "id": "o3zk4y8JzQVm",
    "outputId": "d4667314-a7b9-4c23-dfa9-2cd8e9f2dcca"
   },
   "outputs": [
    {
     "name": "stdout",
     "output_type": "stream",
     "text": [
      "[[105   3]\n",
      " [  3  60]]\n"
     ]
    },
    {
     "data": {
      "text/plain": [
       "0.9649122807017544"
      ]
     },
     "execution_count": 6,
     "metadata": {},
     "output_type": "execute_result"
    }
   ],
   "source": [
    "from sklearn.metrics import confusion_matrix, accuracy_score\n",
    "y_pred = classifier.predict(X_test)\n",
    "cm = confusion_matrix(y_test, y_pred)\n",
    "print(cm)\n",
    "accuracy_score(y_test, y_pred)"
   ]
  },
  {
   "cell_type": "code",
   "execution_count": null,
   "metadata": {},
   "outputs": [],
   "source": []
  }
 ],
 "metadata": {
  "colab": {
   "provenance": [],
   "toc_visible": true
  },
  "kernelspec": {
   "display_name": "Python 3 (ipykernel)",
   "language": "python",
   "name": "python3"
  },
  "language_info": {
   "codemirror_mode": {
    "name": "ipython",
    "version": 3
   },
   "file_extension": ".py",
   "mimetype": "text/x-python",
   "name": "python",
   "nbconvert_exporter": "python",
   "pygments_lexer": "ipython3",
   "version": "3.9.13"
  }
 },
 "nbformat": 4,
 "nbformat_minor": 1
}
