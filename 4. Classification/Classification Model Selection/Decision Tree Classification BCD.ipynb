{
 "cells": [
  {
   "cell_type": "markdown",
   "metadata": {
    "id": "Z-jZGC0q0aiY"
   },
   "source": [
    "# Decision Tree Classification"
   ]
  },
  {
   "cell_type": "markdown",
   "metadata": {
    "id": "jE4Rc_OO0eJM"
   },
   "source": [
    "## Importing libraries"
   ]
  },
  {
   "cell_type": "code",
   "execution_count": 4,
   "metadata": {
    "executionInfo": {
     "elapsed": 1505,
     "status": "ok",
     "timestamp": 1612422568545,
     "user": {
      "displayName": "Atulya Kaushik",
      "photoUrl": "https://lh3.googleusercontent.com/a-/AOh14GjUkJDSF3uiv28MGOuQvjtz64zT2M4sixpiyTeK8Q_aDTg9PwEAsSReA9KaCzXAYfOeuu2dmfO98aokI4WS2SYcL4zx8et6cwNJq7G3ElrjfPXVuK8DDWHNuwtXbLS7E8CUVk7HARFTLTrbIhQq5l0_V_mQoZozBQmNJIBZyFCQBvVb1qS4p9g7Vti_KaaefxO9LdbYiDYwO0BDXOOwifNtxls4WR5GXw1t8isBip-VUXbgvNwku5VEKzl93fyHce5AV35e3gbcAhPILvfX-2Yx-HAR4-ulJUnzrJ-T8xK4HjJuAhDBvpdYzsxwxFlON7r10FglVyyNF7HhO0-eTF4PqQKR_8nBApFCptFiec4i8FahkYyhCRQxf9h274LCDFCFbPw8XWEUKfi4jQB7wmI1qh1GK8StNIUmomFvVd4nVBMu0JXlo3YAnrIhbDeiOjVUnhA00I_L2PenLv9IkriaYbDIFCCHxNjhgNHSH5T9QzD9olsuFkB8tEGlysLtv04Tcr5Oy7988iPUrlkehAusGbb2ZvsY94Ax22_AM63HSTSzIFQedQN6CdY36qIeJ9XkzK9hyXCowYu0gkqGT29wTCDYonJPxZeXqbUHTOY0h7NNvtmCHU9rU921YRJ_L2fZu6KcA7UZmKuwjJfvLdIMcdMdfZ6sFurOvMV2UvdD4chw8IMC2ultnQzuK8czeXLQV7dtX5lmf_lJKM3GSkz8K9YqY0dwyRdLq8pvAD9UFVcWpywjlT4gOW_AkqXwfbaB0Q=s64",
      "userId": "16390917540151948122"
     },
     "user_tz": -330
    },
    "id": "XmbcHlqGzGmY"
   },
   "outputs": [],
   "source": [
    "import numpy as np\n",
    "import matplotlib.pyplot as plt\n",
    "import pandas as pd"
   ]
  },
  {
   "cell_type": "markdown",
   "metadata": {
    "id": "A9-xGHd20gY1"
   },
   "source": [
    "## Importing dataset"
   ]
  },
  {
   "cell_type": "code",
   "execution_count": 5,
   "metadata": {
    "executionInfo": {
     "elapsed": 1040,
     "status": "ok",
     "timestamp": 1612422570550,
     "user": {
      "displayName": "Atulya Kaushik",
      "photoUrl": "https://lh3.googleusercontent.com/a-/AOh14GjUkJDSF3uiv28MGOuQvjtz64zT2M4sixpiyTeK8Q_aDTg9PwEAsSReA9KaCzXAYfOeuu2dmfO98aokI4WS2SYcL4zx8et6cwNJq7G3ElrjfPXVuK8DDWHNuwtXbLS7E8CUVk7HARFTLTrbIhQq5l0_V_mQoZozBQmNJIBZyFCQBvVb1qS4p9g7Vti_KaaefxO9LdbYiDYwO0BDXOOwifNtxls4WR5GXw1t8isBip-VUXbgvNwku5VEKzl93fyHce5AV35e3gbcAhPILvfX-2Yx-HAR4-ulJUnzrJ-T8xK4HjJuAhDBvpdYzsxwxFlON7r10FglVyyNF7HhO0-eTF4PqQKR_8nBApFCptFiec4i8FahkYyhCRQxf9h274LCDFCFbPw8XWEUKfi4jQB7wmI1qh1GK8StNIUmomFvVd4nVBMu0JXlo3YAnrIhbDeiOjVUnhA00I_L2PenLv9IkriaYbDIFCCHxNjhgNHSH5T9QzD9olsuFkB8tEGlysLtv04Tcr5Oy7988iPUrlkehAusGbb2ZvsY94Ax22_AM63HSTSzIFQedQN6CdY36qIeJ9XkzK9hyXCowYu0gkqGT29wTCDYonJPxZeXqbUHTOY0h7NNvtmCHU9rU921YRJ_L2fZu6KcA7UZmKuwjJfvLdIMcdMdfZ6sFurOvMV2UvdD4chw8IMC2ultnQzuK8czeXLQV7dtX5lmf_lJKM3GSkz8K9YqY0dwyRdLq8pvAD9UFVcWpywjlT4gOW_AkqXwfbaB0Q=s64",
      "userId": "16390917540151948122"
     },
     "user_tz": -330
    },
    "id": "hkwIDf3pzH6a"
   },
   "outputs": [],
   "source": [
    "dataset = pd.read_csv('../Breast Cancer Detection Classif.csv')\n",
    "X = dataset.iloc[:, :-1].values\n",
    "y = dataset.iloc[:, -1].values"
   ]
  },
  {
   "cell_type": "markdown",
   "metadata": {
    "id": "8REFJFGC0lRN"
   },
   "source": [
    "## Splitting the dataset into Training & Test set"
   ]
  },
  {
   "cell_type": "code",
   "execution_count": 6,
   "metadata": {
    "executionInfo": {
     "elapsed": 722,
     "status": "ok",
     "timestamp": 1612422571880,
     "user": {
      "displayName": "Atulya Kaushik",
      "photoUrl": "https://lh3.googleusercontent.com/a-/AOh14GjUkJDSF3uiv28MGOuQvjtz64zT2M4sixpiyTeK8Q_aDTg9PwEAsSReA9KaCzXAYfOeuu2dmfO98aokI4WS2SYcL4zx8et6cwNJq7G3ElrjfPXVuK8DDWHNuwtXbLS7E8CUVk7HARFTLTrbIhQq5l0_V_mQoZozBQmNJIBZyFCQBvVb1qS4p9g7Vti_KaaefxO9LdbYiDYwO0BDXOOwifNtxls4WR5GXw1t8isBip-VUXbgvNwku5VEKzl93fyHce5AV35e3gbcAhPILvfX-2Yx-HAR4-ulJUnzrJ-T8xK4HjJuAhDBvpdYzsxwxFlON7r10FglVyyNF7HhO0-eTF4PqQKR_8nBApFCptFiec4i8FahkYyhCRQxf9h274LCDFCFbPw8XWEUKfi4jQB7wmI1qh1GK8StNIUmomFvVd4nVBMu0JXlo3YAnrIhbDeiOjVUnhA00I_L2PenLv9IkriaYbDIFCCHxNjhgNHSH5T9QzD9olsuFkB8tEGlysLtv04Tcr5Oy7988iPUrlkehAusGbb2ZvsY94Ax22_AM63HSTSzIFQedQN6CdY36qIeJ9XkzK9hyXCowYu0gkqGT29wTCDYonJPxZeXqbUHTOY0h7NNvtmCHU9rU921YRJ_L2fZu6KcA7UZmKuwjJfvLdIMcdMdfZ6sFurOvMV2UvdD4chw8IMC2ultnQzuK8czeXLQV7dtX5lmf_lJKM3GSkz8K9YqY0dwyRdLq8pvAD9UFVcWpywjlT4gOW_AkqXwfbaB0Q=s64",
      "userId": "16390917540151948122"
     },
     "user_tz": -330
    },
    "id": "9a3yj_m7zJcr"
   },
   "outputs": [],
   "source": [
    "from sklearn.model_selection import train_test_split\n",
    "X_train, X_test, y_train, y_test = train_test_split(X, y, test_size = 0.3, random_state = 21)"
   ]
  },
  {
   "cell_type": "markdown",
   "metadata": {
    "id": "-Dw4Khi70u9g"
   },
   "source": [
    "## Feature Scaling"
   ]
  },
  {
   "cell_type": "code",
   "execution_count": 7,
   "metadata": {
    "executionInfo": {
     "elapsed": 1285,
     "status": "ok",
     "timestamp": 1612422574203,
     "user": {
      "displayName": "Atulya Kaushik",
      "photoUrl": "https://lh3.googleusercontent.com/a-/AOh14GjUkJDSF3uiv28MGOuQvjtz64zT2M4sixpiyTeK8Q_aDTg9PwEAsSReA9KaCzXAYfOeuu2dmfO98aokI4WS2SYcL4zx8et6cwNJq7G3ElrjfPXVuK8DDWHNuwtXbLS7E8CUVk7HARFTLTrbIhQq5l0_V_mQoZozBQmNJIBZyFCQBvVb1qS4p9g7Vti_KaaefxO9LdbYiDYwO0BDXOOwifNtxls4WR5GXw1t8isBip-VUXbgvNwku5VEKzl93fyHce5AV35e3gbcAhPILvfX-2Yx-HAR4-ulJUnzrJ-T8xK4HjJuAhDBvpdYzsxwxFlON7r10FglVyyNF7HhO0-eTF4PqQKR_8nBApFCptFiec4i8FahkYyhCRQxf9h274LCDFCFbPw8XWEUKfi4jQB7wmI1qh1GK8StNIUmomFvVd4nVBMu0JXlo3YAnrIhbDeiOjVUnhA00I_L2PenLv9IkriaYbDIFCCHxNjhgNHSH5T9QzD9olsuFkB8tEGlysLtv04Tcr5Oy7988iPUrlkehAusGbb2ZvsY94Ax22_AM63HSTSzIFQedQN6CdY36qIeJ9XkzK9hyXCowYu0gkqGT29wTCDYonJPxZeXqbUHTOY0h7NNvtmCHU9rU921YRJ_L2fZu6KcA7UZmKuwjJfvLdIMcdMdfZ6sFurOvMV2UvdD4chw8IMC2ultnQzuK8czeXLQV7dtX5lmf_lJKM3GSkz8K9YqY0dwyRdLq8pvAD9UFVcWpywjlT4gOW_AkqXwfbaB0Q=s64",
      "userId": "16390917540151948122"
     },
     "user_tz": -330
    },
    "id": "e92JJYRVzN1r"
   },
   "outputs": [],
   "source": [
    "from sklearn.preprocessing import StandardScaler\n",
    "sc = StandardScaler()\n",
    "X_train = sc.fit_transform(X_train)\n",
    "X_test = sc.transform(X_test)"
   ]
  },
  {
   "cell_type": "markdown",
   "metadata": {
    "id": "2QUFYaoH00H6"
   },
   "source": [
    "## Decision Tree Training on Training set"
   ]
  },
  {
   "cell_type": "code",
   "execution_count": 8,
   "metadata": {
    "colab": {
     "base_uri": "https://localhost:8080/"
    },
    "executionInfo": {
     "elapsed": 1130,
     "status": "ok",
     "timestamp": 1612422575831,
     "user": {
      "displayName": "Atulya Kaushik",
      "photoUrl": "https://lh3.googleusercontent.com/a-/AOh14GjUkJDSF3uiv28MGOuQvjtz64zT2M4sixpiyTeK8Q_aDTg9PwEAsSReA9KaCzXAYfOeuu2dmfO98aokI4WS2SYcL4zx8et6cwNJq7G3ElrjfPXVuK8DDWHNuwtXbLS7E8CUVk7HARFTLTrbIhQq5l0_V_mQoZozBQmNJIBZyFCQBvVb1qS4p9g7Vti_KaaefxO9LdbYiDYwO0BDXOOwifNtxls4WR5GXw1t8isBip-VUXbgvNwku5VEKzl93fyHce5AV35e3gbcAhPILvfX-2Yx-HAR4-ulJUnzrJ-T8xK4HjJuAhDBvpdYzsxwxFlON7r10FglVyyNF7HhO0-eTF4PqQKR_8nBApFCptFiec4i8FahkYyhCRQxf9h274LCDFCFbPw8XWEUKfi4jQB7wmI1qh1GK8StNIUmomFvVd4nVBMu0JXlo3YAnrIhbDeiOjVUnhA00I_L2PenLv9IkriaYbDIFCCHxNjhgNHSH5T9QzD9olsuFkB8tEGlysLtv04Tcr5Oy7988iPUrlkehAusGbb2ZvsY94Ax22_AM63HSTSzIFQedQN6CdY36qIeJ9XkzK9hyXCowYu0gkqGT29wTCDYonJPxZeXqbUHTOY0h7NNvtmCHU9rU921YRJ_L2fZu6KcA7UZmKuwjJfvLdIMcdMdfZ6sFurOvMV2UvdD4chw8IMC2ultnQzuK8czeXLQV7dtX5lmf_lJKM3GSkz8K9YqY0dwyRdLq8pvAD9UFVcWpywjlT4gOW_AkqXwfbaB0Q=s64",
      "userId": "16390917540151948122"
     },
     "user_tz": -330
    },
    "id": "zwp9go0P1uHA",
    "outputId": "dc603461-94e2-45ff-e5c6-c6babe072298"
   },
   "outputs": [
    {
     "data": {
      "text/plain": [
       "DecisionTreeClassifier(criterion='entropy', random_state=0)"
      ]
     },
     "execution_count": 8,
     "metadata": {},
     "output_type": "execute_result"
    }
   ],
   "source": [
    "from sklearn.tree import DecisionTreeClassifier\n",
    "classifier = DecisionTreeClassifier(criterion = 'entropy', random_state = 0)\n",
    "classifier.fit(X_train, y_train)"
   ]
  },
  {
   "cell_type": "markdown",
   "metadata": {
    "id": "p6I0bJj_1Fxl"
   },
   "source": [
    "## Confusion Matrix"
   ]
  },
  {
   "cell_type": "code",
   "execution_count": 9,
   "metadata": {
    "colab": {
     "base_uri": "https://localhost:8080/"
    },
    "executionInfo": {
     "elapsed": 1253,
     "status": "ok",
     "timestamp": 1612422577656,
     "user": {
      "displayName": "Atulya Kaushik",
      "photoUrl": "https://lh3.googleusercontent.com/a-/AOh14GjUkJDSF3uiv28MGOuQvjtz64zT2M4sixpiyTeK8Q_aDTg9PwEAsSReA9KaCzXAYfOeuu2dmfO98aokI4WS2SYcL4zx8et6cwNJq7G3ElrjfPXVuK8DDWHNuwtXbLS7E8CUVk7HARFTLTrbIhQq5l0_V_mQoZozBQmNJIBZyFCQBvVb1qS4p9g7Vti_KaaefxO9LdbYiDYwO0BDXOOwifNtxls4WR5GXw1t8isBip-VUXbgvNwku5VEKzl93fyHce5AV35e3gbcAhPILvfX-2Yx-HAR4-ulJUnzrJ-T8xK4HjJuAhDBvpdYzsxwxFlON7r10FglVyyNF7HhO0-eTF4PqQKR_8nBApFCptFiec4i8FahkYyhCRQxf9h274LCDFCFbPw8XWEUKfi4jQB7wmI1qh1GK8StNIUmomFvVd4nVBMu0JXlo3YAnrIhbDeiOjVUnhA00I_L2PenLv9IkriaYbDIFCCHxNjhgNHSH5T9QzD9olsuFkB8tEGlysLtv04Tcr5Oy7988iPUrlkehAusGbb2ZvsY94Ax22_AM63HSTSzIFQedQN6CdY36qIeJ9XkzK9hyXCowYu0gkqGT29wTCDYonJPxZeXqbUHTOY0h7NNvtmCHU9rU921YRJ_L2fZu6KcA7UZmKuwjJfvLdIMcdMdfZ6sFurOvMV2UvdD4chw8IMC2ultnQzuK8czeXLQV7dtX5lmf_lJKM3GSkz8K9YqY0dwyRdLq8pvAD9UFVcWpywjlT4gOW_AkqXwfbaB0Q=s64",
      "userId": "16390917540151948122"
     },
     "user_tz": -330
    },
    "id": "vKRiZMrV1xBO",
    "outputId": "91637908-14ca-47fb-ddd0-8c77f44eae04"
   },
   "outputs": [
    {
     "name": "stdout",
     "output_type": "stream",
     "text": [
      "[[100   7]\n",
      " [  5  59]]\n"
     ]
    },
    {
     "data": {
      "text/plain": [
       "0.9298245614035088"
      ]
     },
     "execution_count": 9,
     "metadata": {},
     "output_type": "execute_result"
    }
   ],
   "source": [
    "from sklearn.metrics import confusion_matrix, accuracy_score\n",
    "y_pred = classifier.predict(X_test)\n",
    "cm = confusion_matrix(y_test, y_pred)\n",
    "print(cm)\n",
    "accuracy_score(y_test, y_pred)"
   ]
  },
  {
   "cell_type": "code",
   "execution_count": null,
   "metadata": {},
   "outputs": [],
   "source": []
  }
 ],
 "metadata": {
  "colab": {
   "authorship_tag": "ABX9TyMSpB7CSfQRi1/SEWZ6s5Va",
   "name": "Decision Tree Classification Working Copy.ipynb",
   "provenance": [],
   "toc_visible": true
  },
  "kernelspec": {
   "display_name": "Python 3 (ipykernel)",
   "language": "python",
   "name": "python3"
  },
  "language_info": {
   "codemirror_mode": {
    "name": "ipython",
    "version": 3
   },
   "file_extension": ".py",
   "mimetype": "text/x-python",
   "name": "python",
   "nbconvert_exporter": "python",
   "pygments_lexer": "ipython3",
   "version": "3.9.13"
  }
 },
 "nbformat": 4,
 "nbformat_minor": 1
}
