{
 "cells": [
  {
   "cell_type": "markdown",
   "metadata": {
    "id": "Z-jZGC0q0aiY"
   },
   "source": [
    "# Kernal SVM Classification"
   ]
  },
  {
   "cell_type": "markdown",
   "metadata": {
    "id": "jE4Rc_OO0eJM"
   },
   "source": [
    "## Importing libraries"
   ]
  },
  {
   "cell_type": "code",
   "execution_count": 1,
   "metadata": {
    "executionInfo": {
     "elapsed": 1119,
     "status": "ok",
     "timestamp": 1612421651863,
     "user": {
      "displayName": "Atulya Kaushik",
      "photoUrl": "https://lh3.googleusercontent.com/a-/AOh14GhFNfbMLRSFwGTT9h_DlFlIWNhRvK0OslWXLwaWOl-OrnyRCcH4WPgPjyd1an-1y3GqNRrnM5hbv6oYI5upk6E6pnQLR08S62DOUQqTV_dW6SS97_-kabOPXVOq-FNKTWNX2NS0EFykylHUCAf_HBu8QCKdfIZha6F08wlkzar2lyxRU2P4GFWlHpseR-UzFX4vjni0ctwyvGOwTNkO-ykGT0RXN3gq9yU_34VimM-ymbIoPGyRC5reCevyuc1xaOkIGSlcUhDS1AJRw4aXbm-yCA8_3G0JIGtcEE356bJsSgOfILxdCtno9BUO4A91yY2VFIWma1PZnU3xo0Tx0GbkwNIZDWivanazKpKFQQvjBWSXWuVAUXwf8U_nRyLZyoZqVFkzc_6F5Qds_i_itMr1tTWUCkmue8qeBp9FjknGxdHiqA6zF2fwJKMMms-tP6UFUyCTO9i8ekp5_tUzBoDIlwhZvZfrzpk4X3fhfY3aqiZVPFafpMKPjSHSPfmUwhqNUv_uCsKjYPZRQOtnMrgSdyzzWUqjg4O04luxJDPLMlww0wGIPomuttQ8PsmoxVnBL2eP1yIQlVHJ-PsidDP7QnHFejrBWhg2glu1vK_M-HM4UdHkdbu8RyoIs44A_unyWaysyHtWx0EZJk_v7eT0ZnWaPLVigdRxbeBgjuLM0HMLFy-5d-a-OUN_MnuvajuvZaZspcjWgXP8Y5bpcv4Bo7k1All02WYcCnLdbq5r6k8iWUR-Kpqhda7pnuptWuBfGA=s64",
      "userId": "16390917540151948122"
     },
     "user_tz": -330
    },
    "id": "XmbcHlqGzGmY"
   },
   "outputs": [],
   "source": [
    "import numpy as np\n",
    "import matplotlib.pyplot as plt\n",
    "import pandas as pd"
   ]
  },
  {
   "cell_type": "markdown",
   "metadata": {
    "id": "A9-xGHd20gY1"
   },
   "source": [
    "## Importing dataset"
   ]
  },
  {
   "cell_type": "code",
   "execution_count": 2,
   "metadata": {
    "executionInfo": {
     "elapsed": 1057,
     "status": "ok",
     "timestamp": 1612421670240,
     "user": {
      "displayName": "Atulya Kaushik",
      "photoUrl": "https://lh3.googleusercontent.com/a-/AOh14GhFNfbMLRSFwGTT9h_DlFlIWNhRvK0OslWXLwaWOl-OrnyRCcH4WPgPjyd1an-1y3GqNRrnM5hbv6oYI5upk6E6pnQLR08S62DOUQqTV_dW6SS97_-kabOPXVOq-FNKTWNX2NS0EFykylHUCAf_HBu8QCKdfIZha6F08wlkzar2lyxRU2P4GFWlHpseR-UzFX4vjni0ctwyvGOwTNkO-ykGT0RXN3gq9yU_34VimM-ymbIoPGyRC5reCevyuc1xaOkIGSlcUhDS1AJRw4aXbm-yCA8_3G0JIGtcEE356bJsSgOfILxdCtno9BUO4A91yY2VFIWma1PZnU3xo0Tx0GbkwNIZDWivanazKpKFQQvjBWSXWuVAUXwf8U_nRyLZyoZqVFkzc_6F5Qds_i_itMr1tTWUCkmue8qeBp9FjknGxdHiqA6zF2fwJKMMms-tP6UFUyCTO9i8ekp5_tUzBoDIlwhZvZfrzpk4X3fhfY3aqiZVPFafpMKPjSHSPfmUwhqNUv_uCsKjYPZRQOtnMrgSdyzzWUqjg4O04luxJDPLMlww0wGIPomuttQ8PsmoxVnBL2eP1yIQlVHJ-PsidDP7QnHFejrBWhg2glu1vK_M-HM4UdHkdbu8RyoIs44A_unyWaysyHtWx0EZJk_v7eT0ZnWaPLVigdRxbeBgjuLM0HMLFy-5d-a-OUN_MnuvajuvZaZspcjWgXP8Y5bpcv4Bo7k1All02WYcCnLdbq5r6k8iWUR-Kpqhda7pnuptWuBfGA=s64",
      "userId": "16390917540151948122"
     },
     "user_tz": -330
    },
    "id": "hkwIDf3pzH6a"
   },
   "outputs": [],
   "source": [
    "dataset = pd.read_csv('../Breast Cancer Detection Classif.csv')\n",
    "X = dataset.iloc[:, :-1].values\n",
    "y = dataset.iloc[:, -1].values"
   ]
  },
  {
   "cell_type": "markdown",
   "metadata": {
    "id": "8REFJFGC0lRN"
   },
   "source": [
    "## Splitting the dataset into Training & Test set"
   ]
  },
  {
   "cell_type": "code",
   "execution_count": 3,
   "metadata": {
    "executionInfo": {
     "elapsed": 2231,
     "status": "ok",
     "timestamp": 1612421675078,
     "user": {
      "displayName": "Atulya Kaushik",
      "photoUrl": "https://lh3.googleusercontent.com/a-/AOh14GhFNfbMLRSFwGTT9h_DlFlIWNhRvK0OslWXLwaWOl-OrnyRCcH4WPgPjyd1an-1y3GqNRrnM5hbv6oYI5upk6E6pnQLR08S62DOUQqTV_dW6SS97_-kabOPXVOq-FNKTWNX2NS0EFykylHUCAf_HBu8QCKdfIZha6F08wlkzar2lyxRU2P4GFWlHpseR-UzFX4vjni0ctwyvGOwTNkO-ykGT0RXN3gq9yU_34VimM-ymbIoPGyRC5reCevyuc1xaOkIGSlcUhDS1AJRw4aXbm-yCA8_3G0JIGtcEE356bJsSgOfILxdCtno9BUO4A91yY2VFIWma1PZnU3xo0Tx0GbkwNIZDWivanazKpKFQQvjBWSXWuVAUXwf8U_nRyLZyoZqVFkzc_6F5Qds_i_itMr1tTWUCkmue8qeBp9FjknGxdHiqA6zF2fwJKMMms-tP6UFUyCTO9i8ekp5_tUzBoDIlwhZvZfrzpk4X3fhfY3aqiZVPFafpMKPjSHSPfmUwhqNUv_uCsKjYPZRQOtnMrgSdyzzWUqjg4O04luxJDPLMlww0wGIPomuttQ8PsmoxVnBL2eP1yIQlVHJ-PsidDP7QnHFejrBWhg2glu1vK_M-HM4UdHkdbu8RyoIs44A_unyWaysyHtWx0EZJk_v7eT0ZnWaPLVigdRxbeBgjuLM0HMLFy-5d-a-OUN_MnuvajuvZaZspcjWgXP8Y5bpcv4Bo7k1All02WYcCnLdbq5r6k8iWUR-Kpqhda7pnuptWuBfGA=s64",
      "userId": "16390917540151948122"
     },
     "user_tz": -330
    },
    "id": "9a3yj_m7zJcr"
   },
   "outputs": [],
   "source": [
    "from sklearn.model_selection import train_test_split\n",
    "X_train, X_test, y_train, y_test = train_test_split(X, y, test_size = 0.3, random_state = 0)"
   ]
  },
  {
   "cell_type": "markdown",
   "metadata": {
    "id": "-Dw4Khi70u9g"
   },
   "source": [
    "## Feature Scaling"
   ]
  },
  {
   "cell_type": "code",
   "execution_count": 4,
   "metadata": {
    "executionInfo": {
     "elapsed": 1121,
     "status": "ok",
     "timestamp": 1612421676703,
     "user": {
      "displayName": "Atulya Kaushik",
      "photoUrl": "https://lh3.googleusercontent.com/a-/AOh14GhFNfbMLRSFwGTT9h_DlFlIWNhRvK0OslWXLwaWOl-OrnyRCcH4WPgPjyd1an-1y3GqNRrnM5hbv6oYI5upk6E6pnQLR08S62DOUQqTV_dW6SS97_-kabOPXVOq-FNKTWNX2NS0EFykylHUCAf_HBu8QCKdfIZha6F08wlkzar2lyxRU2P4GFWlHpseR-UzFX4vjni0ctwyvGOwTNkO-ykGT0RXN3gq9yU_34VimM-ymbIoPGyRC5reCevyuc1xaOkIGSlcUhDS1AJRw4aXbm-yCA8_3G0JIGtcEE356bJsSgOfILxdCtno9BUO4A91yY2VFIWma1PZnU3xo0Tx0GbkwNIZDWivanazKpKFQQvjBWSXWuVAUXwf8U_nRyLZyoZqVFkzc_6F5Qds_i_itMr1tTWUCkmue8qeBp9FjknGxdHiqA6zF2fwJKMMms-tP6UFUyCTO9i8ekp5_tUzBoDIlwhZvZfrzpk4X3fhfY3aqiZVPFafpMKPjSHSPfmUwhqNUv_uCsKjYPZRQOtnMrgSdyzzWUqjg4O04luxJDPLMlww0wGIPomuttQ8PsmoxVnBL2eP1yIQlVHJ-PsidDP7QnHFejrBWhg2glu1vK_M-HM4UdHkdbu8RyoIs44A_unyWaysyHtWx0EZJk_v7eT0ZnWaPLVigdRxbeBgjuLM0HMLFy-5d-a-OUN_MnuvajuvZaZspcjWgXP8Y5bpcv4Bo7k1All02WYcCnLdbq5r6k8iWUR-Kpqhda7pnuptWuBfGA=s64",
      "userId": "16390917540151948122"
     },
     "user_tz": -330
    },
    "id": "e92JJYRVzN1r"
   },
   "outputs": [],
   "source": [
    "from sklearn.preprocessing import StandardScaler\n",
    "sc = StandardScaler()\n",
    "X_train = sc.fit_transform(X_train)\n",
    "X_test = sc.transform(X_test)"
   ]
  },
  {
   "cell_type": "markdown",
   "metadata": {
    "id": "2QUFYaoH00H6"
   },
   "source": [
    "## Kernal SVM Training on Training set"
   ]
  },
  {
   "cell_type": "code",
   "execution_count": 5,
   "metadata": {
    "colab": {
     "base_uri": "https://localhost:8080/"
    },
    "executionInfo": {
     "elapsed": 1450,
     "status": "ok",
     "timestamp": 1612421679308,
     "user": {
      "displayName": "Atulya Kaushik",
      "photoUrl": "https://lh3.googleusercontent.com/a-/AOh14GhFNfbMLRSFwGTT9h_DlFlIWNhRvK0OslWXLwaWOl-OrnyRCcH4WPgPjyd1an-1y3GqNRrnM5hbv6oYI5upk6E6pnQLR08S62DOUQqTV_dW6SS97_-kabOPXVOq-FNKTWNX2NS0EFykylHUCAf_HBu8QCKdfIZha6F08wlkzar2lyxRU2P4GFWlHpseR-UzFX4vjni0ctwyvGOwTNkO-ykGT0RXN3gq9yU_34VimM-ymbIoPGyRC5reCevyuc1xaOkIGSlcUhDS1AJRw4aXbm-yCA8_3G0JIGtcEE356bJsSgOfILxdCtno9BUO4A91yY2VFIWma1PZnU3xo0Tx0GbkwNIZDWivanazKpKFQQvjBWSXWuVAUXwf8U_nRyLZyoZqVFkzc_6F5Qds_i_itMr1tTWUCkmue8qeBp9FjknGxdHiqA6zF2fwJKMMms-tP6UFUyCTO9i8ekp5_tUzBoDIlwhZvZfrzpk4X3fhfY3aqiZVPFafpMKPjSHSPfmUwhqNUv_uCsKjYPZRQOtnMrgSdyzzWUqjg4O04luxJDPLMlww0wGIPomuttQ8PsmoxVnBL2eP1yIQlVHJ-PsidDP7QnHFejrBWhg2glu1vK_M-HM4UdHkdbu8RyoIs44A_unyWaysyHtWx0EZJk_v7eT0ZnWaPLVigdRxbeBgjuLM0HMLFy-5d-a-OUN_MnuvajuvZaZspcjWgXP8Y5bpcv4Bo7k1All02WYcCnLdbq5r6k8iWUR-Kpqhda7pnuptWuBfGA=s64",
      "userId": "16390917540151948122"
     },
     "user_tz": -330
    },
    "id": "gxZPD9F-0c4n",
    "outputId": "f0e6ae89-2d56-413f-99f0-ceb123dd3ea6"
   },
   "outputs": [
    {
     "data": {
      "text/plain": [
       "SVC(random_state=0)"
      ]
     },
     "execution_count": 5,
     "metadata": {},
     "output_type": "execute_result"
    }
   ],
   "source": [
    "from sklearn.svm import SVC\n",
    "classifier = SVC(kernel = 'rbf', random_state = 0)\n",
    "classifier.fit(X_train, y_train)"
   ]
  },
  {
   "cell_type": "markdown",
   "metadata": {
    "id": "p6I0bJj_1Fxl"
   },
   "source": [
    "## Confusion Matrix"
   ]
  },
  {
   "cell_type": "code",
   "execution_count": 6,
   "metadata": {
    "colab": {
     "base_uri": "https://localhost:8080/"
    },
    "executionInfo": {
     "elapsed": 1298,
     "status": "ok",
     "timestamp": 1612421682031,
     "user": {
      "displayName": "Atulya Kaushik",
      "photoUrl": "https://lh3.googleusercontent.com/a-/AOh14GhFNfbMLRSFwGTT9h_DlFlIWNhRvK0OslWXLwaWOl-OrnyRCcH4WPgPjyd1an-1y3GqNRrnM5hbv6oYI5upk6E6pnQLR08S62DOUQqTV_dW6SS97_-kabOPXVOq-FNKTWNX2NS0EFykylHUCAf_HBu8QCKdfIZha6F08wlkzar2lyxRU2P4GFWlHpseR-UzFX4vjni0ctwyvGOwTNkO-ykGT0RXN3gq9yU_34VimM-ymbIoPGyRC5reCevyuc1xaOkIGSlcUhDS1AJRw4aXbm-yCA8_3G0JIGtcEE356bJsSgOfILxdCtno9BUO4A91yY2VFIWma1PZnU3xo0Tx0GbkwNIZDWivanazKpKFQQvjBWSXWuVAUXwf8U_nRyLZyoZqVFkzc_6F5Qds_i_itMr1tTWUCkmue8qeBp9FjknGxdHiqA6zF2fwJKMMms-tP6UFUyCTO9i8ekp5_tUzBoDIlwhZvZfrzpk4X3fhfY3aqiZVPFafpMKPjSHSPfmUwhqNUv_uCsKjYPZRQOtnMrgSdyzzWUqjg4O04luxJDPLMlww0wGIPomuttQ8PsmoxVnBL2eP1yIQlVHJ-PsidDP7QnHFejrBWhg2glu1vK_M-HM4UdHkdbu8RyoIs44A_unyWaysyHtWx0EZJk_v7eT0ZnWaPLVigdRxbeBgjuLM0HMLFy-5d-a-OUN_MnuvajuvZaZspcjWgXP8Y5bpcv4Bo7k1All02WYcCnLdbq5r6k8iWUR-Kpqhda7pnuptWuBfGA=s64",
      "userId": "16390917540151948122"
     },
     "user_tz": -330
    },
    "id": "tg1eW1Mp0aqs",
    "outputId": "8dcd485c-d3df-4963-a8b3-268e083b6bc8"
   },
   "outputs": [
    {
     "name": "stdout",
     "output_type": "stream",
     "text": [
      "[[106   2]\n",
      " [  3  60]]\n"
     ]
    },
    {
     "data": {
      "text/plain": [
       "0.9707602339181286"
      ]
     },
     "execution_count": 6,
     "metadata": {},
     "output_type": "execute_result"
    }
   ],
   "source": [
    "from sklearn.metrics import confusion_matrix, accuracy_score\n",
    "y_pred = classifier.predict(X_test)\n",
    "cm = confusion_matrix(y_test, y_pred)\n",
    "print(cm)\n",
    "accuracy_score(y_test, y_pred)"
   ]
  }
 ],
 "metadata": {
  "colab": {
   "authorship_tag": "ABX9TyMHC6flTFbTuJ4pkvsUVfHr",
   "name": "Kernal SVM Classification Working Copy.ipynb",
   "provenance": [],
   "toc_visible": true
  },
  "kernelspec": {
   "display_name": "Python 3 (ipykernel)",
   "language": "python",
   "name": "python3"
  },
  "language_info": {
   "codemirror_mode": {
    "name": "ipython",
    "version": 3
   },
   "file_extension": ".py",
   "mimetype": "text/x-python",
   "name": "python",
   "nbconvert_exporter": "python",
   "pygments_lexer": "ipython3",
   "version": "3.9.13"
  }
 },
 "nbformat": 4,
 "nbformat_minor": 1
}
