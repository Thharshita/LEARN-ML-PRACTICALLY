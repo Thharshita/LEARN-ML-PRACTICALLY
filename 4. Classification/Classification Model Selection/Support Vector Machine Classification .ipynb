{
 "cells": [
  {
   "cell_type": "markdown",
   "metadata": {
    "id": "Z-jZGC0q0aiY"
   },
   "source": [
    "# Support Vector Machine Classification"
   ]
  },
  {
   "cell_type": "markdown",
   "metadata": {
    "id": "jE4Rc_OO0eJM"
   },
   "source": [
    "## Importing libraries"
   ]
  },
  {
   "cell_type": "code",
   "execution_count": 9,
   "metadata": {
    "executionInfo": {
     "elapsed": 1089,
     "status": "ok",
     "timestamp": 1612421809870,
     "user": {
      "displayName": "Atulya Kaushik",
      "photoUrl": "https://lh3.googleusercontent.com/a-/AOh14Gh69A6cPMDCBNVnUb9ZrCn7vlbmrA_05cw_DIpiqIrZwGIUsILCrnlSm28Ve37yUb41GXvku8Pq1BBW8lDFrlgirv4UQT9pHdGuE_p6_ncpyDavKc__S0wX7dtGljsIeU77szv_3io159xwmH8LuixSsaeEpgDx3f-OWp4ixlkdXlxR9lKVnrv8Ma7zLHLFvK1dH8s9JIaaZJpdKZL5DMpThvAkSPSqeqkOX3poELTy0Q-1YmBujjhONZVUMYb-J3blzPCPpZR-psDk2yNRIHMM0qnRzPbFwAr8HFlCfZKiWxR1DNINvXwyBvDFNsCutqszMqiRGVOufSgOZHMZe4eTYAtawNW8A4id92EXCKsDrnGTEeQvxp1vcihE2PJMZzTgywHtu5Ql18dJ1SmwqqDjO3equPy10JwytDRzTc6WSdAIXrNYUODBVzSe0Rrh54O9r9XvepNfaxYfXzk8q0s5UneId32m6Qrdmc5sk1VxUrme22amd3EQqBlkt9_5k7538ingknSq8AxCasWJbgUmInFKM3llUj0qEfB85Qvleuv_JYJAmzYqoN1CUo-mbv_nSsy1pqA0i8ZRZugnJfIrNRuATRCkR63YvTKNLnt3-pC5SLbH34aeZj2oEzXHZd_qZNFX2zXBJUy2srOxGmgAti5vB2qLk4kDUQ_eUtrTXbn9t2No5eH-4IYOBH7jz-zSn10RWx_ubVzLjpnR-BZZOa2LkoumPfeRKGHA8ScyD1frPwZyj1KflsKmfJlYFHqTRg=s64",
      "userId": "16390917540151948122"
     },
     "user_tz": -330
    },
    "id": "XmbcHlqGzGmY"
   },
   "outputs": [],
   "source": [
    "import numpy as np\n",
    "import matplotlib.pyplot as plt\n",
    "import pandas as pd"
   ]
  },
  {
   "cell_type": "markdown",
   "metadata": {
    "id": "A9-xGHd20gY1"
   },
   "source": [
    "## Importing dataset"
   ]
  },
  {
   "cell_type": "code",
   "execution_count": 10,
   "metadata": {
    "executionInfo": {
     "elapsed": 1083,
     "status": "ok",
     "timestamp": 1612421819176,
     "user": {
      "displayName": "Atulya Kaushik",
      "photoUrl": "https://lh3.googleusercontent.com/a-/AOh14Gh69A6cPMDCBNVnUb9ZrCn7vlbmrA_05cw_DIpiqIrZwGIUsILCrnlSm28Ve37yUb41GXvku8Pq1BBW8lDFrlgirv4UQT9pHdGuE_p6_ncpyDavKc__S0wX7dtGljsIeU77szv_3io159xwmH8LuixSsaeEpgDx3f-OWp4ixlkdXlxR9lKVnrv8Ma7zLHLFvK1dH8s9JIaaZJpdKZL5DMpThvAkSPSqeqkOX3poELTy0Q-1YmBujjhONZVUMYb-J3blzPCPpZR-psDk2yNRIHMM0qnRzPbFwAr8HFlCfZKiWxR1DNINvXwyBvDFNsCutqszMqiRGVOufSgOZHMZe4eTYAtawNW8A4id92EXCKsDrnGTEeQvxp1vcihE2PJMZzTgywHtu5Ql18dJ1SmwqqDjO3equPy10JwytDRzTc6WSdAIXrNYUODBVzSe0Rrh54O9r9XvepNfaxYfXzk8q0s5UneId32m6Qrdmc5sk1VxUrme22amd3EQqBlkt9_5k7538ingknSq8AxCasWJbgUmInFKM3llUj0qEfB85Qvleuv_JYJAmzYqoN1CUo-mbv_nSsy1pqA0i8ZRZugnJfIrNRuATRCkR63YvTKNLnt3-pC5SLbH34aeZj2oEzXHZd_qZNFX2zXBJUy2srOxGmgAti5vB2qLk4kDUQ_eUtrTXbn9t2No5eH-4IYOBH7jz-zSn10RWx_ubVzLjpnR-BZZOa2LkoumPfeRKGHA8ScyD1frPwZyj1KflsKmfJlYFHqTRg=s64",
      "userId": "16390917540151948122"
     },
     "user_tz": -330
    },
    "id": "hkwIDf3pzH6a"
   },
   "outputs": [],
   "source": [
    "dataset = pd.read_csv('../Breast Cancer Detection Classif.csv')\n",
    "X = dataset.iloc[:, :-1].values\n",
    "y = dataset.iloc[:, -1].values"
   ]
  },
  {
   "cell_type": "code",
   "execution_count": 11,
   "metadata": {},
   "outputs": [
    {
     "data": {
      "text/html": [
       "<div>\n",
       "<style scoped>\n",
       "    .dataframe tbody tr th:only-of-type {\n",
       "        vertical-align: middle;\n",
       "    }\n",
       "\n",
       "    .dataframe tbody tr th {\n",
       "        vertical-align: top;\n",
       "    }\n",
       "\n",
       "    .dataframe thead th {\n",
       "        text-align: right;\n",
       "    }\n",
       "</style>\n",
       "<table border=\"1\" class=\"dataframe\">\n",
       "  <thead>\n",
       "    <tr style=\"text-align: right;\">\n",
       "      <th></th>\n",
       "      <th>id</th>\n",
       "      <th>radius_mean</th>\n",
       "      <th>texture_mean</th>\n",
       "      <th>perimeter_mean</th>\n",
       "      <th>area_mean</th>\n",
       "      <th>smoothness_mean</th>\n",
       "      <th>compactness_mean</th>\n",
       "      <th>concavity_mean</th>\n",
       "      <th>concave points_mean</th>\n",
       "      <th>symmetry_mean</th>\n",
       "      <th>...</th>\n",
       "      <th>texture_worst</th>\n",
       "      <th>perimeter_worst</th>\n",
       "      <th>area_worst</th>\n",
       "      <th>smoothness_worst</th>\n",
       "      <th>compactness_worst</th>\n",
       "      <th>concavity_worst</th>\n",
       "      <th>concave points_worst</th>\n",
       "      <th>symmetry_worst</th>\n",
       "      <th>fractal_dimension_worst</th>\n",
       "      <th>diagnosis</th>\n",
       "    </tr>\n",
       "  </thead>\n",
       "  <tbody>\n",
       "    <tr>\n",
       "      <th>0</th>\n",
       "      <td>842302</td>\n",
       "      <td>17.99</td>\n",
       "      <td>10.38</td>\n",
       "      <td>122.80</td>\n",
       "      <td>1001.0</td>\n",
       "      <td>0.11840</td>\n",
       "      <td>0.27760</td>\n",
       "      <td>0.3001</td>\n",
       "      <td>0.14710</td>\n",
       "      <td>0.2419</td>\n",
       "      <td>...</td>\n",
       "      <td>17.33</td>\n",
       "      <td>184.60</td>\n",
       "      <td>2019.0</td>\n",
       "      <td>0.1622</td>\n",
       "      <td>0.6656</td>\n",
       "      <td>0.7119</td>\n",
       "      <td>0.2654</td>\n",
       "      <td>0.4601</td>\n",
       "      <td>0.11890</td>\n",
       "      <td>1</td>\n",
       "    </tr>\n",
       "    <tr>\n",
       "      <th>1</th>\n",
       "      <td>842517</td>\n",
       "      <td>20.57</td>\n",
       "      <td>17.77</td>\n",
       "      <td>132.90</td>\n",
       "      <td>1326.0</td>\n",
       "      <td>0.08474</td>\n",
       "      <td>0.07864</td>\n",
       "      <td>0.0869</td>\n",
       "      <td>0.07017</td>\n",
       "      <td>0.1812</td>\n",
       "      <td>...</td>\n",
       "      <td>23.41</td>\n",
       "      <td>158.80</td>\n",
       "      <td>1956.0</td>\n",
       "      <td>0.1238</td>\n",
       "      <td>0.1866</td>\n",
       "      <td>0.2416</td>\n",
       "      <td>0.1860</td>\n",
       "      <td>0.2750</td>\n",
       "      <td>0.08902</td>\n",
       "      <td>1</td>\n",
       "    </tr>\n",
       "    <tr>\n",
       "      <th>2</th>\n",
       "      <td>84300903</td>\n",
       "      <td>19.69</td>\n",
       "      <td>21.25</td>\n",
       "      <td>130.00</td>\n",
       "      <td>1203.0</td>\n",
       "      <td>0.10960</td>\n",
       "      <td>0.15990</td>\n",
       "      <td>0.1974</td>\n",
       "      <td>0.12790</td>\n",
       "      <td>0.2069</td>\n",
       "      <td>...</td>\n",
       "      <td>25.53</td>\n",
       "      <td>152.50</td>\n",
       "      <td>1709.0</td>\n",
       "      <td>0.1444</td>\n",
       "      <td>0.4245</td>\n",
       "      <td>0.4504</td>\n",
       "      <td>0.2430</td>\n",
       "      <td>0.3613</td>\n",
       "      <td>0.08758</td>\n",
       "      <td>1</td>\n",
       "    </tr>\n",
       "    <tr>\n",
       "      <th>3</th>\n",
       "      <td>84348301</td>\n",
       "      <td>11.42</td>\n",
       "      <td>20.38</td>\n",
       "      <td>77.58</td>\n",
       "      <td>386.1</td>\n",
       "      <td>0.14250</td>\n",
       "      <td>0.28390</td>\n",
       "      <td>0.2414</td>\n",
       "      <td>0.10520</td>\n",
       "      <td>0.2597</td>\n",
       "      <td>...</td>\n",
       "      <td>26.50</td>\n",
       "      <td>98.87</td>\n",
       "      <td>567.7</td>\n",
       "      <td>0.2098</td>\n",
       "      <td>0.8663</td>\n",
       "      <td>0.6869</td>\n",
       "      <td>0.2575</td>\n",
       "      <td>0.6638</td>\n",
       "      <td>0.17300</td>\n",
       "      <td>1</td>\n",
       "    </tr>\n",
       "    <tr>\n",
       "      <th>4</th>\n",
       "      <td>84358402</td>\n",
       "      <td>20.29</td>\n",
       "      <td>14.34</td>\n",
       "      <td>135.10</td>\n",
       "      <td>1297.0</td>\n",
       "      <td>0.10030</td>\n",
       "      <td>0.13280</td>\n",
       "      <td>0.1980</td>\n",
       "      <td>0.10430</td>\n",
       "      <td>0.1809</td>\n",
       "      <td>...</td>\n",
       "      <td>16.67</td>\n",
       "      <td>152.20</td>\n",
       "      <td>1575.0</td>\n",
       "      <td>0.1374</td>\n",
       "      <td>0.2050</td>\n",
       "      <td>0.4000</td>\n",
       "      <td>0.1625</td>\n",
       "      <td>0.2364</td>\n",
       "      <td>0.07678</td>\n",
       "      <td>1</td>\n",
       "    </tr>\n",
       "  </tbody>\n",
       "</table>\n",
       "<p>5 rows × 32 columns</p>\n",
       "</div>"
      ],
      "text/plain": [
       "         id  radius_mean  texture_mean  perimeter_mean  area_mean  \\\n",
       "0    842302        17.99         10.38          122.80     1001.0   \n",
       "1    842517        20.57         17.77          132.90     1326.0   \n",
       "2  84300903        19.69         21.25          130.00     1203.0   \n",
       "3  84348301        11.42         20.38           77.58      386.1   \n",
       "4  84358402        20.29         14.34          135.10     1297.0   \n",
       "\n",
       "   smoothness_mean  compactness_mean  concavity_mean  concave points_mean  \\\n",
       "0          0.11840           0.27760          0.3001              0.14710   \n",
       "1          0.08474           0.07864          0.0869              0.07017   \n",
       "2          0.10960           0.15990          0.1974              0.12790   \n",
       "3          0.14250           0.28390          0.2414              0.10520   \n",
       "4          0.10030           0.13280          0.1980              0.10430   \n",
       "\n",
       "   symmetry_mean  ...  texture_worst  perimeter_worst  area_worst  \\\n",
       "0         0.2419  ...          17.33           184.60      2019.0   \n",
       "1         0.1812  ...          23.41           158.80      1956.0   \n",
       "2         0.2069  ...          25.53           152.50      1709.0   \n",
       "3         0.2597  ...          26.50            98.87       567.7   \n",
       "4         0.1809  ...          16.67           152.20      1575.0   \n",
       "\n",
       "   smoothness_worst  compactness_worst  concavity_worst  concave points_worst  \\\n",
       "0            0.1622             0.6656           0.7119                0.2654   \n",
       "1            0.1238             0.1866           0.2416                0.1860   \n",
       "2            0.1444             0.4245           0.4504                0.2430   \n",
       "3            0.2098             0.8663           0.6869                0.2575   \n",
       "4            0.1374             0.2050           0.4000                0.1625   \n",
       "\n",
       "   symmetry_worst  fractal_dimension_worst  diagnosis  \n",
       "0          0.4601                  0.11890          1  \n",
       "1          0.2750                  0.08902          1  \n",
       "2          0.3613                  0.08758          1  \n",
       "3          0.6638                  0.17300          1  \n",
       "4          0.2364                  0.07678          1  \n",
       "\n",
       "[5 rows x 32 columns]"
      ]
     },
     "execution_count": 11,
     "metadata": {},
     "output_type": "execute_result"
    }
   ],
   "source": [
    "dataset.head()"
   ]
  },
  {
   "cell_type": "code",
   "execution_count": 12,
   "metadata": {},
   "outputs": [
    {
     "data": {
      "text/plain": [
       "(569, 32)"
      ]
     },
     "execution_count": 12,
     "metadata": {},
     "output_type": "execute_result"
    }
   ],
   "source": [
    "dataset.shape"
   ]
  },
  {
   "cell_type": "code",
   "execution_count": 7,
   "metadata": {},
   "outputs": [
    {
     "data": {
      "text/plain": [
       "id                         0\n",
       "radius_mean                0\n",
       "texture_mean               0\n",
       "perimeter_mean             0\n",
       "area_mean                  0\n",
       "smoothness_mean            0\n",
       "compactness_mean           0\n",
       "concavity_mean             0\n",
       "concave points_mean        0\n",
       "symmetry_mean              0\n",
       "fractal_dimension_mean     0\n",
       "radius_se                  0\n",
       "texture_se                 0\n",
       "perimeter_se               0\n",
       "area_se                    0\n",
       "smoothness_se              0\n",
       "compactness_se             0\n",
       "concavity_se               0\n",
       "concave points_se          0\n",
       "symmetry_se                0\n",
       "fractal_dimension_se       0\n",
       "radius_worst               0\n",
       "texture_worst              0\n",
       "perimeter_worst            0\n",
       "area_worst                 0\n",
       "smoothness_worst           0\n",
       "compactness_worst          0\n",
       "concavity_worst            0\n",
       "concave points_worst       0\n",
       "symmetry_worst             0\n",
       "fractal_dimension_worst    0\n",
       "diagnosis                  0\n",
       "dtype: int64"
      ]
     },
     "execution_count": 7,
     "metadata": {},
     "output_type": "execute_result"
    }
   ],
   "source": [
    "dataset.isna().sum()"
   ]
  },
  {
   "cell_type": "code",
   "execution_count": 8,
   "metadata": {},
   "outputs": [
    {
     "name": "stdout",
     "output_type": "stream",
     "text": [
      "<class 'pandas.core.frame.DataFrame'>\n",
      "RangeIndex: 569 entries, 0 to 568\n",
      "Data columns (total 32 columns):\n",
      " #   Column                   Non-Null Count  Dtype  \n",
      "---  ------                   --------------  -----  \n",
      " 0   id                       569 non-null    int64  \n",
      " 1   radius_mean              569 non-null    float64\n",
      " 2   texture_mean             569 non-null    float64\n",
      " 3   perimeter_mean           569 non-null    float64\n",
      " 4   area_mean                569 non-null    float64\n",
      " 5   smoothness_mean          569 non-null    float64\n",
      " 6   compactness_mean         569 non-null    float64\n",
      " 7   concavity_mean           569 non-null    float64\n",
      " 8   concave points_mean      569 non-null    float64\n",
      " 9   symmetry_mean            569 non-null    float64\n",
      " 10  fractal_dimension_mean   569 non-null    float64\n",
      " 11  radius_se                569 non-null    float64\n",
      " 12  texture_se               569 non-null    float64\n",
      " 13  perimeter_se             569 non-null    float64\n",
      " 14  area_se                  569 non-null    float64\n",
      " 15  smoothness_se            569 non-null    float64\n",
      " 16  compactness_se           569 non-null    float64\n",
      " 17  concavity_se             569 non-null    float64\n",
      " 18  concave points_se        569 non-null    float64\n",
      " 19  symmetry_se              569 non-null    float64\n",
      " 20  fractal_dimension_se     569 non-null    float64\n",
      " 21  radius_worst             569 non-null    float64\n",
      " 22  texture_worst            569 non-null    float64\n",
      " 23  perimeter_worst          569 non-null    float64\n",
      " 24  area_worst               569 non-null    float64\n",
      " 25  smoothness_worst         569 non-null    float64\n",
      " 26  compactness_worst        569 non-null    float64\n",
      " 27  concavity_worst          569 non-null    float64\n",
      " 28  concave points_worst     569 non-null    float64\n",
      " 29  symmetry_worst           569 non-null    float64\n",
      " 30  fractal_dimension_worst  569 non-null    float64\n",
      " 31  diagnosis                569 non-null    int64  \n",
      "dtypes: float64(30), int64(2)\n",
      "memory usage: 142.4 KB\n"
     ]
    }
   ],
   "source": [
    "dataset.info()"
   ]
  },
  {
   "cell_type": "markdown",
   "metadata": {
    "id": "8REFJFGC0lRN"
   },
   "source": [
    "## Splitting the dataset into Training & Test set"
   ]
  },
  {
   "cell_type": "code",
   "execution_count": 13,
   "metadata": {
    "executionInfo": {
     "elapsed": 1494,
     "status": "ok",
     "timestamp": 1612421823346,
     "user": {
      "displayName": "Atulya Kaushik",
      "photoUrl": "https://lh3.googleusercontent.com/a-/AOh14Gh69A6cPMDCBNVnUb9ZrCn7vlbmrA_05cw_DIpiqIrZwGIUsILCrnlSm28Ve37yUb41GXvku8Pq1BBW8lDFrlgirv4UQT9pHdGuE_p6_ncpyDavKc__S0wX7dtGljsIeU77szv_3io159xwmH8LuixSsaeEpgDx3f-OWp4ixlkdXlxR9lKVnrv8Ma7zLHLFvK1dH8s9JIaaZJpdKZL5DMpThvAkSPSqeqkOX3poELTy0Q-1YmBujjhONZVUMYb-J3blzPCPpZR-psDk2yNRIHMM0qnRzPbFwAr8HFlCfZKiWxR1DNINvXwyBvDFNsCutqszMqiRGVOufSgOZHMZe4eTYAtawNW8A4id92EXCKsDrnGTEeQvxp1vcihE2PJMZzTgywHtu5Ql18dJ1SmwqqDjO3equPy10JwytDRzTc6WSdAIXrNYUODBVzSe0Rrh54O9r9XvepNfaxYfXzk8q0s5UneId32m6Qrdmc5sk1VxUrme22amd3EQqBlkt9_5k7538ingknSq8AxCasWJbgUmInFKM3llUj0qEfB85Qvleuv_JYJAmzYqoN1CUo-mbv_nSsy1pqA0i8ZRZugnJfIrNRuATRCkR63YvTKNLnt3-pC5SLbH34aeZj2oEzXHZd_qZNFX2zXBJUy2srOxGmgAti5vB2qLk4kDUQ_eUtrTXbn9t2No5eH-4IYOBH7jz-zSn10RWx_ubVzLjpnR-BZZOa2LkoumPfeRKGHA8ScyD1frPwZyj1KflsKmfJlYFHqTRg=s64",
      "userId": "16390917540151948122"
     },
     "user_tz": -330
    },
    "id": "9a3yj_m7zJcr"
   },
   "outputs": [],
   "source": [
    "from sklearn.model_selection import train_test_split\n",
    "X_train, X_test, y_train, y_test = train_test_split(X, y, test_size = 0.3, random_state = 0)"
   ]
  },
  {
   "cell_type": "markdown",
   "metadata": {
    "id": "-Dw4Khi70u9g"
   },
   "source": [
    "## Feature Scaling"
   ]
  },
  {
   "cell_type": "code",
   "execution_count": 14,
   "metadata": {
    "executionInfo": {
     "elapsed": 1137,
     "status": "ok",
     "timestamp": 1612421824900,
     "user": {
      "displayName": "Atulya Kaushik",
      "photoUrl": "https://lh3.googleusercontent.com/a-/AOh14Gh69A6cPMDCBNVnUb9ZrCn7vlbmrA_05cw_DIpiqIrZwGIUsILCrnlSm28Ve37yUb41GXvku8Pq1BBW8lDFrlgirv4UQT9pHdGuE_p6_ncpyDavKc__S0wX7dtGljsIeU77szv_3io159xwmH8LuixSsaeEpgDx3f-OWp4ixlkdXlxR9lKVnrv8Ma7zLHLFvK1dH8s9JIaaZJpdKZL5DMpThvAkSPSqeqkOX3poELTy0Q-1YmBujjhONZVUMYb-J3blzPCPpZR-psDk2yNRIHMM0qnRzPbFwAr8HFlCfZKiWxR1DNINvXwyBvDFNsCutqszMqiRGVOufSgOZHMZe4eTYAtawNW8A4id92EXCKsDrnGTEeQvxp1vcihE2PJMZzTgywHtu5Ql18dJ1SmwqqDjO3equPy10JwytDRzTc6WSdAIXrNYUODBVzSe0Rrh54O9r9XvepNfaxYfXzk8q0s5UneId32m6Qrdmc5sk1VxUrme22amd3EQqBlkt9_5k7538ingknSq8AxCasWJbgUmInFKM3llUj0qEfB85Qvleuv_JYJAmzYqoN1CUo-mbv_nSsy1pqA0i8ZRZugnJfIrNRuATRCkR63YvTKNLnt3-pC5SLbH34aeZj2oEzXHZd_qZNFX2zXBJUy2srOxGmgAti5vB2qLk4kDUQ_eUtrTXbn9t2No5eH-4IYOBH7jz-zSn10RWx_ubVzLjpnR-BZZOa2LkoumPfeRKGHA8ScyD1frPwZyj1KflsKmfJlYFHqTRg=s64",
      "userId": "16390917540151948122"
     },
     "user_tz": -330
    },
    "id": "e92JJYRVzN1r"
   },
   "outputs": [],
   "source": [
    "from sklearn.preprocessing import StandardScaler\n",
    "sc = StandardScaler()\n",
    "X_train = sc.fit_transform(X_train)\n",
    "X_test = sc.transform(X_test)"
   ]
  },
  {
   "cell_type": "markdown",
   "metadata": {
    "id": "2QUFYaoH00H6"
   },
   "source": [
    "## Support Vector Machine Training on Training set"
   ]
  },
  {
   "cell_type": "code",
   "execution_count": 16,
   "metadata": {
    "colab": {
     "base_uri": "https://localhost:8080/"
    },
    "executionInfo": {
     "elapsed": 750,
     "status": "ok",
     "timestamp": 1612421836005,
     "user": {
      "displayName": "Atulya Kaushik",
      "photoUrl": "https://lh3.googleusercontent.com/a-/AOh14Gh69A6cPMDCBNVnUb9ZrCn7vlbmrA_05cw_DIpiqIrZwGIUsILCrnlSm28Ve37yUb41GXvku8Pq1BBW8lDFrlgirv4UQT9pHdGuE_p6_ncpyDavKc__S0wX7dtGljsIeU77szv_3io159xwmH8LuixSsaeEpgDx3f-OWp4ixlkdXlxR9lKVnrv8Ma7zLHLFvK1dH8s9JIaaZJpdKZL5DMpThvAkSPSqeqkOX3poELTy0Q-1YmBujjhONZVUMYb-J3blzPCPpZR-psDk2yNRIHMM0qnRzPbFwAr8HFlCfZKiWxR1DNINvXwyBvDFNsCutqszMqiRGVOufSgOZHMZe4eTYAtawNW8A4id92EXCKsDrnGTEeQvxp1vcihE2PJMZzTgywHtu5Ql18dJ1SmwqqDjO3equPy10JwytDRzTc6WSdAIXrNYUODBVzSe0Rrh54O9r9XvepNfaxYfXzk8q0s5UneId32m6Qrdmc5sk1VxUrme22amd3EQqBlkt9_5k7538ingknSq8AxCasWJbgUmInFKM3llUj0qEfB85Qvleuv_JYJAmzYqoN1CUo-mbv_nSsy1pqA0i8ZRZugnJfIrNRuATRCkR63YvTKNLnt3-pC5SLbH34aeZj2oEzXHZd_qZNFX2zXBJUy2srOxGmgAti5vB2qLk4kDUQ_eUtrTXbn9t2No5eH-4IYOBH7jz-zSn10RWx_ubVzLjpnR-BZZOa2LkoumPfeRKGHA8ScyD1frPwZyj1KflsKmfJlYFHqTRg=s64",
      "userId": "16390917540151948122"
     },
     "user_tz": -330
    },
    "id": "lTsSUXwI04uw",
    "outputId": "e3e20b22-db45-4f26-f3c8-8578d31f2eb1"
   },
   "outputs": [
    {
     "data": {
      "text/plain": [
       "SVC(kernel='linear', random_state=0)"
      ]
     },
     "execution_count": 16,
     "metadata": {},
     "output_type": "execute_result"
    }
   ],
   "source": [
    "from sklearn.svm import SVC\n",
    "classifier = SVC(kernel = 'linear', random_state = 0)\n",
    "classifier.fit(X_train, y_train)"
   ]
  },
  {
   "cell_type": "markdown",
   "metadata": {
    "id": "p6I0bJj_1Fxl"
   },
   "source": [
    "## Confusion Matrix"
   ]
  },
  {
   "cell_type": "code",
   "execution_count": 17,
   "metadata": {
    "colab": {
     "base_uri": "https://localhost:8080/"
    },
    "executionInfo": {
     "elapsed": 1138,
     "status": "ok",
     "timestamp": 1612421844609,
     "user": {
      "displayName": "Atulya Kaushik",
      "photoUrl": "https://lh3.googleusercontent.com/a-/AOh14Gh69A6cPMDCBNVnUb9ZrCn7vlbmrA_05cw_DIpiqIrZwGIUsILCrnlSm28Ve37yUb41GXvku8Pq1BBW8lDFrlgirv4UQT9pHdGuE_p6_ncpyDavKc__S0wX7dtGljsIeU77szv_3io159xwmH8LuixSsaeEpgDx3f-OWp4ixlkdXlxR9lKVnrv8Ma7zLHLFvK1dH8s9JIaaZJpdKZL5DMpThvAkSPSqeqkOX3poELTy0Q-1YmBujjhONZVUMYb-J3blzPCPpZR-psDk2yNRIHMM0qnRzPbFwAr8HFlCfZKiWxR1DNINvXwyBvDFNsCutqszMqiRGVOufSgOZHMZe4eTYAtawNW8A4id92EXCKsDrnGTEeQvxp1vcihE2PJMZzTgywHtu5Ql18dJ1SmwqqDjO3equPy10JwytDRzTc6WSdAIXrNYUODBVzSe0Rrh54O9r9XvepNfaxYfXzk8q0s5UneId32m6Qrdmc5sk1VxUrme22amd3EQqBlkt9_5k7538ingknSq8AxCasWJbgUmInFKM3llUj0qEfB85Qvleuv_JYJAmzYqoN1CUo-mbv_nSsy1pqA0i8ZRZugnJfIrNRuATRCkR63YvTKNLnt3-pC5SLbH34aeZj2oEzXHZd_qZNFX2zXBJUy2srOxGmgAti5vB2qLk4kDUQ_eUtrTXbn9t2No5eH-4IYOBH7jz-zSn10RWx_ubVzLjpnR-BZZOa2LkoumPfeRKGHA8ScyD1frPwZyj1KflsKmfJlYFHqTRg=s64",
      "userId": "16390917540151948122"
     },
     "user_tz": -330
    },
    "id": "dT-NaM5P0y5s",
    "outputId": "275bccfd-767a-4331-ba8e-2f93527bda59"
   },
   "outputs": [
    {
     "name": "stdout",
     "output_type": "stream",
     "text": [
      "[[100   8]\n",
      " [  3  60]]\n"
     ]
    },
    {
     "data": {
      "text/plain": [
       "0.935672514619883"
      ]
     },
     "execution_count": 17,
     "metadata": {},
     "output_type": "execute_result"
    }
   ],
   "source": [
    "from sklearn.metrics import confusion_matrix, accuracy_score\n",
    "y_pred = classifier.predict(X_test)\n",
    "cm = confusion_matrix(y_test, y_pred)\n",
    "print(cm)\n",
    "accuracy_score(y_test, y_pred)"
   ]
  },
  {
   "cell_type": "code",
   "execution_count": null,
   "metadata": {},
   "outputs": [],
   "source": []
  }
 ],
 "metadata": {
  "colab": {
   "authorship_tag": "ABX9TyOqNHDYdNXSPYifX9uBz+tW",
   "name": "Support Vector Machine Classification Working Copy.ipynb",
   "provenance": [],
   "toc_visible": true
  },
  "kernelspec": {
   "display_name": "Python 3 (ipykernel)",
   "language": "python",
   "name": "python3"
  },
  "language_info": {
   "codemirror_mode": {
    "name": "ipython",
    "version": 3
   },
   "file_extension": ".py",
   "mimetype": "text/x-python",
   "name": "python",
   "nbconvert_exporter": "python",
   "pygments_lexer": "ipython3",
   "version": "3.9.13"
  }
 },
 "nbformat": 4,
 "nbformat_minor": 1
}
