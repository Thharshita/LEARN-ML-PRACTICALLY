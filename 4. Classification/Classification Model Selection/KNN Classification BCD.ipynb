{
 "cells": [
  {
   "cell_type": "markdown",
   "metadata": {
    "id": "Z-jZGC0q0aiY"
   },
   "source": [
    "# KNN Classification"
   ]
  },
  {
   "cell_type": "markdown",
   "metadata": {
    "id": "jE4Rc_OO0eJM"
   },
   "source": [
    "## Importing libraries"
   ]
  },
  {
   "cell_type": "code",
   "execution_count": 1,
   "metadata": {
    "executionInfo": {
     "elapsed": 1053,
     "status": "ok",
     "timestamp": 1612421541232,
     "user": {
      "displayName": "Atulya Kaushik",
      "photoUrl": "https://lh3.googleusercontent.com/a-/AOh14GipSaCViBIh9yX-M2jTF9n4sUAYizj7HRDL_INXHDHova8XoDDISp59MW7uzH-542REMwWBir78ekLwVeDeeZTuaRALnqxajt8DSybS-GUpN23yzwYHnwrDAlxfTaBrKL4P0hAb_JDuZQwC4U1CfNA3oVoh-bFh2MKzMnxY4hI8rpHnRYn8y3QgvFYhXrGHLUwkfLkMjmd7A5-R07LypmbjUVD-OvM8N_MRD2SEDn_w9IhmNOlDy8Fg6gN_Pu2rYCsyXHy4AsaenX854Dbza02e-VGWYR_U3lUnY6YY_KjiQ5_MN-OKfRIepqCD0YCb-lqLLjtq9pZt9yt9ilhIOkGM3zrSxCLNbYXn4s6RQFlziEwIRnCgsF80qKXvg2zMi-qcEhzJk4F_Q9eplQcg0XhGKHyuiV-RmkdKTXmzmyGWIDLe80jgSAtXgJd5MOhhPCUutMIR-bcST1XEIBU7KNE8q_y7PKnyZGXVe6Hx2Kn5vQ_LH1fzUuBpyzmM9tvZ2DyLpgjwndOokjeMkye_KCqe8QMEaXxn_eVx020K83ZmN1W-k0TOxV7IsW2g3DeGy747Z_keGM2vtc68Nb9sWJTn9rHYOQ_RXdb817hckTzmkD1d__baP0hQN2Vp5HTO0AxATSow5VWycGBDLn7lr1ucq4x5QQyVX30aYLdQRSJwIIj4mYZsHnO7-Oz3Q27znvzouLFYJnTLRgqFDtbqjhvxXVObKC1CJS5DLMDgI0tVm8GG3qsvz6Z8jWre4YgoCB5YoA=s64",
      "userId": "16390917540151948122"
     },
     "user_tz": -330
    },
    "id": "XmbcHlqGzGmY"
   },
   "outputs": [],
   "source": [
    "import numpy as np\n",
    "import matplotlib.pyplot as plt\n",
    "import pandas as pd"
   ]
  },
  {
   "cell_type": "markdown",
   "metadata": {
    "id": "A9-xGHd20gY1"
   },
   "source": [
    "## Importing dataset"
   ]
  },
  {
   "cell_type": "code",
   "execution_count": 2,
   "metadata": {
    "executionInfo": {
     "elapsed": 1048,
     "status": "ok",
     "timestamp": 1612421561308,
     "user": {
      "displayName": "Atulya Kaushik",
      "photoUrl": "https://lh3.googleusercontent.com/a-/AOh14GipSaCViBIh9yX-M2jTF9n4sUAYizj7HRDL_INXHDHova8XoDDISp59MW7uzH-542REMwWBir78ekLwVeDeeZTuaRALnqxajt8DSybS-GUpN23yzwYHnwrDAlxfTaBrKL4P0hAb_JDuZQwC4U1CfNA3oVoh-bFh2MKzMnxY4hI8rpHnRYn8y3QgvFYhXrGHLUwkfLkMjmd7A5-R07LypmbjUVD-OvM8N_MRD2SEDn_w9IhmNOlDy8Fg6gN_Pu2rYCsyXHy4AsaenX854Dbza02e-VGWYR_U3lUnY6YY_KjiQ5_MN-OKfRIepqCD0YCb-lqLLjtq9pZt9yt9ilhIOkGM3zrSxCLNbYXn4s6RQFlziEwIRnCgsF80qKXvg2zMi-qcEhzJk4F_Q9eplQcg0XhGKHyuiV-RmkdKTXmzmyGWIDLe80jgSAtXgJd5MOhhPCUutMIR-bcST1XEIBU7KNE8q_y7PKnyZGXVe6Hx2Kn5vQ_LH1fzUuBpyzmM9tvZ2DyLpgjwndOokjeMkye_KCqe8QMEaXxn_eVx020K83ZmN1W-k0TOxV7IsW2g3DeGy747Z_keGM2vtc68Nb9sWJTn9rHYOQ_RXdb817hckTzmkD1d__baP0hQN2Vp5HTO0AxATSow5VWycGBDLn7lr1ucq4x5QQyVX30aYLdQRSJwIIj4mYZsHnO7-Oz3Q27znvzouLFYJnTLRgqFDtbqjhvxXVObKC1CJS5DLMDgI0tVm8GG3qsvz6Z8jWre4YgoCB5YoA=s64",
      "userId": "16390917540151948122"
     },
     "user_tz": -330
    },
    "id": "hkwIDf3pzH6a"
   },
   "outputs": [],
   "source": [
    "dataset = pd.read_csv('../Breast Cancer Detection Classif.csv')\n",
    "X = dataset.iloc[:, :-1].values\n",
    "y = dataset.iloc[:, -1].values"
   ]
  },
  {
   "cell_type": "markdown",
   "metadata": {
    "id": "8REFJFGC0lRN"
   },
   "source": [
    "## Splitting the dataset into Training & Test set"
   ]
  },
  {
   "cell_type": "code",
   "execution_count": 3,
   "metadata": {
    "executionInfo": {
     "elapsed": 2323,
     "status": "ok",
     "timestamp": 1612421566675,
     "user": {
      "displayName": "Atulya Kaushik",
      "photoUrl": "https://lh3.googleusercontent.com/a-/AOh14GipSaCViBIh9yX-M2jTF9n4sUAYizj7HRDL_INXHDHova8XoDDISp59MW7uzH-542REMwWBir78ekLwVeDeeZTuaRALnqxajt8DSybS-GUpN23yzwYHnwrDAlxfTaBrKL4P0hAb_JDuZQwC4U1CfNA3oVoh-bFh2MKzMnxY4hI8rpHnRYn8y3QgvFYhXrGHLUwkfLkMjmd7A5-R07LypmbjUVD-OvM8N_MRD2SEDn_w9IhmNOlDy8Fg6gN_Pu2rYCsyXHy4AsaenX854Dbza02e-VGWYR_U3lUnY6YY_KjiQ5_MN-OKfRIepqCD0YCb-lqLLjtq9pZt9yt9ilhIOkGM3zrSxCLNbYXn4s6RQFlziEwIRnCgsF80qKXvg2zMi-qcEhzJk4F_Q9eplQcg0XhGKHyuiV-RmkdKTXmzmyGWIDLe80jgSAtXgJd5MOhhPCUutMIR-bcST1XEIBU7KNE8q_y7PKnyZGXVe6Hx2Kn5vQ_LH1fzUuBpyzmM9tvZ2DyLpgjwndOokjeMkye_KCqe8QMEaXxn_eVx020K83ZmN1W-k0TOxV7IsW2g3DeGy747Z_keGM2vtc68Nb9sWJTn9rHYOQ_RXdb817hckTzmkD1d__baP0hQN2Vp5HTO0AxATSow5VWycGBDLn7lr1ucq4x5QQyVX30aYLdQRSJwIIj4mYZsHnO7-Oz3Q27znvzouLFYJnTLRgqFDtbqjhvxXVObKC1CJS5DLMDgI0tVm8GG3qsvz6Z8jWre4YgoCB5YoA=s64",
      "userId": "16390917540151948122"
     },
     "user_tz": -330
    },
    "id": "9a3yj_m7zJcr"
   },
   "outputs": [],
   "source": [
    "from sklearn.model_selection import train_test_split\n",
    "X_train, X_test, y_train, y_test = train_test_split(X, y, test_size = 0.3, random_state = 0)"
   ]
  },
  {
   "cell_type": "markdown",
   "metadata": {
    "id": "-Dw4Khi70u9g"
   },
   "source": [
    "## Feature Scaling"
   ]
  },
  {
   "cell_type": "code",
   "execution_count": 4,
   "metadata": {
    "executionInfo": {
     "elapsed": 1150,
     "status": "ok",
     "timestamp": 1612421568415,
     "user": {
      "displayName": "Atulya Kaushik",
      "photoUrl": "https://lh3.googleusercontent.com/a-/AOh14GipSaCViBIh9yX-M2jTF9n4sUAYizj7HRDL_INXHDHova8XoDDISp59MW7uzH-542REMwWBir78ekLwVeDeeZTuaRALnqxajt8DSybS-GUpN23yzwYHnwrDAlxfTaBrKL4P0hAb_JDuZQwC4U1CfNA3oVoh-bFh2MKzMnxY4hI8rpHnRYn8y3QgvFYhXrGHLUwkfLkMjmd7A5-R07LypmbjUVD-OvM8N_MRD2SEDn_w9IhmNOlDy8Fg6gN_Pu2rYCsyXHy4AsaenX854Dbza02e-VGWYR_U3lUnY6YY_KjiQ5_MN-OKfRIepqCD0YCb-lqLLjtq9pZt9yt9ilhIOkGM3zrSxCLNbYXn4s6RQFlziEwIRnCgsF80qKXvg2zMi-qcEhzJk4F_Q9eplQcg0XhGKHyuiV-RmkdKTXmzmyGWIDLe80jgSAtXgJd5MOhhPCUutMIR-bcST1XEIBU7KNE8q_y7PKnyZGXVe6Hx2Kn5vQ_LH1fzUuBpyzmM9tvZ2DyLpgjwndOokjeMkye_KCqe8QMEaXxn_eVx020K83ZmN1W-k0TOxV7IsW2g3DeGy747Z_keGM2vtc68Nb9sWJTn9rHYOQ_RXdb817hckTzmkD1d__baP0hQN2Vp5HTO0AxATSow5VWycGBDLn7lr1ucq4x5QQyVX30aYLdQRSJwIIj4mYZsHnO7-Oz3Q27znvzouLFYJnTLRgqFDtbqjhvxXVObKC1CJS5DLMDgI0tVm8GG3qsvz6Z8jWre4YgoCB5YoA=s64",
      "userId": "16390917540151948122"
     },
     "user_tz": -330
    },
    "id": "e92JJYRVzN1r"
   },
   "outputs": [],
   "source": [
    "from sklearn.preprocessing import StandardScaler\n",
    "sc = StandardScaler()\n",
    "X_train = sc.fit_transform(X_train)\n",
    "X_test = sc.transform(X_test)"
   ]
  },
  {
   "cell_type": "markdown",
   "metadata": {
    "id": "2QUFYaoH00H6"
   },
   "source": [
    "## KNN Training on Training set"
   ]
  },
  {
   "cell_type": "code",
   "execution_count": 5,
   "metadata": {
    "colab": {
     "base_uri": "https://localhost:8080/"
    },
    "executionInfo": {
     "elapsed": 1276,
     "status": "ok",
     "timestamp": 1612421571011,
     "user": {
      "displayName": "Atulya Kaushik",
      "photoUrl": "https://lh3.googleusercontent.com/a-/AOh14GipSaCViBIh9yX-M2jTF9n4sUAYizj7HRDL_INXHDHova8XoDDISp59MW7uzH-542REMwWBir78ekLwVeDeeZTuaRALnqxajt8DSybS-GUpN23yzwYHnwrDAlxfTaBrKL4P0hAb_JDuZQwC4U1CfNA3oVoh-bFh2MKzMnxY4hI8rpHnRYn8y3QgvFYhXrGHLUwkfLkMjmd7A5-R07LypmbjUVD-OvM8N_MRD2SEDn_w9IhmNOlDy8Fg6gN_Pu2rYCsyXHy4AsaenX854Dbza02e-VGWYR_U3lUnY6YY_KjiQ5_MN-OKfRIepqCD0YCb-lqLLjtq9pZt9yt9ilhIOkGM3zrSxCLNbYXn4s6RQFlziEwIRnCgsF80qKXvg2zMi-qcEhzJk4F_Q9eplQcg0XhGKHyuiV-RmkdKTXmzmyGWIDLe80jgSAtXgJd5MOhhPCUutMIR-bcST1XEIBU7KNE8q_y7PKnyZGXVe6Hx2Kn5vQ_LH1fzUuBpyzmM9tvZ2DyLpgjwndOokjeMkye_KCqe8QMEaXxn_eVx020K83ZmN1W-k0TOxV7IsW2g3DeGy747Z_keGM2vtc68Nb9sWJTn9rHYOQ_RXdb817hckTzmkD1d__baP0hQN2Vp5HTO0AxATSow5VWycGBDLn7lr1ucq4x5QQyVX30aYLdQRSJwIIj4mYZsHnO7-Oz3Q27znvzouLFYJnTLRgqFDtbqjhvxXVObKC1CJS5DLMDgI0tVm8GG3qsvz6Z8jWre4YgoCB5YoA=s64",
      "userId": "16390917540151948122"
     },
     "user_tz": -330
    },
    "id": "IFDsrd1kz7-C",
    "outputId": "6ccf9cc7-4480-4cc6-f892-cff000be8546"
   },
   "outputs": [
    {
     "data": {
      "text/plain": [
       "KNeighborsClassifier()"
      ]
     },
     "execution_count": 5,
     "metadata": {},
     "output_type": "execute_result"
    }
   ],
   "source": [
    "from sklearn.neighbors import KNeighborsClassifier\n",
    "classifier = KNeighborsClassifier(n_neighbors = 5, metric = 'minkowski', p = 2)\n",
    "classifier.fit(X_train, y_train)"
   ]
  },
  {
   "cell_type": "markdown",
   "metadata": {
    "id": "p6I0bJj_1Fxl"
   },
   "source": [
    "## Confusion Matrix"
   ]
  },
  {
   "cell_type": "code",
   "execution_count": 6,
   "metadata": {
    "colab": {
     "base_uri": "https://localhost:8080/"
    },
    "executionInfo": {
     "elapsed": 997,
     "status": "ok",
     "timestamp": 1612421573680,
     "user": {
      "displayName": "Atulya Kaushik",
      "photoUrl": "https://lh3.googleusercontent.com/a-/AOh14GipSaCViBIh9yX-M2jTF9n4sUAYizj7HRDL_INXHDHova8XoDDISp59MW7uzH-542REMwWBir78ekLwVeDeeZTuaRALnqxajt8DSybS-GUpN23yzwYHnwrDAlxfTaBrKL4P0hAb_JDuZQwC4U1CfNA3oVoh-bFh2MKzMnxY4hI8rpHnRYn8y3QgvFYhXrGHLUwkfLkMjmd7A5-R07LypmbjUVD-OvM8N_MRD2SEDn_w9IhmNOlDy8Fg6gN_Pu2rYCsyXHy4AsaenX854Dbza02e-VGWYR_U3lUnY6YY_KjiQ5_MN-OKfRIepqCD0YCb-lqLLjtq9pZt9yt9ilhIOkGM3zrSxCLNbYXn4s6RQFlziEwIRnCgsF80qKXvg2zMi-qcEhzJk4F_Q9eplQcg0XhGKHyuiV-RmkdKTXmzmyGWIDLe80jgSAtXgJd5MOhhPCUutMIR-bcST1XEIBU7KNE8q_y7PKnyZGXVe6Hx2Kn5vQ_LH1fzUuBpyzmM9tvZ2DyLpgjwndOokjeMkye_KCqe8QMEaXxn_eVx020K83ZmN1W-k0TOxV7IsW2g3DeGy747Z_keGM2vtc68Nb9sWJTn9rHYOQ_RXdb817hckTzmkD1d__baP0hQN2Vp5HTO0AxATSow5VWycGBDLn7lr1ucq4x5QQyVX30aYLdQRSJwIIj4mYZsHnO7-Oz3Q27znvzouLFYJnTLRgqFDtbqjhvxXVObKC1CJS5DLMDgI0tVm8GG3qsvz6Z8jWre4YgoCB5YoA=s64",
      "userId": "16390917540151948122"
     },
     "user_tz": -330
    },
    "id": "mp-nYk5gz-Og",
    "outputId": "51f49ab0-8bc6-4daa-d2e1-14bd93e2f3a0"
   },
   "outputs": [
    {
     "name": "stdout",
     "output_type": "stream",
     "text": [
      "[[107   1]\n",
      " [  6  57]]\n"
     ]
    },
    {
     "name": "stderr",
     "output_type": "stream",
     "text": [
      "C:\\Users\\Harshita\\anaconda3\\lib\\site-packages\\sklearn\\neighbors\\_classification.py:228: FutureWarning: Unlike other reduction functions (e.g. `skew`, `kurtosis`), the default behavior of `mode` typically preserves the axis it acts along. In SciPy 1.11.0, this behavior will change: the default value of `keepdims` will become False, the `axis` over which the statistic is taken will be eliminated, and the value None will no longer be accepted. Set `keepdims` to True or False to avoid this warning.\n",
      "  mode, _ = stats.mode(_y[neigh_ind, k], axis=1)\n"
     ]
    },
    {
     "data": {
      "text/plain": [
       "0.9590643274853801"
      ]
     },
     "execution_count": 6,
     "metadata": {},
     "output_type": "execute_result"
    }
   ],
   "source": [
    "from sklearn.metrics import confusion_matrix, accuracy_score\n",
    "y_pred = classifier.predict(X_test)\n",
    "cm = confusion_matrix(y_test, y_pred)\n",
    "print(cm)\n",
    "accuracy_score(y_test, y_pred)"
   ]
  },
  {
   "cell_type": "code",
   "execution_count": null,
   "metadata": {},
   "outputs": [],
   "source": []
  },
  {
   "cell_type": "code",
   "execution_count": null,
   "metadata": {},
   "outputs": [],
   "source": []
  }
 ],
 "metadata": {
  "colab": {
   "authorship_tag": "ABX9TyMTPAZNEZTukOK/TXJSOzwR",
   "name": "KNN Classification Working Copy.ipynb",
   "provenance": [],
   "toc_visible": true
  },
  "kernelspec": {
   "display_name": "Python 3 (ipykernel)",
   "language": "python",
   "name": "python3"
  },
  "language_info": {
   "codemirror_mode": {
    "name": "ipython",
    "version": 3
   },
   "file_extension": ".py",
   "mimetype": "text/x-python",
   "name": "python",
   "nbconvert_exporter": "python",
   "pygments_lexer": "ipython3",
   "version": "3.9.13"
  }
 },
 "nbformat": 4,
 "nbformat_minor": 1
}
