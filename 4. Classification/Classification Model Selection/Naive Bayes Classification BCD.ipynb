{
 "cells": [
  {
   "cell_type": "markdown",
   "metadata": {
    "id": "Z-jZGC0q0aiY"
   },
   "source": [
    "# Naive Bayes  Classification"
   ]
  },
  {
   "cell_type": "markdown",
   "metadata": {
    "id": "jE4Rc_OO0eJM"
   },
   "source": [
    "## Importing libraries"
   ]
  },
  {
   "cell_type": "code",
   "execution_count": 1,
   "metadata": {
    "executionInfo": {
     "elapsed": 1060,
     "status": "ok",
     "timestamp": 1612421930241,
     "user": {
      "displayName": "Atulya Kaushik",
      "photoUrl": "https://lh3.googleusercontent.com/a-/AOh14GjJvPrGidN4FbS7inUj6HaBeZQ4VO845o7JEf6YlJ00mv-_XB4mRXdtCme2xtRaaWbcxpXUVgdWLv-d7pmc6RQw74v9P9ImoiS0pHdMDcvMoxW-aq7LhROGBBnmT8eHf3_G3tqr045gRnstZmja4427qY6O-WFB-erawKKWuL3oECj9iWWRaKyLS29dqydGNebGRO6IpV43BLakS-iWIbN7gG6hE0RldoLBQlWYi5OXOnJbR0S4bludTHklmrpfcIiUaNGtjO_B5LUl0rIrWqkakN_bm1A0mxJAAMG25LRjZ5EmpX3QkotLuoqTJ_d7BIB0rkGZ0rljlNHpAlY74CHOBWNNhpA2rOi8U9Y6mwi3CBHGK7_TpAHOdQL9vIDQnfuBcuiQKrkTLcs1UBGOv1WWPUilXqnY2069Jwlo3XXBFsteb0mWZ5cxF-vFkPEHsd7mhsOClUeC8_XDAEaFsF4xpxQ5mQ9o42DaxtXZutMEmgFCYFQFvP-cR3mZwKIiLSyM-h2BdMj5XD41k4lLiY1EaTFDHw2yXsSVrhlnyygEoTx9e8w8Ay4kIrDkP55l2ojROXt7qXQuFmPuY-Bs73T-OXAFxdLqp4DePWdLflMVHVkgdIc1CdQJz4vjOX6I2X30VCyf6JjEPwfBVxPXhaVrMCrn6LvPhcYmoWU8Ur5FM2rkYq4o983iIqU-XkwFCF11SiW-w292oj6Gc4f0dZX2R7gQU2kRaSahisu2DqFUTZf9wyMky44N6fWBLZE4MF3PQg=s64",
      "userId": "16390917540151948122"
     },
     "user_tz": -330
    },
    "id": "XmbcHlqGzGmY"
   },
   "outputs": [],
   "source": [
    "import numpy as np\n",
    "import matplotlib.pyplot as plt\n",
    "import pandas as pd"
   ]
  },
  {
   "cell_type": "markdown",
   "metadata": {
    "id": "A9-xGHd20gY1"
   },
   "source": [
    "## Importing dataset"
   ]
  },
  {
   "cell_type": "code",
   "execution_count": 3,
   "metadata": {
    "executionInfo": {
     "elapsed": 846,
     "status": "ok",
     "timestamp": 1612421931995,
     "user": {
      "displayName": "Atulya Kaushik",
      "photoUrl": "https://lh3.googleusercontent.com/a-/AOh14GjJvPrGidN4FbS7inUj6HaBeZQ4VO845o7JEf6YlJ00mv-_XB4mRXdtCme2xtRaaWbcxpXUVgdWLv-d7pmc6RQw74v9P9ImoiS0pHdMDcvMoxW-aq7LhROGBBnmT8eHf3_G3tqr045gRnstZmja4427qY6O-WFB-erawKKWuL3oECj9iWWRaKyLS29dqydGNebGRO6IpV43BLakS-iWIbN7gG6hE0RldoLBQlWYi5OXOnJbR0S4bludTHklmrpfcIiUaNGtjO_B5LUl0rIrWqkakN_bm1A0mxJAAMG25LRjZ5EmpX3QkotLuoqTJ_d7BIB0rkGZ0rljlNHpAlY74CHOBWNNhpA2rOi8U9Y6mwi3CBHGK7_TpAHOdQL9vIDQnfuBcuiQKrkTLcs1UBGOv1WWPUilXqnY2069Jwlo3XXBFsteb0mWZ5cxF-vFkPEHsd7mhsOClUeC8_XDAEaFsF4xpxQ5mQ9o42DaxtXZutMEmgFCYFQFvP-cR3mZwKIiLSyM-h2BdMj5XD41k4lLiY1EaTFDHw2yXsSVrhlnyygEoTx9e8w8Ay4kIrDkP55l2ojROXt7qXQuFmPuY-Bs73T-OXAFxdLqp4DePWdLflMVHVkgdIc1CdQJz4vjOX6I2X30VCyf6JjEPwfBVxPXhaVrMCrn6LvPhcYmoWU8Ur5FM2rkYq4o983iIqU-XkwFCF11SiW-w292oj6Gc4f0dZX2R7gQU2kRaSahisu2DqFUTZf9wyMky44N6fWBLZE4MF3PQg=s64",
      "userId": "16390917540151948122"
     },
     "user_tz": -330
    },
    "id": "hkwIDf3pzH6a"
   },
   "outputs": [],
   "source": [
    "dataset = pd.read_csv('../Breast Cancer Detection Classif.csv')\n",
    "X = dataset.iloc[:, :-1].values\n",
    "y = dataset.iloc[:, -1].values"
   ]
  },
  {
   "cell_type": "markdown",
   "metadata": {
    "id": "8REFJFGC0lRN"
   },
   "source": [
    "## Splitting the dataset into Training & Test set"
   ]
  },
  {
   "cell_type": "code",
   "execution_count": 4,
   "metadata": {
    "executionInfo": {
     "elapsed": 1689,
     "status": "ok",
     "timestamp": 1612421934874,
     "user": {
      "displayName": "Atulya Kaushik",
      "photoUrl": "https://lh3.googleusercontent.com/a-/AOh14GjJvPrGidN4FbS7inUj6HaBeZQ4VO845o7JEf6YlJ00mv-_XB4mRXdtCme2xtRaaWbcxpXUVgdWLv-d7pmc6RQw74v9P9ImoiS0pHdMDcvMoxW-aq7LhROGBBnmT8eHf3_G3tqr045gRnstZmja4427qY6O-WFB-erawKKWuL3oECj9iWWRaKyLS29dqydGNebGRO6IpV43BLakS-iWIbN7gG6hE0RldoLBQlWYi5OXOnJbR0S4bludTHklmrpfcIiUaNGtjO_B5LUl0rIrWqkakN_bm1A0mxJAAMG25LRjZ5EmpX3QkotLuoqTJ_d7BIB0rkGZ0rljlNHpAlY74CHOBWNNhpA2rOi8U9Y6mwi3CBHGK7_TpAHOdQL9vIDQnfuBcuiQKrkTLcs1UBGOv1WWPUilXqnY2069Jwlo3XXBFsteb0mWZ5cxF-vFkPEHsd7mhsOClUeC8_XDAEaFsF4xpxQ5mQ9o42DaxtXZutMEmgFCYFQFvP-cR3mZwKIiLSyM-h2BdMj5XD41k4lLiY1EaTFDHw2yXsSVrhlnyygEoTx9e8w8Ay4kIrDkP55l2ojROXt7qXQuFmPuY-Bs73T-OXAFxdLqp4DePWdLflMVHVkgdIc1CdQJz4vjOX6I2X30VCyf6JjEPwfBVxPXhaVrMCrn6LvPhcYmoWU8Ur5FM2rkYq4o983iIqU-XkwFCF11SiW-w292oj6Gc4f0dZX2R7gQU2kRaSahisu2DqFUTZf9wyMky44N6fWBLZE4MF3PQg=s64",
      "userId": "16390917540151948122"
     },
     "user_tz": -330
    },
    "id": "9a3yj_m7zJcr"
   },
   "outputs": [],
   "source": [
    "from sklearn.model_selection import train_test_split\n",
    "X_train, X_test, y_train, y_test = train_test_split(X, y, test_size = 0.3, random_state = 0)"
   ]
  },
  {
   "cell_type": "markdown",
   "metadata": {
    "id": "-Dw4Khi70u9g"
   },
   "source": [
    "## Feature Scaling"
   ]
  },
  {
   "cell_type": "code",
   "execution_count": 5,
   "metadata": {
    "executionInfo": {
     "elapsed": 745,
     "status": "ok",
     "timestamp": 1612421935475,
     "user": {
      "displayName": "Atulya Kaushik",
      "photoUrl": "https://lh3.googleusercontent.com/a-/AOh14GjJvPrGidN4FbS7inUj6HaBeZQ4VO845o7JEf6YlJ00mv-_XB4mRXdtCme2xtRaaWbcxpXUVgdWLv-d7pmc6RQw74v9P9ImoiS0pHdMDcvMoxW-aq7LhROGBBnmT8eHf3_G3tqr045gRnstZmja4427qY6O-WFB-erawKKWuL3oECj9iWWRaKyLS29dqydGNebGRO6IpV43BLakS-iWIbN7gG6hE0RldoLBQlWYi5OXOnJbR0S4bludTHklmrpfcIiUaNGtjO_B5LUl0rIrWqkakN_bm1A0mxJAAMG25LRjZ5EmpX3QkotLuoqTJ_d7BIB0rkGZ0rljlNHpAlY74CHOBWNNhpA2rOi8U9Y6mwi3CBHGK7_TpAHOdQL9vIDQnfuBcuiQKrkTLcs1UBGOv1WWPUilXqnY2069Jwlo3XXBFsteb0mWZ5cxF-vFkPEHsd7mhsOClUeC8_XDAEaFsF4xpxQ5mQ9o42DaxtXZutMEmgFCYFQFvP-cR3mZwKIiLSyM-h2BdMj5XD41k4lLiY1EaTFDHw2yXsSVrhlnyygEoTx9e8w8Ay4kIrDkP55l2ojROXt7qXQuFmPuY-Bs73T-OXAFxdLqp4DePWdLflMVHVkgdIc1CdQJz4vjOX6I2X30VCyf6JjEPwfBVxPXhaVrMCrn6LvPhcYmoWU8Ur5FM2rkYq4o983iIqU-XkwFCF11SiW-w292oj6Gc4f0dZX2R7gQU2kRaSahisu2DqFUTZf9wyMky44N6fWBLZE4MF3PQg=s64",
      "userId": "16390917540151948122"
     },
     "user_tz": -330
    },
    "id": "e92JJYRVzN1r"
   },
   "outputs": [],
   "source": [
    "from sklearn.preprocessing import StandardScaler\n",
    "sc = StandardScaler()\n",
    "X_train = sc.fit_transform(X_train)\n",
    "X_test = sc.transform(X_test)"
   ]
  },
  {
   "cell_type": "markdown",
   "metadata": {
    "id": "2QUFYaoH00H6"
   },
   "source": [
    "## Naive Bayes Training on Training set"
   ]
  },
  {
   "cell_type": "code",
   "execution_count": 6,
   "metadata": {
    "colab": {
     "base_uri": "https://localhost:8080/"
    },
    "executionInfo": {
     "elapsed": 1086,
     "status": "ok",
     "timestamp": 1612421939149,
     "user": {
      "displayName": "Atulya Kaushik",
      "photoUrl": "https://lh3.googleusercontent.com/a-/AOh14GjJvPrGidN4FbS7inUj6HaBeZQ4VO845o7JEf6YlJ00mv-_XB4mRXdtCme2xtRaaWbcxpXUVgdWLv-d7pmc6RQw74v9P9ImoiS0pHdMDcvMoxW-aq7LhROGBBnmT8eHf3_G3tqr045gRnstZmja4427qY6O-WFB-erawKKWuL3oECj9iWWRaKyLS29dqydGNebGRO6IpV43BLakS-iWIbN7gG6hE0RldoLBQlWYi5OXOnJbR0S4bludTHklmrpfcIiUaNGtjO_B5LUl0rIrWqkakN_bm1A0mxJAAMG25LRjZ5EmpX3QkotLuoqTJ_d7BIB0rkGZ0rljlNHpAlY74CHOBWNNhpA2rOi8U9Y6mwi3CBHGK7_TpAHOdQL9vIDQnfuBcuiQKrkTLcs1UBGOv1WWPUilXqnY2069Jwlo3XXBFsteb0mWZ5cxF-vFkPEHsd7mhsOClUeC8_XDAEaFsF4xpxQ5mQ9o42DaxtXZutMEmgFCYFQFvP-cR3mZwKIiLSyM-h2BdMj5XD41k4lLiY1EaTFDHw2yXsSVrhlnyygEoTx9e8w8Ay4kIrDkP55l2ojROXt7qXQuFmPuY-Bs73T-OXAFxdLqp4DePWdLflMVHVkgdIc1CdQJz4vjOX6I2X30VCyf6JjEPwfBVxPXhaVrMCrn6LvPhcYmoWU8Ur5FM2rkYq4o983iIqU-XkwFCF11SiW-w292oj6Gc4f0dZX2R7gQU2kRaSahisu2DqFUTZf9wyMky44N6fWBLZE4MF3PQg=s64",
      "userId": "16390917540151948122"
     },
     "user_tz": -330
    },
    "id": "nEg3b_8R1c5K",
    "outputId": "7aa40f50-56a8-4c2e-be1e-700f2064b8bc"
   },
   "outputs": [
    {
     "data": {
      "text/plain": [
       "GaussianNB()"
      ]
     },
     "execution_count": 6,
     "metadata": {},
     "output_type": "execute_result"
    }
   ],
   "source": [
    "from sklearn.naive_bayes import GaussianNB\n",
    "classifier = GaussianNB()\n",
    "classifier.fit(X_train, y_train)"
   ]
  },
  {
   "cell_type": "markdown",
   "metadata": {
    "id": "p6I0bJj_1Fxl"
   },
   "source": [
    "## Confusion Matrix"
   ]
  },
  {
   "cell_type": "code",
   "execution_count": 6,
   "metadata": {
    "colab": {
     "base_uri": "https://localhost:8080/"
    },
    "executionInfo": {
     "elapsed": 1405,
     "status": "ok",
     "timestamp": 1612421941614,
     "user": {
      "displayName": "Atulya Kaushik",
      "photoUrl": "https://lh3.googleusercontent.com/a-/AOh14GjJvPrGidN4FbS7inUj6HaBeZQ4VO845o7JEf6YlJ00mv-_XB4mRXdtCme2xtRaaWbcxpXUVgdWLv-d7pmc6RQw74v9P9ImoiS0pHdMDcvMoxW-aq7LhROGBBnmT8eHf3_G3tqr045gRnstZmja4427qY6O-WFB-erawKKWuL3oECj9iWWRaKyLS29dqydGNebGRO6IpV43BLakS-iWIbN7gG6hE0RldoLBQlWYi5OXOnJbR0S4bludTHklmrpfcIiUaNGtjO_B5LUl0rIrWqkakN_bm1A0mxJAAMG25LRjZ5EmpX3QkotLuoqTJ_d7BIB0rkGZ0rljlNHpAlY74CHOBWNNhpA2rOi8U9Y6mwi3CBHGK7_TpAHOdQL9vIDQnfuBcuiQKrkTLcs1UBGOv1WWPUilXqnY2069Jwlo3XXBFsteb0mWZ5cxF-vFkPEHsd7mhsOClUeC8_XDAEaFsF4xpxQ5mQ9o42DaxtXZutMEmgFCYFQFvP-cR3mZwKIiLSyM-h2BdMj5XD41k4lLiY1EaTFDHw2yXsSVrhlnyygEoTx9e8w8Ay4kIrDkP55l2ojROXt7qXQuFmPuY-Bs73T-OXAFxdLqp4DePWdLflMVHVkgdIc1CdQJz4vjOX6I2X30VCyf6JjEPwfBVxPXhaVrMCrn6LvPhcYmoWU8Ur5FM2rkYq4o983iIqU-XkwFCF11SiW-w292oj6Gc4f0dZX2R7gQU2kRaSahisu2DqFUTZf9wyMky44N6fWBLZE4MF3PQg=s64",
      "userId": "16390917540151948122"
     },
     "user_tz": -330
    },
    "id": "7brE2rdl1Y0z",
    "outputId": "aedc34fd-0b06-4330-9a24-e933922fd41f"
   },
   "outputs": [
    {
     "name": "stdout",
     "output_type": "stream",
     "text": [
      "[[99  9]\n",
      " [ 6 57]]\n"
     ]
    },
    {
     "data": {
      "text/plain": [
       "0.9122807017543859"
      ]
     },
     "execution_count": 6,
     "metadata": {
      "tags": []
     },
     "output_type": "execute_result"
    }
   ],
   "source": [
    "from sklearn.metrics import confusion_matrix, accuracy_score\n",
    "y_pred = classifier.predict(X_test)\n",
    "cm = confusion_matrix(y_test, y_pred)\n",
    "print(cm)\n",
    "accuracy_score(y_test, y_pred)"
   ]
  }
 ],
 "metadata": {
  "colab": {
   "authorship_tag": "ABX9TyNYkFOSh8eAGFIa3oJmRs7A",
   "name": "Naive Bayes Classification Working Copy.ipynb",
   "provenance": [],
   "toc_visible": true
  },
  "kernelspec": {
   "display_name": "Python 3 (ipykernel)",
   "language": "python",
   "name": "python3"
  },
  "language_info": {
   "codemirror_mode": {
    "name": "ipython",
    "version": 3
   },
   "file_extension": ".py",
   "mimetype": "text/x-python",
   "name": "python",
   "nbconvert_exporter": "python",
   "pygments_lexer": "ipython3",
   "version": "3.9.13"
  }
 },
 "nbformat": 4,
 "nbformat_minor": 1
}
