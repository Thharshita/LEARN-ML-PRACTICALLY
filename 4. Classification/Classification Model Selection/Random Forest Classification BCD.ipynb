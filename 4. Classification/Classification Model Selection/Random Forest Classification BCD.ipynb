{
 "cells": [
  {
   "cell_type": "markdown",
   "metadata": {
    "id": "Z-jZGC0q0aiY"
   },
   "source": [
    "# Random Forest Classification"
   ]
  },
  {
   "cell_type": "markdown",
   "metadata": {
    "id": "jE4Rc_OO0eJM"
   },
   "source": [
    "## Importing libraries"
   ]
  },
  {
   "cell_type": "code",
   "execution_count": 1,
   "metadata": {
    "executionInfo": {
     "elapsed": 1048,
     "status": "ok",
     "timestamp": 1612422142450,
     "user": {
      "displayName": "Atulya Kaushik",
      "photoUrl": "https://lh3.googleusercontent.com/a-/AOh14GjJt_mlRF97SkHVECMXgQoQGMF2ACoWmEYQGaWbKFKIGhJha_TVnRSi50V7L13yud1gvJTW9Wg5PnxZWT7llQY3-HHsu-oMmLDzRFatWlRm6CojmTJMGZC5BdrdicEo0iLDEPXxBbOw8hu4zsx0bKGKrUQDyXxAHQ2KeJFopd4SdCKFKtNIpozqvXnHVFzC8cKeUfdL41JcwKsS4sBc14jZ5ENCsLkzUFO1dYVCo4qemLNjdbV7wkzavMw7NDk3_fx8fZaPoB2Nq6ScoUQCk1ud1o8cprrK1JlEs4mHE_zgZkGWahk0rCa6iZGkV7W4fNGTdjDVMXPf10VmQ7_axUKQgYhffaLhnEaNQitomHnrhqdlCvJnSAbRY2OThhfBAzaa2eZyDDOiEfR-JOZf9Bl9vU7xQdq9tTCGciZMkOB6Ly4-gcjSFP6QNJh4qq1-v_ADvZWmVx2fDAbYd3VZ-N8CpAJ_cUqy5aSyOJ026Fc_66WwAoLCxkel4cT-8CfkwogzwO5up2j9anjNSRjHM3jW5g157vom5w104xEhJMd1SWbrIBAjRfV58CLCt8ULkcJUXYlGK1U3-Y6dId_PnXprOANtIhiqYvTOp6ouMyXj6P41m3QnU-mHu4yxrkA34BXXZRcn8aHGlDnZ9vfTikKIS_snTM76oRWWY3hLDiYvSe8RcWcKz4SwvhwtoJfL3-sfL0F5truklQ7ero6cnkhx_JJUbra7WdXZ1jgHForg9NbqkjQUtfbzBPTNbznBWymE9A=s64",
      "userId": "16390917540151948122"
     },
     "user_tz": -330
    },
    "id": "XmbcHlqGzGmY"
   },
   "outputs": [],
   "source": [
    "import numpy as np\n",
    "import matplotlib.pyplot as plt\n",
    "import pandas as pd"
   ]
  },
  {
   "cell_type": "markdown",
   "metadata": {
    "id": "A9-xGHd20gY1"
   },
   "source": [
    "## Importing dataset"
   ]
  },
  {
   "cell_type": "code",
   "execution_count": 2,
   "metadata": {
    "executionInfo": {
     "elapsed": 1497,
     "status": "ok",
     "timestamp": 1612422168201,
     "user": {
      "displayName": "Atulya Kaushik",
      "photoUrl": "https://lh3.googleusercontent.com/a-/AOh14GjJt_mlRF97SkHVECMXgQoQGMF2ACoWmEYQGaWbKFKIGhJha_TVnRSi50V7L13yud1gvJTW9Wg5PnxZWT7llQY3-HHsu-oMmLDzRFatWlRm6CojmTJMGZC5BdrdicEo0iLDEPXxBbOw8hu4zsx0bKGKrUQDyXxAHQ2KeJFopd4SdCKFKtNIpozqvXnHVFzC8cKeUfdL41JcwKsS4sBc14jZ5ENCsLkzUFO1dYVCo4qemLNjdbV7wkzavMw7NDk3_fx8fZaPoB2Nq6ScoUQCk1ud1o8cprrK1JlEs4mHE_zgZkGWahk0rCa6iZGkV7W4fNGTdjDVMXPf10VmQ7_axUKQgYhffaLhnEaNQitomHnrhqdlCvJnSAbRY2OThhfBAzaa2eZyDDOiEfR-JOZf9Bl9vU7xQdq9tTCGciZMkOB6Ly4-gcjSFP6QNJh4qq1-v_ADvZWmVx2fDAbYd3VZ-N8CpAJ_cUqy5aSyOJ026Fc_66WwAoLCxkel4cT-8CfkwogzwO5up2j9anjNSRjHM3jW5g157vom5w104xEhJMd1SWbrIBAjRfV58CLCt8ULkcJUXYlGK1U3-Y6dId_PnXprOANtIhiqYvTOp6ouMyXj6P41m3QnU-mHu4yxrkA34BXXZRcn8aHGlDnZ9vfTikKIS_snTM76oRWWY3hLDiYvSe8RcWcKz4SwvhwtoJfL3-sfL0F5truklQ7ero6cnkhx_JJUbra7WdXZ1jgHForg9NbqkjQUtfbzBPTNbznBWymE9A=s64",
      "userId": "16390917540151948122"
     },
     "user_tz": -330
    },
    "id": "hkwIDf3pzH6a"
   },
   "outputs": [],
   "source": [
    "dataset = pd.read_csv('../Breast Cancer Detection Classif.csv')\n",
    "X = dataset.iloc[:, :-1].values\n",
    "y = dataset.iloc[:, -1].values"
   ]
  },
  {
   "cell_type": "markdown",
   "metadata": {
    "id": "8REFJFGC0lRN"
   },
   "source": [
    "## Splitting the dataset into Training & Test set"
   ]
  },
  {
   "cell_type": "code",
   "execution_count": 3,
   "metadata": {
    "executionInfo": {
     "elapsed": 1116,
     "status": "ok",
     "timestamp": 1612422614803,
     "user": {
      "displayName": "Atulya Kaushik",
      "photoUrl": "https://lh3.googleusercontent.com/a-/AOh14GjJt_mlRF97SkHVECMXgQoQGMF2ACoWmEYQGaWbKFKIGhJha_TVnRSi50V7L13yud1gvJTW9Wg5PnxZWT7llQY3-HHsu-oMmLDzRFatWlRm6CojmTJMGZC5BdrdicEo0iLDEPXxBbOw8hu4zsx0bKGKrUQDyXxAHQ2KeJFopd4SdCKFKtNIpozqvXnHVFzC8cKeUfdL41JcwKsS4sBc14jZ5ENCsLkzUFO1dYVCo4qemLNjdbV7wkzavMw7NDk3_fx8fZaPoB2Nq6ScoUQCk1ud1o8cprrK1JlEs4mHE_zgZkGWahk0rCa6iZGkV7W4fNGTdjDVMXPf10VmQ7_axUKQgYhffaLhnEaNQitomHnrhqdlCvJnSAbRY2OThhfBAzaa2eZyDDOiEfR-JOZf9Bl9vU7xQdq9tTCGciZMkOB6Ly4-gcjSFP6QNJh4qq1-v_ADvZWmVx2fDAbYd3VZ-N8CpAJ_cUqy5aSyOJ026Fc_66WwAoLCxkel4cT-8CfkwogzwO5up2j9anjNSRjHM3jW5g157vom5w104xEhJMd1SWbrIBAjRfV58CLCt8ULkcJUXYlGK1U3-Y6dId_PnXprOANtIhiqYvTOp6ouMyXj6P41m3QnU-mHu4yxrkA34BXXZRcn8aHGlDnZ9vfTikKIS_snTM76oRWWY3hLDiYvSe8RcWcKz4SwvhwtoJfL3-sfL0F5truklQ7ero6cnkhx_JJUbra7WdXZ1jgHForg9NbqkjQUtfbzBPTNbznBWymE9A=s64",
      "userId": "16390917540151948122"
     },
     "user_tz": -330
    },
    "id": "9a3yj_m7zJcr"
   },
   "outputs": [],
   "source": [
    "from sklearn.model_selection import train_test_split\n",
    "X_train, X_test, y_train, y_test = train_test_split(X, y, test_size = 0.3, random_state = 21)"
   ]
  },
  {
   "cell_type": "markdown",
   "metadata": {
    "id": "-Dw4Khi70u9g"
   },
   "source": [
    "## Feature Scaling"
   ]
  },
  {
   "cell_type": "code",
   "execution_count": 4,
   "metadata": {
    "executionInfo": {
     "elapsed": 1108,
     "status": "ok",
     "timestamp": 1612422616578,
     "user": {
      "displayName": "Atulya Kaushik",
      "photoUrl": "https://lh3.googleusercontent.com/a-/AOh14GjJt_mlRF97SkHVECMXgQoQGMF2ACoWmEYQGaWbKFKIGhJha_TVnRSi50V7L13yud1gvJTW9Wg5PnxZWT7llQY3-HHsu-oMmLDzRFatWlRm6CojmTJMGZC5BdrdicEo0iLDEPXxBbOw8hu4zsx0bKGKrUQDyXxAHQ2KeJFopd4SdCKFKtNIpozqvXnHVFzC8cKeUfdL41JcwKsS4sBc14jZ5ENCsLkzUFO1dYVCo4qemLNjdbV7wkzavMw7NDk3_fx8fZaPoB2Nq6ScoUQCk1ud1o8cprrK1JlEs4mHE_zgZkGWahk0rCa6iZGkV7W4fNGTdjDVMXPf10VmQ7_axUKQgYhffaLhnEaNQitomHnrhqdlCvJnSAbRY2OThhfBAzaa2eZyDDOiEfR-JOZf9Bl9vU7xQdq9tTCGciZMkOB6Ly4-gcjSFP6QNJh4qq1-v_ADvZWmVx2fDAbYd3VZ-N8CpAJ_cUqy5aSyOJ026Fc_66WwAoLCxkel4cT-8CfkwogzwO5up2j9anjNSRjHM3jW5g157vom5w104xEhJMd1SWbrIBAjRfV58CLCt8ULkcJUXYlGK1U3-Y6dId_PnXprOANtIhiqYvTOp6ouMyXj6P41m3QnU-mHu4yxrkA34BXXZRcn8aHGlDnZ9vfTikKIS_snTM76oRWWY3hLDiYvSe8RcWcKz4SwvhwtoJfL3-sfL0F5truklQ7ero6cnkhx_JJUbra7WdXZ1jgHForg9NbqkjQUtfbzBPTNbznBWymE9A=s64",
      "userId": "16390917540151948122"
     },
     "user_tz": -330
    },
    "id": "e92JJYRVzN1r"
   },
   "outputs": [],
   "source": [
    "from sklearn.preprocessing import StandardScaler\n",
    "sc = StandardScaler()\n",
    "X_train = sc.fit_transform(X_train)\n",
    "X_test = sc.transform(X_test)"
   ]
  },
  {
   "cell_type": "markdown",
   "metadata": {
    "id": "2QUFYaoH00H6"
   },
   "source": [
    "## Random Forest Training on Training set"
   ]
  },
  {
   "cell_type": "code",
   "execution_count": 5,
   "metadata": {
    "colab": {
     "base_uri": "https://localhost:8080/"
    },
    "executionInfo": {
     "elapsed": 1333,
     "status": "ok",
     "timestamp": 1612422618733,
     "user": {
      "displayName": "Atulya Kaushik",
      "photoUrl": "https://lh3.googleusercontent.com/a-/AOh14GjJt_mlRF97SkHVECMXgQoQGMF2ACoWmEYQGaWbKFKIGhJha_TVnRSi50V7L13yud1gvJTW9Wg5PnxZWT7llQY3-HHsu-oMmLDzRFatWlRm6CojmTJMGZC5BdrdicEo0iLDEPXxBbOw8hu4zsx0bKGKrUQDyXxAHQ2KeJFopd4SdCKFKtNIpozqvXnHVFzC8cKeUfdL41JcwKsS4sBc14jZ5ENCsLkzUFO1dYVCo4qemLNjdbV7wkzavMw7NDk3_fx8fZaPoB2Nq6ScoUQCk1ud1o8cprrK1JlEs4mHE_zgZkGWahk0rCa6iZGkV7W4fNGTdjDVMXPf10VmQ7_axUKQgYhffaLhnEaNQitomHnrhqdlCvJnSAbRY2OThhfBAzaa2eZyDDOiEfR-JOZf9Bl9vU7xQdq9tTCGciZMkOB6Ly4-gcjSFP6QNJh4qq1-v_ADvZWmVx2fDAbYd3VZ-N8CpAJ_cUqy5aSyOJ026Fc_66WwAoLCxkel4cT-8CfkwogzwO5up2j9anjNSRjHM3jW5g157vom5w104xEhJMd1SWbrIBAjRfV58CLCt8ULkcJUXYlGK1U3-Y6dId_PnXprOANtIhiqYvTOp6ouMyXj6P41m3QnU-mHu4yxrkA34BXXZRcn8aHGlDnZ9vfTikKIS_snTM76oRWWY3hLDiYvSe8RcWcKz4SwvhwtoJfL3-sfL0F5truklQ7ero6cnkhx_JJUbra7WdXZ1jgHForg9NbqkjQUtfbzBPTNbznBWymE9A=s64",
      "userId": "16390917540151948122"
     },
     "user_tz": -330
    },
    "id": "E7QgV8ZB2NFI",
    "outputId": "ffddc6dc-be47-4f60-ec08-d3611295595d"
   },
   "outputs": [
    {
     "data": {
      "text/plain": [
       "RandomForestClassifier(criterion='entropy', n_estimators=10, random_state=0)"
      ]
     },
     "execution_count": 5,
     "metadata": {},
     "output_type": "execute_result"
    }
   ],
   "source": [
    "from sklearn.ensemble import RandomForestClassifier\n",
    "classifier = RandomForestClassifier(n_estimators = 10, criterion = 'entropy', random_state = 0)\n",
    "classifier.fit(X_train, y_train)"
   ]
  },
  {
   "cell_type": "markdown",
   "metadata": {
    "id": "p6I0bJj_1Fxl"
   },
   "source": [
    "## Confusion Matrix"
   ]
  },
  {
   "cell_type": "code",
   "execution_count": 6,
   "metadata": {
    "colab": {
     "base_uri": "https://localhost:8080/"
    },
    "executionInfo": {
     "elapsed": 736,
     "status": "ok",
     "timestamp": 1612422620235,
     "user": {
      "displayName": "Atulya Kaushik",
      "photoUrl": "https://lh3.googleusercontent.com/a-/AOh14GjJt_mlRF97SkHVECMXgQoQGMF2ACoWmEYQGaWbKFKIGhJha_TVnRSi50V7L13yud1gvJTW9Wg5PnxZWT7llQY3-HHsu-oMmLDzRFatWlRm6CojmTJMGZC5BdrdicEo0iLDEPXxBbOw8hu4zsx0bKGKrUQDyXxAHQ2KeJFopd4SdCKFKtNIpozqvXnHVFzC8cKeUfdL41JcwKsS4sBc14jZ5ENCsLkzUFO1dYVCo4qemLNjdbV7wkzavMw7NDk3_fx8fZaPoB2Nq6ScoUQCk1ud1o8cprrK1JlEs4mHE_zgZkGWahk0rCa6iZGkV7W4fNGTdjDVMXPf10VmQ7_axUKQgYhffaLhnEaNQitomHnrhqdlCvJnSAbRY2OThhfBAzaa2eZyDDOiEfR-JOZf9Bl9vU7xQdq9tTCGciZMkOB6Ly4-gcjSFP6QNJh4qq1-v_ADvZWmVx2fDAbYd3VZ-N8CpAJ_cUqy5aSyOJ026Fc_66WwAoLCxkel4cT-8CfkwogzwO5up2j9anjNSRjHM3jW5g157vom5w104xEhJMd1SWbrIBAjRfV58CLCt8ULkcJUXYlGK1U3-Y6dId_PnXprOANtIhiqYvTOp6ouMyXj6P41m3QnU-mHu4yxrkA34BXXZRcn8aHGlDnZ9vfTikKIS_snTM76oRWWY3hLDiYvSe8RcWcKz4SwvhwtoJfL3-sfL0F5truklQ7ero6cnkhx_JJUbra7WdXZ1jgHForg9NbqkjQUtfbzBPTNbznBWymE9A=s64",
      "userId": "16390917540151948122"
     },
     "user_tz": -330
    },
    "id": "iP1BVrNC2Pdu",
    "outputId": "2b34f072-fd18-4dcc-e7ff-99f5a90a2ac3"
   },
   "outputs": [
    {
     "name": "stdout",
     "output_type": "stream",
     "text": [
      "[[104   3]\n",
      " [  7  57]]\n"
     ]
    },
    {
     "data": {
      "text/plain": [
       "0.9415204678362573"
      ]
     },
     "execution_count": 6,
     "metadata": {},
     "output_type": "execute_result"
    }
   ],
   "source": [
    "from sklearn.metrics import confusion_matrix, accuracy_score\n",
    "y_pred = classifier.predict(X_test)\n",
    "cm = confusion_matrix(y_test, y_pred)\n",
    "print(cm)\n",
    "accuracy_score(y_test, y_pred)"
   ]
  },
  {
   "cell_type": "code",
   "execution_count": null,
   "metadata": {},
   "outputs": [],
   "source": []
  }
 ],
 "metadata": {
  "colab": {
   "authorship_tag": "ABX9TyPB0TsfqF5s6/KpXrnCyzYJ",
   "name": "Random Forest Classification Working Copy.ipynb",
   "provenance": [],
   "toc_visible": true
  },
  "kernelspec": {
   "display_name": "Python 3 (ipykernel)",
   "language": "python",
   "name": "python3"
  },
  "language_info": {
   "codemirror_mode": {
    "name": "ipython",
    "version": 3
   },
   "file_extension": ".py",
   "mimetype": "text/x-python",
   "name": "python",
   "nbconvert_exporter": "python",
   "pygments_lexer": "ipython3",
   "version": "3.9.13"
  }
 },
 "nbformat": 4,
 "nbformat_minor": 1
}
