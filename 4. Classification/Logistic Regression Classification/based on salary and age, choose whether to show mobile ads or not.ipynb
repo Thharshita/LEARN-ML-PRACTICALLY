{
 "cells": [
  {
   "cell_type": "markdown",
   "metadata": {
    "id": "Z-jZGC0q0aiY"
   },
   "source": [
    "# Logistic Regression"
   ]
  },
  {
   "cell_type": "markdown",
   "metadata": {
    "id": "jE4Rc_OO0eJM"
   },
   "source": [
    "## Importing libraries"
   ]
  },
  {
   "cell_type": "code",
   "execution_count": 16,
   "metadata": {
    "executionInfo": {
     "elapsed": 9,
     "status": "ok",
     "timestamp": 1685845895672,
     "user": {
      "displayName": "IOT_12_ HARSHITA MEHTA",
      "userId": "09302312610709077779"
     },
     "user_tz": -330
    },
    "id": "MYqQ1SvW5H8S"
   },
   "outputs": [],
   "source": [
    "import numpy as np\n",
    "import matplotlib.pyplot as plt\n",
    "import pandas as pd"
   ]
  },
  {
   "cell_type": "markdown",
   "metadata": {
    "id": "A9-xGHd20gY1"
   },
   "source": [
    "## Importing dataset"
   ]
  },
  {
   "cell_type": "code",
   "execution_count": 17,
   "metadata": {
    "id": "BrJ7tHx35byF"
   },
   "outputs": [
    {
     "name": "stdout",
     "output_type": "stream",
     "text": [
      "     Age  Mobile Phone  Purchased\n",
      "0     15          6334          0\n",
      "1     28          6667          0\n",
      "2     20         14334          0\n",
      "3     21         19000          0\n",
      "4     15         25334          0\n",
      "..   ...           ...        ...\n",
      "194   28         26334          0\n",
      "195   34         43000          1\n",
      "196   42         11334          1\n",
      "197   37         16667          1\n",
      "198   33         26334          0\n",
      "\n",
      "[199 rows x 3 columns]\n"
     ]
    }
   ],
   "source": [
    "dataset = pd.read_csv('../Instagram Ads Logistic Regressi.csv')\n",
    "print(dataset)\n",
    "X = dataset.iloc[:, :-1].values\n",
    "y = dataset.iloc[:, -1].values"
   ]
  },
  {
   "cell_type": "code",
   "execution_count": null,
   "metadata": {},
   "outputs": [],
   "source": []
  },
  {
   "cell_type": "code",
   "execution_count": 18,
   "metadata": {
    "colab": {
     "base_uri": "https://localhost:8080/"
    },
    "executionInfo": {
     "elapsed": 808,
     "status": "ok",
     "timestamp": 1611920054964,
     "user": {
      "displayName": "Atulya Kaushik",
      "photoUrl": "https://lh3.googleusercontent.com/a-/AOh14GgJkgy4Bbyh6arJa9CTRxz_VW016iaBII_pm7woImQLGsFVhFb88slIrgpJtXqRrw6TkLosF9dmZkipTOappiUuEZfqBbADXDON4yRObQtr7MT6aP_VbVd_pun7X1-Kipezf2z4Vuzl6eFdyx9-UPts8n7nPTB2kzh6w8nDzGg0oHS84ZfVOskEZUXjAbx2dcVhwqEZ3_ofpn-lM7QlZaYn5fP0q-bqfXxWmfgA3niEWNj3gwrzSLyTLKIMhpSkSJD_zenplz12DgqathMhR5iD2hX-6KVusqHvKvYRKaWF7qvsIDFZgc1vCyaAgCbhnORw5--xLCDRp7D1V2_QimRQILaTCd9yuT7hPA4QfEZ0L3E3WI6Kc8_HQrf0MjLccL3UO1KBXeKFMMg8HSvQ4Ln-rw94wsh9hcNHaQNsQKvq_55DLGeHD-6AwgU3-bXllT-ZHeLiiIIwy2_Cn0QRmMB8CfhYAv1wHMDTu4hKFvsAmuK2Bku0Gbsspcyeqh2J772soaZspv6PJivRNYqDTbNaipc2CFNLu7r4_PL4trqGuiQtOa-U_gMXkd4u7B3it1tqyaYWHj8BI7sBpz_eiaU0YRXiHRg2fkrDEYw_ACWBH2kUujgSq1vdBUMKrAS5Re0xTK0KxYUqsrmypwIh7qYZXdzH1zzpIbc86oAtk_SxmVm23oE_NUAFE5p0z2DuSAn8cId2qv3l8jaEfgQRoGknMpQqKD22xwITAW5XhXb744vPQcvgtP5zdDhuLh7Npz-UUQ=s64",
      "userId": "16390917540151948122"
     },
     "user_tz": -330
    },
    "id": "1pO0dweO7AJc",
    "outputId": "bd6ad777-d9ad-4fd3-c2a2-693c7c99f5e9"
   },
   "outputs": [
    {
     "name": "stdout",
     "output_type": "stream",
     "text": [
      "[[   15  6334]\n",
      " [   28  6667]\n",
      " [   20 14334]\n",
      " [   21 19000]\n",
      " [   15 25334]\n",
      " [   21 19334]\n",
      " [   21 28000]\n",
      " [   25 50000]\n",
      " [   20 11000]\n",
      " [   28 21667]\n",
      " [   20 26667]\n",
      " [   26 17000]\n",
      " [   28 36000]\n",
      " [   18  6667]\n",
      " [   20 26334]\n",
      " [   21 18000]\n",
      " [   24 45000]\n",
      " [   24 29667]\n",
      " [   19 10667]\n",
      " [   14 14667]\n",
      " [   23 27667]\n",
      " [   28  7667]\n",
      " [   21 19334]\n",
      " [   19 18334]\n",
      " [   18 16000]\n",
      " [   22 26334]\n",
      " [   17  6000]\n",
      " [   25 39000]\n",
      " [   21  6667]\n",
      " [   20 29000]\n",
      " [   18 22000]\n",
      " [   25 40000]\n",
      " [   17 21000]\n",
      " [   24 22667]\n",
      " [   20 26667]\n",
      " [   19  9000]\n",
      " [   16  7667]\n",
      " [   26 37667]\n",
      " [   25  6000]\n",
      " [   27 37334]\n",
      " [   24 38667]\n",
      " [   20  5000]\n",
      " [   23  9334]\n",
      " [   23 27667]\n",
      " [   26 49667]\n",
      " [   15  7000]\n",
      " [   16 24000]\n",
      " [   20 11667]\n",
      " [   21 29667]\n",
      " [   20 28667]\n",
      " [   30 26667]\n",
      " [   31 23667]\n",
      " [   29 23667]\n",
      " [   20 30000]\n",
      " [   29 11000]\n",
      " [   17 18334]\n",
      " [   28 23667]\n",
      " [   23 49334]\n",
      " [   23 15667]\n",
      " [   16 29334]\n",
      " [   27 38334]\n",
      " [   20 39334]\n",
      " [   27 14334]\n",
      " [   27 24000]\n",
      " [   18  9334]\n",
      " [   28 15667]\n",
      " [   20  7334]\n",
      " [   19  7667]\n",
      " [   16 27334]\n",
      " [   26 13667]\n",
      " [   22 10667]\n",
      " [   19 28000]\n",
      " [   15  8667]\n",
      " [   23 14334]\n",
      " [   15 23334]\n",
      " [   22 29667]\n",
      " [   27 14334]\n",
      " [   24 26334]\n",
      " [   16 12000]\n",
      " [   20 26667]\n",
      " [   28  7334]\n",
      " [   28 13000]\n",
      " [   39 24667]\n",
      " [   31 44667]\n",
      " [   32 23667]\n",
      " [   46 33667]\n",
      " [   37 15667]\n",
      " [   44 43334]\n",
      " [   41 38000]\n",
      " [   32 47334]\n",
      " [   36  7334]\n",
      " [   38 32000]\n",
      " [   41 50000]\n",
      " [   28 19334]\n",
      " [   37 14334]\n",
      " [   48 36000]\n",
      " [   39 21667]\n",
      " [   32 26000]\n",
      " [   36 32000]\n",
      " [   47 47667]\n",
      " [   32 26667]\n",
      " [   28 30334]\n",
      " [   29 48000]\n",
      " [   48 34000]\n",
      " [   28 20000]\n",
      " [   29 17667]\n",
      " [   28 42000]\n",
      " [   44 44334]\n",
      " [   32 24000]\n",
      " [   33 26667]\n",
      " [   28 49000]\n",
      " [   31 14000]\n",
      " [   39 28667]\n",
      " [   36 26334]\n",
      " [   29 26667]\n",
      " [   36 27334]\n",
      " [   42 47667]\n",
      " [   33 49667]\n",
      " [   30 19667]\n",
      " [   40 29334]\n",
      " [   44 34667]\n",
      " [   32 24000]\n",
      " [   28 16667]\n",
      " [   45 40667]\n",
      " [   32 17334]\n",
      " [   28 32334]\n",
      " [   35 13000]\n",
      " [   29 17334]\n",
      " [   38 44667]\n",
      " [   29 48667]\n",
      " [   41 30000]\n",
      " [   32 24000]\n",
      " [   32 19000]\n",
      " [   46 31667]\n",
      " [   36 43667]\n",
      " [   28 48000]\n",
      " [   28 24000]\n",
      " [   38 30000]\n",
      " [   33 36000]\n",
      " [   32 25000]\n",
      " [   37 48000]\n",
      " [   32 20334]\n",
      " [   34 44334]\n",
      " [   47 25334]\n",
      " [   48 14000]\n",
      " [   31 35334]\n",
      " [   45  8667]\n",
      " [   45 24667]\n",
      " [   30 23667]\n",
      " [   39 29334]\n",
      " [   41 12667]\n",
      " [   40 12000]\n",
      " [   47 29334]\n",
      " [   28 20334]\n",
      " [   29 23334]\n",
      " [   41  7000]\n",
      " [   38 47000]\n",
      " [   29 31000]\n",
      " [   29 20667]\n",
      " [   38 46000]\n",
      " [   32 26334]\n",
      " [   29 26000]\n",
      " [   31 44667]\n",
      " [   39 29667]\n",
      " [   44 13000]\n",
      " [   29 25667]\n",
      " [   28 21000]\n",
      " [   33 24334]\n",
      " [   36 39000]\n",
      " [   38 24667]\n",
      " [   29 26334]\n",
      " [   32 20000]\n",
      " [   37 37667]\n",
      " [   30 16667]\n",
      " [   39 47000]\n",
      " [   31 26334]\n",
      " [   31 25000]\n",
      " [   43 34667]\n",
      " [   28 18334]\n",
      " [   36 10667]\n",
      " [   28 20000]\n",
      " [   41 46000]\n",
      " [   42 27334]\n",
      " [   32 17334]\n",
      " [   38 10000]\n",
      " [   38 43667]\n",
      " [   32 24000]\n",
      " [   37 35667]\n",
      " [   30 17000]\n",
      " [   38 39667]\n",
      " [   33 21667]\n",
      " [   32 21667]\n",
      " [   45 20000]\n",
      " [   28 18000]\n",
      " [   28 26334]\n",
      " [   34 43000]\n",
      " [   42 11334]\n",
      " [   37 16667]\n",
      " [   33 26334]]\n"
     ]
    }
   ],
   "source": [
    "print(X)"
   ]
  },
  {
   "cell_type": "code",
   "execution_count": 19,
   "metadata": {
    "colab": {
     "base_uri": "https://localhost:8080/"
    },
    "executionInfo": {
     "elapsed": 1066,
     "status": "ok",
     "timestamp": 1611920065616,
     "user": {
      "displayName": "Atulya Kaushik",
      "photoUrl": "https://lh3.googleusercontent.com/a-/AOh14GgJkgy4Bbyh6arJa9CTRxz_VW016iaBII_pm7woImQLGsFVhFb88slIrgpJtXqRrw6TkLosF9dmZkipTOappiUuEZfqBbADXDON4yRObQtr7MT6aP_VbVd_pun7X1-Kipezf2z4Vuzl6eFdyx9-UPts8n7nPTB2kzh6w8nDzGg0oHS84ZfVOskEZUXjAbx2dcVhwqEZ3_ofpn-lM7QlZaYn5fP0q-bqfXxWmfgA3niEWNj3gwrzSLyTLKIMhpSkSJD_zenplz12DgqathMhR5iD2hX-6KVusqHvKvYRKaWF7qvsIDFZgc1vCyaAgCbhnORw5--xLCDRp7D1V2_QimRQILaTCd9yuT7hPA4QfEZ0L3E3WI6Kc8_HQrf0MjLccL3UO1KBXeKFMMg8HSvQ4Ln-rw94wsh9hcNHaQNsQKvq_55DLGeHD-6AwgU3-bXllT-ZHeLiiIIwy2_Cn0QRmMB8CfhYAv1wHMDTu4hKFvsAmuK2Bku0Gbsspcyeqh2J772soaZspv6PJivRNYqDTbNaipc2CFNLu7r4_PL4trqGuiQtOa-U_gMXkd4u7B3it1tqyaYWHj8BI7sBpz_eiaU0YRXiHRg2fkrDEYw_ACWBH2kUujgSq1vdBUMKrAS5Re0xTK0KxYUqsrmypwIh7qYZXdzH1zzpIbc86oAtk_SxmVm23oE_NUAFE5p0z2DuSAn8cId2qv3l8jaEfgQRoGknMpQqKD22xwITAW5XhXb744vPQcvgtP5zdDhuLh7Npz-UUQ=s64",
      "userId": "16390917540151948122"
     },
     "user_tz": -330
    },
    "id": "nmcJCeqo7Cw1",
    "outputId": "16570f8b-57bd-4a6d-b24a-886b79eeb373"
   },
   "outputs": [
    {
     "name": "stdout",
     "output_type": "stream",
     "text": [
      "[0 0 0 0 0 0 0 1 0 0 0 0 0 0 0 0 1 0 0 0 0 0 0 0 0 0 0 0 0 0 0 1 0 0 0 0 0\n",
      " 0 0 1 0 0 0 0 1 0 0 0 0 0 0 0 0 0 0 0 0 1 0 0 0 0 0 0 0 0 0 0 0 0 0 0 0 0\n",
      " 0 0 0 0 0 0 0 0 0 1 0 1 0 1 0 1 0 1 1 0 0 1 0 0 0 1 0 1 1 1 0 0 1 1 0 1 1\n",
      " 0 1 1 0 0 1 1 0 1 1 0 0 1 0 1 0 0 1 1 1 0 0 1 1 1 0 1 1 0 1 0 0 1 1 1 1 1\n",
      " 0 1 1 1 1 0 1 1 0 1 0 1 0 1 1 1 1 0 0 1 1 1 1 0 1 0 1 0 1 1 0 1 0 1 1 0 1\n",
      " 1 0 1 0 1 0 0 1 0 0 1 1 1 0]\n"
     ]
    }
   ],
   "source": [
    "print(y)"
   ]
  },
  {
   "cell_type": "markdown",
   "metadata": {
    "id": "8REFJFGC0lRN"
   },
   "source": [
    "## Splitting the dataset into Training & Test set"
   ]
  },
  {
   "cell_type": "code",
   "execution_count": 20,
   "metadata": {
    "id": "VPHdMFeu5m1Q"
   },
   "outputs": [],
   "source": [
    "from sklearn.model_selection import train_test_split\n",
    "X_train, X_test, y_train, y_test = train_test_split(X, y, test_size = 0.2, random_state = 42)"
   ]
  },
  {
   "cell_type": "markdown",
   "metadata": {
    "id": "-Dw4Khi70u9g"
   },
   "source": [
    "## Feature Scaling"
   ]
  },
  {
   "cell_type": "code",
   "execution_count": 21,
   "metadata": {
    "id": "WqIAPFcJ5unZ"
   },
   "outputs": [],
   "source": [
    "from sklearn.preprocessing import StandardScaler\n",
    "sc = StandardScaler()\n",
    "X_train = sc.fit_transform(X_train)\n",
    "X_test = sc.transform(X_test)"
   ]
  },
  {
   "cell_type": "code",
   "execution_count": 22,
   "metadata": {
    "colab": {
     "base_uri": "https://localhost:8080/"
    },
    "executionInfo": {
     "elapsed": 1102,
     "status": "ok",
     "timestamp": 1611920105303,
     "user": {
      "displayName": "Atulya Kaushik",
      "photoUrl": "https://lh3.googleusercontent.com/a-/AOh14GgJkgy4Bbyh6arJa9CTRxz_VW016iaBII_pm7woImQLGsFVhFb88slIrgpJtXqRrw6TkLosF9dmZkipTOappiUuEZfqBbADXDON4yRObQtr7MT6aP_VbVd_pun7X1-Kipezf2z4Vuzl6eFdyx9-UPts8n7nPTB2kzh6w8nDzGg0oHS84ZfVOskEZUXjAbx2dcVhwqEZ3_ofpn-lM7QlZaYn5fP0q-bqfXxWmfgA3niEWNj3gwrzSLyTLKIMhpSkSJD_zenplz12DgqathMhR5iD2hX-6KVusqHvKvYRKaWF7qvsIDFZgc1vCyaAgCbhnORw5--xLCDRp7D1V2_QimRQILaTCd9yuT7hPA4QfEZ0L3E3WI6Kc8_HQrf0MjLccL3UO1KBXeKFMMg8HSvQ4Ln-rw94wsh9hcNHaQNsQKvq_55DLGeHD-6AwgU3-bXllT-ZHeLiiIIwy2_Cn0QRmMB8CfhYAv1wHMDTu4hKFvsAmuK2Bku0Gbsspcyeqh2J772soaZspv6PJivRNYqDTbNaipc2CFNLu7r4_PL4trqGuiQtOa-U_gMXkd4u7B3it1tqyaYWHj8BI7sBpz_eiaU0YRXiHRg2fkrDEYw_ACWBH2kUujgSq1vdBUMKrAS5Re0xTK0KxYUqsrmypwIh7qYZXdzH1zzpIbc86oAtk_SxmVm23oE_NUAFE5p0z2DuSAn8cId2qv3l8jaEfgQRoGknMpQqKD22xwITAW5XhXb744vPQcvgtP5zdDhuLh7Npz-UUQ=s64",
      "userId": "16390917540151948122"
     },
     "user_tz": -330
    },
    "id": "MLwbIJ6B7MLa",
    "outputId": "ae0a5a39-692c-4852-acd8-2880c51a8e0b"
   },
   "outputs": [
    {
     "name": "stdout",
     "output_type": "stream",
     "text": [
      "[[ 0.30645937 -0.72727353]\n",
      " [-0.55054887 -1.66795146]\n",
      " [-1.40755711 -0.83799034]\n",
      " [ 0.55131887  1.5136215 ]\n",
      " [ 0.30645937 -0.47828519]\n",
      " [-1.16269761  0.24095912]\n",
      " [-1.8972761  -0.94862416]\n",
      " [ 1.04103786 -0.11866304]\n",
      " [-0.06082987 -0.72727353]\n",
      " [ 0.06159987 -0.5336436 ]\n",
      " [-0.18325962 -0.20165915]\n",
      " [-1.04026786 -0.56128131]\n",
      " [-0.18325962 -0.78263194]\n",
      " [ 0.79617836  0.01969148]\n",
      " [-0.18325962 -0.56128131]\n",
      " [ 0.30645937 -0.09102533]\n",
      " [ 2.26533534  0.8219319 ]\n",
      " [ 0.30645937 -0.50600589]\n",
      " [ 1.53075685 -1.2252502 ]\n",
      " [ 0.79617836  1.07092024]\n",
      " [ 0.91860811  1.81788525]\n",
      " [-0.55054887  1.15391635]\n",
      " [-0.18325962  0.8219319 ]\n",
      " [-1.28512736 -1.41896313]\n",
      " [ 0.79617836  0.10268759]\n",
      " [-0.79540836 -1.39124243]\n",
      " [-0.79540836 -0.97626187]\n",
      " [-0.18325962 -0.17402145]\n",
      " [-0.18325962  1.81788525]\n",
      " [ 0.18402962 -0.20165915]\n",
      " [-0.18325962 -0.50600589]\n",
      " [-0.06082987 -0.00802922]\n",
      " [-1.16269761 -1.75094758]\n",
      " [-0.06082987  0.04732919]\n",
      " [ 0.42888912  0.04732919]\n",
      " [-1.52998685 -1.66795146]\n",
      " [ 0.30645937 -0.58900201]\n",
      " [ 0.30645937 -0.00802922]\n",
      " [-0.06082987 -0.03566693]\n",
      " [-1.16269761 -0.97626187]\n",
      " [-0.67297862  0.01969148]\n",
      " [-1.6524166  -0.17402145]\n",
      " [ 1.16346761  0.21332141]\n",
      " [ 1.04103786  1.45826309]\n",
      " [ 0.42888912  0.8219319 ]\n",
      " [-1.6524166  -1.52959695]\n",
      " [-1.16269761  1.09864094]\n",
      " [-1.04026786 -0.56128131]\n",
      " [ 0.18402962  1.5412592 ]\n",
      " [ 0.79617836  0.48994745]\n",
      " [-0.67297862 -0.28465526]\n",
      " [-0.42811912 -0.75499423]\n",
      " [-0.18325962 -0.67199812]\n",
      " [-0.06082987 -0.45064749]\n",
      " [-1.04026786  0.157963  ]\n",
      " [-0.55054887  1.07092024]\n",
      " [ 0.30645937 -0.17402145]\n",
      " [-1.77484635 -0.06330463]\n",
      " [-1.52998685 -0.42300978]\n",
      " [ 0.30645937  0.04732919]\n",
      " [ 2.26533534 -1.00398257]\n",
      " [-0.18325962  0.01969148]\n",
      " [ 2.14290559 -0.06330463]\n",
      " [-1.16269761  0.04732919]\n",
      " [-0.30568937 -0.97626187]\n",
      " [ 0.42888912  1.95623977]\n",
      " [ 0.18402962  0.76665649]\n",
      " [-1.77484635 -1.64023076]\n",
      " [-0.18325962 -0.64427742]\n",
      " [ 2.14290559  0.26867982]\n",
      " [-0.91783811 -1.28060861]\n",
      " [ 1.28589736  0.26867982]\n",
      " [-1.40755711 -1.39124243]\n",
      " [-0.42811912  1.95623977]\n",
      " [ 1.4083271   1.65189302]\n",
      " [-1.04026786 -1.61259306]\n",
      " [-0.67297862  1.04328253]\n",
      " [-0.18325962  0.51766815]\n",
      " [-0.06082987 -0.22929686]\n",
      " [ 1.4083271  -1.58495535]\n",
      " [-0.91783811  0.01969148]\n",
      " [-1.28512736 -0.64427742]\n",
      " [ 1.4083271  -1.11461638]\n",
      " [ 1.8980461  -1.44660083]\n",
      " [-0.18325962 -1.08697868]\n",
      " [ 0.30645937 -0.17402145]\n",
      " [-1.16269761  0.04732919]\n",
      " [ 0.30645937 -0.20165915]\n",
      " [-0.30568937  0.93264871]\n",
      " [ 0.42888912 -0.14630074]\n",
      " [-1.16269761 -1.1976125 ]\n",
      " [ 0.91860811 -0.97626187]\n",
      " [-0.18325962 -0.47828519]\n",
      " [-0.79540836  0.1303253 ]\n",
      " [ 1.04103786  0.32395523]\n",
      " [-1.04026786 -0.58900201]\n",
      " [-0.06082987 -0.69963582]\n",
      " [-1.16269761  0.32395523]\n",
      " [ 2.02047585  0.46230975]\n",
      " [ 0.91860811 -0.78263194]\n",
      " [ 1.04103786  1.73488913]\n",
      " [ 1.04103786 -1.33596702]\n",
      " [-1.16269761  0.21332141]\n",
      " [-0.18325962 -1.55723465]\n",
      " [-1.16269761  0.04732919]\n",
      " [-0.55054887  1.98387747]\n",
      " [-0.18325962  1.90088136]\n",
      " [ 1.04103786  0.48994745]\n",
      " [ 0.18402962  1.5412592 ]\n",
      " [ 0.18402962  0.01969148]\n",
      " [-0.18325962 -0.50600589]\n",
      " [ 0.30645937  1.76260984]\n",
      " [-1.16269761 -1.2529709 ]\n",
      " [-1.40755711 -1.61259306]\n",
      " [-1.6524166   0.26867982]\n",
      " [-0.06082987  0.01969148]\n",
      " [ 0.30645937 -0.17402145]\n",
      " [-0.67297862  0.29631752]\n",
      " [-1.77484635 -1.44660083]\n",
      " [ 1.16346761  1.73488913]\n",
      " [ 0.79617836  1.45826309]\n",
      " [-0.18325962 -0.42300978]\n",
      " [ 1.53075685  0.10268759]\n",
      " [-0.30568937 -0.17402145]\n",
      " [-0.06082987 -1.2529709 ]\n",
      " [ 1.77561635  1.5136215 ]\n",
      " [ 0.06159987  0.04732919]\n",
      " [ 0.55131887  1.40290469]\n",
      " [-0.79540836 -0.86562805]\n",
      " [-1.04026786  0.29631752]\n",
      " [ 1.4083271   0.98792412]\n",
      " [-0.18325962 -1.52959695]\n",
      " [-0.79540836  1.92860206]\n",
      " [ 0.30645937  0.01969148]\n",
      " [ 0.30645937 -0.36765138]\n",
      " [-0.06082987  1.87324365]\n",
      " [-0.42811912  0.96028642]\n",
      " [-0.06082987  0.40695134]\n",
      " [ 0.91860811  0.79429419]\n",
      " [-0.18325962 -1.61259306]\n",
      " [-0.06082987 -0.20165915]\n",
      " [ 1.16346761  0.26867982]\n",
      " [ 1.4083271   0.32395523]\n",
      " [ 1.28589736 -1.16997479]\n",
      " [ 2.26533534  0.65593968]\n",
      " [ 2.14290559  1.79024754]\n",
      " [ 1.53075685  1.79024754]\n",
      " [ 1.77561635  1.43062539]\n",
      " [-1.77484635 -0.22929686]\n",
      " [ 0.30645937 -0.17402145]\n",
      " [ 0.42888912  0.01969148]\n",
      " [-0.79540836  0.1303253 ]\n",
      " [ 0.06159987 -0.75499423]\n",
      " [-1.28512736  0.157963  ]\n",
      " [-0.18325962  1.31990857]\n",
      " [-1.16269761  0.01969148]\n",
      " [ 1.4083271   1.98387747]\n",
      " [ 0.79617836 -1.28060861]\n",
      " [-0.06082987  1.81788525]]\n"
     ]
    }
   ],
   "source": [
    "print(X_train)"
   ]
  },
  {
   "cell_type": "code",
   "execution_count": 23,
   "metadata": {
    "colab": {
     "base_uri": "https://localhost:8080/"
    },
    "executionInfo": {
     "elapsed": 1085,
     "status": "ok",
     "timestamp": 1611920124186,
     "user": {
      "displayName": "Atulya Kaushik",
      "photoUrl": "https://lh3.googleusercontent.com/a-/AOh14GgJkgy4Bbyh6arJa9CTRxz_VW016iaBII_pm7woImQLGsFVhFb88slIrgpJtXqRrw6TkLosF9dmZkipTOappiUuEZfqBbADXDON4yRObQtr7MT6aP_VbVd_pun7X1-Kipezf2z4Vuzl6eFdyx9-UPts8n7nPTB2kzh6w8nDzGg0oHS84ZfVOskEZUXjAbx2dcVhwqEZ3_ofpn-lM7QlZaYn5fP0q-bqfXxWmfgA3niEWNj3gwrzSLyTLKIMhpSkSJD_zenplz12DgqathMhR5iD2hX-6KVusqHvKvYRKaWF7qvsIDFZgc1vCyaAgCbhnORw5--xLCDRp7D1V2_QimRQILaTCd9yuT7hPA4QfEZ0L3E3WI6Kc8_HQrf0MjLccL3UO1KBXeKFMMg8HSvQ4Ln-rw94wsh9hcNHaQNsQKvq_55DLGeHD-6AwgU3-bXllT-ZHeLiiIIwy2_Cn0QRmMB8CfhYAv1wHMDTu4hKFvsAmuK2Bku0Gbsspcyeqh2J772soaZspv6PJivRNYqDTbNaipc2CFNLu7r4_PL4trqGuiQtOa-U_gMXkd4u7B3it1tqyaYWHj8BI7sBpz_eiaU0YRXiHRg2fkrDEYw_ACWBH2kUujgSq1vdBUMKrAS5Re0xTK0KxYUqsrmypwIh7qYZXdzH1zzpIbc86oAtk_SxmVm23oE_NUAFE5p0z2DuSAn8cId2qv3l8jaEfgQRoGknMpQqKD22xwITAW5XhXb744vPQcvgtP5zdDhuLh7Npz-UUQ=s64",
      "userId": "16390917540151948122"
     },
     "user_tz": -330
    },
    "id": "CZbekAzM7PE3",
    "outputId": "643b2111-412c-4986-e946-063fcc376e9a"
   },
   "outputs": [
    {
     "name": "stdout",
     "output_type": "stream",
     "text": [
      "[[ 1.16346761 -0.11866304]\n",
      " [-1.04026786 -0.67199812]\n",
      " [ 0.18402962 -1.00398257]\n",
      " [ 1.6531866   0.71129808]\n",
      " [-0.30568937 -0.97626187]\n",
      " [ 1.16346761  0.29631752]\n",
      " [-1.6524166   0.10268759]\n",
      " [-1.28512736 -1.52959695]\n",
      " [ 1.77561635  0.71129808]\n",
      " [ 0.06159987 -0.78263194]\n",
      " [ 0.18402962 -0.09102533]\n",
      " [ 0.06159987 -0.20165915]\n",
      " [-0.18325962 -0.86562805]\n",
      " [-1.40755711 -0.34001367]\n",
      " [ 0.91860811 -0.86562805]\n",
      " [ 2.02047585  0.62830197]\n",
      " [-1.52998685 -0.64427742]\n",
      " [-0.30568937  1.01564483]\n",
      " [ 0.79617836 -1.55723465]\n",
      " [ 1.04103786  1.65189302]\n",
      " [-0.67297862  1.56889691]\n",
      " [ 0.30645937 -0.72727353]\n",
      " [ 1.16346761 -0.36765138]\n",
      " [ 0.91860811  0.96028642]\n",
      " [-1.16269761 -1.55723465]\n",
      " [ 1.04103786  1.12627864]\n",
      " [ 1.8980461  -0.11866304]\n",
      " [-0.18325962 -0.36765138]\n",
      " [-1.28512736 -1.28060861]\n",
      " [ 1.04103786  1.5412592 ]\n",
      " [ 0.42888912 -0.36765138]\n",
      " [-1.77484635 -1.58495535]\n",
      " [ 1.8980461  -0.50600589]\n",
      " [ 1.77561635 -1.08697868]\n",
      " [-0.18325962  0.35167593]\n",
      " [-0.42811912 -1.03162027]\n",
      " [ 0.67374861 -1.08697868]\n",
      " [ 1.8980461   1.20927476]\n",
      " [-0.91783811  0.29631752]\n",
      " [-1.6524166  -1.16997479]]\n"
     ]
    }
   ],
   "source": [
    "print(X_test)"
   ]
  },
  {
   "cell_type": "markdown",
   "metadata": {
    "id": "2QUFYaoH00H6"
   },
   "source": [
    "## Logistic Regression Training on Training set"
   ]
  },
  {
   "cell_type": "code",
   "execution_count": 24,
   "metadata": {
    "colab": {
     "base_uri": "https://localhost:8080/"
    },
    "executionInfo": {
     "elapsed": 1557,
     "status": "ok",
     "timestamp": 1611920184472,
     "user": {
      "displayName": "Atulya Kaushik",
      "photoUrl": "https://lh3.googleusercontent.com/a-/AOh14GgJkgy4Bbyh6arJa9CTRxz_VW016iaBII_pm7woImQLGsFVhFb88slIrgpJtXqRrw6TkLosF9dmZkipTOappiUuEZfqBbADXDON4yRObQtr7MT6aP_VbVd_pun7X1-Kipezf2z4Vuzl6eFdyx9-UPts8n7nPTB2kzh6w8nDzGg0oHS84ZfVOskEZUXjAbx2dcVhwqEZ3_ofpn-lM7QlZaYn5fP0q-bqfXxWmfgA3niEWNj3gwrzSLyTLKIMhpSkSJD_zenplz12DgqathMhR5iD2hX-6KVusqHvKvYRKaWF7qvsIDFZgc1vCyaAgCbhnORw5--xLCDRp7D1V2_QimRQILaTCd9yuT7hPA4QfEZ0L3E3WI6Kc8_HQrf0MjLccL3UO1KBXeKFMMg8HSvQ4Ln-rw94wsh9hcNHaQNsQKvq_55DLGeHD-6AwgU3-bXllT-ZHeLiiIIwy2_Cn0QRmMB8CfhYAv1wHMDTu4hKFvsAmuK2Bku0Gbsspcyeqh2J772soaZspv6PJivRNYqDTbNaipc2CFNLu7r4_PL4trqGuiQtOa-U_gMXkd4u7B3it1tqyaYWHj8BI7sBpz_eiaU0YRXiHRg2fkrDEYw_ACWBH2kUujgSq1vdBUMKrAS5Re0xTK0KxYUqsrmypwIh7qYZXdzH1zzpIbc86oAtk_SxmVm23oE_NUAFE5p0z2DuSAn8cId2qv3l8jaEfgQRoGknMpQqKD22xwITAW5XhXb744vPQcvgtP5zdDhuLh7Npz-UUQ=s64",
      "userId": "16390917540151948122"
     },
     "user_tz": -330
    },
    "id": "BddjT2Fg7VDs",
    "outputId": "09c433e4-260a-4443-a71f-ccb9af7c36b5"
   },
   "outputs": [
    {
     "data": {
      "text/plain": [
       "LogisticRegression(random_state=42)"
      ]
     },
     "execution_count": 24,
     "metadata": {},
     "output_type": "execute_result"
    }
   ],
   "source": [
    "from sklearn.linear_model import LogisticRegression\n",
    "classifier = LogisticRegression(random_state = 42)\n",
    "classifier.fit(X_train, y_train)"
   ]
  },
  {
   "cell_type": "markdown",
   "metadata": {
    "id": "iXT0yCoI07X8"
   },
   "source": [
    "## Predicting"
   ]
  },
  {
   "cell_type": "code",
   "execution_count": 25,
   "metadata": {
    "colab": {
     "base_uri": "https://localhost:8080/"
    },
    "executionInfo": {
     "elapsed": 1296,
     "status": "ok",
     "timestamp": 1611920324370,
     "user": {
      "displayName": "Atulya Kaushik",
      "photoUrl": "https://lh3.googleusercontent.com/a-/AOh14GgJkgy4Bbyh6arJa9CTRxz_VW016iaBII_pm7woImQLGsFVhFb88slIrgpJtXqRrw6TkLosF9dmZkipTOappiUuEZfqBbADXDON4yRObQtr7MT6aP_VbVd_pun7X1-Kipezf2z4Vuzl6eFdyx9-UPts8n7nPTB2kzh6w8nDzGg0oHS84ZfVOskEZUXjAbx2dcVhwqEZ3_ofpn-lM7QlZaYn5fP0q-bqfXxWmfgA3niEWNj3gwrzSLyTLKIMhpSkSJD_zenplz12DgqathMhR5iD2hX-6KVusqHvKvYRKaWF7qvsIDFZgc1vCyaAgCbhnORw5--xLCDRp7D1V2_QimRQILaTCd9yuT7hPA4QfEZ0L3E3WI6Kc8_HQrf0MjLccL3UO1KBXeKFMMg8HSvQ4Ln-rw94wsh9hcNHaQNsQKvq_55DLGeHD-6AwgU3-bXllT-ZHeLiiIIwy2_Cn0QRmMB8CfhYAv1wHMDTu4hKFvsAmuK2Bku0Gbsspcyeqh2J772soaZspv6PJivRNYqDTbNaipc2CFNLu7r4_PL4trqGuiQtOa-U_gMXkd4u7B3it1tqyaYWHj8BI7sBpz_eiaU0YRXiHRg2fkrDEYw_ACWBH2kUujgSq1vdBUMKrAS5Re0xTK0KxYUqsrmypwIh7qYZXdzH1zzpIbc86oAtk_SxmVm23oE_NUAFE5p0z2DuSAn8cId2qv3l8jaEfgQRoGknMpQqKD22xwITAW5XhXb744vPQcvgtP5zdDhuLh7Npz-UUQ=s64",
      "userId": "16390917540151948122"
     },
     "user_tz": -330
    },
    "id": "mXuUMu3m7kAG",
    "outputId": "14300baa-048a-48a4-da2c-0adb14bee6a2"
   },
   "outputs": [
    {
     "name": "stdout",
     "output_type": "stream",
     "text": [
      "[1]\n"
     ]
    }
   ],
   "source": [
    "print(classifier.predict(sc.transform([[54, 41000]])))"
   ]
  },
  {
   "cell_type": "markdown",
   "metadata": {
    "id": "9oG_iJfc1A0K"
   },
   "source": [
    "## Predicting Test set results"
   ]
  },
  {
   "cell_type": "code",
   "execution_count": 26,
   "metadata": {
    "colab": {
     "base_uri": "https://localhost:8080/"
    },
    "executionInfo": {
     "elapsed": 1206,
     "status": "ok",
     "timestamp": 1611920487215,
     "user": {
      "displayName": "Atulya Kaushik",
      "photoUrl": "https://lh3.googleusercontent.com/a-/AOh14GgJkgy4Bbyh6arJa9CTRxz_VW016iaBII_pm7woImQLGsFVhFb88slIrgpJtXqRrw6TkLosF9dmZkipTOappiUuEZfqBbADXDON4yRObQtr7MT6aP_VbVd_pun7X1-Kipezf2z4Vuzl6eFdyx9-UPts8n7nPTB2kzh6w8nDzGg0oHS84ZfVOskEZUXjAbx2dcVhwqEZ3_ofpn-lM7QlZaYn5fP0q-bqfXxWmfgA3niEWNj3gwrzSLyTLKIMhpSkSJD_zenplz12DgqathMhR5iD2hX-6KVusqHvKvYRKaWF7qvsIDFZgc1vCyaAgCbhnORw5--xLCDRp7D1V2_QimRQILaTCd9yuT7hPA4QfEZ0L3E3WI6Kc8_HQrf0MjLccL3UO1KBXeKFMMg8HSvQ4Ln-rw94wsh9hcNHaQNsQKvq_55DLGeHD-6AwgU3-bXllT-ZHeLiiIIwy2_Cn0QRmMB8CfhYAv1wHMDTu4hKFvsAmuK2Bku0Gbsspcyeqh2J772soaZspv6PJivRNYqDTbNaipc2CFNLu7r4_PL4trqGuiQtOa-U_gMXkd4u7B3it1tqyaYWHj8BI7sBpz_eiaU0YRXiHRg2fkrDEYw_ACWBH2kUujgSq1vdBUMKrAS5Re0xTK0KxYUqsrmypwIh7qYZXdzH1zzpIbc86oAtk_SxmVm23oE_NUAFE5p0z2DuSAn8cId2qv3l8jaEfgQRoGknMpQqKD22xwITAW5XhXb744vPQcvgtP5zdDhuLh7Npz-UUQ=s64",
      "userId": "16390917540151948122"
     },
     "user_tz": -330
    },
    "id": "j354SNEs8I0b",
    "outputId": "c28d0eb0-0424-4c04-ce9c-774aed780aa5"
   },
   "outputs": [
    {
     "name": "stdout",
     "output_type": "stream",
     "text": [
      "[[1 0]\n",
      " [0 0]\n",
      " [0 0]\n",
      " [1 1]\n",
      " [0 0]\n",
      " [1 1]\n",
      " [0 0]\n",
      " [0 0]\n",
      " [1 1]\n",
      " [0 0]\n",
      " [0 1]\n",
      " [0 0]\n",
      " [0 0]\n",
      " [0 0]\n",
      " [0 0]\n",
      " [1 1]\n",
      " [0 0]\n",
      " [0 0]\n",
      " [0 0]\n",
      " [1 1]\n",
      " [0 1]\n",
      " [0 0]\n",
      " [1 0]\n",
      " [1 1]\n",
      " [0 0]\n",
      " [1 1]\n",
      " [1 1]\n",
      " [0 0]\n",
      " [0 0]\n",
      " [1 1]\n",
      " [0 0]\n",
      " [0 0]\n",
      " [1 1]\n",
      " [1 1]\n",
      " [0 1]\n",
      " [0 0]\n",
      " [0 0]\n",
      " [1 1]\n",
      " [0 0]\n",
      " [0 0]]\n"
     ]
    }
   ],
   "source": [
    "y_pred = classifier.predict(X_test)\n",
    "print(np.concatenate((y_pred.reshape(len(y_pred), 1), y_test.reshape(len(y_test), 1)),1))"
   ]
  },
  {
   "cell_type": "markdown",
   "metadata": {
    "id": "p6I0bJj_1Fxl"
   },
   "source": [
    "## Confusion Matrix"
   ]
  },
  {
   "cell_type": "code",
   "execution_count": 27,
   "metadata": {
    "colab": {
     "base_uri": "https://localhost:8080/"
    },
    "executionInfo": {
     "elapsed": 1102,
     "status": "ok",
     "timestamp": 1611920678002,
     "user": {
      "displayName": "Atulya Kaushik",
      "photoUrl": "https://lh3.googleusercontent.com/a-/AOh14GgJkgy4Bbyh6arJa9CTRxz_VW016iaBII_pm7woImQLGsFVhFb88slIrgpJtXqRrw6TkLosF9dmZkipTOappiUuEZfqBbADXDON4yRObQtr7MT6aP_VbVd_pun7X1-Kipezf2z4Vuzl6eFdyx9-UPts8n7nPTB2kzh6w8nDzGg0oHS84ZfVOskEZUXjAbx2dcVhwqEZ3_ofpn-lM7QlZaYn5fP0q-bqfXxWmfgA3niEWNj3gwrzSLyTLKIMhpSkSJD_zenplz12DgqathMhR5iD2hX-6KVusqHvKvYRKaWF7qvsIDFZgc1vCyaAgCbhnORw5--xLCDRp7D1V2_QimRQILaTCd9yuT7hPA4QfEZ0L3E3WI6Kc8_HQrf0MjLccL3UO1KBXeKFMMg8HSvQ4Ln-rw94wsh9hcNHaQNsQKvq_55DLGeHD-6AwgU3-bXllT-ZHeLiiIIwy2_Cn0QRmMB8CfhYAv1wHMDTu4hKFvsAmuK2Bku0Gbsspcyeqh2J772soaZspv6PJivRNYqDTbNaipc2CFNLu7r4_PL4trqGuiQtOa-U_gMXkd4u7B3it1tqyaYWHj8BI7sBpz_eiaU0YRXiHRg2fkrDEYw_ACWBH2kUujgSq1vdBUMKrAS5Re0xTK0KxYUqsrmypwIh7qYZXdzH1zzpIbc86oAtk_SxmVm23oE_NUAFE5p0z2DuSAn8cId2qv3l8jaEfgQRoGknMpQqKD22xwITAW5XhXb744vPQcvgtP5zdDhuLh7Npz-UUQ=s64",
      "userId": "16390917540151948122"
     },
     "user_tz": -330
    },
    "id": "QtGX0R4w82oy",
    "outputId": "3da60575-5f74-47ea-e7ab-d604a8314e23"
   },
   "outputs": [
    {
     "name": "stdout",
     "output_type": "stream",
     "text": [
      "[[23  2]\n",
      " [ 3 12]]\n"
     ]
    },
    {
     "data": {
      "text/plain": [
       "0.875"
      ]
     },
     "execution_count": 27,
     "metadata": {},
     "output_type": "execute_result"
    },
    {
     "data": {
      "image/png": "[encoded data removed]",
      "text/plain": [
       "<Figure size 640x480 with 2 Axes>"
      ]
     },
     "metadata": {},
     "output_type": "display_data"
    }
   ],
   "source": [
    "from sklearn.metrics import confusion_matrix, accuracy_score, ConfusionMatrixDisplay\n",
    "cm = confusion_matrix(y_test, y_pred)\n",
    "print(cm)\n",
    "disp = ConfusionMatrixDisplay(confusion_matrix=cm,display_labels=classifier.classes_)\n",
    "disp.plot()\n",
    "# ConfusionMatrixDisplay.from_estimator(classifier, X_test, y_test)\n",
    "# plt.show()\n",
    "accuracy_score(y_test, y_pred)"
   ]
  },
  {
   "cell_type": "markdown",
   "metadata": {
    "id": "SO86fovR1MKy"
   },
   "source": [
    "## Visualizing Training Set results"
   ]
  },
  {
   "cell_type": "code",
   "execution_count": 28,
   "metadata": {
    "colab": {
     "base_uri": "https://localhost:8080/",
     "height": 351
    },
    "executionInfo": {
     "elapsed": 10383,
     "status": "ok",
     "timestamp": 1611920722340,
     "user": {
      "displayName": "Atulya Kaushik",
      "photoUrl": "https://lh3.googleusercontent.com/a-/AOh14GgJkgy4Bbyh6arJa9CTRxz_VW016iaBII_pm7woImQLGsFVhFb88slIrgpJtXqRrw6TkLosF9dmZkipTOappiUuEZfqBbADXDON4yRObQtr7MT6aP_VbVd_pun7X1-Kipezf2z4Vuzl6eFdyx9-UPts8n7nPTB2kzh6w8nDzGg0oHS84ZfVOskEZUXjAbx2dcVhwqEZ3_ofpn-lM7QlZaYn5fP0q-bqfXxWmfgA3niEWNj3gwrzSLyTLKIMhpSkSJD_zenplz12DgqathMhR5iD2hX-6KVusqHvKvYRKaWF7qvsIDFZgc1vCyaAgCbhnORw5--xLCDRp7D1V2_QimRQILaTCd9yuT7hPA4QfEZ0L3E3WI6Kc8_HQrf0MjLccL3UO1KBXeKFMMg8HSvQ4Ln-rw94wsh9hcNHaQNsQKvq_55DLGeHD-6AwgU3-bXllT-ZHeLiiIIwy2_Cn0QRmMB8CfhYAv1wHMDTu4hKFvsAmuK2Bku0Gbsspcyeqh2J772soaZspv6PJivRNYqDTbNaipc2CFNLu7r4_PL4trqGuiQtOa-U_gMXkd4u7B3it1tqyaYWHj8BI7sBpz_eiaU0YRXiHRg2fkrDEYw_ACWBH2kUujgSq1vdBUMKrAS5Re0xTK0KxYUqsrmypwIh7qYZXdzH1zzpIbc86oAtk_SxmVm23oE_NUAFE5p0z2DuSAn8cId2qv3l8jaEfgQRoGknMpQqKD22xwITAW5XhXb744vPQcvgtP5zdDhuLh7Npz-UUQ=s64",
      "userId": "16390917540151948122"
     },
     "user_tz": -330
    },
    "id": "M_4led745262",
    "outputId": "0a244785-1edb-48c6-9258-2777ec7cd32b"
   },
   "outputs": [
    {
     "name": "stderr",
     "output_type": "stream",
     "text": [
      "*c* argument looks like a single numeric RGB or RGBA sequence, which should be avoided as value-mapping will have precedence in case its length matches with *x* & *y*.  Please use the *color* keyword-argument or provide a 2D array with a single row if you intend to specify the same RGB or RGBA value for all points.\n",
      "*c* argument looks like a single numeric RGB or RGBA sequence, which should be avoided as value-mapping will have precedence in case its length matches with *x* & *y*.  Please use the *color* keyword-argument or provide a 2D array with a single row if you intend to specify the same RGB or RGBA value for all points.\n"
     ]
    },
    {
     "data": {
      "image/png": "[encoded data removed]",
      "text/plain": [
       "<Figure size 640x480 with 1 Axes>"
      ]
     },
     "metadata": {},
     "output_type": "display_data"
    }
   ],
   "source": [
    "from matplotlib.colors import ListedColormap\n",
    "X_set, y_set = sc.inverse_transform(X_train), y_train\n",
    "X1, X2 = np.meshgrid(np.arange(start = X_set[:, 0].min() - 10, stop = X_set[:, 0].max() + 10, step = 0.25),\n",
    "                     np.arange(start = X_set[:, 1].min() - 1000, stop = X_set[:, 1].max() + 1000, step = 0.25))\n",
    "plt.contourf(X1, X2, classifier.predict(sc.transform(np.array([X1.ravel(), X2.ravel()]).T)).reshape(X1.shape),\n",
    "             alpha = 0.75, cmap = ListedColormap(('red', 'green')))\n",
    "plt.xlim(X1.min(), X1.max())\n",
    "plt.ylim(X2.min(), X2.max())\n",
    "for i, j in enumerate(np.unique(y_set)):\n",
    "    plt.scatter(X_set[y_set == j, 0], X_set[y_set == j, 1], c = ListedColormap(('red', 'green'))(i), label = j)\n",
    "plt.title('Logistic Regression (Training set)')\n",
    "plt.xlabel('Age')\n",
    "plt.ylabel('Estimated Salary')\n",
    "plt.legend()\n",
    "plt.show()\n",
    "\n",
    "\n",
    "\n",
    "\n"
   ]
  },
  {
   "cell_type": "markdown",
   "metadata": {
    "id": "MokDuSCS1J0n"
   },
   "source": [
    "## Visualising Test set results"
   ]
  },
  {
   "cell_type": "code",
   "execution_count": 30,
   "metadata": {
    "colab": {
     "base_uri": "https://localhost:8080/",
     "height": 351
    },
    "executionInfo": {
     "elapsed": 6230,
     "status": "ok",
     "timestamp": 1611920826091,
     "user": {
      "displayName": "Atulya Kaushik",
      "photoUrl": "https://lh3.googleusercontent.com/a-/AOh14GgJkgy4Bbyh6arJa9CTRxz_VW016iaBII_pm7woImQLGsFVhFb88slIrgpJtXqRrw6TkLosF9dmZkipTOappiUuEZfqBbADXDON4yRObQtr7MT6aP_VbVd_pun7X1-Kipezf2z4Vuzl6eFdyx9-UPts8n7nPTB2kzh6w8nDzGg0oHS84ZfVOskEZUXjAbx2dcVhwqEZ3_ofpn-lM7QlZaYn5fP0q-bqfXxWmfgA3niEWNj3gwrzSLyTLKIMhpSkSJD_zenplz12DgqathMhR5iD2hX-6KVusqHvKvYRKaWF7qvsIDFZgc1vCyaAgCbhnORw5--xLCDRp7D1V2_QimRQILaTCd9yuT7hPA4QfEZ0L3E3WI6Kc8_HQrf0MjLccL3UO1KBXeKFMMg8HSvQ4Ln-rw94wsh9hcNHaQNsQKvq_55DLGeHD-6AwgU3-bXllT-ZHeLiiIIwy2_Cn0QRmMB8CfhYAv1wHMDTu4hKFvsAmuK2Bku0Gbsspcyeqh2J772soaZspv6PJivRNYqDTbNaipc2CFNLu7r4_PL4trqGuiQtOa-U_gMXkd4u7B3it1tqyaYWHj8BI7sBpz_eiaU0YRXiHRg2fkrDEYw_ACWBH2kUujgSq1vdBUMKrAS5Re0xTK0KxYUqsrmypwIh7qYZXdzH1zzpIbc86oAtk_SxmVm23oE_NUAFE5p0z2DuSAn8cId2qv3l8jaEfgQRoGknMpQqKD22xwITAW5XhXb744vPQcvgtP5zdDhuLh7Npz-UUQ=s64",
      "userId": "16390917540151948122"
     },
     "user_tz": -330
    },
    "id": "MPGoDPk-53md",
    "outputId": "bba35411-db89-400a-c669-f3578041f26a"
   },
   "outputs": [
    {
     "name": "stderr",
     "output_type": "stream",
     "text": [
      "*c* argument looks like a single numeric RGB or RGBA sequence, which should be avoided as value-mapping will have precedence in case its length matches with *x* & *y*.  Please use the *color* keyword-argument or provide a 2D array with a single row if you intend to specify the same RGB or RGBA value for all points.\n",
      "*c* argument looks like a single numeric RGB or RGBA sequence, which should be avoided as value-mapping will have precedence in case its length matches with *x* & *y*.  Please use the *color* keyword-argument or provide a 2D array with a single row if you intend to specify the same RGB or RGBA value for all points.\n"
     ]
    },
    {
     "data": {
      "image/png": "[encoded data removed]",
      "text/plain": [
       "<Figure size 640x480 with 1 Axes>"
      ]
     },
     "metadata": {},
     "output_type": "display_data"
    }
   ],
   "source": [
    "from matplotlib.colors import ListedColormap\n",
    "X_set, y_set = sc.inverse_transform(X_test), y_test\n",
    "X1, X2 = np.meshgrid(np.arange(start = X_set[:, 0].min() - 10, stop = X_set[:, 0].max() + 10, step = 0.25),\n",
    "                     np.arange(start = X_set[:, 1].min() - 1000, stop = X_set[:, 1].max() + 1000, step = 0.25))\n",
    "plt.contourf(X1, X2, classifier.predict(sc.transform(np.array([X1.ravel(), X2.ravel()]).T)).reshape(X1.shape),\n",
    "             alpha = 0.75, cmap = ListedColormap(('red', 'green')))\n",
    "plt.xlim(X1.min(), X1.max())\n",
    "plt.ylim(X2.min(), X2.max())\n",
    "for i, j in enumerate(np.unique(y_set)):\n",
    "    plt.scatter(X_set[y_set == j, 0], X_set[y_set == j, 1], c = ListedColormap(('red', 'green'))(i), label = j)\n",
    "plt.title('Logistic Regression (Test set)')\n",
    "plt.xlabel('Age')\n",
    "plt.ylabel('Estimated Salary')\n",
    "plt.legend()\n",
    "plt.show()"
   ]
  },
  {
   "cell_type": "code",
   "execution_count": null,
   "metadata": {},
   "outputs": [],
   "source": []
  }
 ],
 "metadata": {
  "colab": {
   "provenance": [],
   "toc_visible": true
  },
  "kernelspec": {
   "display_name": "Python 3 (ipykernel)",
   "language": "python",
   "name": "python3"
  },
  "language_info": {
   "codemirror_mode": {
    "name": "ipython",
    "version": 3
   },
   "file_extension": ".py",
   "mimetype": "text/x-python",
   "name": "python",
   "nbconvert_exporter": "python",
   "pygments_lexer": "ipython3",
   "version": "3.9.13"
  }
 },
 "nbformat": 4,
 "nbformat_minor": 1
}
